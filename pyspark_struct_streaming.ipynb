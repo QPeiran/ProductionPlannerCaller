{
 "metadata": {
  "language_info": {
   "codemirror_mode": {
    "name": "ipython",
    "version": 3
   },
   "file_extension": ".py",
   "mimetype": "text/x-python",
   "name": "python",
   "nbconvert_exporter": "python",
   "pygments_lexer": "ipython3",
   "version": "3.8.6-final"
  },
  "orig_nbformat": 2,
  "kernelspec": {
   "name": "Python 3.8.6 64-bit ('ProductionPlannerCaller': venv)",
   "display_name": "Python 3.8.6 64-bit ('ProductionPlannerCaller': venv)",
   "metadata": {
    "interpreter": {
     "hash": "d35c8b516a90ec349fb27354d3f5b0fd5f2200bb14aca3e9a64f3cb0fb9d61f2"
    }
   }
  }
 },
 "nbformat": 4,
 "nbformat_minor": 2,
 "cells": [
  {
   "cell_type": "code",
   "execution_count": 1,
   "metadata": {},
   "outputs": [],
   "source": [
    "from pyspark.sql import SparkSession\n",
    "import pyspark.sql.functions as F"
   ]
  },
  {
   "cell_type": "code",
   "execution_count": 2,
   "metadata": {},
   "outputs": [
    {
     "output_type": "execute_result",
     "data": {
      "text/plain": [
       "<pyspark.sql.session.SparkSession at 0x237d8d768b0>"
      ],
      "text/html": "\n            <div>\n                <p><b>SparkSession - in-memory</b></p>\n                \n        <div>\n            <p><b>SparkContext</b></p>\n\n            <p><a href=\"http://10.128.130.98:4040\">Spark UI</a></p>\n\n            <dl>\n              <dt>Version</dt>\n                <dd><code>v3.0.1</code></dd>\n              <dt>Master</dt>\n                <dd><code>local[*]</code></dd>\n              <dt>AppName</dt>\n                <dd><code>StructStreaming</code></dd>\n            </dl>\n        </div>\n        \n            </div>\n        "
     },
     "metadata": {},
     "execution_count": 2
    }
   ],
   "source": [
    "spark = SparkSession.builder.appName('StructStreaming').getOrCreate()\n",
    "spark"
   ]
  },
  {
   "cell_type": "code",
   "execution_count": 3,
   "metadata": {},
   "outputs": [
    {
     "output_type": "stream",
     "name": "stdout",
     "text": [
      "Number of partitions: 8\n",
      "Partitioner: None\n",
      "Partitions structure: [[Row(name='Bob', amount=166165, country='United Kingdom'), Row(name='Bob', amount=787156, country='USA'), Row(name='Marek', amount=311201, country='Poland'), Row(name=None, amount=355068, country='Germany'), Row(name='Johannes', amount=505687, country='Germany'), Row(name='Marek', amount=407178, country='Germany'), Row(name=None, amount=162684, country='USA'), Row(name='James', amount=327863, country='USA'), Row(name='Marek', amount=659066, country='Poland'), Row(name='James', amount=504155, country='United Kingdom'), Row(name='Bob', amount=836976, country='Germany'), Row(name='James', amount=607099, country='Poland')], [Row(name=None, amount=278525, country=None), Row(name='James', amount=480807, country='Poland'), Row(name=None, amount=273361, country='Germany'), Row(name='James', amount=718967, country='USA'), Row(name='Bob', amount=71821, country=None), Row(name='James', amount=970197, country='Poland'), Row(name='Bob', amount=929508, country='Germany'), Row(name='Johannes', amount=914400, country=None), Row(name=None, amount=905607, country='Poland'), Row(name='Johannes', amount=145931, country='USA'), Row(name='Bob', amount=829175, country='United Kingdom'), Row(name='Bob', amount=588395, country='Poland')], [Row(name='Johannes', amount=294335, country='United Kingdom'), Row(name='James', amount=389347, country='Germany'), Row(name='Marek', amount=232386, country='United Kingdom'), Row(name='Johannes', amount=302168, country='United Kingdom'), Row(name='Johannes', amount=144757, country=None), Row(name='Johannes', amount=899098, country='USA'), Row(name='James', amount=518494, country='USA'), Row(name='Bob', amount=862506, country=None), Row(name='Johannes', amount=151163, country='Germany'), Row(name='Johannes', amount=267038, country='Poland'), Row(name='Johannes', amount=968652, country=None), Row(name='Johannes', amount=786404, country='USA')], [Row(name='Johannes', amount=827308, country='Germany'), Row(name='Johannes', amount=334692, country='United Kingdom'), Row(name=None, amount=240963, country=None), Row(name='Johannes', amount=332410, country='Germany'), Row(name='Marek', amount=969804, country='United Kingdom'), Row(name='James', amount=441006, country='Poland'), Row(name='James', amount=319201, country='Poland'), Row(name='James', amount=101940, country='Germany'), Row(name=None, amount=451760, country='Germany'), Row(name=None, amount=793246, country='USA'), Row(name='Johannes', amount=822637, country='USA'), Row(name='Bob', amount=150794, country=None)], [Row(name='James', amount=933550, country='United Kingdom'), Row(name='Johannes', amount=955474, country='United Kingdom'), Row(name='James', amount=1480, country='USA'), Row(name='Marek', amount=211070, country='Germany'), Row(name='Marek', amount=441060, country='Poland'), Row(name='Bob', amount=16300, country='Poland'), Row(name='Bob', amount=643655, country=None), Row(name='Marek', amount=94172, country='Germany'), Row(name='James', amount=177174, country='United Kingdom'), Row(name='Bob', amount=175156, country='Germany'), Row(name='Bob', amount=222484, country='Germany'), Row(name='Bob', amount=448711, country='Poland')], [Row(name='Bob', amount=850784, country='Poland'), Row(name='Bob', amount=784126, country='United Kingdom'), Row(name='Johannes', amount=562982, country='Germany'), Row(name='Marek', amount=105039, country='Germany'), Row(name='James', amount=408420, country=None), Row(name=None, amount=702664, country='Germany'), Row(name='James', amount=329082, country='Poland'), Row(name='Marek', amount=696034, country=None), Row(name='Johannes', amount=226147, country='USA'), Row(name=None, amount=554039, country='Germany'), Row(name='Bob', amount=61705, country='United Kingdom'), Row(name='Marek', amount=496795, country='Poland')], [Row(name='James', amount=674093, country=None), Row(name='Johannes', amount=961433, country='Germany'), Row(name='Bob', amount=748259, country='Germany'), Row(name='James', amount=188216, country='Germany'), Row(name='Marek', amount=465586, country='USA'), Row(name='James', amount=83589, country='Germany'), Row(name='Marek', amount=732872, country='Poland'), Row(name=None, amount=109577, country='Poland'), Row(name='Bob', amount=125575, country='Germany'), Row(name='James', amount=647511, country='USA'), Row(name='James', amount=403176, country='USA'), Row(name='Bob', amount=328565, country='Germany')], [Row(name='James', amount=871692, country='United Kingdom'), Row(name='Bob', amount=677593, country=None), Row(name='Marek', amount=58499, country='Poland'), Row(name='Johannes', amount=691402, country='United Kingdom'), Row(name='Bob', amount=916964, country=None), Row(name='Marek', amount=375251, country=None), Row(name='Marek', amount=662470, country=None), Row(name='James', amount=726269, country='Poland'), Row(name='Bob', amount=783523, country='Poland'), Row(name='Johannes', amount=874501, country='USA'), Row(name='Johannes', amount=69086, country='Poland'), Row(name=None, amount=635233, country='Germany'), Row(name='Johannes', amount=352778, country='USA'), Row(name='James', amount=388021, country='USA'), Row(name='Marek', amount=222448, country=None), Row(name='James', amount=447584, country='Poland')]]\n"
     ]
    }
   ],
   "source": [
    "import pandas as pd\n",
    "import numpy as np\n",
    "# partitions\n",
    "length = 100\n",
    "names = np.random.choice(['Bob', 'James', 'Marek', 'Johannes', None], length)\n",
    "amounts = np.random.randint(0, 1000000, length)\n",
    "country = np.random.choice(\n",
    "\t['United Kingdom', 'Poland', 'USA', 'Germany', None], \n",
    "\tlength\n",
    ")\n",
    "df = pd.DataFrame({'name': names, 'amount': amounts, 'country': country})\n",
    "\n",
    "transactions = spark.createDataFrame(df)\n",
    "print('Number of partitions: {}'.format(transactions.rdd.getNumPartitions())) # <= 8 cores laptop \n",
    "print('Partitioner: {}'.format(transactions.rdd.partitioner))\n",
    "# print('Partitions structure: {}'.format(transactions.rdd.glom().collect()))"
   ]
  },
  {
   "cell_type": "code",
   "execution_count": 5,
   "metadata": {},
   "outputs": [
    {
     "output_type": "execute_result",
     "data": {
      "text/plain": [
       "100"
      ]
     },
     "metadata": {},
     "execution_count": 5
    }
   ],
   "source": [
    "transactions.count()"
   ]
  },
  {
   "cell_type": "code",
   "execution_count": 3,
   "metadata": {},
   "outputs": [],
   "source": [
    "lines = spark.readStream \\\n",
    "             .format(\"socket\") \\\n",
    "             .option(\"host\", \"localhost\") \\\n",
    "             .option(\"port\", 9999) \\\n",
    "             .load()\n",
    "# Input table"
   ]
  },
  {
   "cell_type": "code",
   "execution_count": 4,
   "metadata": {},
   "outputs": [],
   "source": [
    "words = lines.select(F.explode(\n",
    "    F.split(lines.value, \" \")\n",
    ").alias(\"word\"))"
   ]
  },
  {
   "cell_type": "code",
   "execution_count": 5,
   "metadata": {},
   "outputs": [
    {
     "output_type": "execute_result",
     "data": {
      "text/plain": [
       "pyspark.sql.dataframe.DataFrame"
      ]
     },
     "metadata": {},
     "execution_count": 5
    }
   ],
   "source": [
    "wordCounts = words.groupBy(\"word\").count()\n",
    "type(wordCounts)"
   ]
  },
  {
   "cell_type": "code",
   "execution_count": 8,
   "metadata": {},
   "outputs": [],
   "source": [
    " # Start running the query that prints the running counts to the console\n",
    "query = wordCounts \\\n",
    "    .writeStream \\\n",
    "    .outputMode(\"complete\") \\\n",
    "    .format(\"console\") \\\n",
    "    .start()\n",
    "\n",
    "query.awaitTermination()"
   ]
  },
  {
   "source": [
    "# Full cycle\n",
    "spark.readStream\n",
    "  .format(\"kafka\")\n",
    "  .option(\"subscribe\", \"input\")\n",
    "  .load()  ### reading IN\n",
    "  .groupby('value.case(\"string\") as key')\n",
    "  .agg(count(\"*\") as \"value\") ### transforming\n",
    "  .writeStream()\n",
    "  .format(\"kafka\")\n",
    "  .option(\"topic\", \"output\") ## writing OUT\n",
    "  .trigger(\"1 minute\")\n",
    "  .outputMode(\"update\")  ## trigger\n",
    "  .option(\"checkpointLocation\", \"...\") \n",
    "  .withWaterMark(\"timestamp\" \"2 minutes\") ## check point\n",
    "  .start()"
   ],
   "cell_type": "markdown",
   "metadata": {}
  }
 ]
}