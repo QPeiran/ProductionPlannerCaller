{
 "metadata": {
  "language_info": {
   "codemirror_mode": {
    "name": "ipython",
    "version": 3
   },
   "file_extension": ".py",
   "mimetype": "text/x-python",
   "name": "python",
   "nbconvert_exporter": "python",
   "pygments_lexer": "ipython3",
   "version": "3.8.6-final"
  },
  "orig_nbformat": 2,
  "kernelspec": {
   "name": "Python 3.8.6 64-bit ('ProductionPlannerCaller': pipenv)",
   "display_name": "Python 3.8.6 64-bit ('ProductionPlannerCaller': pipenv)",
   "metadata": {
    "interpreter": {
     "hash": "d35c8b516a90ec349fb27354d3f5b0fd5f2200bb14aca3e9a64f3cb0fb9d61f2"
    }
   }
  }
 },
 "nbformat": 4,
 "nbformat_minor": 2,
 "cells": [
  {
   "cell_type": "code",
   "execution_count": 16,
   "metadata": {},
   "outputs": [],
   "source": [
    "import pandas as pd\n",
    "import json\n",
    "from pandas import json_normalize"
   ]
  },
  {
   "cell_type": "code",
   "execution_count": 17,
   "metadata": {},
   "outputs": [],
   "source": [
    "# file = open(r'C:\\Users\\Peiran Quan\\myWorkStation\\PlanningClient\\template_response.json')\n",
    "file = open(r'.\\test_response.json')"
   ]
  },
  {
   "cell_type": "code",
   "execution_count": 18,
   "metadata": {},
   "outputs": [],
   "source": [
    "data = json.load(file)"
   ]
  },
  {
   "cell_type": "code",
   "execution_count": 19,
   "metadata": {
    "tags": []
   },
   "outputs": [
    {
     "output_type": "execute_result",
     "data": {
      "text/plain": [
       "     teamId startDateTime finishDateTime teamLeader  id line batch  week  \\\n",
       "0         1         06:00          06:05     Team 1   0    6  None  None   \n",
       "1         1         06:05          06:10     Team 1   0    6  None  None   \n",
       "2         1         06:10          06:16     Team 1   0    6  None  None   \n",
       "3         1         06:16          06:21     Team 1   0    6  None  None   \n",
       "4         1         06:21          06:26     Team 1   0    6  None  None   \n",
       "..      ...           ...            ...        ...  ..  ...   ...   ...   \n",
       "916      20         12:42          12:49    Team 20   0   17  None  None   \n",
       "917      20         12:49          12:55    Team 20   0   17  None  None   \n",
       "918      20         12:55          13:02    Team 20   0   17  None  None   \n",
       "919      20         13:02          13:09    Team 20   0   17  None  None   \n",
       "920      20         13:09          13:16    Team 20   0   17  None  None   \n",
       "\n",
       "     year  done recipe  productionTarget  mealKitPerCrate  targetSpeed  \\\n",
       "0    None  None     C4                28                4          314   \n",
       "1    None  None     C4                28                4          314   \n",
       "2    None  None     C4                28                4          314   \n",
       "3    None  None     C4                28                4          314   \n",
       "4    None  None     C4                28                4          314   \n",
       "..    ...   ...    ...               ...              ...          ...   \n",
       "916  None  None     S4                28                4          246   \n",
       "917  None  None     S4                28                4          246   \n",
       "918  None  None     S4                28                4          246   \n",
       "919  None  None     S4                28                4          246   \n",
       "920  None  None     S4                28                4          246   \n",
       "\n",
       "    displayOrder createdAt teamNames  \n",
       "0           None      None      None  \n",
       "1           None      None      None  \n",
       "2           None      None      None  \n",
       "3           None      None      None  \n",
       "4           None      None      None  \n",
       "..           ...       ...       ...  \n",
       "916         None      None      None  \n",
       "917         None      None      None  \n",
       "918         None      None      None  \n",
       "919         None      None      None  \n",
       "920         None      None      None  \n",
       "\n",
       "[921 rows x 17 columns]"
      ],
      "text/html": "<div>\n<style scoped>\n    .dataframe tbody tr th:only-of-type {\n        vertical-align: middle;\n    }\n\n    .dataframe tbody tr th {\n        vertical-align: top;\n    }\n\n    .dataframe thead th {\n        text-align: right;\n    }\n</style>\n<table border=\"1\" class=\"dataframe\">\n  <thead>\n    <tr style=\"text-align: right;\">\n      <th></th>\n      <th>teamId</th>\n      <th>startDateTime</th>\n      <th>finishDateTime</th>\n      <th>teamLeader</th>\n      <th>id</th>\n      <th>line</th>\n      <th>batch</th>\n      <th>week</th>\n      <th>year</th>\n      <th>done</th>\n      <th>recipe</th>\n      <th>productionTarget</th>\n      <th>mealKitPerCrate</th>\n      <th>targetSpeed</th>\n      <th>displayOrder</th>\n      <th>createdAt</th>\n      <th>teamNames</th>\n    </tr>\n  </thead>\n  <tbody>\n    <tr>\n      <th>0</th>\n      <td>1</td>\n      <td>06:00</td>\n      <td>06:05</td>\n      <td>Team 1</td>\n      <td>0</td>\n      <td>6</td>\n      <td>None</td>\n      <td>None</td>\n      <td>None</td>\n      <td>None</td>\n      <td>C4</td>\n      <td>28</td>\n      <td>4</td>\n      <td>314</td>\n      <td>None</td>\n      <td>None</td>\n      <td>None</td>\n    </tr>\n    <tr>\n      <th>1</th>\n      <td>1</td>\n      <td>06:05</td>\n      <td>06:10</td>\n      <td>Team 1</td>\n      <td>0</td>\n      <td>6</td>\n      <td>None</td>\n      <td>None</td>\n      <td>None</td>\n      <td>None</td>\n      <td>C4</td>\n      <td>28</td>\n      <td>4</td>\n      <td>314</td>\n      <td>None</td>\n      <td>None</td>\n      <td>None</td>\n    </tr>\n    <tr>\n      <th>2</th>\n      <td>1</td>\n      <td>06:10</td>\n      <td>06:16</td>\n      <td>Team 1</td>\n      <td>0</td>\n      <td>6</td>\n      <td>None</td>\n      <td>None</td>\n      <td>None</td>\n      <td>None</td>\n      <td>C4</td>\n      <td>28</td>\n      <td>4</td>\n      <td>314</td>\n      <td>None</td>\n      <td>None</td>\n      <td>None</td>\n    </tr>\n    <tr>\n      <th>3</th>\n      <td>1</td>\n      <td>06:16</td>\n      <td>06:21</td>\n      <td>Team 1</td>\n      <td>0</td>\n      <td>6</td>\n      <td>None</td>\n      <td>None</td>\n      <td>None</td>\n      <td>None</td>\n      <td>C4</td>\n      <td>28</td>\n      <td>4</td>\n      <td>314</td>\n      <td>None</td>\n      <td>None</td>\n      <td>None</td>\n    </tr>\n    <tr>\n      <th>4</th>\n      <td>1</td>\n      <td>06:21</td>\n      <td>06:26</td>\n      <td>Team 1</td>\n      <td>0</td>\n      <td>6</td>\n      <td>None</td>\n      <td>None</td>\n      <td>None</td>\n      <td>None</td>\n      <td>C4</td>\n      <td>28</td>\n      <td>4</td>\n      <td>314</td>\n      <td>None</td>\n      <td>None</td>\n      <td>None</td>\n    </tr>\n    <tr>\n      <th>...</th>\n      <td>...</td>\n      <td>...</td>\n      <td>...</td>\n      <td>...</td>\n      <td>...</td>\n      <td>...</td>\n      <td>...</td>\n      <td>...</td>\n      <td>...</td>\n      <td>...</td>\n      <td>...</td>\n      <td>...</td>\n      <td>...</td>\n      <td>...</td>\n      <td>...</td>\n      <td>...</td>\n      <td>...</td>\n    </tr>\n    <tr>\n      <th>916</th>\n      <td>20</td>\n      <td>12:42</td>\n      <td>12:49</td>\n      <td>Team 20</td>\n      <td>0</td>\n      <td>17</td>\n      <td>None</td>\n      <td>None</td>\n      <td>None</td>\n      <td>None</td>\n      <td>S4</td>\n      <td>28</td>\n      <td>4</td>\n      <td>246</td>\n      <td>None</td>\n      <td>None</td>\n      <td>None</td>\n    </tr>\n    <tr>\n      <th>917</th>\n      <td>20</td>\n      <td>12:49</td>\n      <td>12:55</td>\n      <td>Team 20</td>\n      <td>0</td>\n      <td>17</td>\n      <td>None</td>\n      <td>None</td>\n      <td>None</td>\n      <td>None</td>\n      <td>S4</td>\n      <td>28</td>\n      <td>4</td>\n      <td>246</td>\n      <td>None</td>\n      <td>None</td>\n      <td>None</td>\n    </tr>\n    <tr>\n      <th>918</th>\n      <td>20</td>\n      <td>12:55</td>\n      <td>13:02</td>\n      <td>Team 20</td>\n      <td>0</td>\n      <td>17</td>\n      <td>None</td>\n      <td>None</td>\n      <td>None</td>\n      <td>None</td>\n      <td>S4</td>\n      <td>28</td>\n      <td>4</td>\n      <td>246</td>\n      <td>None</td>\n      <td>None</td>\n      <td>None</td>\n    </tr>\n    <tr>\n      <th>919</th>\n      <td>20</td>\n      <td>13:02</td>\n      <td>13:09</td>\n      <td>Team 20</td>\n      <td>0</td>\n      <td>17</td>\n      <td>None</td>\n      <td>None</td>\n      <td>None</td>\n      <td>None</td>\n      <td>S4</td>\n      <td>28</td>\n      <td>4</td>\n      <td>246</td>\n      <td>None</td>\n      <td>None</td>\n      <td>None</td>\n    </tr>\n    <tr>\n      <th>920</th>\n      <td>20</td>\n      <td>13:09</td>\n      <td>13:16</td>\n      <td>Team 20</td>\n      <td>0</td>\n      <td>17</td>\n      <td>None</td>\n      <td>None</td>\n      <td>None</td>\n      <td>None</td>\n      <td>S4</td>\n      <td>28</td>\n      <td>4</td>\n      <td>246</td>\n      <td>None</td>\n      <td>None</td>\n      <td>None</td>\n    </tr>\n  </tbody>\n</table>\n<p>921 rows × 17 columns</p>\n</div>"
     },
     "metadata": {},
     "execution_count": 19
    }
   ],
   "source": [
    "df = json_normalize(data[\"pickingJob\"])\n",
    "df"
   ]
  },
  {
   "cell_type": "code",
   "execution_count": 20,
   "metadata": {},
   "outputs": [
    {
     "output_type": "execute_result",
     "data": {
      "text/plain": [
       "    teamLeader line startDateTime finishDateTime recipe  productionTarget\n",
       "0       Team 1    6         06:00          06:05     C4                28\n",
       "1       Team 1    6         06:05          06:10     C4                28\n",
       "2       Team 1    6         06:10          06:16     C4                28\n",
       "3       Team 1    6         06:16          06:21     C4                28\n",
       "4       Team 1    6         06:21          06:26     C4                28\n",
       "..         ...  ...           ...            ...    ...               ...\n",
       "916    Team 20   17         12:42          12:49     S4                28\n",
       "917    Team 20   17         12:49          12:55     S4                28\n",
       "918    Team 20   17         12:55          13:02     S4                28\n",
       "919    Team 20   17         13:02          13:09     S4                28\n",
       "920    Team 20   17         13:09          13:16     S4                28\n",
       "\n",
       "[921 rows x 6 columns]"
      ],
      "text/html": "<div>\n<style scoped>\n    .dataframe tbody tr th:only-of-type {\n        vertical-align: middle;\n    }\n\n    .dataframe tbody tr th {\n        vertical-align: top;\n    }\n\n    .dataframe thead th {\n        text-align: right;\n    }\n</style>\n<table border=\"1\" class=\"dataframe\">\n  <thead>\n    <tr style=\"text-align: right;\">\n      <th></th>\n      <th>teamLeader</th>\n      <th>line</th>\n      <th>startDateTime</th>\n      <th>finishDateTime</th>\n      <th>recipe</th>\n      <th>productionTarget</th>\n    </tr>\n  </thead>\n  <tbody>\n    <tr>\n      <th>0</th>\n      <td>Team 1</td>\n      <td>6</td>\n      <td>06:00</td>\n      <td>06:05</td>\n      <td>C4</td>\n      <td>28</td>\n    </tr>\n    <tr>\n      <th>1</th>\n      <td>Team 1</td>\n      <td>6</td>\n      <td>06:05</td>\n      <td>06:10</td>\n      <td>C4</td>\n      <td>28</td>\n    </tr>\n    <tr>\n      <th>2</th>\n      <td>Team 1</td>\n      <td>6</td>\n      <td>06:10</td>\n      <td>06:16</td>\n      <td>C4</td>\n      <td>28</td>\n    </tr>\n    <tr>\n      <th>3</th>\n      <td>Team 1</td>\n      <td>6</td>\n      <td>06:16</td>\n      <td>06:21</td>\n      <td>C4</td>\n      <td>28</td>\n    </tr>\n    <tr>\n      <th>4</th>\n      <td>Team 1</td>\n      <td>6</td>\n      <td>06:21</td>\n      <td>06:26</td>\n      <td>C4</td>\n      <td>28</td>\n    </tr>\n    <tr>\n      <th>...</th>\n      <td>...</td>\n      <td>...</td>\n      <td>...</td>\n      <td>...</td>\n      <td>...</td>\n      <td>...</td>\n    </tr>\n    <tr>\n      <th>916</th>\n      <td>Team 20</td>\n      <td>17</td>\n      <td>12:42</td>\n      <td>12:49</td>\n      <td>S4</td>\n      <td>28</td>\n    </tr>\n    <tr>\n      <th>917</th>\n      <td>Team 20</td>\n      <td>17</td>\n      <td>12:49</td>\n      <td>12:55</td>\n      <td>S4</td>\n      <td>28</td>\n    </tr>\n    <tr>\n      <th>918</th>\n      <td>Team 20</td>\n      <td>17</td>\n      <td>12:55</td>\n      <td>13:02</td>\n      <td>S4</td>\n      <td>28</td>\n    </tr>\n    <tr>\n      <th>919</th>\n      <td>Team 20</td>\n      <td>17</td>\n      <td>13:02</td>\n      <td>13:09</td>\n      <td>S4</td>\n      <td>28</td>\n    </tr>\n    <tr>\n      <th>920</th>\n      <td>Team 20</td>\n      <td>17</td>\n      <td>13:09</td>\n      <td>13:16</td>\n      <td>S4</td>\n      <td>28</td>\n    </tr>\n  </tbody>\n</table>\n<p>921 rows × 6 columns</p>\n</div>"
     },
     "metadata": {},
     "execution_count": 20
    }
   ],
   "source": [
    "df_ultilize = df[[\"teamLeader\", \"line\", \"startDateTime\", \"finishDateTime\", \"recipe\", \"productionTarget\"]]\n",
    "df_ultilize"
   ]
  },
  {
   "cell_type": "code",
   "execution_count": 21,
   "metadata": {},
   "outputs": [],
   "source": [
    "def change_indicator(input_df: pd.DataFrame) -> pd.DataFrame :\n",
    "    input_df.sort_values(by=['startDateTime'], ascending=True, inplace=True)\n",
    "    col_ori = input_df['recipe']\n",
    "    col_shift = input_df['recipe'].shift(1)\n",
    "    input_df['change_indicator'] = ~(col_ori == col_shift)\n",
    "    return input_df"
   ]
  },
  {
   "cell_type": "code",
   "execution_count": 22,
   "metadata": {},
   "outputs": [
    {
     "output_type": "execute_result",
     "data": {
      "text/plain": [
       "    teamLeader line startDateTime finishDateTime recipe  productionTarget  \\\n",
       "0       Team 1    6         06:00          06:05     C4                28   \n",
       "1       Team 1    6         06:05          06:10     C4                28   \n",
       "2       Team 1    6         06:10          06:16     C4                28   \n",
       "3       Team 1    6         06:16          06:21     C4                28   \n",
       "4       Team 1    6         06:21          06:26     C4                28   \n",
       "..         ...  ...           ...            ...    ...               ...   \n",
       "916    Team 20   17         12:42          12:49     S4                28   \n",
       "917    Team 20   17         12:49          12:55     S4                28   \n",
       "918    Team 20   17         12:55          13:02     S4                28   \n",
       "919    Team 20   17         13:02          13:09     S4                28   \n",
       "920    Team 20   17         13:09          13:16     S4                28   \n",
       "\n",
       "     change_indicator  \n",
       "0                True  \n",
       "1               False  \n",
       "2               False  \n",
       "3               False  \n",
       "4               False  \n",
       "..                ...  \n",
       "916             False  \n",
       "917             False  \n",
       "918             False  \n",
       "919             False  \n",
       "920             False  \n",
       "\n",
       "[921 rows x 7 columns]"
      ],
      "text/html": "<div>\n<style scoped>\n    .dataframe tbody tr th:only-of-type {\n        vertical-align: middle;\n    }\n\n    .dataframe tbody tr th {\n        vertical-align: top;\n    }\n\n    .dataframe thead th {\n        text-align: right;\n    }\n</style>\n<table border=\"1\" class=\"dataframe\">\n  <thead>\n    <tr style=\"text-align: right;\">\n      <th></th>\n      <th>teamLeader</th>\n      <th>line</th>\n      <th>startDateTime</th>\n      <th>finishDateTime</th>\n      <th>recipe</th>\n      <th>productionTarget</th>\n      <th>change_indicator</th>\n    </tr>\n  </thead>\n  <tbody>\n    <tr>\n      <th>0</th>\n      <td>Team 1</td>\n      <td>6</td>\n      <td>06:00</td>\n      <td>06:05</td>\n      <td>C4</td>\n      <td>28</td>\n      <td>True</td>\n    </tr>\n    <tr>\n      <th>1</th>\n      <td>Team 1</td>\n      <td>6</td>\n      <td>06:05</td>\n      <td>06:10</td>\n      <td>C4</td>\n      <td>28</td>\n      <td>False</td>\n    </tr>\n    <tr>\n      <th>2</th>\n      <td>Team 1</td>\n      <td>6</td>\n      <td>06:10</td>\n      <td>06:16</td>\n      <td>C4</td>\n      <td>28</td>\n      <td>False</td>\n    </tr>\n    <tr>\n      <th>3</th>\n      <td>Team 1</td>\n      <td>6</td>\n      <td>06:16</td>\n      <td>06:21</td>\n      <td>C4</td>\n      <td>28</td>\n      <td>False</td>\n    </tr>\n    <tr>\n      <th>4</th>\n      <td>Team 1</td>\n      <td>6</td>\n      <td>06:21</td>\n      <td>06:26</td>\n      <td>C4</td>\n      <td>28</td>\n      <td>False</td>\n    </tr>\n    <tr>\n      <th>...</th>\n      <td>...</td>\n      <td>...</td>\n      <td>...</td>\n      <td>...</td>\n      <td>...</td>\n      <td>...</td>\n      <td>...</td>\n    </tr>\n    <tr>\n      <th>916</th>\n      <td>Team 20</td>\n      <td>17</td>\n      <td>12:42</td>\n      <td>12:49</td>\n      <td>S4</td>\n      <td>28</td>\n      <td>False</td>\n    </tr>\n    <tr>\n      <th>917</th>\n      <td>Team 20</td>\n      <td>17</td>\n      <td>12:49</td>\n      <td>12:55</td>\n      <td>S4</td>\n      <td>28</td>\n      <td>False</td>\n    </tr>\n    <tr>\n      <th>918</th>\n      <td>Team 20</td>\n      <td>17</td>\n      <td>12:55</td>\n      <td>13:02</td>\n      <td>S4</td>\n      <td>28</td>\n      <td>False</td>\n    </tr>\n    <tr>\n      <th>919</th>\n      <td>Team 20</td>\n      <td>17</td>\n      <td>13:02</td>\n      <td>13:09</td>\n      <td>S4</td>\n      <td>28</td>\n      <td>False</td>\n    </tr>\n    <tr>\n      <th>920</th>\n      <td>Team 20</td>\n      <td>17</td>\n      <td>13:09</td>\n      <td>13:16</td>\n      <td>S4</td>\n      <td>28</td>\n      <td>False</td>\n    </tr>\n  </tbody>\n</table>\n<p>921 rows × 7 columns</p>\n</div>"
     },
     "metadata": {},
     "execution_count": 22
    }
   ],
   "source": [
    "df_ultilize = df_ultilize.groupby(['teamLeader']).apply(change_indicator)\n",
    "df_ultilize"
   ]
  },
  {
   "cell_type": "code",
   "execution_count": 23,
   "metadata": {},
   "outputs": [],
   "source": [
    "df_ultilize.to_csv('response.csv', index = False)"
   ]
  },
  {
   "cell_type": "code",
   "execution_count": 24,
   "metadata": {},
   "outputs": [
    {
     "output_type": "execute_result",
     "data": {
      "text/plain": [
       "               time  assemblyLine01Requirement  assemblyLine02Requirement  \\\n",
       "0  12/11/2020 06:00                        NaN                        NaN   \n",
       "1  12/11/2020 07:00                        NaN                        NaN   \n",
       "2  12/11/2020 08:00                        NaN                        NaN   \n",
       "3  12/11/2020 09:00                        NaN                        NaN   \n",
       "4  12/11/2020 10:00                        NaN                        NaN   \n",
       "\n",
       "   shortage  stockTotal  as01Total  as02Total  kittingLineTotal  dollyCount  \\\n",
       "0         0        5541          0          0              5541         195   \n",
       "1         0       11228          0          0              5687         378   \n",
       "2         0       14623        342        118              3855         477   \n",
       "3         0       13652       1892       2342              3263         449   \n",
       "4         0       14276        790       1684              3098         465   \n",
       "\n",
       "   acceptedDollyCount  ...  kittingLineProduced.E2 kittingLineProduced.G2  \\\n",
       "0                   0  ...                     NaN                    NaN   \n",
       "1                   0  ...                     NaN                    NaN   \n",
       "2                   0  ...                   246.0                   37.0   \n",
       "3                   0  ...                   300.0                  131.0   \n",
       "4                   0  ...                     0.0                    0.0   \n",
       "\n",
       "   kittingLineProduced.K2 kittingLineProduced.L2  kittingLineProduced.S2  \\\n",
       "0                     NaN                    NaN                     NaN   \n",
       "1                     NaN                    NaN                     NaN   \n",
       "2                   195.0                  172.0                   219.0   \n",
       "3                   267.0                  164.0                   166.0   \n",
       "4                     0.0                   92.0                     0.0   \n",
       "\n",
       "   kittingLineProduced.U2  kittingLineProduced.U4  kittingLineProduced.SA  \\\n",
       "0                     NaN                     NaN                     NaN   \n",
       "1                     NaN                     NaN                     NaN   \n",
       "2                    59.0                   140.0                    84.0   \n",
       "3                    25.0                     0.0                     0.0   \n",
       "4                     0.0                     0.0                     0.0   \n",
       "\n",
       "   kittingLineProduced.SG  kittingLineProduced  \n",
       "0                     NaN                  NaN  \n",
       "1                     NaN                  NaN  \n",
       "2                   252.0                  NaN  \n",
       "3                     0.0                  NaN  \n",
       "4                     0.0                  NaN  \n",
       "\n",
       "[5 rows x 200 columns]"
      ],
      "text/html": "<div>\n<style scoped>\n    .dataframe tbody tr th:only-of-type {\n        vertical-align: middle;\n    }\n\n    .dataframe tbody tr th {\n        vertical-align: top;\n    }\n\n    .dataframe thead th {\n        text-align: right;\n    }\n</style>\n<table border=\"1\" class=\"dataframe\">\n  <thead>\n    <tr style=\"text-align: right;\">\n      <th></th>\n      <th>time</th>\n      <th>assemblyLine01Requirement</th>\n      <th>assemblyLine02Requirement</th>\n      <th>shortage</th>\n      <th>stockTotal</th>\n      <th>as01Total</th>\n      <th>as02Total</th>\n      <th>kittingLineTotal</th>\n      <th>dollyCount</th>\n      <th>acceptedDollyCount</th>\n      <th>...</th>\n      <th>kittingLineProduced.E2</th>\n      <th>kittingLineProduced.G2</th>\n      <th>kittingLineProduced.K2</th>\n      <th>kittingLineProduced.L2</th>\n      <th>kittingLineProduced.S2</th>\n      <th>kittingLineProduced.U2</th>\n      <th>kittingLineProduced.U4</th>\n      <th>kittingLineProduced.SA</th>\n      <th>kittingLineProduced.SG</th>\n      <th>kittingLineProduced</th>\n    </tr>\n  </thead>\n  <tbody>\n    <tr>\n      <th>0</th>\n      <td>12/11/2020 06:00</td>\n      <td>NaN</td>\n      <td>NaN</td>\n      <td>0</td>\n      <td>5541</td>\n      <td>0</td>\n      <td>0</td>\n      <td>5541</td>\n      <td>195</td>\n      <td>0</td>\n      <td>...</td>\n      <td>NaN</td>\n      <td>NaN</td>\n      <td>NaN</td>\n      <td>NaN</td>\n      <td>NaN</td>\n      <td>NaN</td>\n      <td>NaN</td>\n      <td>NaN</td>\n      <td>NaN</td>\n      <td>NaN</td>\n    </tr>\n    <tr>\n      <th>1</th>\n      <td>12/11/2020 07:00</td>\n      <td>NaN</td>\n      <td>NaN</td>\n      <td>0</td>\n      <td>11228</td>\n      <td>0</td>\n      <td>0</td>\n      <td>5687</td>\n      <td>378</td>\n      <td>0</td>\n      <td>...</td>\n      <td>NaN</td>\n      <td>NaN</td>\n      <td>NaN</td>\n      <td>NaN</td>\n      <td>NaN</td>\n      <td>NaN</td>\n      <td>NaN</td>\n      <td>NaN</td>\n      <td>NaN</td>\n      <td>NaN</td>\n    </tr>\n    <tr>\n      <th>2</th>\n      <td>12/11/2020 08:00</td>\n      <td>NaN</td>\n      <td>NaN</td>\n      <td>0</td>\n      <td>14623</td>\n      <td>342</td>\n      <td>118</td>\n      <td>3855</td>\n      <td>477</td>\n      <td>0</td>\n      <td>...</td>\n      <td>246.0</td>\n      <td>37.0</td>\n      <td>195.0</td>\n      <td>172.0</td>\n      <td>219.0</td>\n      <td>59.0</td>\n      <td>140.0</td>\n      <td>84.0</td>\n      <td>252.0</td>\n      <td>NaN</td>\n    </tr>\n    <tr>\n      <th>3</th>\n      <td>12/11/2020 09:00</td>\n      <td>NaN</td>\n      <td>NaN</td>\n      <td>0</td>\n      <td>13652</td>\n      <td>1892</td>\n      <td>2342</td>\n      <td>3263</td>\n      <td>449</td>\n      <td>0</td>\n      <td>...</td>\n      <td>300.0</td>\n      <td>131.0</td>\n      <td>267.0</td>\n      <td>164.0</td>\n      <td>166.0</td>\n      <td>25.0</td>\n      <td>0.0</td>\n      <td>0.0</td>\n      <td>0.0</td>\n      <td>NaN</td>\n    </tr>\n    <tr>\n      <th>4</th>\n      <td>12/11/2020 10:00</td>\n      <td>NaN</td>\n      <td>NaN</td>\n      <td>0</td>\n      <td>14276</td>\n      <td>790</td>\n      <td>1684</td>\n      <td>3098</td>\n      <td>465</td>\n      <td>0</td>\n      <td>...</td>\n      <td>0.0</td>\n      <td>0.0</td>\n      <td>0.0</td>\n      <td>92.0</td>\n      <td>0.0</td>\n      <td>0.0</td>\n      <td>0.0</td>\n      <td>0.0</td>\n      <td>0.0</td>\n      <td>NaN</td>\n    </tr>\n  </tbody>\n</table>\n<p>5 rows × 200 columns</p>\n</div>"
     },
     "metadata": {},
     "execution_count": 24
    }
   ],
   "source": [
    "df_stock = json_normalize(data[\"stockOverTime\"])\n",
    "df_stock.head()"
   ]
  },
  {
   "cell_type": "code",
   "execution_count": 25,
   "metadata": {},
   "outputs": [
    {
     "output_type": "execute_result",
     "data": {
      "text/plain": [
       "['time',\n",
       " 'assemblyLine01Requirement',\n",
       " 'assemblyLine02Requirement',\n",
       " 'shortage',\n",
       " 'stockTotal',\n",
       " 'as01Total',\n",
       " 'as02Total',\n",
       " 'kittingLineTotal',\n",
       " 'dollyCount',\n",
       " 'acceptedDollyCount',\n",
       " 'acceptedKittingLineTotal',\n",
       " 'acceptedKittingLineProduced',\n",
       " 'acceptedShortage',\n",
       " 'acceptedStock',\n",
       " 'acceptedStockTotal',\n",
       " 'stock.O2',\n",
       " 'stock.P2',\n",
       " 'stock.T2',\n",
       " 'stock.A4',\n",
       " 'stock.B4',\n",
       " 'stock.C4',\n",
       " 'stock.D4',\n",
       " 'stock.E4',\n",
       " 'stock.F4',\n",
       " 'stock.G4',\n",
       " 'stock.H4',\n",
       " 'stock.I4',\n",
       " 'stock.J4',\n",
       " 'stock.K4',\n",
       " 'stock.L4',\n",
       " 'stock.M4',\n",
       " 'stock.N4',\n",
       " 'stock.O4',\n",
       " 'stock.P4',\n",
       " 'stock.Q4',\n",
       " 'stock.R4',\n",
       " 'stock.S4',\n",
       " 'stock.T4',\n",
       " 'stock.SE',\n",
       " 'kittingLineProduced.O2',\n",
       " 'kittingLineProduced.P2',\n",
       " 'kittingLineProduced.T2',\n",
       " 'kittingLineProduced.A4',\n",
       " 'kittingLineProduced.B4',\n",
       " 'kittingLineProduced.C4',\n",
       " 'kittingLineProduced.D4',\n",
       " 'kittingLineProduced.E4',\n",
       " 'kittingLineProduced.F4',\n",
       " 'kittingLineProduced.G4',\n",
       " 'kittingLineProduced.H4',\n",
       " 'kittingLineProduced.I4',\n",
       " 'kittingLineProduced.J4',\n",
       " 'kittingLineProduced.K4',\n",
       " 'kittingLineProduced.L4',\n",
       " 'kittingLineProduced.M4',\n",
       " 'kittingLineProduced.N4',\n",
       " 'kittingLineProduced.O4',\n",
       " 'kittingLineProduced.P4',\n",
       " 'kittingLineProduced.Q4',\n",
       " 'kittingLineProduced.R4',\n",
       " 'kittingLineProduced.S4',\n",
       " 'kittingLineProduced.T4',\n",
       " 'kittingLineProduced.SE',\n",
       " 'stock.F2',\n",
       " 'stock.H2',\n",
       " 'stock.I2',\n",
       " 'stock.J2',\n",
       " 'stock.M2',\n",
       " 'stock.N2',\n",
       " 'stock.Q2',\n",
       " 'stock.R2',\n",
       " 'stock.SF',\n",
       " 'kittingLineProduced.F2',\n",
       " 'kittingLineProduced.H2',\n",
       " 'kittingLineProduced.I2',\n",
       " 'kittingLineProduced.J2',\n",
       " 'kittingLineProduced.M2',\n",
       " 'kittingLineProduced.N2',\n",
       " 'kittingLineProduced.Q2',\n",
       " 'kittingLineProduced.R2',\n",
       " 'kittingLineProduced.SF',\n",
       " 'assemblyLine01Requirement.A2',\n",
       " 'assemblyLine01Requirement.A4',\n",
       " 'assemblyLine01Requirement.B2',\n",
       " 'assemblyLine01Requirement.B4',\n",
       " 'assemblyLine01Requirement.C2',\n",
       " 'assemblyLine01Requirement.C4',\n",
       " 'assemblyLine01Requirement.D2',\n",
       " 'assemblyLine01Requirement.D4',\n",
       " 'assemblyLine01Requirement.E2',\n",
       " 'assemblyLine01Requirement.E4',\n",
       " 'assemblyLine01Requirement.F2',\n",
       " 'assemblyLine01Requirement.F4',\n",
       " 'assemblyLine01Requirement.G2',\n",
       " 'assemblyLine01Requirement.G4',\n",
       " 'assemblyLine01Requirement.H2',\n",
       " 'assemblyLine01Requirement.H4',\n",
       " 'assemblyLine01Requirement.I2',\n",
       " 'assemblyLine01Requirement.I4',\n",
       " 'assemblyLine01Requirement.J2',\n",
       " 'assemblyLine01Requirement.J4',\n",
       " 'assemblyLine01Requirement.K2',\n",
       " 'assemblyLine01Requirement.K4',\n",
       " 'assemblyLine01Requirement.L2',\n",
       " 'assemblyLine01Requirement.L4',\n",
       " 'assemblyLine01Requirement.M2',\n",
       " 'assemblyLine01Requirement.M4',\n",
       " 'assemblyLine01Requirement.N2',\n",
       " 'assemblyLine01Requirement.N4',\n",
       " 'assemblyLine01Requirement.O2',\n",
       " 'assemblyLine01Requirement.O4',\n",
       " 'assemblyLine01Requirement.P2',\n",
       " 'assemblyLine01Requirement.P4',\n",
       " 'assemblyLine01Requirement.Q2',\n",
       " 'assemblyLine01Requirement.Q4',\n",
       " 'assemblyLine01Requirement.R2',\n",
       " 'assemblyLine01Requirement.R4',\n",
       " 'assemblyLine01Requirement.S2',\n",
       " 'assemblyLine01Requirement.S4',\n",
       " 'assemblyLine01Requirement.SA',\n",
       " 'assemblyLine01Requirement.SE',\n",
       " 'assemblyLine01Requirement.SF',\n",
       " 'assemblyLine01Requirement.SG',\n",
       " 'assemblyLine01Requirement.T2',\n",
       " 'assemblyLine01Requirement.T4',\n",
       " 'assemblyLine01Requirement.U2',\n",
       " 'assemblyLine01Requirement.U4',\n",
       " 'assemblyLine02Requirement.A2',\n",
       " 'assemblyLine02Requirement.A4',\n",
       " 'assemblyLine02Requirement.B2',\n",
       " 'assemblyLine02Requirement.B4',\n",
       " 'assemblyLine02Requirement.C2',\n",
       " 'assemblyLine02Requirement.C4',\n",
       " 'assemblyLine02Requirement.D2',\n",
       " 'assemblyLine02Requirement.D4',\n",
       " 'assemblyLine02Requirement.E2',\n",
       " 'assemblyLine02Requirement.E4',\n",
       " 'assemblyLine02Requirement.F2',\n",
       " 'assemblyLine02Requirement.F4',\n",
       " 'assemblyLine02Requirement.G2',\n",
       " 'assemblyLine02Requirement.G4',\n",
       " 'assemblyLine02Requirement.H2',\n",
       " 'assemblyLine02Requirement.H4',\n",
       " 'assemblyLine02Requirement.I2',\n",
       " 'assemblyLine02Requirement.I4',\n",
       " 'assemblyLine02Requirement.J2',\n",
       " 'assemblyLine02Requirement.J4',\n",
       " 'assemblyLine02Requirement.K2',\n",
       " 'assemblyLine02Requirement.K4',\n",
       " 'assemblyLine02Requirement.L2',\n",
       " 'assemblyLine02Requirement.L4',\n",
       " 'assemblyLine02Requirement.M2',\n",
       " 'assemblyLine02Requirement.M4',\n",
       " 'assemblyLine02Requirement.N2',\n",
       " 'assemblyLine02Requirement.N4',\n",
       " 'assemblyLine02Requirement.O2',\n",
       " 'assemblyLine02Requirement.O4',\n",
       " 'assemblyLine02Requirement.P2',\n",
       " 'assemblyLine02Requirement.P4',\n",
       " 'assemblyLine02Requirement.Q2',\n",
       " 'assemblyLine02Requirement.Q4',\n",
       " 'assemblyLine02Requirement.R2',\n",
       " 'assemblyLine02Requirement.R4',\n",
       " 'assemblyLine02Requirement.S2',\n",
       " 'assemblyLine02Requirement.S4',\n",
       " 'assemblyLine02Requirement.SA',\n",
       " 'assemblyLine02Requirement.SE',\n",
       " 'assemblyLine02Requirement.SF',\n",
       " 'assemblyLine02Requirement.SG',\n",
       " 'assemblyLine02Requirement.T2',\n",
       " 'assemblyLine02Requirement.T4',\n",
       " 'assemblyLine02Requirement.U2',\n",
       " 'assemblyLine02Requirement.U4',\n",
       " 'stock.A2',\n",
       " 'stock.B2',\n",
       " 'stock.C2',\n",
       " 'stock.D2',\n",
       " 'stock.E2',\n",
       " 'stock.G2',\n",
       " 'stock.K2',\n",
       " 'stock.L2',\n",
       " 'stock.S2',\n",
       " 'stock.U2',\n",
       " 'stock.U4',\n",
       " 'stock.SA',\n",
       " 'stock.SG',\n",
       " 'kittingLineProduced.A2',\n",
       " 'kittingLineProduced.B2',\n",
       " 'kittingLineProduced.C2',\n",
       " 'kittingLineProduced.D2',\n",
       " 'kittingLineProduced.E2',\n",
       " 'kittingLineProduced.G2',\n",
       " 'kittingLineProduced.K2',\n",
       " 'kittingLineProduced.L2',\n",
       " 'kittingLineProduced.S2',\n",
       " 'kittingLineProduced.U2',\n",
       " 'kittingLineProduced.U4',\n",
       " 'kittingLineProduced.SA',\n",
       " 'kittingLineProduced.SG',\n",
       " 'kittingLineProduced']"
      ]
     },
     "metadata": {},
     "execution_count": 25
    }
   ],
   "source": [
    "[i for i in df_stock.columns]"
   ]
  },
  {
   "cell_type": "code",
   "execution_count": 26,
   "metadata": {},
   "outputs": [
    {
     "output_type": "execute_result",
     "data": {
      "text/plain": [
       "['stockTotal',\n",
       " 'stock.O2',\n",
       " 'stock.P2',\n",
       " 'stock.T2',\n",
       " 'stock.A4',\n",
       " 'stock.B4',\n",
       " 'stock.C4',\n",
       " 'stock.D4',\n",
       " 'stock.E4',\n",
       " 'stock.F4',\n",
       " 'stock.G4',\n",
       " 'stock.H4',\n",
       " 'stock.I4',\n",
       " 'stock.J4',\n",
       " 'stock.K4',\n",
       " 'stock.L4',\n",
       " 'stock.M4',\n",
       " 'stock.N4',\n",
       " 'stock.O4',\n",
       " 'stock.P4',\n",
       " 'stock.Q4',\n",
       " 'stock.R4',\n",
       " 'stock.S4',\n",
       " 'stock.T4',\n",
       " 'stock.SE',\n",
       " 'stock.F2',\n",
       " 'stock.H2',\n",
       " 'stock.I2',\n",
       " 'stock.J2',\n",
       " 'stock.M2',\n",
       " 'stock.N2',\n",
       " 'stock.Q2',\n",
       " 'stock.R2',\n",
       " 'stock.SF',\n",
       " 'stock.A2',\n",
       " 'stock.B2',\n",
       " 'stock.C2',\n",
       " 'stock.D2',\n",
       " 'stock.E2',\n",
       " 'stock.G2',\n",
       " 'stock.K2',\n",
       " 'stock.L2',\n",
       " 'stock.S2',\n",
       " 'stock.U2',\n",
       " 'stock.U4',\n",
       " 'stock.SA',\n",
       " 'stock.SG',\n",
       " 'time']"
      ]
     },
     "metadata": {},
     "execution_count": 26
    }
   ],
   "source": [
    "filter_col = [col for col in df_stock if col.startswith('stock')]\n",
    "filter_col.append('time')\n",
    "filter_col"
   ]
  },
  {
   "cell_type": "code",
   "execution_count": 27,
   "metadata": {},
   "outputs": [],
   "source": [
    "df_stock = df_stock[filter_col]\n",
    "# df_stock.set_index('time', inplace = True)"
   ]
  },
  {
   "cell_type": "code",
   "execution_count": 28,
   "metadata": {},
   "outputs": [
    {
     "output_type": "execute_result",
     "data": {
      "text/plain": [
       "   stockTotal  stock.O2  stock.P2  stock.T2  stock.A4  stock.B4  stock.C4  \\\n",
       "0        5541      33.0     140.0       3.0       297       339       314   \n",
       "1       11228     430.0     140.0     252.0       594       678       628   \n",
       "2       14623     557.0     140.0     336.0       705       784       733   \n",
       "3       13652     549.0     136.0     321.0       556       633       576   \n",
       "4       14276     532.0     132.0     314.0       493       578       510   \n",
       "\n",
       "   stock.D4  stock.E4  stock.F4  ...  stock.E2  stock.G2  stock.K2  stock.L2  \\\n",
       "0       260       309       365  ...       NaN       NaN       NaN       NaN   \n",
       "1       520       618       581  ...       NaN       NaN       NaN       NaN   \n",
       "2       616       744       580  ...     237.0      37.0     177.0     162.0   \n",
       "3       450       572       565  ...     324.0     111.0     296.0     211.0   \n",
       "4       374       510       555  ...     190.0      67.0     182.0     217.0   \n",
       "\n",
       "   stock.S2  stock.U2  stock.U4  stock.SA  stock.SG              time  \n",
       "0       NaN       NaN       NaN       NaN       NaN  12/11/2020 06:00  \n",
       "1       NaN       NaN       NaN       NaN       NaN  12/11/2020 07:00  \n",
       "2     208.0      59.0     137.0      77.0     248.0  12/11/2020 08:00  \n",
       "3     250.0      59.0     125.0      60.0     227.0  12/11/2020 09:00  \n",
       "4     170.0      50.0     121.0      48.0     220.0  12/11/2020 10:00  \n",
       "\n",
       "[5 rows x 48 columns]"
      ],
      "text/html": "<div>\n<style scoped>\n    .dataframe tbody tr th:only-of-type {\n        vertical-align: middle;\n    }\n\n    .dataframe tbody tr th {\n        vertical-align: top;\n    }\n\n    .dataframe thead th {\n        text-align: right;\n    }\n</style>\n<table border=\"1\" class=\"dataframe\">\n  <thead>\n    <tr style=\"text-align: right;\">\n      <th></th>\n      <th>stockTotal</th>\n      <th>stock.O2</th>\n      <th>stock.P2</th>\n      <th>stock.T2</th>\n      <th>stock.A4</th>\n      <th>stock.B4</th>\n      <th>stock.C4</th>\n      <th>stock.D4</th>\n      <th>stock.E4</th>\n      <th>stock.F4</th>\n      <th>...</th>\n      <th>stock.E2</th>\n      <th>stock.G2</th>\n      <th>stock.K2</th>\n      <th>stock.L2</th>\n      <th>stock.S2</th>\n      <th>stock.U2</th>\n      <th>stock.U4</th>\n      <th>stock.SA</th>\n      <th>stock.SG</th>\n      <th>time</th>\n    </tr>\n  </thead>\n  <tbody>\n    <tr>\n      <th>0</th>\n      <td>5541</td>\n      <td>33.0</td>\n      <td>140.0</td>\n      <td>3.0</td>\n      <td>297</td>\n      <td>339</td>\n      <td>314</td>\n      <td>260</td>\n      <td>309</td>\n      <td>365</td>\n      <td>...</td>\n      <td>NaN</td>\n      <td>NaN</td>\n      <td>NaN</td>\n      <td>NaN</td>\n      <td>NaN</td>\n      <td>NaN</td>\n      <td>NaN</td>\n      <td>NaN</td>\n      <td>NaN</td>\n      <td>12/11/2020 06:00</td>\n    </tr>\n    <tr>\n      <th>1</th>\n      <td>11228</td>\n      <td>430.0</td>\n      <td>140.0</td>\n      <td>252.0</td>\n      <td>594</td>\n      <td>678</td>\n      <td>628</td>\n      <td>520</td>\n      <td>618</td>\n      <td>581</td>\n      <td>...</td>\n      <td>NaN</td>\n      <td>NaN</td>\n      <td>NaN</td>\n      <td>NaN</td>\n      <td>NaN</td>\n      <td>NaN</td>\n      <td>NaN</td>\n      <td>NaN</td>\n      <td>NaN</td>\n      <td>12/11/2020 07:00</td>\n    </tr>\n    <tr>\n      <th>2</th>\n      <td>14623</td>\n      <td>557.0</td>\n      <td>140.0</td>\n      <td>336.0</td>\n      <td>705</td>\n      <td>784</td>\n      <td>733</td>\n      <td>616</td>\n      <td>744</td>\n      <td>580</td>\n      <td>...</td>\n      <td>237.0</td>\n      <td>37.0</td>\n      <td>177.0</td>\n      <td>162.0</td>\n      <td>208.0</td>\n      <td>59.0</td>\n      <td>137.0</td>\n      <td>77.0</td>\n      <td>248.0</td>\n      <td>12/11/2020 08:00</td>\n    </tr>\n    <tr>\n      <th>3</th>\n      <td>13652</td>\n      <td>549.0</td>\n      <td>136.0</td>\n      <td>321.0</td>\n      <td>556</td>\n      <td>633</td>\n      <td>576</td>\n      <td>450</td>\n      <td>572</td>\n      <td>565</td>\n      <td>...</td>\n      <td>324.0</td>\n      <td>111.0</td>\n      <td>296.0</td>\n      <td>211.0</td>\n      <td>250.0</td>\n      <td>59.0</td>\n      <td>125.0</td>\n      <td>60.0</td>\n      <td>227.0</td>\n      <td>12/11/2020 09:00</td>\n    </tr>\n    <tr>\n      <th>4</th>\n      <td>14276</td>\n      <td>532.0</td>\n      <td>132.0</td>\n      <td>314.0</td>\n      <td>493</td>\n      <td>578</td>\n      <td>510</td>\n      <td>374</td>\n      <td>510</td>\n      <td>555</td>\n      <td>...</td>\n      <td>190.0</td>\n      <td>67.0</td>\n      <td>182.0</td>\n      <td>217.0</td>\n      <td>170.0</td>\n      <td>50.0</td>\n      <td>121.0</td>\n      <td>48.0</td>\n      <td>220.0</td>\n      <td>12/11/2020 10:00</td>\n    </tr>\n  </tbody>\n</table>\n<p>5 rows × 48 columns</p>\n</div>"
     },
     "metadata": {},
     "execution_count": 28
    }
   ],
   "source": [
    "df_stock.head()"
   ]
  },
  {
   "cell_type": "code",
   "execution_count": 29,
   "metadata": {},
   "outputs": [
    {
     "output_type": "execute_result",
     "data": {
      "text/plain": [
       "               time    variable    value\n",
       "0  12/11/2020 06:00  stockTotal   5541.0\n",
       "1  12/11/2020 07:00  stockTotal  11228.0\n",
       "2  12/11/2020 08:00  stockTotal  14623.0\n",
       "3  12/11/2020 09:00  stockTotal  13652.0\n",
       "4  12/11/2020 10:00  stockTotal  14276.0"
      ],
      "text/html": "<div>\n<style scoped>\n    .dataframe tbody tr th:only-of-type {\n        vertical-align: middle;\n    }\n\n    .dataframe tbody tr th {\n        vertical-align: top;\n    }\n\n    .dataframe thead th {\n        text-align: right;\n    }\n</style>\n<table border=\"1\" class=\"dataframe\">\n  <thead>\n    <tr style=\"text-align: right;\">\n      <th></th>\n      <th>time</th>\n      <th>variable</th>\n      <th>value</th>\n    </tr>\n  </thead>\n  <tbody>\n    <tr>\n      <th>0</th>\n      <td>12/11/2020 06:00</td>\n      <td>stockTotal</td>\n      <td>5541.0</td>\n    </tr>\n    <tr>\n      <th>1</th>\n      <td>12/11/2020 07:00</td>\n      <td>stockTotal</td>\n      <td>11228.0</td>\n    </tr>\n    <tr>\n      <th>2</th>\n      <td>12/11/2020 08:00</td>\n      <td>stockTotal</td>\n      <td>14623.0</td>\n    </tr>\n    <tr>\n      <th>3</th>\n      <td>12/11/2020 09:00</td>\n      <td>stockTotal</td>\n      <td>13652.0</td>\n    </tr>\n    <tr>\n      <th>4</th>\n      <td>12/11/2020 10:00</td>\n      <td>stockTotal</td>\n      <td>14276.0</td>\n    </tr>\n  </tbody>\n</table>\n</div>"
     },
     "metadata": {},
     "execution_count": 29
    }
   ],
   "source": [
    "df_stock = df_stock.melt(id_vars=['time'])\n",
    "df_stock.head()"
   ]
  },
  {
   "cell_type": "code",
   "execution_count": 30,
   "metadata": {},
   "outputs": [],
   "source": [
    "df_stock.to_csv('response_stock.csv', index = False)"
   ]
  },
  {
   "cell_type": "code",
   "execution_count": null,
   "metadata": {},
   "outputs": [],
   "source": []
  }
 ]
}