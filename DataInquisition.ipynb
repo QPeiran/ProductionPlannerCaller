{
 "metadata": {
  "language_info": {
   "codemirror_mode": {
    "name": "ipython",
    "version": 3
   },
   "file_extension": ".py",
   "mimetype": "text/x-python",
   "name": "python",
   "nbconvert_exporter": "python",
   "pygments_lexer": "ipython3",
   "version": "3.8.6-final"
  },
  "orig_nbformat": 2,
  "kernelspec": {
   "name": "python_defaultSpec_1603833934011",
   "display_name": "Python 3.8.6 64-bit ('PlanningClient': pipenv)"
  }
 },
 "nbformat": 4,
 "nbformat_minor": 2,
 "cells": [
  {
   "cell_type": "code",
   "execution_count": 1,
   "metadata": {},
   "outputs": [],
   "source": [
    "import pandas as pd\n",
    "import json\n",
    "from pandas import json_normalize"
   ]
  },
  {
   "cell_type": "code",
   "execution_count": 2,
   "metadata": {},
   "outputs": [],
   "source": [
    "file = open(r'C:\\Users\\Peiran Quan\\myWorkStation\\PlanningClient\\template_response.json')"
   ]
  },
  {
   "cell_type": "code",
   "execution_count": 3,
   "metadata": {},
   "outputs": [],
   "source": [
    "data = json.load(file)"
   ]
  },
  {
   "cell_type": "code",
   "execution_count": 4,
   "metadata": {
    "tags": []
   },
   "outputs": [
    {
     "output_type": "execute_result",
     "data": {
      "text/plain": "     teamId startDateTime finishDateTime teamLeader  id line batch  week  \\\n0         1         06:00          06:51     Team 1   0    5  None  None   \n1         1         06:51          07:46     Team 1   0   14  None  None   \n2         1         07:46          08:42     Team 1   0    3  None  None   \n3         1         08:42          09:39     Team 1   0   11  None  None   \n4         1         09:39          10:36     Team 1   0    6  None  None   \n..      ...           ...            ...        ...  ..  ...   ...   ...   \n104       9         14:08          15:04     Team 9   0   11  None  None   \n105       9         15:04          15:43     Team 9   0   12  None  None   \n106       9         15:43          16:05     Team 9   0   19  None  None   \n107       9         16:05          16:59     Team 9   0   19  None  None   \n108       9         16:59          20:39     Team 9   0   14  None  None   \n\n     year  done recipe  productionTarget mealKitPerCrate targetSpeed  \\\n0    None  None     B4               280            None        None   \n1    None  None     N2               350            None        None   \n2    None  None     D2               350            None        None   \n3    None  None     M4               280            None        None   \n4    None  None     C4               280            None        None   \n..    ...   ...    ...               ...             ...         ...   \n104  None  None     M2               350            None        None   \n105  None  None     K2               229            None        None   \n106  None  None     T2               143            None        None   \n107  None  None     T4               280            None        None   \n108  None  None     N4              1230            None        None   \n\n    displayOrder createdAt  \n0           None      None  \n1           None      None  \n2           None      None  \n3           None      None  \n4           None      None  \n..           ...       ...  \n104         None      None  \n105         None      None  \n106         None      None  \n107         None      None  \n108         None      None  \n\n[109 rows x 16 columns]",
      "text/html": "<div>\n<style scoped>\n    .dataframe tbody tr th:only-of-type {\n        vertical-align: middle;\n    }\n\n    .dataframe tbody tr th {\n        vertical-align: top;\n    }\n\n    .dataframe thead th {\n        text-align: right;\n    }\n</style>\n<table border=\"1\" class=\"dataframe\">\n  <thead>\n    <tr style=\"text-align: right;\">\n      <th></th>\n      <th>teamId</th>\n      <th>startDateTime</th>\n      <th>finishDateTime</th>\n      <th>teamLeader</th>\n      <th>id</th>\n      <th>line</th>\n      <th>batch</th>\n      <th>week</th>\n      <th>year</th>\n      <th>done</th>\n      <th>recipe</th>\n      <th>productionTarget</th>\n      <th>mealKitPerCrate</th>\n      <th>targetSpeed</th>\n      <th>displayOrder</th>\n      <th>createdAt</th>\n    </tr>\n  </thead>\n  <tbody>\n    <tr>\n      <th>0</th>\n      <td>1</td>\n      <td>06:00</td>\n      <td>06:51</td>\n      <td>Team 1</td>\n      <td>0</td>\n      <td>5</td>\n      <td>None</td>\n      <td>None</td>\n      <td>None</td>\n      <td>None</td>\n      <td>B4</td>\n      <td>280</td>\n      <td>None</td>\n      <td>None</td>\n      <td>None</td>\n      <td>None</td>\n    </tr>\n    <tr>\n      <th>1</th>\n      <td>1</td>\n      <td>06:51</td>\n      <td>07:46</td>\n      <td>Team 1</td>\n      <td>0</td>\n      <td>14</td>\n      <td>None</td>\n      <td>None</td>\n      <td>None</td>\n      <td>None</td>\n      <td>N2</td>\n      <td>350</td>\n      <td>None</td>\n      <td>None</td>\n      <td>None</td>\n      <td>None</td>\n    </tr>\n    <tr>\n      <th>2</th>\n      <td>1</td>\n      <td>07:46</td>\n      <td>08:42</td>\n      <td>Team 1</td>\n      <td>0</td>\n      <td>3</td>\n      <td>None</td>\n      <td>None</td>\n      <td>None</td>\n      <td>None</td>\n      <td>D2</td>\n      <td>350</td>\n      <td>None</td>\n      <td>None</td>\n      <td>None</td>\n      <td>None</td>\n    </tr>\n    <tr>\n      <th>3</th>\n      <td>1</td>\n      <td>08:42</td>\n      <td>09:39</td>\n      <td>Team 1</td>\n      <td>0</td>\n      <td>11</td>\n      <td>None</td>\n      <td>None</td>\n      <td>None</td>\n      <td>None</td>\n      <td>M4</td>\n      <td>280</td>\n      <td>None</td>\n      <td>None</td>\n      <td>None</td>\n      <td>None</td>\n    </tr>\n    <tr>\n      <th>4</th>\n      <td>1</td>\n      <td>09:39</td>\n      <td>10:36</td>\n      <td>Team 1</td>\n      <td>0</td>\n      <td>6</td>\n      <td>None</td>\n      <td>None</td>\n      <td>None</td>\n      <td>None</td>\n      <td>C4</td>\n      <td>280</td>\n      <td>None</td>\n      <td>None</td>\n      <td>None</td>\n      <td>None</td>\n    </tr>\n    <tr>\n      <th>...</th>\n      <td>...</td>\n      <td>...</td>\n      <td>...</td>\n      <td>...</td>\n      <td>...</td>\n      <td>...</td>\n      <td>...</td>\n      <td>...</td>\n      <td>...</td>\n      <td>...</td>\n      <td>...</td>\n      <td>...</td>\n      <td>...</td>\n      <td>...</td>\n      <td>...</td>\n      <td>...</td>\n    </tr>\n    <tr>\n      <th>104</th>\n      <td>9</td>\n      <td>14:08</td>\n      <td>15:04</td>\n      <td>Team 9</td>\n      <td>0</td>\n      <td>11</td>\n      <td>None</td>\n      <td>None</td>\n      <td>None</td>\n      <td>None</td>\n      <td>M2</td>\n      <td>350</td>\n      <td>None</td>\n      <td>None</td>\n      <td>None</td>\n      <td>None</td>\n    </tr>\n    <tr>\n      <th>105</th>\n      <td>9</td>\n      <td>15:04</td>\n      <td>15:43</td>\n      <td>Team 9</td>\n      <td>0</td>\n      <td>12</td>\n      <td>None</td>\n      <td>None</td>\n      <td>None</td>\n      <td>None</td>\n      <td>K2</td>\n      <td>229</td>\n      <td>None</td>\n      <td>None</td>\n      <td>None</td>\n      <td>None</td>\n    </tr>\n    <tr>\n      <th>106</th>\n      <td>9</td>\n      <td>15:43</td>\n      <td>16:05</td>\n      <td>Team 9</td>\n      <td>0</td>\n      <td>19</td>\n      <td>None</td>\n      <td>None</td>\n      <td>None</td>\n      <td>None</td>\n      <td>T2</td>\n      <td>143</td>\n      <td>None</td>\n      <td>None</td>\n      <td>None</td>\n      <td>None</td>\n    </tr>\n    <tr>\n      <th>107</th>\n      <td>9</td>\n      <td>16:05</td>\n      <td>16:59</td>\n      <td>Team 9</td>\n      <td>0</td>\n      <td>19</td>\n      <td>None</td>\n      <td>None</td>\n      <td>None</td>\n      <td>None</td>\n      <td>T4</td>\n      <td>280</td>\n      <td>None</td>\n      <td>None</td>\n      <td>None</td>\n      <td>None</td>\n    </tr>\n    <tr>\n      <th>108</th>\n      <td>9</td>\n      <td>16:59</td>\n      <td>20:39</td>\n      <td>Team 9</td>\n      <td>0</td>\n      <td>14</td>\n      <td>None</td>\n      <td>None</td>\n      <td>None</td>\n      <td>None</td>\n      <td>N4</td>\n      <td>1230</td>\n      <td>None</td>\n      <td>None</td>\n      <td>None</td>\n      <td>None</td>\n    </tr>\n  </tbody>\n</table>\n<p>109 rows × 16 columns</p>\n</div>"
     },
     "metadata": {},
     "execution_count": 4
    }
   ],
   "source": [
    "df = json_normalize(data[\"pickingJob\"])\n",
    "df"
   ]
  },
  {
   "cell_type": "code",
   "execution_count": 5,
   "metadata": {},
   "outputs": [
    {
     "output_type": "execute_result",
     "data": {
      "text/plain": "    teamLeader line startDateTime finishDateTime recipe  productionTarget\n0       Team 1    5         06:00          06:51     B4               280\n1       Team 1   14         06:51          07:46     N2               350\n2       Team 1    3         07:46          08:42     D2               350\n3       Team 1   11         08:42          09:39     M4               280\n4       Team 1    6         09:39          10:36     C4               280\n..         ...  ...           ...            ...    ...               ...\n104     Team 9   11         14:08          15:04     M2               350\n105     Team 9   12         15:04          15:43     K2               229\n106     Team 9   19         15:43          16:05     T2               143\n107     Team 9   19         16:05          16:59     T4               280\n108     Team 9   14         16:59          20:39     N4              1230\n\n[109 rows x 6 columns]",
      "text/html": "<div>\n<style scoped>\n    .dataframe tbody tr th:only-of-type {\n        vertical-align: middle;\n    }\n\n    .dataframe tbody tr th {\n        vertical-align: top;\n    }\n\n    .dataframe thead th {\n        text-align: right;\n    }\n</style>\n<table border=\"1\" class=\"dataframe\">\n  <thead>\n    <tr style=\"text-align: right;\">\n      <th></th>\n      <th>teamLeader</th>\n      <th>line</th>\n      <th>startDateTime</th>\n      <th>finishDateTime</th>\n      <th>recipe</th>\n      <th>productionTarget</th>\n    </tr>\n  </thead>\n  <tbody>\n    <tr>\n      <th>0</th>\n      <td>Team 1</td>\n      <td>5</td>\n      <td>06:00</td>\n      <td>06:51</td>\n      <td>B4</td>\n      <td>280</td>\n    </tr>\n    <tr>\n      <th>1</th>\n      <td>Team 1</td>\n      <td>14</td>\n      <td>06:51</td>\n      <td>07:46</td>\n      <td>N2</td>\n      <td>350</td>\n    </tr>\n    <tr>\n      <th>2</th>\n      <td>Team 1</td>\n      <td>3</td>\n      <td>07:46</td>\n      <td>08:42</td>\n      <td>D2</td>\n      <td>350</td>\n    </tr>\n    <tr>\n      <th>3</th>\n      <td>Team 1</td>\n      <td>11</td>\n      <td>08:42</td>\n      <td>09:39</td>\n      <td>M4</td>\n      <td>280</td>\n    </tr>\n    <tr>\n      <th>4</th>\n      <td>Team 1</td>\n      <td>6</td>\n      <td>09:39</td>\n      <td>10:36</td>\n      <td>C4</td>\n      <td>280</td>\n    </tr>\n    <tr>\n      <th>...</th>\n      <td>...</td>\n      <td>...</td>\n      <td>...</td>\n      <td>...</td>\n      <td>...</td>\n      <td>...</td>\n    </tr>\n    <tr>\n      <th>104</th>\n      <td>Team 9</td>\n      <td>11</td>\n      <td>14:08</td>\n      <td>15:04</td>\n      <td>M2</td>\n      <td>350</td>\n    </tr>\n    <tr>\n      <th>105</th>\n      <td>Team 9</td>\n      <td>12</td>\n      <td>15:04</td>\n      <td>15:43</td>\n      <td>K2</td>\n      <td>229</td>\n    </tr>\n    <tr>\n      <th>106</th>\n      <td>Team 9</td>\n      <td>19</td>\n      <td>15:43</td>\n      <td>16:05</td>\n      <td>T2</td>\n      <td>143</td>\n    </tr>\n    <tr>\n      <th>107</th>\n      <td>Team 9</td>\n      <td>19</td>\n      <td>16:05</td>\n      <td>16:59</td>\n      <td>T4</td>\n      <td>280</td>\n    </tr>\n    <tr>\n      <th>108</th>\n      <td>Team 9</td>\n      <td>14</td>\n      <td>16:59</td>\n      <td>20:39</td>\n      <td>N4</td>\n      <td>1230</td>\n    </tr>\n  </tbody>\n</table>\n<p>109 rows × 6 columns</p>\n</div>"
     },
     "metadata": {},
     "execution_count": 5
    }
   ],
   "source": [
    "df_ultilize = df[[\"teamLeader\", \"line\", \"startDateTime\", \"finishDateTime\", \"recipe\", \"productionTarget\"]]\n",
    "df_ultilize"
   ]
  },
  {
   "cell_type": "code",
   "execution_count": 6,
   "metadata": {},
   "outputs": [],
   "source": [
    "df_ultilize.to_csv('response.csv', index = False)"
   ]
  },
  {
   "cell_type": "code",
   "execution_count": 7,
   "metadata": {},
   "outputs": [
    {
     "output_type": "execute_result",
     "data": {
      "text/plain": "    time  assemblyLine01Requirement assemblyLine02Requirement  shortage  \\\n0  06:00                        NaN                      None         0   \n1  07:00                        NaN                      None         0   \n2  08:00                        NaN                      None       -91   \n3  09:00                        NaN                      None      -238   \n4  10:00                        NaN                      None      -129   \n\n   stockTotal  as01Total  as02Total  kittingLineTotal  dollyCount  \\\n0        2968          0          0              2968          88   \n1        5906          0          0              2938         172   \n2        8512        615          0              3221         261   \n3        6238       4958          0              2684         204   \n4        6150       2518          0              2430         203   \n\n   acceptedDollyCount  ...  kittingLineProduced.H4 kittingLineProduced.I4  \\\n0                   0  ...                     NaN                    NaN   \n1                   0  ...                     NaN                    NaN   \n2                   0  ...                     0.0                    0.0   \n3                   0  ...                   210.0                  252.0   \n4                   0  ...                     0.0                   34.0   \n\n   kittingLineProduced.J4 kittingLineProduced.C4  kittingLineProduced.D4  \\\n0                     NaN                    NaN                     NaN   \n1                     NaN                    NaN                     NaN   \n2                     0.0                    0.0                     0.0   \n3                   198.0                  121.0                   115.0   \n4                    55.0                  159.0                   165.0   \n\n   kittingLineProduced.A4  kittingLineProduced.F4  kittingLineProduced.S2  \\\n0                     NaN                     NaN                     NaN   \n1                     NaN                     NaN                     NaN   \n2                     0.0                     0.0                     0.0   \n3                    95.0                    80.0                    50.0   \n4                   350.0                   200.0                   300.0   \n\n   kittingLineProduced.P4  kittingLineProduced.S4  \n0                     NaN                     NaN  \n1                     NaN                     NaN  \n2                     0.0                     0.0  \n3                    28.0                     0.0  \n4                    55.0                    64.0  \n\n[5 rows x 147 columns]",
      "text/html": "<div>\n<style scoped>\n    .dataframe tbody tr th:only-of-type {\n        vertical-align: middle;\n    }\n\n    .dataframe tbody tr th {\n        vertical-align: top;\n    }\n\n    .dataframe thead th {\n        text-align: right;\n    }\n</style>\n<table border=\"1\" class=\"dataframe\">\n  <thead>\n    <tr style=\"text-align: right;\">\n      <th></th>\n      <th>time</th>\n      <th>assemblyLine01Requirement</th>\n      <th>assemblyLine02Requirement</th>\n      <th>shortage</th>\n      <th>stockTotal</th>\n      <th>as01Total</th>\n      <th>as02Total</th>\n      <th>kittingLineTotal</th>\n      <th>dollyCount</th>\n      <th>acceptedDollyCount</th>\n      <th>...</th>\n      <th>kittingLineProduced.H4</th>\n      <th>kittingLineProduced.I4</th>\n      <th>kittingLineProduced.J4</th>\n      <th>kittingLineProduced.C4</th>\n      <th>kittingLineProduced.D4</th>\n      <th>kittingLineProduced.A4</th>\n      <th>kittingLineProduced.F4</th>\n      <th>kittingLineProduced.S2</th>\n      <th>kittingLineProduced.P4</th>\n      <th>kittingLineProduced.S4</th>\n    </tr>\n  </thead>\n  <tbody>\n    <tr>\n      <th>0</th>\n      <td>06:00</td>\n      <td>NaN</td>\n      <td>None</td>\n      <td>0</td>\n      <td>2968</td>\n      <td>0</td>\n      <td>0</td>\n      <td>2968</td>\n      <td>88</td>\n      <td>0</td>\n      <td>...</td>\n      <td>NaN</td>\n      <td>NaN</td>\n      <td>NaN</td>\n      <td>NaN</td>\n      <td>NaN</td>\n      <td>NaN</td>\n      <td>NaN</td>\n      <td>NaN</td>\n      <td>NaN</td>\n      <td>NaN</td>\n    </tr>\n    <tr>\n      <th>1</th>\n      <td>07:00</td>\n      <td>NaN</td>\n      <td>None</td>\n      <td>0</td>\n      <td>5906</td>\n      <td>0</td>\n      <td>0</td>\n      <td>2938</td>\n      <td>172</td>\n      <td>0</td>\n      <td>...</td>\n      <td>NaN</td>\n      <td>NaN</td>\n      <td>NaN</td>\n      <td>NaN</td>\n      <td>NaN</td>\n      <td>NaN</td>\n      <td>NaN</td>\n      <td>NaN</td>\n      <td>NaN</td>\n      <td>NaN</td>\n    </tr>\n    <tr>\n      <th>2</th>\n      <td>08:00</td>\n      <td>NaN</td>\n      <td>None</td>\n      <td>-91</td>\n      <td>8512</td>\n      <td>615</td>\n      <td>0</td>\n      <td>3221</td>\n      <td>261</td>\n      <td>0</td>\n      <td>...</td>\n      <td>0.0</td>\n      <td>0.0</td>\n      <td>0.0</td>\n      <td>0.0</td>\n      <td>0.0</td>\n      <td>0.0</td>\n      <td>0.0</td>\n      <td>0.0</td>\n      <td>0.0</td>\n      <td>0.0</td>\n    </tr>\n    <tr>\n      <th>3</th>\n      <td>09:00</td>\n      <td>NaN</td>\n      <td>None</td>\n      <td>-238</td>\n      <td>6238</td>\n      <td>4958</td>\n      <td>0</td>\n      <td>2684</td>\n      <td>204</td>\n      <td>0</td>\n      <td>...</td>\n      <td>210.0</td>\n      <td>252.0</td>\n      <td>198.0</td>\n      <td>121.0</td>\n      <td>115.0</td>\n      <td>95.0</td>\n      <td>80.0</td>\n      <td>50.0</td>\n      <td>28.0</td>\n      <td>0.0</td>\n    </tr>\n    <tr>\n      <th>4</th>\n      <td>10:00</td>\n      <td>NaN</td>\n      <td>None</td>\n      <td>-129</td>\n      <td>6150</td>\n      <td>2518</td>\n      <td>0</td>\n      <td>2430</td>\n      <td>203</td>\n      <td>0</td>\n      <td>...</td>\n      <td>0.0</td>\n      <td>34.0</td>\n      <td>55.0</td>\n      <td>159.0</td>\n      <td>165.0</td>\n      <td>350.0</td>\n      <td>200.0</td>\n      <td>300.0</td>\n      <td>55.0</td>\n      <td>64.0</td>\n    </tr>\n  </tbody>\n</table>\n<p>5 rows × 147 columns</p>\n</div>"
     },
     "metadata": {},
     "execution_count": 7
    }
   ],
   "source": [
    "df_stock = json_normalize(data[\"stockOverTime\"])\n",
    "df_stock.head()"
   ]
  },
  {
   "cell_type": "code",
   "execution_count": 8,
   "metadata": {},
   "outputs": [
    {
     "output_type": "execute_result",
     "data": {
      "text/plain": "['stockTotal',\n 'stock.B4',\n 'stock.E4',\n 'stock.K4',\n 'stock.N4',\n 'stock.Q4',\n 'stock.E2',\n 'stock.F2',\n 'stock.L2',\n 'stock.M2',\n 'stock.N2',\n 'stock.SF',\n 'stock.SG',\n 'stock.A2',\n 'stock.C2',\n 'stock.P2',\n 'stock.SA',\n 'stock.SE',\n 'stock.K2',\n 'stock.R2',\n 'stock.O2',\n 'stock.D2',\n 'stock.T2',\n 'stock.G2',\n 'stock.H2',\n 'stock.J2',\n 'stock.I2',\n 'stock.B2',\n 'stock.Q2',\n 'stock.L4',\n 'stock.M4',\n 'stock.R4',\n 'stock.O4',\n 'stock.T4',\n 'stock.G4',\n 'stock.H4',\n 'stock.I4',\n 'stock.J4',\n 'stock.C4',\n 'stock.D4',\n 'stock.A4',\n 'stock.F4',\n 'stock.S2',\n 'stock.P4',\n 'stock.S4',\n 'time']"
     },
     "metadata": {},
     "execution_count": 8
    }
   ],
   "source": [
    "filter_col = [col for col in df_stock if col.startswith('stock')]\n",
    "filter_col.append('time')\n",
    "filter_col"
   ]
  },
  {
   "cell_type": "code",
   "execution_count": 9,
   "metadata": {},
   "outputs": [],
   "source": [
    "df_stock = df_stock[filter_col]\n",
    "# df_stock.set_index('time', inplace = True)"
   ]
  },
  {
   "cell_type": "code",
   "execution_count": 10,
   "metadata": {},
   "outputs": [
    {
     "output_type": "execute_result",
     "data": {
      "text/plain": "   stockTotal  stock.B4  stock.E4  stock.K4  stock.N4  stock.Q4  stock.E2  \\\n0        2968       280       280       350       280       350      68.0   \n1        5906       280       280       350       280       350     350.0   \n2        8512       261       264       336       252       346     317.0   \n3        6238        33       107       201        13       296      87.0   \n4        6150      -110         7       104        97       263      78.0   \n\n   stock.F2  stock.L2  stock.M2  ...  stock.I4  stock.J4  stock.C4  stock.D4  \\\n0     350.0     420.0     350.0  ...       NaN       NaN       NaN       NaN   \n1     350.0     420.0     350.0  ...       NaN       NaN       NaN       NaN   \n2     338.0     396.0     336.0  ...     -12.0      -9.0      -7.0     -11.0   \n3     214.0     182.0     217.0  ...     192.0     153.0      -8.0     -67.0   \n4     180.0     105.0     182.0  ...     198.0     192.0      76.0       2.0   \n\n   stock.A4  stock.F4  stock.S2  stock.P4  stock.S4   time  \n0       NaN       NaN       NaN       NaN       NaN  06:00  \n1       NaN       NaN       NaN       NaN       NaN  07:00  \n2     -19.0      -9.0      -4.0      -3.0      -1.0  08:00  \n3    -100.0       1.0     -10.0      19.0     -53.0  09:00  \n4     149.0     146.0     272.0      72.0     -19.0  10:00  \n\n[5 rows x 46 columns]",
      "text/html": "<div>\n<style scoped>\n    .dataframe tbody tr th:only-of-type {\n        vertical-align: middle;\n    }\n\n    .dataframe tbody tr th {\n        vertical-align: top;\n    }\n\n    .dataframe thead th {\n        text-align: right;\n    }\n</style>\n<table border=\"1\" class=\"dataframe\">\n  <thead>\n    <tr style=\"text-align: right;\">\n      <th></th>\n      <th>stockTotal</th>\n      <th>stock.B4</th>\n      <th>stock.E4</th>\n      <th>stock.K4</th>\n      <th>stock.N4</th>\n      <th>stock.Q4</th>\n      <th>stock.E2</th>\n      <th>stock.F2</th>\n      <th>stock.L2</th>\n      <th>stock.M2</th>\n      <th>...</th>\n      <th>stock.I4</th>\n      <th>stock.J4</th>\n      <th>stock.C4</th>\n      <th>stock.D4</th>\n      <th>stock.A4</th>\n      <th>stock.F4</th>\n      <th>stock.S2</th>\n      <th>stock.P4</th>\n      <th>stock.S4</th>\n      <th>time</th>\n    </tr>\n  </thead>\n  <tbody>\n    <tr>\n      <th>0</th>\n      <td>2968</td>\n      <td>280</td>\n      <td>280</td>\n      <td>350</td>\n      <td>280</td>\n      <td>350</td>\n      <td>68.0</td>\n      <td>350.0</td>\n      <td>420.0</td>\n      <td>350.0</td>\n      <td>...</td>\n      <td>NaN</td>\n      <td>NaN</td>\n      <td>NaN</td>\n      <td>NaN</td>\n      <td>NaN</td>\n      <td>NaN</td>\n      <td>NaN</td>\n      <td>NaN</td>\n      <td>NaN</td>\n      <td>06:00</td>\n    </tr>\n    <tr>\n      <th>1</th>\n      <td>5906</td>\n      <td>280</td>\n      <td>280</td>\n      <td>350</td>\n      <td>280</td>\n      <td>350</td>\n      <td>350.0</td>\n      <td>350.0</td>\n      <td>420.0</td>\n      <td>350.0</td>\n      <td>...</td>\n      <td>NaN</td>\n      <td>NaN</td>\n      <td>NaN</td>\n      <td>NaN</td>\n      <td>NaN</td>\n      <td>NaN</td>\n      <td>NaN</td>\n      <td>NaN</td>\n      <td>NaN</td>\n      <td>07:00</td>\n    </tr>\n    <tr>\n      <th>2</th>\n      <td>8512</td>\n      <td>261</td>\n      <td>264</td>\n      <td>336</td>\n      <td>252</td>\n      <td>346</td>\n      <td>317.0</td>\n      <td>338.0</td>\n      <td>396.0</td>\n      <td>336.0</td>\n      <td>...</td>\n      <td>-12.0</td>\n      <td>-9.0</td>\n      <td>-7.0</td>\n      <td>-11.0</td>\n      <td>-19.0</td>\n      <td>-9.0</td>\n      <td>-4.0</td>\n      <td>-3.0</td>\n      <td>-1.0</td>\n      <td>08:00</td>\n    </tr>\n    <tr>\n      <th>3</th>\n      <td>6238</td>\n      <td>33</td>\n      <td>107</td>\n      <td>201</td>\n      <td>13</td>\n      <td>296</td>\n      <td>87.0</td>\n      <td>214.0</td>\n      <td>182.0</td>\n      <td>217.0</td>\n      <td>...</td>\n      <td>192.0</td>\n      <td>153.0</td>\n      <td>-8.0</td>\n      <td>-67.0</td>\n      <td>-100.0</td>\n      <td>1.0</td>\n      <td>-10.0</td>\n      <td>19.0</td>\n      <td>-53.0</td>\n      <td>09:00</td>\n    </tr>\n    <tr>\n      <th>4</th>\n      <td>6150</td>\n      <td>-110</td>\n      <td>7</td>\n      <td>104</td>\n      <td>97</td>\n      <td>263</td>\n      <td>78.0</td>\n      <td>180.0</td>\n      <td>105.0</td>\n      <td>182.0</td>\n      <td>...</td>\n      <td>198.0</td>\n      <td>192.0</td>\n      <td>76.0</td>\n      <td>2.0</td>\n      <td>149.0</td>\n      <td>146.0</td>\n      <td>272.0</td>\n      <td>72.0</td>\n      <td>-19.0</td>\n      <td>10:00</td>\n    </tr>\n  </tbody>\n</table>\n<p>5 rows × 46 columns</p>\n</div>"
     },
     "metadata": {},
     "execution_count": 10
    }
   ],
   "source": [
    "df_stock.head()"
   ]
  },
  {
   "cell_type": "code",
   "execution_count": 11,
   "metadata": {},
   "outputs": [
    {
     "output_type": "execute_result",
     "data": {
      "text/plain": "    time    variable   value\n0  06:00  stockTotal  2968.0\n1  07:00  stockTotal  5906.0\n2  08:00  stockTotal  8512.0\n3  09:00  stockTotal  6238.0\n4  10:00  stockTotal  6150.0",
      "text/html": "<div>\n<style scoped>\n    .dataframe tbody tr th:only-of-type {\n        vertical-align: middle;\n    }\n\n    .dataframe tbody tr th {\n        vertical-align: top;\n    }\n\n    .dataframe thead th {\n        text-align: right;\n    }\n</style>\n<table border=\"1\" class=\"dataframe\">\n  <thead>\n    <tr style=\"text-align: right;\">\n      <th></th>\n      <th>time</th>\n      <th>variable</th>\n      <th>value</th>\n    </tr>\n  </thead>\n  <tbody>\n    <tr>\n      <th>0</th>\n      <td>06:00</td>\n      <td>stockTotal</td>\n      <td>2968.0</td>\n    </tr>\n    <tr>\n      <th>1</th>\n      <td>07:00</td>\n      <td>stockTotal</td>\n      <td>5906.0</td>\n    </tr>\n    <tr>\n      <th>2</th>\n      <td>08:00</td>\n      <td>stockTotal</td>\n      <td>8512.0</td>\n    </tr>\n    <tr>\n      <th>3</th>\n      <td>09:00</td>\n      <td>stockTotal</td>\n      <td>6238.0</td>\n    </tr>\n    <tr>\n      <th>4</th>\n      <td>10:00</td>\n      <td>stockTotal</td>\n      <td>6150.0</td>\n    </tr>\n  </tbody>\n</table>\n</div>"
     },
     "metadata": {},
     "execution_count": 11
    }
   ],
   "source": [
    "df_stock = df_stock.melt(id_vars=['time'])\n",
    "df_stock.head()"
   ]
  },
  {
   "cell_type": "code",
   "execution_count": 12,
   "metadata": {},
   "outputs": [],
   "source": [
    "df_stock.to_csv('response_stock.csv', index = False)"
   ]
  },
  {
   "cell_type": "code",
   "execution_count": null,
   "metadata": {},
   "outputs": [],
   "source": []
  }
 ]
}