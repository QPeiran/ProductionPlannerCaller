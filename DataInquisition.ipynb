{
 "metadata": {
  "language_info": {
   "codemirror_mode": {
    "name": "ipython",
    "version": 3
   },
   "file_extension": ".py",
   "mimetype": "text/x-python",
   "name": "python",
   "nbconvert_exporter": "python",
   "pygments_lexer": "ipython3",
   "version": "3.8.6-final"
  },
  "orig_nbformat": 2,
  "kernelspec": {
   "name": "Python 3.8.6 64-bit ('ProductionPlannerCaller': venv)",
   "display_name": "Python 3.8.6 64-bit ('ProductionPlannerCaller': venv)",
   "metadata": {
    "interpreter": {
     "hash": "d35c8b516a90ec349fb27354d3f5b0fd5f2200bb14aca3e9a64f3cb0fb9d61f2"
    }
   }
  }
 },
 "nbformat": 4,
 "nbformat_minor": 2,
 "cells": [
  {
   "cell_type": "code",
   "execution_count": 1,
   "metadata": {},
   "outputs": [],
   "source": [
    "import pandas as pd\n",
    "import json\n",
    "from pandas import json_normalize"
   ]
  },
  {
   "cell_type": "code",
   "execution_count": 2,
   "metadata": {},
   "outputs": [],
   "source": [
    "# file = open(r'C:\\Users\\Peiran Quan\\myWorkStation\\PlanningClient\\template_response.json')\n",
    "file = open(r'.\\test_response.json')"
   ]
  },
  {
   "cell_type": "code",
   "execution_count": 3,
   "metadata": {},
   "outputs": [],
   "source": [
    "data = json.load(file)"
   ]
  },
  {
   "cell_type": "code",
   "execution_count": 4,
   "metadata": {
    "tags": []
   },
   "outputs": [
    {
     "output_type": "execute_result",
     "data": {
      "text/plain": [
       "     teamId startDateTime finishDateTime teamLeader  id line batch  week  \\\n",
       "0         1         06:00          06:37     Team 1   0    6  None  None   \n",
       "1         1         06:37          07:15     Team 1   0    6  None  None   \n",
       "2         1         07:15          08:00     Team 1   0    6  None  None   \n",
       "3         1         08:00          08:44     Team 1   0    6  None  None   \n",
       "4         1         08:44          09:27     Team 1   0    6  None  None   \n",
       "..      ...           ...            ...        ...  ..  ...   ...   ...   \n",
       "138      20         11:26          12:06    Team 20   0    5  None  None   \n",
       "139      21         06:00          06:57    Team 20   0   20  None  None   \n",
       "140      21         06:57          07:53    Team 20   0   20  None  None   \n",
       "141      21         07:53          08:52    Team 20   0   20  None  None   \n",
       "142      21         08:52          09:49    Team 20   0   20  None  None   \n",
       "\n",
       "     year  done recipe  productionTarget  mealKitPerCrate  targetSpeed  \\\n",
       "0    None  None     C4               280                4          448   \n",
       "1    None  None     C4               280                4          448   \n",
       "2    None  None     C2               350                5          478   \n",
       "3    None  None     C2               350                5          478   \n",
       "4    None  None     C2               350                5          478   \n",
       "..    ...   ...    ...               ...              ...          ...   \n",
       "138  None  None     A4               280                4          424   \n",
       "139  None  None     N4               420                6          440   \n",
       "140  None  None     N2               490                7          532   \n",
       "141  None  None     N4               420                6          440   \n",
       "142  None  None     N4               420                6          440   \n",
       "\n",
       "    displayOrder createdAt teamNames  \n",
       "0           None      None      None  \n",
       "1           None      None      None  \n",
       "2           None      None      None  \n",
       "3           None      None      None  \n",
       "4           None      None      None  \n",
       "..           ...       ...       ...  \n",
       "138         None      None      None  \n",
       "139         None      None      None  \n",
       "140         None      None      None  \n",
       "141         None      None      None  \n",
       "142         None      None      None  \n",
       "\n",
       "[143 rows x 17 columns]"
      ],
      "text/html": "<div>\n<style scoped>\n    .dataframe tbody tr th:only-of-type {\n        vertical-align: middle;\n    }\n\n    .dataframe tbody tr th {\n        vertical-align: top;\n    }\n\n    .dataframe thead th {\n        text-align: right;\n    }\n</style>\n<table border=\"1\" class=\"dataframe\">\n  <thead>\n    <tr style=\"text-align: right;\">\n      <th></th>\n      <th>teamId</th>\n      <th>startDateTime</th>\n      <th>finishDateTime</th>\n      <th>teamLeader</th>\n      <th>id</th>\n      <th>line</th>\n      <th>batch</th>\n      <th>week</th>\n      <th>year</th>\n      <th>done</th>\n      <th>recipe</th>\n      <th>productionTarget</th>\n      <th>mealKitPerCrate</th>\n      <th>targetSpeed</th>\n      <th>displayOrder</th>\n      <th>createdAt</th>\n      <th>teamNames</th>\n    </tr>\n  </thead>\n  <tbody>\n    <tr>\n      <th>0</th>\n      <td>1</td>\n      <td>06:00</td>\n      <td>06:37</td>\n      <td>Team 1</td>\n      <td>0</td>\n      <td>6</td>\n      <td>None</td>\n      <td>None</td>\n      <td>None</td>\n      <td>None</td>\n      <td>C4</td>\n      <td>280</td>\n      <td>4</td>\n      <td>448</td>\n      <td>None</td>\n      <td>None</td>\n      <td>None</td>\n    </tr>\n    <tr>\n      <th>1</th>\n      <td>1</td>\n      <td>06:37</td>\n      <td>07:15</td>\n      <td>Team 1</td>\n      <td>0</td>\n      <td>6</td>\n      <td>None</td>\n      <td>None</td>\n      <td>None</td>\n      <td>None</td>\n      <td>C4</td>\n      <td>280</td>\n      <td>4</td>\n      <td>448</td>\n      <td>None</td>\n      <td>None</td>\n      <td>None</td>\n    </tr>\n    <tr>\n      <th>2</th>\n      <td>1</td>\n      <td>07:15</td>\n      <td>08:00</td>\n      <td>Team 1</td>\n      <td>0</td>\n      <td>6</td>\n      <td>None</td>\n      <td>None</td>\n      <td>None</td>\n      <td>None</td>\n      <td>C2</td>\n      <td>350</td>\n      <td>5</td>\n      <td>478</td>\n      <td>None</td>\n      <td>None</td>\n      <td>None</td>\n    </tr>\n    <tr>\n      <th>3</th>\n      <td>1</td>\n      <td>08:00</td>\n      <td>08:44</td>\n      <td>Team 1</td>\n      <td>0</td>\n      <td>6</td>\n      <td>None</td>\n      <td>None</td>\n      <td>None</td>\n      <td>None</td>\n      <td>C2</td>\n      <td>350</td>\n      <td>5</td>\n      <td>478</td>\n      <td>None</td>\n      <td>None</td>\n      <td>None</td>\n    </tr>\n    <tr>\n      <th>4</th>\n      <td>1</td>\n      <td>08:44</td>\n      <td>09:27</td>\n      <td>Team 1</td>\n      <td>0</td>\n      <td>6</td>\n      <td>None</td>\n      <td>None</td>\n      <td>None</td>\n      <td>None</td>\n      <td>C2</td>\n      <td>350</td>\n      <td>5</td>\n      <td>478</td>\n      <td>None</td>\n      <td>None</td>\n      <td>None</td>\n    </tr>\n    <tr>\n      <th>...</th>\n      <td>...</td>\n      <td>...</td>\n      <td>...</td>\n      <td>...</td>\n      <td>...</td>\n      <td>...</td>\n      <td>...</td>\n      <td>...</td>\n      <td>...</td>\n      <td>...</td>\n      <td>...</td>\n      <td>...</td>\n      <td>...</td>\n      <td>...</td>\n      <td>...</td>\n      <td>...</td>\n      <td>...</td>\n    </tr>\n    <tr>\n      <th>138</th>\n      <td>20</td>\n      <td>11:26</td>\n      <td>12:06</td>\n      <td>Team 20</td>\n      <td>0</td>\n      <td>5</td>\n      <td>None</td>\n      <td>None</td>\n      <td>None</td>\n      <td>None</td>\n      <td>A4</td>\n      <td>280</td>\n      <td>4</td>\n      <td>424</td>\n      <td>None</td>\n      <td>None</td>\n      <td>None</td>\n    </tr>\n    <tr>\n      <th>139</th>\n      <td>21</td>\n      <td>06:00</td>\n      <td>06:57</td>\n      <td>Team 20</td>\n      <td>0</td>\n      <td>20</td>\n      <td>None</td>\n      <td>None</td>\n      <td>None</td>\n      <td>None</td>\n      <td>N4</td>\n      <td>420</td>\n      <td>6</td>\n      <td>440</td>\n      <td>None</td>\n      <td>None</td>\n      <td>None</td>\n    </tr>\n    <tr>\n      <th>140</th>\n      <td>21</td>\n      <td>06:57</td>\n      <td>07:53</td>\n      <td>Team 20</td>\n      <td>0</td>\n      <td>20</td>\n      <td>None</td>\n      <td>None</td>\n      <td>None</td>\n      <td>None</td>\n      <td>N2</td>\n      <td>490</td>\n      <td>7</td>\n      <td>532</td>\n      <td>None</td>\n      <td>None</td>\n      <td>None</td>\n    </tr>\n    <tr>\n      <th>141</th>\n      <td>21</td>\n      <td>07:53</td>\n      <td>08:52</td>\n      <td>Team 20</td>\n      <td>0</td>\n      <td>20</td>\n      <td>None</td>\n      <td>None</td>\n      <td>None</td>\n      <td>None</td>\n      <td>N4</td>\n      <td>420</td>\n      <td>6</td>\n      <td>440</td>\n      <td>None</td>\n      <td>None</td>\n      <td>None</td>\n    </tr>\n    <tr>\n      <th>142</th>\n      <td>21</td>\n      <td>08:52</td>\n      <td>09:49</td>\n      <td>Team 20</td>\n      <td>0</td>\n      <td>20</td>\n      <td>None</td>\n      <td>None</td>\n      <td>None</td>\n      <td>None</td>\n      <td>N4</td>\n      <td>420</td>\n      <td>6</td>\n      <td>440</td>\n      <td>None</td>\n      <td>None</td>\n      <td>None</td>\n    </tr>\n  </tbody>\n</table>\n<p>143 rows × 17 columns</p>\n</div>"
     },
     "metadata": {},
     "execution_count": 4
    }
   ],
   "source": [
    "df = json_normalize(data[\"pickingJob\"])\n",
    "df"
   ]
  },
  {
   "cell_type": "code",
   "execution_count": 5,
   "metadata": {},
   "outputs": [
    {
     "output_type": "execute_result",
     "data": {
      "text/plain": [
       "    teamLeader line startDateTime finishDateTime recipe  productionTarget\n",
       "0       Team 1    6         06:00          06:37     C4               280\n",
       "1       Team 1    6         06:37          07:15     C4               280\n",
       "2       Team 1    6         07:15          08:00     C2               350\n",
       "3       Team 1    6         08:00          08:44     C2               350\n",
       "4       Team 1    6         08:44          09:27     C2               350\n",
       "..         ...  ...           ...            ...    ...               ...\n",
       "138    Team 20    5         11:26          12:06     A4               280\n",
       "139    Team 20   20         06:00          06:57     N4               420\n",
       "140    Team 20   20         06:57          07:53     N2               490\n",
       "141    Team 20   20         07:53          08:52     N4               420\n",
       "142    Team 20   20         08:52          09:49     N4               420\n",
       "\n",
       "[143 rows x 6 columns]"
      ],
      "text/html": "<div>\n<style scoped>\n    .dataframe tbody tr th:only-of-type {\n        vertical-align: middle;\n    }\n\n    .dataframe tbody tr th {\n        vertical-align: top;\n    }\n\n    .dataframe thead th {\n        text-align: right;\n    }\n</style>\n<table border=\"1\" class=\"dataframe\">\n  <thead>\n    <tr style=\"text-align: right;\">\n      <th></th>\n      <th>teamLeader</th>\n      <th>line</th>\n      <th>startDateTime</th>\n      <th>finishDateTime</th>\n      <th>recipe</th>\n      <th>productionTarget</th>\n    </tr>\n  </thead>\n  <tbody>\n    <tr>\n      <th>0</th>\n      <td>Team 1</td>\n      <td>6</td>\n      <td>06:00</td>\n      <td>06:37</td>\n      <td>C4</td>\n      <td>280</td>\n    </tr>\n    <tr>\n      <th>1</th>\n      <td>Team 1</td>\n      <td>6</td>\n      <td>06:37</td>\n      <td>07:15</td>\n      <td>C4</td>\n      <td>280</td>\n    </tr>\n    <tr>\n      <th>2</th>\n      <td>Team 1</td>\n      <td>6</td>\n      <td>07:15</td>\n      <td>08:00</td>\n      <td>C2</td>\n      <td>350</td>\n    </tr>\n    <tr>\n      <th>3</th>\n      <td>Team 1</td>\n      <td>6</td>\n      <td>08:00</td>\n      <td>08:44</td>\n      <td>C2</td>\n      <td>350</td>\n    </tr>\n    <tr>\n      <th>4</th>\n      <td>Team 1</td>\n      <td>6</td>\n      <td>08:44</td>\n      <td>09:27</td>\n      <td>C2</td>\n      <td>350</td>\n    </tr>\n    <tr>\n      <th>...</th>\n      <td>...</td>\n      <td>...</td>\n      <td>...</td>\n      <td>...</td>\n      <td>...</td>\n      <td>...</td>\n    </tr>\n    <tr>\n      <th>138</th>\n      <td>Team 20</td>\n      <td>5</td>\n      <td>11:26</td>\n      <td>12:06</td>\n      <td>A4</td>\n      <td>280</td>\n    </tr>\n    <tr>\n      <th>139</th>\n      <td>Team 20</td>\n      <td>20</td>\n      <td>06:00</td>\n      <td>06:57</td>\n      <td>N4</td>\n      <td>420</td>\n    </tr>\n    <tr>\n      <th>140</th>\n      <td>Team 20</td>\n      <td>20</td>\n      <td>06:57</td>\n      <td>07:53</td>\n      <td>N2</td>\n      <td>490</td>\n    </tr>\n    <tr>\n      <th>141</th>\n      <td>Team 20</td>\n      <td>20</td>\n      <td>07:53</td>\n      <td>08:52</td>\n      <td>N4</td>\n      <td>420</td>\n    </tr>\n    <tr>\n      <th>142</th>\n      <td>Team 20</td>\n      <td>20</td>\n      <td>08:52</td>\n      <td>09:49</td>\n      <td>N4</td>\n      <td>420</td>\n    </tr>\n  </tbody>\n</table>\n<p>143 rows × 6 columns</p>\n</div>"
     },
     "metadata": {},
     "execution_count": 5
    }
   ],
   "source": [
    "df_ultilize = df[[\"teamLeader\", \"line\", \"startDateTime\", \"finishDateTime\", \"recipe\", \"productionTarget\"]]\n",
    "df_ultilize"
   ]
  },
  {
   "cell_type": "code",
   "execution_count": 6,
   "metadata": {},
   "outputs": [],
   "source": [
    "df_ultilize.to_csv('response.csv', index = False)"
   ]
  },
  {
   "cell_type": "code",
   "execution_count": 7,
   "metadata": {},
   "outputs": [
    {
     "output_type": "execute_result",
     "data": {
      "text/plain": [
       "    time  assemblyLine01Requirement  assemblyLine02Requirement  shortage  \\\n",
       "0  06:00                        NaN                        NaN         0   \n",
       "1  07:00                        NaN                        NaN         0   \n",
       "2  08:00                        NaN                        NaN         0   \n",
       "3  09:00                        NaN                        NaN         0   \n",
       "4  10:00                        NaN                        NaN         0   \n",
       "\n",
       "   stockTotal  as01Total  as02Total  kittingLineTotal  dollyCount  \\\n",
       "0        8083          0          0              8083         272   \n",
       "1       16881          0          0              8798         528   \n",
       "2       23419        342        118              6998         707   \n",
       "3       24435       1892       2342              5250         739   \n",
       "4       26816        790       1684              4855         809   \n",
       "\n",
       "   acceptedDollyCount  ...  assemblyLine02Requirement.SG  \\\n",
       "0                   0  ...                           NaN   \n",
       "1                   0  ...                           NaN   \n",
       "2                   0  ...                           4.0   \n",
       "3                   0  ...                          14.0   \n",
       "4                   0  ...                           7.0   \n",
       "\n",
       "  assemblyLine02Requirement.T2  assemblyLine02Requirement.T4  \\\n",
       "0                          NaN                           NaN   \n",
       "1                          NaN                           NaN   \n",
       "2                          5.0                           0.0   \n",
       "3                         15.0                           0.0   \n",
       "4                          7.0                           0.0   \n",
       "\n",
       "  assemblyLine02Requirement.U2  assemblyLine02Requirement.U4  stock.G2  \\\n",
       "0                          NaN                           NaN       NaN   \n",
       "1                          NaN                           NaN       NaN   \n",
       "2                          0.0                           0.0     280.0   \n",
       "3                         25.0                           0.0     223.0   \n",
       "4                          9.0                           0.0     179.0   \n",
       "\n",
       "   stock.U2  kittingLineProduced.G2  kittingLineProduced.U2  \\\n",
       "0       NaN                     NaN                     NaN   \n",
       "1       NaN                     NaN                     NaN   \n",
       "2     292.0                   280.0                   292.0   \n",
       "3     395.0                     0.0                   128.0   \n",
       "4     386.0                     0.0                     0.0   \n",
       "\n",
       "   kittingLineProduced  \n",
       "0                  NaN  \n",
       "1                  NaN  \n",
       "2                  NaN  \n",
       "3                  NaN  \n",
       "4                  NaN  \n",
       "\n",
       "[5 rows x 200 columns]"
      ],
      "text/html": "<div>\n<style scoped>\n    .dataframe tbody tr th:only-of-type {\n        vertical-align: middle;\n    }\n\n    .dataframe tbody tr th {\n        vertical-align: top;\n    }\n\n    .dataframe thead th {\n        text-align: right;\n    }\n</style>\n<table border=\"1\" class=\"dataframe\">\n  <thead>\n    <tr style=\"text-align: right;\">\n      <th></th>\n      <th>time</th>\n      <th>assemblyLine01Requirement</th>\n      <th>assemblyLine02Requirement</th>\n      <th>shortage</th>\n      <th>stockTotal</th>\n      <th>as01Total</th>\n      <th>as02Total</th>\n      <th>kittingLineTotal</th>\n      <th>dollyCount</th>\n      <th>acceptedDollyCount</th>\n      <th>...</th>\n      <th>assemblyLine02Requirement.SG</th>\n      <th>assemblyLine02Requirement.T2</th>\n      <th>assemblyLine02Requirement.T4</th>\n      <th>assemblyLine02Requirement.U2</th>\n      <th>assemblyLine02Requirement.U4</th>\n      <th>stock.G2</th>\n      <th>stock.U2</th>\n      <th>kittingLineProduced.G2</th>\n      <th>kittingLineProduced.U2</th>\n      <th>kittingLineProduced</th>\n    </tr>\n  </thead>\n  <tbody>\n    <tr>\n      <th>0</th>\n      <td>06:00</td>\n      <td>NaN</td>\n      <td>NaN</td>\n      <td>0</td>\n      <td>8083</td>\n      <td>0</td>\n      <td>0</td>\n      <td>8083</td>\n      <td>272</td>\n      <td>0</td>\n      <td>...</td>\n      <td>NaN</td>\n      <td>NaN</td>\n      <td>NaN</td>\n      <td>NaN</td>\n      <td>NaN</td>\n      <td>NaN</td>\n      <td>NaN</td>\n      <td>NaN</td>\n      <td>NaN</td>\n      <td>NaN</td>\n    </tr>\n    <tr>\n      <th>1</th>\n      <td>07:00</td>\n      <td>NaN</td>\n      <td>NaN</td>\n      <td>0</td>\n      <td>16881</td>\n      <td>0</td>\n      <td>0</td>\n      <td>8798</td>\n      <td>528</td>\n      <td>0</td>\n      <td>...</td>\n      <td>NaN</td>\n      <td>NaN</td>\n      <td>NaN</td>\n      <td>NaN</td>\n      <td>NaN</td>\n      <td>NaN</td>\n      <td>NaN</td>\n      <td>NaN</td>\n      <td>NaN</td>\n      <td>NaN</td>\n    </tr>\n    <tr>\n      <th>2</th>\n      <td>08:00</td>\n      <td>NaN</td>\n      <td>NaN</td>\n      <td>0</td>\n      <td>23419</td>\n      <td>342</td>\n      <td>118</td>\n      <td>6998</td>\n      <td>707</td>\n      <td>0</td>\n      <td>...</td>\n      <td>4.0</td>\n      <td>5.0</td>\n      <td>0.0</td>\n      <td>0.0</td>\n      <td>0.0</td>\n      <td>280.0</td>\n      <td>292.0</td>\n      <td>280.0</td>\n      <td>292.0</td>\n      <td>NaN</td>\n    </tr>\n    <tr>\n      <th>3</th>\n      <td>09:00</td>\n      <td>NaN</td>\n      <td>NaN</td>\n      <td>0</td>\n      <td>24435</td>\n      <td>1892</td>\n      <td>2342</td>\n      <td>5250</td>\n      <td>739</td>\n      <td>0</td>\n      <td>...</td>\n      <td>14.0</td>\n      <td>15.0</td>\n      <td>0.0</td>\n      <td>25.0</td>\n      <td>0.0</td>\n      <td>223.0</td>\n      <td>395.0</td>\n      <td>0.0</td>\n      <td>128.0</td>\n      <td>NaN</td>\n    </tr>\n    <tr>\n      <th>4</th>\n      <td>10:00</td>\n      <td>NaN</td>\n      <td>NaN</td>\n      <td>0</td>\n      <td>26816</td>\n      <td>790</td>\n      <td>1684</td>\n      <td>4855</td>\n      <td>809</td>\n      <td>0</td>\n      <td>...</td>\n      <td>7.0</td>\n      <td>7.0</td>\n      <td>0.0</td>\n      <td>9.0</td>\n      <td>0.0</td>\n      <td>179.0</td>\n      <td>386.0</td>\n      <td>0.0</td>\n      <td>0.0</td>\n      <td>NaN</td>\n    </tr>\n  </tbody>\n</table>\n<p>5 rows × 200 columns</p>\n</div>"
     },
     "metadata": {},
     "execution_count": 7
    }
   ],
   "source": [
    "df_stock = json_normalize(data[\"stockOverTime\"])\n",
    "df_stock.head()"
   ]
  },
  {
   "cell_type": "code",
   "execution_count": 8,
   "metadata": {},
   "outputs": [
    {
     "output_type": "execute_result",
     "data": {
      "text/plain": [
       "['stockTotal',\n",
       " 'stock.I2',\n",
       " 'stock.J2',\n",
       " 'stock.M2',\n",
       " 'stock.N2',\n",
       " 'stock.O2',\n",
       " 'stock.P2',\n",
       " 'stock.R2',\n",
       " 'stock.T2',\n",
       " 'stock.A4',\n",
       " 'stock.B4',\n",
       " 'stock.C4',\n",
       " 'stock.D4',\n",
       " 'stock.E4',\n",
       " 'stock.F4',\n",
       " 'stock.G4',\n",
       " 'stock.H4',\n",
       " 'stock.I4',\n",
       " 'stock.J4',\n",
       " 'stock.K4',\n",
       " 'stock.L4',\n",
       " 'stock.M4',\n",
       " 'stock.N4',\n",
       " 'stock.O4',\n",
       " 'stock.P4',\n",
       " 'stock.Q4',\n",
       " 'stock.R4',\n",
       " 'stock.S4',\n",
       " 'stock.T4',\n",
       " 'stock.SE',\n",
       " 'stock.A2',\n",
       " 'stock.B2',\n",
       " 'stock.C2',\n",
       " 'stock.D2',\n",
       " 'stock.E2',\n",
       " 'stock.F2',\n",
       " 'stock.H2',\n",
       " 'stock.K2',\n",
       " 'stock.L2',\n",
       " 'stock.Q2',\n",
       " 'stock.S2',\n",
       " 'stock.U4',\n",
       " 'stock.SA',\n",
       " 'stock.SG',\n",
       " 'stock.SF',\n",
       " 'stock.G2',\n",
       " 'stock.U2',\n",
       " 'time']"
      ]
     },
     "metadata": {},
     "execution_count": 8
    }
   ],
   "source": [
    "filter_col = [col for col in df_stock if col.startswith('stock')]\n",
    "filter_col.append('time')\n",
    "filter_col"
   ]
  },
  {
   "cell_type": "code",
   "execution_count": 9,
   "metadata": {},
   "outputs": [],
   "source": [
    "df_stock = df_stock[filter_col]\n",
    "# df_stock.set_index('time', inplace = True)"
   ]
  },
  {
   "cell_type": "code",
   "execution_count": 10,
   "metadata": {},
   "outputs": [
    {
     "output_type": "execute_result",
     "data": {
      "text/plain": [
       "   stockTotal  stock.I2  stock.J2  stock.M2  stock.N2  stock.O2  stock.P2  \\\n",
       "0        8083       174       115       118        24     207.0     140.0   \n",
       "1       16881       350       420       420       490     559.0     140.0   \n",
       "2       23419       350       420       410       484     557.0     140.0   \n",
       "3       24435       288       359       300       416     549.0     136.0   \n",
       "4       26816       225       310       212       344     532.0     132.0   \n",
       "\n",
       "   stock.R2  stock.T2  stock.A4  ...  stock.L2  stock.Q2  stock.S2  stock.U4  \\\n",
       "0       126     111.0       424  ...       NaN       NaN       NaN       NaN   \n",
       "1       350     341.0       560  ...     228.0      61.0     218.0     145.0   \n",
       "2       343     336.0       537  ...     636.0     346.0     728.0     347.0   \n",
       "3       289     321.0       668  ...     947.0     295.0    1136.0     335.0   \n",
       "4       243     314.0       975  ...    1049.0     247.0    1588.0     331.0   \n",
       "\n",
       "   stock.SA  stock.SG  stock.SF  stock.G2  stock.U2   time  \n",
       "0       NaN       NaN       NaN       NaN       NaN  06:00  \n",
       "1     132.0     261.0     101.0       NaN       NaN  07:00  \n",
       "2     273.0     356.0      99.0     280.0     292.0  08:00  \n",
       "3     256.0     335.0      94.0     223.0     395.0  09:00  \n",
       "4     244.0     328.0      92.0     179.0     386.0  10:00  \n",
       "\n",
       "[5 rows x 48 columns]"
      ],
      "text/html": "<div>\n<style scoped>\n    .dataframe tbody tr th:only-of-type {\n        vertical-align: middle;\n    }\n\n    .dataframe tbody tr th {\n        vertical-align: top;\n    }\n\n    .dataframe thead th {\n        text-align: right;\n    }\n</style>\n<table border=\"1\" class=\"dataframe\">\n  <thead>\n    <tr style=\"text-align: right;\">\n      <th></th>\n      <th>stockTotal</th>\n      <th>stock.I2</th>\n      <th>stock.J2</th>\n      <th>stock.M2</th>\n      <th>stock.N2</th>\n      <th>stock.O2</th>\n      <th>stock.P2</th>\n      <th>stock.R2</th>\n      <th>stock.T2</th>\n      <th>stock.A4</th>\n      <th>...</th>\n      <th>stock.L2</th>\n      <th>stock.Q2</th>\n      <th>stock.S2</th>\n      <th>stock.U4</th>\n      <th>stock.SA</th>\n      <th>stock.SG</th>\n      <th>stock.SF</th>\n      <th>stock.G2</th>\n      <th>stock.U2</th>\n      <th>time</th>\n    </tr>\n  </thead>\n  <tbody>\n    <tr>\n      <th>0</th>\n      <td>8083</td>\n      <td>174</td>\n      <td>115</td>\n      <td>118</td>\n      <td>24</td>\n      <td>207.0</td>\n      <td>140.0</td>\n      <td>126</td>\n      <td>111.0</td>\n      <td>424</td>\n      <td>...</td>\n      <td>NaN</td>\n      <td>NaN</td>\n      <td>NaN</td>\n      <td>NaN</td>\n      <td>NaN</td>\n      <td>NaN</td>\n      <td>NaN</td>\n      <td>NaN</td>\n      <td>NaN</td>\n      <td>06:00</td>\n    </tr>\n    <tr>\n      <th>1</th>\n      <td>16881</td>\n      <td>350</td>\n      <td>420</td>\n      <td>420</td>\n      <td>490</td>\n      <td>559.0</td>\n      <td>140.0</td>\n      <td>350</td>\n      <td>341.0</td>\n      <td>560</td>\n      <td>...</td>\n      <td>228.0</td>\n      <td>61.0</td>\n      <td>218.0</td>\n      <td>145.0</td>\n      <td>132.0</td>\n      <td>261.0</td>\n      <td>101.0</td>\n      <td>NaN</td>\n      <td>NaN</td>\n      <td>07:00</td>\n    </tr>\n    <tr>\n      <th>2</th>\n      <td>23419</td>\n      <td>350</td>\n      <td>420</td>\n      <td>410</td>\n      <td>484</td>\n      <td>557.0</td>\n      <td>140.0</td>\n      <td>343</td>\n      <td>336.0</td>\n      <td>537</td>\n      <td>...</td>\n      <td>636.0</td>\n      <td>346.0</td>\n      <td>728.0</td>\n      <td>347.0</td>\n      <td>273.0</td>\n      <td>356.0</td>\n      <td>99.0</td>\n      <td>280.0</td>\n      <td>292.0</td>\n      <td>08:00</td>\n    </tr>\n    <tr>\n      <th>3</th>\n      <td>24435</td>\n      <td>288</td>\n      <td>359</td>\n      <td>300</td>\n      <td>416</td>\n      <td>549.0</td>\n      <td>136.0</td>\n      <td>289</td>\n      <td>321.0</td>\n      <td>668</td>\n      <td>...</td>\n      <td>947.0</td>\n      <td>295.0</td>\n      <td>1136.0</td>\n      <td>335.0</td>\n      <td>256.0</td>\n      <td>335.0</td>\n      <td>94.0</td>\n      <td>223.0</td>\n      <td>395.0</td>\n      <td>09:00</td>\n    </tr>\n    <tr>\n      <th>4</th>\n      <td>26816</td>\n      <td>225</td>\n      <td>310</td>\n      <td>212</td>\n      <td>344</td>\n      <td>532.0</td>\n      <td>132.0</td>\n      <td>243</td>\n      <td>314.0</td>\n      <td>975</td>\n      <td>...</td>\n      <td>1049.0</td>\n      <td>247.0</td>\n      <td>1588.0</td>\n      <td>331.0</td>\n      <td>244.0</td>\n      <td>328.0</td>\n      <td>92.0</td>\n      <td>179.0</td>\n      <td>386.0</td>\n      <td>10:00</td>\n    </tr>\n  </tbody>\n</table>\n<p>5 rows × 48 columns</p>\n</div>"
     },
     "metadata": {},
     "execution_count": 10
    }
   ],
   "source": [
    "df_stock.head()"
   ]
  },
  {
   "cell_type": "code",
   "execution_count": 11,
   "metadata": {},
   "outputs": [
    {
     "output_type": "execute_result",
     "data": {
      "text/plain": [
       "    time    variable    value\n",
       "0  06:00  stockTotal   8083.0\n",
       "1  07:00  stockTotal  16881.0\n",
       "2  08:00  stockTotal  23419.0\n",
       "3  09:00  stockTotal  24435.0\n",
       "4  10:00  stockTotal  26816.0"
      ],
      "text/html": "<div>\n<style scoped>\n    .dataframe tbody tr th:only-of-type {\n        vertical-align: middle;\n    }\n\n    .dataframe tbody tr th {\n        vertical-align: top;\n    }\n\n    .dataframe thead th {\n        text-align: right;\n    }\n</style>\n<table border=\"1\" class=\"dataframe\">\n  <thead>\n    <tr style=\"text-align: right;\">\n      <th></th>\n      <th>time</th>\n      <th>variable</th>\n      <th>value</th>\n    </tr>\n  </thead>\n  <tbody>\n    <tr>\n      <th>0</th>\n      <td>06:00</td>\n      <td>stockTotal</td>\n      <td>8083.0</td>\n    </tr>\n    <tr>\n      <th>1</th>\n      <td>07:00</td>\n      <td>stockTotal</td>\n      <td>16881.0</td>\n    </tr>\n    <tr>\n      <th>2</th>\n      <td>08:00</td>\n      <td>stockTotal</td>\n      <td>23419.0</td>\n    </tr>\n    <tr>\n      <th>3</th>\n      <td>09:00</td>\n      <td>stockTotal</td>\n      <td>24435.0</td>\n    </tr>\n    <tr>\n      <th>4</th>\n      <td>10:00</td>\n      <td>stockTotal</td>\n      <td>26816.0</td>\n    </tr>\n  </tbody>\n</table>\n</div>"
     },
     "metadata": {},
     "execution_count": 11
    }
   ],
   "source": [
    "df_stock = df_stock.melt(id_vars=['time'])\n",
    "df_stock.head()"
   ]
  },
  {
   "cell_type": "code",
   "execution_count": 12,
   "metadata": {},
   "outputs": [],
   "source": [
    "df_stock.to_csv('response_stock.csv', index = False)"
   ]
  },
  {
   "cell_type": "code",
   "execution_count": null,
   "metadata": {},
   "outputs": [],
   "source": []
  }
 ]
}