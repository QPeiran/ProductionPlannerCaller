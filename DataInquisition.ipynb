{
 "metadata": {
  "language_info": {
   "codemirror_mode": {
    "name": "ipython",
    "version": 3
   },
   "file_extension": ".py",
   "mimetype": "text/x-python",
   "name": "python",
   "nbconvert_exporter": "python",
   "pygments_lexer": "ipython3",
   "version": "3.8.6-final"
  },
  "orig_nbformat": 2,
  "kernelspec": {
   "name": "Python 3.8.6 64-bit ('ProductionPlannerCaller': pipenv)",
   "display_name": "Python 3.8.6 64-bit ('ProductionPlannerCaller': pipenv)",
   "metadata": {
    "interpreter": {
     "hash": "d35c8b516a90ec349fb27354d3f5b0fd5f2200bb14aca3e9a64f3cb0fb9d61f2"
    }
   }
  }
 },
 "nbformat": 4,
 "nbformat_minor": 2,
 "cells": [
  {
   "cell_type": "code",
   "execution_count": 1,
   "metadata": {},
   "outputs": [],
   "source": [
    "import pandas as pd\n",
    "import json\n",
    "from pandas import json_normalize"
   ]
  },
  {
   "cell_type": "code",
   "execution_count": 2,
   "metadata": {},
   "outputs": [],
   "source": [
    "# file = open(r'C:\\Users\\Peiran Quan\\myWorkStation\\PlanningClient\\template_response.json')\n",
    "file = open(r'.\\test_response.json')"
   ]
  },
  {
   "cell_type": "code",
   "execution_count": 3,
   "metadata": {},
   "outputs": [],
   "source": [
    "data = json.load(file)"
   ]
  },
  {
   "cell_type": "code",
   "execution_count": 4,
   "metadata": {
    "tags": []
   },
   "outputs": [
    {
     "output_type": "execute_result",
     "data": {
      "text/plain": [
       "     teamId startDateTime finishDateTime teamLeader  id line batch  week  \\\n",
       "0         1         06:00          06:48     Team 1   0   14  None  None   \n",
       "1         1         06:48          07:30     Team 1   0   14  None  None   \n",
       "2         1         07:30          08:20     Team 1   0   14  None  None   \n",
       "3         1         08:20          09:08     Team 1   0   14  None  None   \n",
       "4         1         09:08          09:57     Team 1   0   14  None  None   \n",
       "..      ...           ...            ...        ...  ..  ...   ...   ...   \n",
       "142      20         07:14          07:51    Team 20   0    8  None  None   \n",
       "143      20         07:51          08:28    Team 20   0    8  None  None   \n",
       "144      20         08:28          09:04    Team 20   0    8  None  None   \n",
       "145      20         09:04          09:42    Team 20   0    8  None  None   \n",
       "146      21         12:25          13:24    Team 20   0   11  None  None   \n",
       "\n",
       "     year  done recipe  productionTarget  mealKitPerCrate  targetSpeed  \\\n",
       "0    None  None     M4               350                5          433   \n",
       "1    None  None     M2               420                6          617   \n",
       "2    None  None     M4               350                5          433   \n",
       "3    None  None     M4               350                5          433   \n",
       "4    None  None     M4               350                5          433   \n",
       "..    ...   ...    ...               ...              ...          ...   \n",
       "142  None  None     H2               350                5          569   \n",
       "143  None  None     H4               280                4          465   \n",
       "144  None  None     H4               280                4          465   \n",
       "145  None  None     H2               350                5          569   \n",
       "146  None  None     L2               420                6          426   \n",
       "\n",
       "    displayOrder createdAt teamNames  \n",
       "0           None      None      None  \n",
       "1           None      None      None  \n",
       "2           None      None      None  \n",
       "3           None      None      None  \n",
       "4           None      None      None  \n",
       "..           ...       ...       ...  \n",
       "142         None      None      None  \n",
       "143         None      None      None  \n",
       "144         None      None      None  \n",
       "145         None      None      None  \n",
       "146         None      None      None  \n",
       "\n",
       "[147 rows x 17 columns]"
      ],
      "text/html": "<div>\n<style scoped>\n    .dataframe tbody tr th:only-of-type {\n        vertical-align: middle;\n    }\n\n    .dataframe tbody tr th {\n        vertical-align: top;\n    }\n\n    .dataframe thead th {\n        text-align: right;\n    }\n</style>\n<table border=\"1\" class=\"dataframe\">\n  <thead>\n    <tr style=\"text-align: right;\">\n      <th></th>\n      <th>teamId</th>\n      <th>startDateTime</th>\n      <th>finishDateTime</th>\n      <th>teamLeader</th>\n      <th>id</th>\n      <th>line</th>\n      <th>batch</th>\n      <th>week</th>\n      <th>year</th>\n      <th>done</th>\n      <th>recipe</th>\n      <th>productionTarget</th>\n      <th>mealKitPerCrate</th>\n      <th>targetSpeed</th>\n      <th>displayOrder</th>\n      <th>createdAt</th>\n      <th>teamNames</th>\n    </tr>\n  </thead>\n  <tbody>\n    <tr>\n      <th>0</th>\n      <td>1</td>\n      <td>06:00</td>\n      <td>06:48</td>\n      <td>Team 1</td>\n      <td>0</td>\n      <td>14</td>\n      <td>None</td>\n      <td>None</td>\n      <td>None</td>\n      <td>None</td>\n      <td>M4</td>\n      <td>350</td>\n      <td>5</td>\n      <td>433</td>\n      <td>None</td>\n      <td>None</td>\n      <td>None</td>\n    </tr>\n    <tr>\n      <th>1</th>\n      <td>1</td>\n      <td>06:48</td>\n      <td>07:30</td>\n      <td>Team 1</td>\n      <td>0</td>\n      <td>14</td>\n      <td>None</td>\n      <td>None</td>\n      <td>None</td>\n      <td>None</td>\n      <td>M2</td>\n      <td>420</td>\n      <td>6</td>\n      <td>617</td>\n      <td>None</td>\n      <td>None</td>\n      <td>None</td>\n    </tr>\n    <tr>\n      <th>2</th>\n      <td>1</td>\n      <td>07:30</td>\n      <td>08:20</td>\n      <td>Team 1</td>\n      <td>0</td>\n      <td>14</td>\n      <td>None</td>\n      <td>None</td>\n      <td>None</td>\n      <td>None</td>\n      <td>M4</td>\n      <td>350</td>\n      <td>5</td>\n      <td>433</td>\n      <td>None</td>\n      <td>None</td>\n      <td>None</td>\n    </tr>\n    <tr>\n      <th>3</th>\n      <td>1</td>\n      <td>08:20</td>\n      <td>09:08</td>\n      <td>Team 1</td>\n      <td>0</td>\n      <td>14</td>\n      <td>None</td>\n      <td>None</td>\n      <td>None</td>\n      <td>None</td>\n      <td>M4</td>\n      <td>350</td>\n      <td>5</td>\n      <td>433</td>\n      <td>None</td>\n      <td>None</td>\n      <td>None</td>\n    </tr>\n    <tr>\n      <th>4</th>\n      <td>1</td>\n      <td>09:08</td>\n      <td>09:57</td>\n      <td>Team 1</td>\n      <td>0</td>\n      <td>14</td>\n      <td>None</td>\n      <td>None</td>\n      <td>None</td>\n      <td>None</td>\n      <td>M4</td>\n      <td>350</td>\n      <td>5</td>\n      <td>433</td>\n      <td>None</td>\n      <td>None</td>\n      <td>None</td>\n    </tr>\n    <tr>\n      <th>...</th>\n      <td>...</td>\n      <td>...</td>\n      <td>...</td>\n      <td>...</td>\n      <td>...</td>\n      <td>...</td>\n      <td>...</td>\n      <td>...</td>\n      <td>...</td>\n      <td>...</td>\n      <td>...</td>\n      <td>...</td>\n      <td>...</td>\n      <td>...</td>\n      <td>...</td>\n      <td>...</td>\n      <td>...</td>\n    </tr>\n    <tr>\n      <th>142</th>\n      <td>20</td>\n      <td>07:14</td>\n      <td>07:51</td>\n      <td>Team 20</td>\n      <td>0</td>\n      <td>8</td>\n      <td>None</td>\n      <td>None</td>\n      <td>None</td>\n      <td>None</td>\n      <td>H2</td>\n      <td>350</td>\n      <td>5</td>\n      <td>569</td>\n      <td>None</td>\n      <td>None</td>\n      <td>None</td>\n    </tr>\n    <tr>\n      <th>143</th>\n      <td>20</td>\n      <td>07:51</td>\n      <td>08:28</td>\n      <td>Team 20</td>\n      <td>0</td>\n      <td>8</td>\n      <td>None</td>\n      <td>None</td>\n      <td>None</td>\n      <td>None</td>\n      <td>H4</td>\n      <td>280</td>\n      <td>4</td>\n      <td>465</td>\n      <td>None</td>\n      <td>None</td>\n      <td>None</td>\n    </tr>\n    <tr>\n      <th>144</th>\n      <td>20</td>\n      <td>08:28</td>\n      <td>09:04</td>\n      <td>Team 20</td>\n      <td>0</td>\n      <td>8</td>\n      <td>None</td>\n      <td>None</td>\n      <td>None</td>\n      <td>None</td>\n      <td>H4</td>\n      <td>280</td>\n      <td>4</td>\n      <td>465</td>\n      <td>None</td>\n      <td>None</td>\n      <td>None</td>\n    </tr>\n    <tr>\n      <th>145</th>\n      <td>20</td>\n      <td>09:04</td>\n      <td>09:42</td>\n      <td>Team 20</td>\n      <td>0</td>\n      <td>8</td>\n      <td>None</td>\n      <td>None</td>\n      <td>None</td>\n      <td>None</td>\n      <td>H2</td>\n      <td>350</td>\n      <td>5</td>\n      <td>569</td>\n      <td>None</td>\n      <td>None</td>\n      <td>None</td>\n    </tr>\n    <tr>\n      <th>146</th>\n      <td>21</td>\n      <td>12:25</td>\n      <td>13:24</td>\n      <td>Team 20</td>\n      <td>0</td>\n      <td>11</td>\n      <td>None</td>\n      <td>None</td>\n      <td>None</td>\n      <td>None</td>\n      <td>L2</td>\n      <td>420</td>\n      <td>6</td>\n      <td>426</td>\n      <td>None</td>\n      <td>None</td>\n      <td>None</td>\n    </tr>\n  </tbody>\n</table>\n<p>147 rows × 17 columns</p>\n</div>"
     },
     "metadata": {},
     "execution_count": 4
    }
   ],
   "source": [
    "df = json_normalize(data[\"pickingJob\"])\n",
    "df"
   ]
  },
  {
   "cell_type": "code",
   "execution_count": 5,
   "metadata": {},
   "outputs": [
    {
     "output_type": "execute_result",
     "data": {
      "text/plain": [
       "    teamLeader line startDateTime finishDateTime recipe  productionTarget\n",
       "0       Team 1   14         06:00          06:48     M4               350\n",
       "1       Team 1   14         06:48          07:30     M2               420\n",
       "2       Team 1   14         07:30          08:20     M4               350\n",
       "3       Team 1   14         08:20          09:08     M4               350\n",
       "4       Team 1   14         09:08          09:57     M4               350\n",
       "..         ...  ...           ...            ...    ...               ...\n",
       "142    Team 20    8         07:14          07:51     H2               350\n",
       "143    Team 20    8         07:51          08:28     H4               280\n",
       "144    Team 20    8         08:28          09:04     H4               280\n",
       "145    Team 20    8         09:04          09:42     H2               350\n",
       "146    Team 20   11         12:25          13:24     L2               420\n",
       "\n",
       "[147 rows x 6 columns]"
      ],
      "text/html": "<div>\n<style scoped>\n    .dataframe tbody tr th:only-of-type {\n        vertical-align: middle;\n    }\n\n    .dataframe tbody tr th {\n        vertical-align: top;\n    }\n\n    .dataframe thead th {\n        text-align: right;\n    }\n</style>\n<table border=\"1\" class=\"dataframe\">\n  <thead>\n    <tr style=\"text-align: right;\">\n      <th></th>\n      <th>teamLeader</th>\n      <th>line</th>\n      <th>startDateTime</th>\n      <th>finishDateTime</th>\n      <th>recipe</th>\n      <th>productionTarget</th>\n    </tr>\n  </thead>\n  <tbody>\n    <tr>\n      <th>0</th>\n      <td>Team 1</td>\n      <td>14</td>\n      <td>06:00</td>\n      <td>06:48</td>\n      <td>M4</td>\n      <td>350</td>\n    </tr>\n    <tr>\n      <th>1</th>\n      <td>Team 1</td>\n      <td>14</td>\n      <td>06:48</td>\n      <td>07:30</td>\n      <td>M2</td>\n      <td>420</td>\n    </tr>\n    <tr>\n      <th>2</th>\n      <td>Team 1</td>\n      <td>14</td>\n      <td>07:30</td>\n      <td>08:20</td>\n      <td>M4</td>\n      <td>350</td>\n    </tr>\n    <tr>\n      <th>3</th>\n      <td>Team 1</td>\n      <td>14</td>\n      <td>08:20</td>\n      <td>09:08</td>\n      <td>M4</td>\n      <td>350</td>\n    </tr>\n    <tr>\n      <th>4</th>\n      <td>Team 1</td>\n      <td>14</td>\n      <td>09:08</td>\n      <td>09:57</td>\n      <td>M4</td>\n      <td>350</td>\n    </tr>\n    <tr>\n      <th>...</th>\n      <td>...</td>\n      <td>...</td>\n      <td>...</td>\n      <td>...</td>\n      <td>...</td>\n      <td>...</td>\n    </tr>\n    <tr>\n      <th>142</th>\n      <td>Team 20</td>\n      <td>8</td>\n      <td>07:14</td>\n      <td>07:51</td>\n      <td>H2</td>\n      <td>350</td>\n    </tr>\n    <tr>\n      <th>143</th>\n      <td>Team 20</td>\n      <td>8</td>\n      <td>07:51</td>\n      <td>08:28</td>\n      <td>H4</td>\n      <td>280</td>\n    </tr>\n    <tr>\n      <th>144</th>\n      <td>Team 20</td>\n      <td>8</td>\n      <td>08:28</td>\n      <td>09:04</td>\n      <td>H4</td>\n      <td>280</td>\n    </tr>\n    <tr>\n      <th>145</th>\n      <td>Team 20</td>\n      <td>8</td>\n      <td>09:04</td>\n      <td>09:42</td>\n      <td>H2</td>\n      <td>350</td>\n    </tr>\n    <tr>\n      <th>146</th>\n      <td>Team 20</td>\n      <td>11</td>\n      <td>12:25</td>\n      <td>13:24</td>\n      <td>L2</td>\n      <td>420</td>\n    </tr>\n  </tbody>\n</table>\n<p>147 rows × 6 columns</p>\n</div>"
     },
     "metadata": {},
     "execution_count": 5
    }
   ],
   "source": [
    "df_ultilize = df[[\"teamLeader\", \"line\", \"startDateTime\", \"finishDateTime\", \"recipe\", \"productionTarget\"]]\n",
    "df_ultilize"
   ]
  },
  {
   "cell_type": "code",
   "execution_count": 6,
   "metadata": {},
   "outputs": [],
   "source": [
    "df_ultilize.to_csv('response.csv', index = False)"
   ]
  },
  {
   "cell_type": "code",
   "execution_count": 7,
   "metadata": {},
   "outputs": [
    {
     "output_type": "execute_result",
     "data": {
      "text/plain": [
       "    time  assemblyLine01Requirement  assemblyLine02Requirement  shortage  \\\n",
       "0  06:00                        NaN                        NaN         0   \n",
       "1  07:00                        NaN                        NaN         0   \n",
       "2  08:00                        NaN                        NaN         0   \n",
       "3  09:00                        NaN                        NaN         0   \n",
       "4  10:00                        NaN                        NaN         0   \n",
       "\n",
       "   stockTotal  as01Total  as02Total  kittingLineTotal  dollyCount  \\\n",
       "0        8600          0          0              8600         275   \n",
       "1       17873          0          0              9273         534   \n",
       "2       24604        342        118              7191         744   \n",
       "3       25593       1892       2342              5223         788   \n",
       "4       27555        790       1684              4436         853   \n",
       "\n",
       "   acceptedDollyCount  ...  assemblyLine02Requirement.SE  \\\n",
       "0                   0  ...                           NaN   \n",
       "1                   0  ...                           NaN   \n",
       "2                   0  ...                           0.0   \n",
       "3                   0  ...                           5.0   \n",
       "4                   0  ...                           0.0   \n",
       "\n",
       "  assemblyLine02Requirement.SF  assemblyLine02Requirement.SG  \\\n",
       "0                          NaN                           NaN   \n",
       "1                          NaN                           NaN   \n",
       "2                          0.0                           4.0   \n",
       "3                          4.0                          14.0   \n",
       "4                          2.0                           7.0   \n",
       "\n",
       "  assemblyLine02Requirement.T2  assemblyLine02Requirement.T4  \\\n",
       "0                          NaN                           NaN   \n",
       "1                          NaN                           NaN   \n",
       "2                          5.0                           0.0   \n",
       "3                         15.0                           0.0   \n",
       "4                          7.0                           0.0   \n",
       "\n",
       "   assemblyLine02Requirement.U2  assemblyLine02Requirement.U4  stock.O4  \\\n",
       "0                           NaN                           NaN       NaN   \n",
       "1                           NaN                           NaN       NaN   \n",
       "2                           0.0                           0.0     186.0   \n",
       "3                          25.0                           0.0     179.0   \n",
       "4                           9.0                           0.0     176.0   \n",
       "\n",
       "   kittingLineProduced.O4  kittingLineProduced  \n",
       "0                     NaN                  NaN  \n",
       "1                     NaN                  NaN  \n",
       "2                   189.0                  NaN  \n",
       "3                     0.0                  NaN  \n",
       "4                     0.0                  NaN  \n",
       "\n",
       "[5 rows x 200 columns]"
      ],
      "text/html": "<div>\n<style scoped>\n    .dataframe tbody tr th:only-of-type {\n        vertical-align: middle;\n    }\n\n    .dataframe tbody tr th {\n        vertical-align: top;\n    }\n\n    .dataframe thead th {\n        text-align: right;\n    }\n</style>\n<table border=\"1\" class=\"dataframe\">\n  <thead>\n    <tr style=\"text-align: right;\">\n      <th></th>\n      <th>time</th>\n      <th>assemblyLine01Requirement</th>\n      <th>assemblyLine02Requirement</th>\n      <th>shortage</th>\n      <th>stockTotal</th>\n      <th>as01Total</th>\n      <th>as02Total</th>\n      <th>kittingLineTotal</th>\n      <th>dollyCount</th>\n      <th>acceptedDollyCount</th>\n      <th>...</th>\n      <th>assemblyLine02Requirement.SE</th>\n      <th>assemblyLine02Requirement.SF</th>\n      <th>assemblyLine02Requirement.SG</th>\n      <th>assemblyLine02Requirement.T2</th>\n      <th>assemblyLine02Requirement.T4</th>\n      <th>assemblyLine02Requirement.U2</th>\n      <th>assemblyLine02Requirement.U4</th>\n      <th>stock.O4</th>\n      <th>kittingLineProduced.O4</th>\n      <th>kittingLineProduced</th>\n    </tr>\n  </thead>\n  <tbody>\n    <tr>\n      <th>0</th>\n      <td>06:00</td>\n      <td>NaN</td>\n      <td>NaN</td>\n      <td>0</td>\n      <td>8600</td>\n      <td>0</td>\n      <td>0</td>\n      <td>8600</td>\n      <td>275</td>\n      <td>0</td>\n      <td>...</td>\n      <td>NaN</td>\n      <td>NaN</td>\n      <td>NaN</td>\n      <td>NaN</td>\n      <td>NaN</td>\n      <td>NaN</td>\n      <td>NaN</td>\n      <td>NaN</td>\n      <td>NaN</td>\n      <td>NaN</td>\n    </tr>\n    <tr>\n      <th>1</th>\n      <td>07:00</td>\n      <td>NaN</td>\n      <td>NaN</td>\n      <td>0</td>\n      <td>17873</td>\n      <td>0</td>\n      <td>0</td>\n      <td>9273</td>\n      <td>534</td>\n      <td>0</td>\n      <td>...</td>\n      <td>NaN</td>\n      <td>NaN</td>\n      <td>NaN</td>\n      <td>NaN</td>\n      <td>NaN</td>\n      <td>NaN</td>\n      <td>NaN</td>\n      <td>NaN</td>\n      <td>NaN</td>\n      <td>NaN</td>\n    </tr>\n    <tr>\n      <th>2</th>\n      <td>08:00</td>\n      <td>NaN</td>\n      <td>NaN</td>\n      <td>0</td>\n      <td>24604</td>\n      <td>342</td>\n      <td>118</td>\n      <td>7191</td>\n      <td>744</td>\n      <td>0</td>\n      <td>...</td>\n      <td>0.0</td>\n      <td>0.0</td>\n      <td>4.0</td>\n      <td>5.0</td>\n      <td>0.0</td>\n      <td>0.0</td>\n      <td>0.0</td>\n      <td>186.0</td>\n      <td>189.0</td>\n      <td>NaN</td>\n    </tr>\n    <tr>\n      <th>3</th>\n      <td>09:00</td>\n      <td>NaN</td>\n      <td>NaN</td>\n      <td>0</td>\n      <td>25593</td>\n      <td>1892</td>\n      <td>2342</td>\n      <td>5223</td>\n      <td>788</td>\n      <td>0</td>\n      <td>...</td>\n      <td>5.0</td>\n      <td>4.0</td>\n      <td>14.0</td>\n      <td>15.0</td>\n      <td>0.0</td>\n      <td>25.0</td>\n      <td>0.0</td>\n      <td>179.0</td>\n      <td>0.0</td>\n      <td>NaN</td>\n    </tr>\n    <tr>\n      <th>4</th>\n      <td>10:00</td>\n      <td>NaN</td>\n      <td>NaN</td>\n      <td>0</td>\n      <td>27555</td>\n      <td>790</td>\n      <td>1684</td>\n      <td>4436</td>\n      <td>853</td>\n      <td>0</td>\n      <td>...</td>\n      <td>0.0</td>\n      <td>2.0</td>\n      <td>7.0</td>\n      <td>7.0</td>\n      <td>0.0</td>\n      <td>9.0</td>\n      <td>0.0</td>\n      <td>176.0</td>\n      <td>0.0</td>\n      <td>NaN</td>\n    </tr>\n  </tbody>\n</table>\n<p>5 rows × 200 columns</p>\n</div>"
     },
     "metadata": {},
     "execution_count": 7
    }
   ],
   "source": [
    "df_stock = json_normalize(data[\"stockOverTime\"])\n",
    "df_stock.head()"
   ]
  },
  {
   "cell_type": "code",
   "execution_count": 8,
   "metadata": {},
   "outputs": [
    {
     "output_type": "execute_result",
     "data": {
      "text/plain": [
       "['stockTotal',\n",
       " 'stock.A2',\n",
       " 'stock.B2',\n",
       " 'stock.C2',\n",
       " 'stock.D2',\n",
       " 'stock.E2',\n",
       " 'stock.F2',\n",
       " 'stock.H2',\n",
       " 'stock.I2',\n",
       " 'stock.J2',\n",
       " 'stock.L2',\n",
       " 'stock.M2',\n",
       " 'stock.N2',\n",
       " 'stock.O2',\n",
       " 'stock.P2',\n",
       " 'stock.Q2',\n",
       " 'stock.R2',\n",
       " 'stock.S2',\n",
       " 'stock.T2',\n",
       " 'stock.A4',\n",
       " 'stock.B4',\n",
       " 'stock.C4',\n",
       " 'stock.D4',\n",
       " 'stock.E4',\n",
       " 'stock.F4',\n",
       " 'stock.G4',\n",
       " 'stock.H4',\n",
       " 'stock.I4',\n",
       " 'stock.J4',\n",
       " 'stock.K4',\n",
       " 'stock.L4',\n",
       " 'stock.M4',\n",
       " 'stock.N4',\n",
       " 'stock.P4',\n",
       " 'stock.Q4',\n",
       " 'stock.R4',\n",
       " 'stock.S4',\n",
       " 'stock.U4',\n",
       " 'stock.SA',\n",
       " 'stock.SG',\n",
       " 'stock.SE',\n",
       " 'stock.SF',\n",
       " 'stock.G2',\n",
       " 'stock.K2',\n",
       " 'stock.U2',\n",
       " 'stock.T4',\n",
       " 'stock.O4',\n",
       " 'time']"
      ]
     },
     "metadata": {},
     "execution_count": 8
    }
   ],
   "source": [
    "filter_col = [col for col in df_stock if col.startswith('stock')]\n",
    "filter_col.append('time')\n",
    "filter_col"
   ]
  },
  {
   "cell_type": "code",
   "execution_count": 9,
   "metadata": {},
   "outputs": [],
   "source": [
    "df_stock = df_stock[filter_col]\n",
    "# df_stock.set_index('time', inplace = True)"
   ]
  },
  {
   "cell_type": "code",
   "execution_count": 10,
   "metadata": {},
   "outputs": [
    {
     "output_type": "execute_result",
     "data": {
      "text/plain": [
       "   stockTotal  stock.A2  stock.B2  stock.C2  stock.D2  stock.E2  stock.F2  \\\n",
       "0        8600       182       152       179       142       149       199   \n",
       "1       17873       700       690       648       700       420       511   \n",
       "2       24604       694       833       694       691       831       840   \n",
       "3       25593       788       578       717       436       618       810   \n",
       "4       27555       611       409       588       270       484       787   \n",
       "\n",
       "   stock.H2  stock.I2  stock.J2  ...  stock.SA  stock.SG  stock.SE  stock.SF  \\\n",
       "0       226       174       115  ...       280       211        38       101   \n",
       "1       700       350       679  ...       280       360        38       101   \n",
       "2       699       700       840  ...       273       356        38        99   \n",
       "3       929       638       779  ...       256       335        33        94   \n",
       "4       840       575       730  ...       244       328        33        92   \n",
       "\n",
       "   stock.G2  stock.K2  stock.U2  stock.T4  stock.O4   time  \n",
       "0       NaN       NaN       NaN       NaN       NaN  06:00  \n",
       "1     280.0     420.0     295.0      97.0       NaN  07:00  \n",
       "2     448.0     402.0     420.0     147.0     186.0  08:00  \n",
       "3     503.0     254.0     395.0     139.0     179.0  09:00  \n",
       "4     459.0     207.0     386.0     138.0     176.0  10:00  \n",
       "\n",
       "[5 rows x 48 columns]"
      ],
      "text/html": "<div>\n<style scoped>\n    .dataframe tbody tr th:only-of-type {\n        vertical-align: middle;\n    }\n\n    .dataframe tbody tr th {\n        vertical-align: top;\n    }\n\n    .dataframe thead th {\n        text-align: right;\n    }\n</style>\n<table border=\"1\" class=\"dataframe\">\n  <thead>\n    <tr style=\"text-align: right;\">\n      <th></th>\n      <th>stockTotal</th>\n      <th>stock.A2</th>\n      <th>stock.B2</th>\n      <th>stock.C2</th>\n      <th>stock.D2</th>\n      <th>stock.E2</th>\n      <th>stock.F2</th>\n      <th>stock.H2</th>\n      <th>stock.I2</th>\n      <th>stock.J2</th>\n      <th>...</th>\n      <th>stock.SA</th>\n      <th>stock.SG</th>\n      <th>stock.SE</th>\n      <th>stock.SF</th>\n      <th>stock.G2</th>\n      <th>stock.K2</th>\n      <th>stock.U2</th>\n      <th>stock.T4</th>\n      <th>stock.O4</th>\n      <th>time</th>\n    </tr>\n  </thead>\n  <tbody>\n    <tr>\n      <th>0</th>\n      <td>8600</td>\n      <td>182</td>\n      <td>152</td>\n      <td>179</td>\n      <td>142</td>\n      <td>149</td>\n      <td>199</td>\n      <td>226</td>\n      <td>174</td>\n      <td>115</td>\n      <td>...</td>\n      <td>280</td>\n      <td>211</td>\n      <td>38</td>\n      <td>101</td>\n      <td>NaN</td>\n      <td>NaN</td>\n      <td>NaN</td>\n      <td>NaN</td>\n      <td>NaN</td>\n      <td>06:00</td>\n    </tr>\n    <tr>\n      <th>1</th>\n      <td>17873</td>\n      <td>700</td>\n      <td>690</td>\n      <td>648</td>\n      <td>700</td>\n      <td>420</td>\n      <td>511</td>\n      <td>700</td>\n      <td>350</td>\n      <td>679</td>\n      <td>...</td>\n      <td>280</td>\n      <td>360</td>\n      <td>38</td>\n      <td>101</td>\n      <td>280.0</td>\n      <td>420.0</td>\n      <td>295.0</td>\n      <td>97.0</td>\n      <td>NaN</td>\n      <td>07:00</td>\n    </tr>\n    <tr>\n      <th>2</th>\n      <td>24604</td>\n      <td>694</td>\n      <td>833</td>\n      <td>694</td>\n      <td>691</td>\n      <td>831</td>\n      <td>840</td>\n      <td>699</td>\n      <td>700</td>\n      <td>840</td>\n      <td>...</td>\n      <td>273</td>\n      <td>356</td>\n      <td>38</td>\n      <td>99</td>\n      <td>448.0</td>\n      <td>402.0</td>\n      <td>420.0</td>\n      <td>147.0</td>\n      <td>186.0</td>\n      <td>08:00</td>\n    </tr>\n    <tr>\n      <th>3</th>\n      <td>25593</td>\n      <td>788</td>\n      <td>578</td>\n      <td>717</td>\n      <td>436</td>\n      <td>618</td>\n      <td>810</td>\n      <td>929</td>\n      <td>638</td>\n      <td>779</td>\n      <td>...</td>\n      <td>256</td>\n      <td>335</td>\n      <td>33</td>\n      <td>94</td>\n      <td>503.0</td>\n      <td>254.0</td>\n      <td>395.0</td>\n      <td>139.0</td>\n      <td>179.0</td>\n      <td>09:00</td>\n    </tr>\n    <tr>\n      <th>4</th>\n      <td>27555</td>\n      <td>611</td>\n      <td>409</td>\n      <td>588</td>\n      <td>270</td>\n      <td>484</td>\n      <td>787</td>\n      <td>840</td>\n      <td>575</td>\n      <td>730</td>\n      <td>...</td>\n      <td>244</td>\n      <td>328</td>\n      <td>33</td>\n      <td>92</td>\n      <td>459.0</td>\n      <td>207.0</td>\n      <td>386.0</td>\n      <td>138.0</td>\n      <td>176.0</td>\n      <td>10:00</td>\n    </tr>\n  </tbody>\n</table>\n<p>5 rows × 48 columns</p>\n</div>"
     },
     "metadata": {},
     "execution_count": 10
    }
   ],
   "source": [
    "df_stock.head()"
   ]
  },
  {
   "cell_type": "code",
   "execution_count": 11,
   "metadata": {},
   "outputs": [
    {
     "output_type": "execute_result",
     "data": {
      "text/plain": [
       "    time    variable    value\n",
       "0  06:00  stockTotal   8600.0\n",
       "1  07:00  stockTotal  17873.0\n",
       "2  08:00  stockTotal  24604.0\n",
       "3  09:00  stockTotal  25593.0\n",
       "4  10:00  stockTotal  27555.0"
      ],
      "text/html": "<div>\n<style scoped>\n    .dataframe tbody tr th:only-of-type {\n        vertical-align: middle;\n    }\n\n    .dataframe tbody tr th {\n        vertical-align: top;\n    }\n\n    .dataframe thead th {\n        text-align: right;\n    }\n</style>\n<table border=\"1\" class=\"dataframe\">\n  <thead>\n    <tr style=\"text-align: right;\">\n      <th></th>\n      <th>time</th>\n      <th>variable</th>\n      <th>value</th>\n    </tr>\n  </thead>\n  <tbody>\n    <tr>\n      <th>0</th>\n      <td>06:00</td>\n      <td>stockTotal</td>\n      <td>8600.0</td>\n    </tr>\n    <tr>\n      <th>1</th>\n      <td>07:00</td>\n      <td>stockTotal</td>\n      <td>17873.0</td>\n    </tr>\n    <tr>\n      <th>2</th>\n      <td>08:00</td>\n      <td>stockTotal</td>\n      <td>24604.0</td>\n    </tr>\n    <tr>\n      <th>3</th>\n      <td>09:00</td>\n      <td>stockTotal</td>\n      <td>25593.0</td>\n    </tr>\n    <tr>\n      <th>4</th>\n      <td>10:00</td>\n      <td>stockTotal</td>\n      <td>27555.0</td>\n    </tr>\n  </tbody>\n</table>\n</div>"
     },
     "metadata": {},
     "execution_count": 11
    }
   ],
   "source": [
    "df_stock = df_stock.melt(id_vars=['time'])\n",
    "df_stock.head()"
   ]
  },
  {
   "cell_type": "code",
   "execution_count": 12,
   "metadata": {},
   "outputs": [],
   "source": [
    "df_stock.to_csv('response_stock.csv', index = False)"
   ]
  },
  {
   "cell_type": "code",
   "execution_count": null,
   "metadata": {},
   "outputs": [],
   "source": []
  }
 ]
}