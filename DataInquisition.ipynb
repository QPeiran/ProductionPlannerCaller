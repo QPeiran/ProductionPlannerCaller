{
 "metadata": {
  "language_info": {
   "codemirror_mode": {
    "name": "ipython",
    "version": 3
   },
   "file_extension": ".py",
   "mimetype": "text/x-python",
   "name": "python",
   "nbconvert_exporter": "python",
   "pygments_lexer": "ipython3",
   "version": "3.8.6-final"
  },
  "orig_nbformat": 2,
  "kernelspec": {
   "name": "Python 3.8.6 64-bit ('ProductionPlannerCaller': pipenv)",
   "display_name": "Python 3.8.6 64-bit ('ProductionPlannerCaller': pipenv)",
   "metadata": {
    "interpreter": {
     "hash": "d35c8b516a90ec349fb27354d3f5b0fd5f2200bb14aca3e9a64f3cb0fb9d61f2"
    }
   }
  }
 },
 "nbformat": 4,
 "nbformat_minor": 2,
 "cells": [
  {
   "cell_type": "code",
   "execution_count": 1,
   "metadata": {},
   "outputs": [],
   "source": [
    "import pandas as pd\n",
    "import json\n",
    "from pandas import json_normalize"
   ]
  },
  {
   "cell_type": "code",
   "execution_count": 2,
   "metadata": {},
   "outputs": [],
   "source": [
    "# file = open(r'C:\\Users\\Peiran Quan\\myWorkStation\\PlanningClient\\template_response.json')\n",
    "file = open(r'.\\test_response.json')"
   ]
  },
  {
   "cell_type": "code",
   "execution_count": 3,
   "metadata": {},
   "outputs": [],
   "source": [
    "data = json.load(file)"
   ]
  },
  {
   "cell_type": "code",
   "execution_count": 4,
   "metadata": {
    "tags": []
   },
   "outputs": [
    {
     "output_type": "execute_result",
     "data": {
      "text/plain": [
       "     teamId startDateTime finishDateTime teamLeader  id line batch  week  \\\n",
       "0         1         06:00          06:57     Team 1   0   19  None  None   \n",
       "1         1         07:02          08:00     Team 1   0   18  None  None   \n",
       "2         1         09:01          09:41     Team 1   0    2  None  None   \n",
       "3         1         09:41          10:21     Team 1   0   19  None  None   \n",
       "4         1         10:21          11:10     Team 1   0    2  None  None   \n",
       "..      ...           ...            ...        ...  ..  ...   ...   ...   \n",
       "114      19         07:34          08:23    Team 19   0   14  None  None   \n",
       "115      19         08:23          09:11    Team 19   0   14  None  None   \n",
       "116      20         06:57          07:41    Team 20   0   19  None  None   \n",
       "117      20         08:20          09:01    Team 20   0    2  None  None   \n",
       "118      21         12:00          12:41    Team 20   0   18  None  None   \n",
       "\n",
       "     year  done recipe  productionTarget  mealKitPerCrate  targetSpeed  \\\n",
       "0    None  None     U4               350                5          391   \n",
       "1    None  None     Q4               280                4          314   \n",
       "2    None  None     D2               350                5          574   \n",
       "3    None  None     O2               350                5          579   \n",
       "4    None  None     D4               280                4          372   \n",
       "..    ...   ...    ...               ...              ...          ...   \n",
       "114  None  None     M4               350                5          433   \n",
       "115  None  None     M4               350                5          433   \n",
       "116  None  None     U2               420                6          640   \n",
       "117  None  None     D2               350                5          574   \n",
       "118  None  None     Q2               350                5          556   \n",
       "\n",
       "    displayOrder createdAt teamNames  \n",
       "0           None      None      None  \n",
       "1           None      None      None  \n",
       "2           None      None      None  \n",
       "3           None      None      None  \n",
       "4           None      None      None  \n",
       "..           ...       ...       ...  \n",
       "114         None      None      None  \n",
       "115         None      None      None  \n",
       "116         None      None      None  \n",
       "117         None      None      None  \n",
       "118         None      None      None  \n",
       "\n",
       "[119 rows x 17 columns]"
      ],
      "text/html": "<div>\n<style scoped>\n    .dataframe tbody tr th:only-of-type {\n        vertical-align: middle;\n    }\n\n    .dataframe tbody tr th {\n        vertical-align: top;\n    }\n\n    .dataframe thead th {\n        text-align: right;\n    }\n</style>\n<table border=\"1\" class=\"dataframe\">\n  <thead>\n    <tr style=\"text-align: right;\">\n      <th></th>\n      <th>teamId</th>\n      <th>startDateTime</th>\n      <th>finishDateTime</th>\n      <th>teamLeader</th>\n      <th>id</th>\n      <th>line</th>\n      <th>batch</th>\n      <th>week</th>\n      <th>year</th>\n      <th>done</th>\n      <th>recipe</th>\n      <th>productionTarget</th>\n      <th>mealKitPerCrate</th>\n      <th>targetSpeed</th>\n      <th>displayOrder</th>\n      <th>createdAt</th>\n      <th>teamNames</th>\n    </tr>\n  </thead>\n  <tbody>\n    <tr>\n      <th>0</th>\n      <td>1</td>\n      <td>06:00</td>\n      <td>06:57</td>\n      <td>Team 1</td>\n      <td>0</td>\n      <td>19</td>\n      <td>None</td>\n      <td>None</td>\n      <td>None</td>\n      <td>None</td>\n      <td>U4</td>\n      <td>350</td>\n      <td>5</td>\n      <td>391</td>\n      <td>None</td>\n      <td>None</td>\n      <td>None</td>\n    </tr>\n    <tr>\n      <th>1</th>\n      <td>1</td>\n      <td>07:02</td>\n      <td>08:00</td>\n      <td>Team 1</td>\n      <td>0</td>\n      <td>18</td>\n      <td>None</td>\n      <td>None</td>\n      <td>None</td>\n      <td>None</td>\n      <td>Q4</td>\n      <td>280</td>\n      <td>4</td>\n      <td>314</td>\n      <td>None</td>\n      <td>None</td>\n      <td>None</td>\n    </tr>\n    <tr>\n      <th>2</th>\n      <td>1</td>\n      <td>09:01</td>\n      <td>09:41</td>\n      <td>Team 1</td>\n      <td>0</td>\n      <td>2</td>\n      <td>None</td>\n      <td>None</td>\n      <td>None</td>\n      <td>None</td>\n      <td>D2</td>\n      <td>350</td>\n      <td>5</td>\n      <td>574</td>\n      <td>None</td>\n      <td>None</td>\n      <td>None</td>\n    </tr>\n    <tr>\n      <th>3</th>\n      <td>1</td>\n      <td>09:41</td>\n      <td>10:21</td>\n      <td>Team 1</td>\n      <td>0</td>\n      <td>19</td>\n      <td>None</td>\n      <td>None</td>\n      <td>None</td>\n      <td>None</td>\n      <td>O2</td>\n      <td>350</td>\n      <td>5</td>\n      <td>579</td>\n      <td>None</td>\n      <td>None</td>\n      <td>None</td>\n    </tr>\n    <tr>\n      <th>4</th>\n      <td>1</td>\n      <td>10:21</td>\n      <td>11:10</td>\n      <td>Team 1</td>\n      <td>0</td>\n      <td>2</td>\n      <td>None</td>\n      <td>None</td>\n      <td>None</td>\n      <td>None</td>\n      <td>D4</td>\n      <td>280</td>\n      <td>4</td>\n      <td>372</td>\n      <td>None</td>\n      <td>None</td>\n      <td>None</td>\n    </tr>\n    <tr>\n      <th>...</th>\n      <td>...</td>\n      <td>...</td>\n      <td>...</td>\n      <td>...</td>\n      <td>...</td>\n      <td>...</td>\n      <td>...</td>\n      <td>...</td>\n      <td>...</td>\n      <td>...</td>\n      <td>...</td>\n      <td>...</td>\n      <td>...</td>\n      <td>...</td>\n      <td>...</td>\n      <td>...</td>\n      <td>...</td>\n    </tr>\n    <tr>\n      <th>114</th>\n      <td>19</td>\n      <td>07:34</td>\n      <td>08:23</td>\n      <td>Team 19</td>\n      <td>0</td>\n      <td>14</td>\n      <td>None</td>\n      <td>None</td>\n      <td>None</td>\n      <td>None</td>\n      <td>M4</td>\n      <td>350</td>\n      <td>5</td>\n      <td>433</td>\n      <td>None</td>\n      <td>None</td>\n      <td>None</td>\n    </tr>\n    <tr>\n      <th>115</th>\n      <td>19</td>\n      <td>08:23</td>\n      <td>09:11</td>\n      <td>Team 19</td>\n      <td>0</td>\n      <td>14</td>\n      <td>None</td>\n      <td>None</td>\n      <td>None</td>\n      <td>None</td>\n      <td>M4</td>\n      <td>350</td>\n      <td>5</td>\n      <td>433</td>\n      <td>None</td>\n      <td>None</td>\n      <td>None</td>\n    </tr>\n    <tr>\n      <th>116</th>\n      <td>20</td>\n      <td>06:57</td>\n      <td>07:41</td>\n      <td>Team 20</td>\n      <td>0</td>\n      <td>19</td>\n      <td>None</td>\n      <td>None</td>\n      <td>None</td>\n      <td>None</td>\n      <td>U2</td>\n      <td>420</td>\n      <td>6</td>\n      <td>640</td>\n      <td>None</td>\n      <td>None</td>\n      <td>None</td>\n    </tr>\n    <tr>\n      <th>117</th>\n      <td>20</td>\n      <td>08:20</td>\n      <td>09:01</td>\n      <td>Team 20</td>\n      <td>0</td>\n      <td>2</td>\n      <td>None</td>\n      <td>None</td>\n      <td>None</td>\n      <td>None</td>\n      <td>D2</td>\n      <td>350</td>\n      <td>5</td>\n      <td>574</td>\n      <td>None</td>\n      <td>None</td>\n      <td>None</td>\n    </tr>\n    <tr>\n      <th>118</th>\n      <td>21</td>\n      <td>12:00</td>\n      <td>12:41</td>\n      <td>Team 20</td>\n      <td>0</td>\n      <td>18</td>\n      <td>None</td>\n      <td>None</td>\n      <td>None</td>\n      <td>None</td>\n      <td>Q2</td>\n      <td>350</td>\n      <td>5</td>\n      <td>556</td>\n      <td>None</td>\n      <td>None</td>\n      <td>None</td>\n    </tr>\n  </tbody>\n</table>\n<p>119 rows × 17 columns</p>\n</div>"
     },
     "metadata": {},
     "execution_count": 4
    }
   ],
   "source": [
    "df = json_normalize(data[\"pickingJob\"])\n",
    "df"
   ]
  },
  {
   "cell_type": "code",
   "execution_count": 5,
   "metadata": {},
   "outputs": [
    {
     "output_type": "execute_result",
     "data": {
      "text/plain": [
       "    teamLeader line startDateTime finishDateTime recipe  productionTarget\n",
       "0       Team 1   19         06:00          06:57     U4               350\n",
       "1       Team 1   18         07:02          08:00     Q4               280\n",
       "2       Team 1    2         09:01          09:41     D2               350\n",
       "3       Team 1   19         09:41          10:21     O2               350\n",
       "4       Team 1    2         10:21          11:10     D4               280\n",
       "..         ...  ...           ...            ...    ...               ...\n",
       "114    Team 19   14         07:34          08:23     M4               350\n",
       "115    Team 19   14         08:23          09:11     M4               350\n",
       "116    Team 20   19         06:57          07:41     U2               420\n",
       "117    Team 20    2         08:20          09:01     D2               350\n",
       "118    Team 20   18         12:00          12:41     Q2               350\n",
       "\n",
       "[119 rows x 6 columns]"
      ],
      "text/html": "<div>\n<style scoped>\n    .dataframe tbody tr th:only-of-type {\n        vertical-align: middle;\n    }\n\n    .dataframe tbody tr th {\n        vertical-align: top;\n    }\n\n    .dataframe thead th {\n        text-align: right;\n    }\n</style>\n<table border=\"1\" class=\"dataframe\">\n  <thead>\n    <tr style=\"text-align: right;\">\n      <th></th>\n      <th>teamLeader</th>\n      <th>line</th>\n      <th>startDateTime</th>\n      <th>finishDateTime</th>\n      <th>recipe</th>\n      <th>productionTarget</th>\n    </tr>\n  </thead>\n  <tbody>\n    <tr>\n      <th>0</th>\n      <td>Team 1</td>\n      <td>19</td>\n      <td>06:00</td>\n      <td>06:57</td>\n      <td>U4</td>\n      <td>350</td>\n    </tr>\n    <tr>\n      <th>1</th>\n      <td>Team 1</td>\n      <td>18</td>\n      <td>07:02</td>\n      <td>08:00</td>\n      <td>Q4</td>\n      <td>280</td>\n    </tr>\n    <tr>\n      <th>2</th>\n      <td>Team 1</td>\n      <td>2</td>\n      <td>09:01</td>\n      <td>09:41</td>\n      <td>D2</td>\n      <td>350</td>\n    </tr>\n    <tr>\n      <th>3</th>\n      <td>Team 1</td>\n      <td>19</td>\n      <td>09:41</td>\n      <td>10:21</td>\n      <td>O2</td>\n      <td>350</td>\n    </tr>\n    <tr>\n      <th>4</th>\n      <td>Team 1</td>\n      <td>2</td>\n      <td>10:21</td>\n      <td>11:10</td>\n      <td>D4</td>\n      <td>280</td>\n    </tr>\n    <tr>\n      <th>...</th>\n      <td>...</td>\n      <td>...</td>\n      <td>...</td>\n      <td>...</td>\n      <td>...</td>\n      <td>...</td>\n    </tr>\n    <tr>\n      <th>114</th>\n      <td>Team 19</td>\n      <td>14</td>\n      <td>07:34</td>\n      <td>08:23</td>\n      <td>M4</td>\n      <td>350</td>\n    </tr>\n    <tr>\n      <th>115</th>\n      <td>Team 19</td>\n      <td>14</td>\n      <td>08:23</td>\n      <td>09:11</td>\n      <td>M4</td>\n      <td>350</td>\n    </tr>\n    <tr>\n      <th>116</th>\n      <td>Team 20</td>\n      <td>19</td>\n      <td>06:57</td>\n      <td>07:41</td>\n      <td>U2</td>\n      <td>420</td>\n    </tr>\n    <tr>\n      <th>117</th>\n      <td>Team 20</td>\n      <td>2</td>\n      <td>08:20</td>\n      <td>09:01</td>\n      <td>D2</td>\n      <td>350</td>\n    </tr>\n    <tr>\n      <th>118</th>\n      <td>Team 20</td>\n      <td>18</td>\n      <td>12:00</td>\n      <td>12:41</td>\n      <td>Q2</td>\n      <td>350</td>\n    </tr>\n  </tbody>\n</table>\n<p>119 rows × 6 columns</p>\n</div>"
     },
     "metadata": {},
     "execution_count": 5
    }
   ],
   "source": [
    "df_ultilize = df[[\"teamLeader\", \"line\", \"startDateTime\", \"finishDateTime\", \"recipe\", \"productionTarget\"]]\n",
    "df_ultilize"
   ]
  },
  {
   "cell_type": "code",
   "execution_count": 6,
   "metadata": {},
   "outputs": [],
   "source": [
    "df_ultilize.to_csv('response.csv', index = False)"
   ]
  },
  {
   "cell_type": "code",
   "execution_count": 7,
   "metadata": {},
   "outputs": [
    {
     "output_type": "execute_result",
     "data": {
      "text/plain": [
       "    time  assemblyLine01Requirement  assemblyLine02Requirement  shortage  \\\n",
       "0  06:00                        NaN                        NaN         0   \n",
       "1  07:00                        NaN                        NaN         0   \n",
       "2  08:00                        NaN                        NaN        -6   \n",
       "3  09:00                        NaN                        NaN       -55   \n",
       "4  10:00                        NaN                        NaN      -103   \n",
       "\n",
       "   stockTotal  as01Total  as02Total  kittingLineTotal  dollyCount  \\\n",
       "0        7958          0          0              7958         237   \n",
       "1       14961          0          0              7003         447   \n",
       "2       19274        342        118              4773         585   \n",
       "3       19232       1892       2342              4192         588   \n",
       "4       20580        790       1684              3822         635   \n",
       "\n",
       "   acceptedDollyCount  ...  stock.O2 stock.Q2  stock.B4 stock.SE  \\\n",
       "0                   0  ...       NaN      NaN       NaN      NaN   \n",
       "1                   0  ...       NaN      NaN       NaN      NaN   \n",
       "2                   0  ...      -2.0     -4.0     267.0     38.0   \n",
       "3                   0  ...     172.0    -55.0     187.0     33.0   \n",
       "4                   0  ...     323.0   -103.0     502.0     33.0   \n",
       "\n",
       "   kittingLineProduced.D2  kittingLineProduced.O2  kittingLineProduced.Q2  \\\n",
       "0                     NaN                     NaN                     NaN   \n",
       "1                     NaN                     NaN                     NaN   \n",
       "2                   350.0                     0.0                     0.0   \n",
       "3                   350.0                   182.0                     0.0   \n",
       "4                     0.0                   168.0                     0.0   \n",
       "\n",
       "   kittingLineProduced.B4  kittingLineProduced.SE  kittingLineProduced  \n",
       "0                     NaN                     NaN                  NaN  \n",
       "1                     NaN                     NaN                  NaN  \n",
       "2                   288.0                    38.0                  NaN  \n",
       "3                    71.0                     0.0                  NaN  \n",
       "4                   370.0                     0.0                  NaN  \n",
       "\n",
       "[5 rows x 200 columns]"
      ],
      "text/html": "<div>\n<style scoped>\n    .dataframe tbody tr th:only-of-type {\n        vertical-align: middle;\n    }\n\n    .dataframe tbody tr th {\n        vertical-align: top;\n    }\n\n    .dataframe thead th {\n        text-align: right;\n    }\n</style>\n<table border=\"1\" class=\"dataframe\">\n  <thead>\n    <tr style=\"text-align: right;\">\n      <th></th>\n      <th>time</th>\n      <th>assemblyLine01Requirement</th>\n      <th>assemblyLine02Requirement</th>\n      <th>shortage</th>\n      <th>stockTotal</th>\n      <th>as01Total</th>\n      <th>as02Total</th>\n      <th>kittingLineTotal</th>\n      <th>dollyCount</th>\n      <th>acceptedDollyCount</th>\n      <th>...</th>\n      <th>stock.O2</th>\n      <th>stock.Q2</th>\n      <th>stock.B4</th>\n      <th>stock.SE</th>\n      <th>kittingLineProduced.D2</th>\n      <th>kittingLineProduced.O2</th>\n      <th>kittingLineProduced.Q2</th>\n      <th>kittingLineProduced.B4</th>\n      <th>kittingLineProduced.SE</th>\n      <th>kittingLineProduced</th>\n    </tr>\n  </thead>\n  <tbody>\n    <tr>\n      <th>0</th>\n      <td>06:00</td>\n      <td>NaN</td>\n      <td>NaN</td>\n      <td>0</td>\n      <td>7958</td>\n      <td>0</td>\n      <td>0</td>\n      <td>7958</td>\n      <td>237</td>\n      <td>0</td>\n      <td>...</td>\n      <td>NaN</td>\n      <td>NaN</td>\n      <td>NaN</td>\n      <td>NaN</td>\n      <td>NaN</td>\n      <td>NaN</td>\n      <td>NaN</td>\n      <td>NaN</td>\n      <td>NaN</td>\n      <td>NaN</td>\n    </tr>\n    <tr>\n      <th>1</th>\n      <td>07:00</td>\n      <td>NaN</td>\n      <td>NaN</td>\n      <td>0</td>\n      <td>14961</td>\n      <td>0</td>\n      <td>0</td>\n      <td>7003</td>\n      <td>447</td>\n      <td>0</td>\n      <td>...</td>\n      <td>NaN</td>\n      <td>NaN</td>\n      <td>NaN</td>\n      <td>NaN</td>\n      <td>NaN</td>\n      <td>NaN</td>\n      <td>NaN</td>\n      <td>NaN</td>\n      <td>NaN</td>\n      <td>NaN</td>\n    </tr>\n    <tr>\n      <th>2</th>\n      <td>08:00</td>\n      <td>NaN</td>\n      <td>NaN</td>\n      <td>-6</td>\n      <td>19274</td>\n      <td>342</td>\n      <td>118</td>\n      <td>4773</td>\n      <td>585</td>\n      <td>0</td>\n      <td>...</td>\n      <td>-2.0</td>\n      <td>-4.0</td>\n      <td>267.0</td>\n      <td>38.0</td>\n      <td>350.0</td>\n      <td>0.0</td>\n      <td>0.0</td>\n      <td>288.0</td>\n      <td>38.0</td>\n      <td>NaN</td>\n    </tr>\n    <tr>\n      <th>3</th>\n      <td>09:00</td>\n      <td>NaN</td>\n      <td>NaN</td>\n      <td>-55</td>\n      <td>19232</td>\n      <td>1892</td>\n      <td>2342</td>\n      <td>4192</td>\n      <td>588</td>\n      <td>0</td>\n      <td>...</td>\n      <td>172.0</td>\n      <td>-55.0</td>\n      <td>187.0</td>\n      <td>33.0</td>\n      <td>350.0</td>\n      <td>182.0</td>\n      <td>0.0</td>\n      <td>71.0</td>\n      <td>0.0</td>\n      <td>NaN</td>\n    </tr>\n    <tr>\n      <th>4</th>\n      <td>10:00</td>\n      <td>NaN</td>\n      <td>NaN</td>\n      <td>-103</td>\n      <td>20580</td>\n      <td>790</td>\n      <td>1684</td>\n      <td>3822</td>\n      <td>635</td>\n      <td>0</td>\n      <td>...</td>\n      <td>323.0</td>\n      <td>-103.0</td>\n      <td>502.0</td>\n      <td>33.0</td>\n      <td>0.0</td>\n      <td>168.0</td>\n      <td>0.0</td>\n      <td>370.0</td>\n      <td>0.0</td>\n      <td>NaN</td>\n    </tr>\n  </tbody>\n</table>\n<p>5 rows × 200 columns</p>\n</div>"
     },
     "metadata": {},
     "execution_count": 7
    }
   ],
   "source": [
    "df_stock = json_normalize(data[\"stockOverTime\"])\n",
    "df_stock.head()"
   ]
  },
  {
   "cell_type": "code",
   "execution_count": 8,
   "metadata": {},
   "outputs": [
    {
     "output_type": "execute_result",
     "data": {
      "text/plain": [
       "['stockTotal',\n",
       " 'stock.A2',\n",
       " 'stock.B2',\n",
       " 'stock.C2',\n",
       " 'stock.E2',\n",
       " 'stock.F2',\n",
       " 'stock.H2',\n",
       " 'stock.I2',\n",
       " 'stock.J2',\n",
       " 'stock.K2',\n",
       " 'stock.L2',\n",
       " 'stock.M2',\n",
       " 'stock.N2',\n",
       " 'stock.P2',\n",
       " 'stock.R2',\n",
       " 'stock.S2',\n",
       " 'stock.T2',\n",
       " 'stock.U2',\n",
       " 'stock.A4',\n",
       " 'stock.E4',\n",
       " 'stock.F4',\n",
       " 'stock.G4',\n",
       " 'stock.H4',\n",
       " 'stock.I4',\n",
       " 'stock.J4',\n",
       " 'stock.K4',\n",
       " 'stock.M4',\n",
       " 'stock.N4',\n",
       " 'stock.P4',\n",
       " 'stock.Q4',\n",
       " 'stock.R4',\n",
       " 'stock.S4',\n",
       " 'stock.U4',\n",
       " 'stock.SA',\n",
       " 'stock.SG',\n",
       " 'stock.SF',\n",
       " 'stock.G2',\n",
       " 'stock.C4',\n",
       " 'stock.D4',\n",
       " 'stock.L4',\n",
       " 'stock.O4',\n",
       " 'stock.T4',\n",
       " 'stock.D2',\n",
       " 'stock.O2',\n",
       " 'stock.Q2',\n",
       " 'stock.B4',\n",
       " 'stock.SE',\n",
       " 'time']"
      ]
     },
     "metadata": {},
     "execution_count": 8
    }
   ],
   "source": [
    "filter_col = [col for col in df_stock if col.startswith('stock')]\n",
    "filter_col.append('time')\n",
    "filter_col"
   ]
  },
  {
   "cell_type": "code",
   "execution_count": 9,
   "metadata": {},
   "outputs": [],
   "source": [
    "df_stock = df_stock[filter_col]\n",
    "# df_stock.set_index('time', inplace = True)"
   ]
  },
  {
   "cell_type": "code",
   "execution_count": 10,
   "metadata": {},
   "outputs": [
    {
     "output_type": "execute_result",
     "data": {
      "text/plain": [
       "   stockTotal  stock.A2  stock.B2  stock.C2  stock.E2  stock.F2  stock.H2  \\\n",
       "0        7958       350       420       166       420       169       350   \n",
       "1       14961       669       420       350       420       481       700   \n",
       "2       19274       694       413       741       482       840       699   \n",
       "3       19232       438       578       770       618       810       579   \n",
       "4       20580       373       409       588       484       787       490   \n",
       "\n",
       "   stock.I2  stock.J2  stock.K2  ...  stock.D4  stock.L4  stock.O4  stock.T4  \\\n",
       "0       148        86       420  ...       NaN       NaN       NaN       NaN   \n",
       "1       350       650       420  ...     170.0     442.0      91.0      86.0   \n",
       "2       350       840       402  ...     252.0     816.0     186.0     147.0   \n",
       "3       288       779       297  ...      86.0    1116.0     179.0     139.0   \n",
       "4       225       730       560  ...     248.0    1506.0     176.0     138.0   \n",
       "\n",
       "   stock.D2  stock.O2  stock.Q2  stock.B4  stock.SE   time  \n",
       "0       NaN       NaN       NaN       NaN       NaN  06:00  \n",
       "1       NaN       NaN       NaN       NaN       NaN  07:00  \n",
       "2     341.0      -2.0      -4.0     267.0      38.0  08:00  \n",
       "3     436.0     172.0     -55.0     187.0      33.0  09:00  \n",
       "4     270.0     323.0    -103.0     502.0      33.0  10:00  \n",
       "\n",
       "[5 rows x 48 columns]"
      ],
      "text/html": "<div>\n<style scoped>\n    .dataframe tbody tr th:only-of-type {\n        vertical-align: middle;\n    }\n\n    .dataframe tbody tr th {\n        vertical-align: top;\n    }\n\n    .dataframe thead th {\n        text-align: right;\n    }\n</style>\n<table border=\"1\" class=\"dataframe\">\n  <thead>\n    <tr style=\"text-align: right;\">\n      <th></th>\n      <th>stockTotal</th>\n      <th>stock.A2</th>\n      <th>stock.B2</th>\n      <th>stock.C2</th>\n      <th>stock.E2</th>\n      <th>stock.F2</th>\n      <th>stock.H2</th>\n      <th>stock.I2</th>\n      <th>stock.J2</th>\n      <th>stock.K2</th>\n      <th>...</th>\n      <th>stock.D4</th>\n      <th>stock.L4</th>\n      <th>stock.O4</th>\n      <th>stock.T4</th>\n      <th>stock.D2</th>\n      <th>stock.O2</th>\n      <th>stock.Q2</th>\n      <th>stock.B4</th>\n      <th>stock.SE</th>\n      <th>time</th>\n    </tr>\n  </thead>\n  <tbody>\n    <tr>\n      <th>0</th>\n      <td>7958</td>\n      <td>350</td>\n      <td>420</td>\n      <td>166</td>\n      <td>420</td>\n      <td>169</td>\n      <td>350</td>\n      <td>148</td>\n      <td>86</td>\n      <td>420</td>\n      <td>...</td>\n      <td>NaN</td>\n      <td>NaN</td>\n      <td>NaN</td>\n      <td>NaN</td>\n      <td>NaN</td>\n      <td>NaN</td>\n      <td>NaN</td>\n      <td>NaN</td>\n      <td>NaN</td>\n      <td>06:00</td>\n    </tr>\n    <tr>\n      <th>1</th>\n      <td>14961</td>\n      <td>669</td>\n      <td>420</td>\n      <td>350</td>\n      <td>420</td>\n      <td>481</td>\n      <td>700</td>\n      <td>350</td>\n      <td>650</td>\n      <td>420</td>\n      <td>...</td>\n      <td>170.0</td>\n      <td>442.0</td>\n      <td>91.0</td>\n      <td>86.0</td>\n      <td>NaN</td>\n      <td>NaN</td>\n      <td>NaN</td>\n      <td>NaN</td>\n      <td>NaN</td>\n      <td>07:00</td>\n    </tr>\n    <tr>\n      <th>2</th>\n      <td>19274</td>\n      <td>694</td>\n      <td>413</td>\n      <td>741</td>\n      <td>482</td>\n      <td>840</td>\n      <td>699</td>\n      <td>350</td>\n      <td>840</td>\n      <td>402</td>\n      <td>...</td>\n      <td>252.0</td>\n      <td>816.0</td>\n      <td>186.0</td>\n      <td>147.0</td>\n      <td>341.0</td>\n      <td>-2.0</td>\n      <td>-4.0</td>\n      <td>267.0</td>\n      <td>38.0</td>\n      <td>08:00</td>\n    </tr>\n    <tr>\n      <th>3</th>\n      <td>19232</td>\n      <td>438</td>\n      <td>578</td>\n      <td>770</td>\n      <td>618</td>\n      <td>810</td>\n      <td>579</td>\n      <td>288</td>\n      <td>779</td>\n      <td>297</td>\n      <td>...</td>\n      <td>86.0</td>\n      <td>1116.0</td>\n      <td>179.0</td>\n      <td>139.0</td>\n      <td>436.0</td>\n      <td>172.0</td>\n      <td>-55.0</td>\n      <td>187.0</td>\n      <td>33.0</td>\n      <td>09:00</td>\n    </tr>\n    <tr>\n      <th>4</th>\n      <td>20580</td>\n      <td>373</td>\n      <td>409</td>\n      <td>588</td>\n      <td>484</td>\n      <td>787</td>\n      <td>490</td>\n      <td>225</td>\n      <td>730</td>\n      <td>560</td>\n      <td>...</td>\n      <td>248.0</td>\n      <td>1506.0</td>\n      <td>176.0</td>\n      <td>138.0</td>\n      <td>270.0</td>\n      <td>323.0</td>\n      <td>-103.0</td>\n      <td>502.0</td>\n      <td>33.0</td>\n      <td>10:00</td>\n    </tr>\n  </tbody>\n</table>\n<p>5 rows × 48 columns</p>\n</div>"
     },
     "metadata": {},
     "execution_count": 10
    }
   ],
   "source": [
    "df_stock.head()"
   ]
  },
  {
   "cell_type": "code",
   "execution_count": 11,
   "metadata": {},
   "outputs": [
    {
     "output_type": "execute_result",
     "data": {
      "text/plain": [
       "    time    variable    value\n",
       "0  06:00  stockTotal   7958.0\n",
       "1  07:00  stockTotal  14961.0\n",
       "2  08:00  stockTotal  19274.0\n",
       "3  09:00  stockTotal  19232.0\n",
       "4  10:00  stockTotal  20580.0"
      ],
      "text/html": "<div>\n<style scoped>\n    .dataframe tbody tr th:only-of-type {\n        vertical-align: middle;\n    }\n\n    .dataframe tbody tr th {\n        vertical-align: top;\n    }\n\n    .dataframe thead th {\n        text-align: right;\n    }\n</style>\n<table border=\"1\" class=\"dataframe\">\n  <thead>\n    <tr style=\"text-align: right;\">\n      <th></th>\n      <th>time</th>\n      <th>variable</th>\n      <th>value</th>\n    </tr>\n  </thead>\n  <tbody>\n    <tr>\n      <th>0</th>\n      <td>06:00</td>\n      <td>stockTotal</td>\n      <td>7958.0</td>\n    </tr>\n    <tr>\n      <th>1</th>\n      <td>07:00</td>\n      <td>stockTotal</td>\n      <td>14961.0</td>\n    </tr>\n    <tr>\n      <th>2</th>\n      <td>08:00</td>\n      <td>stockTotal</td>\n      <td>19274.0</td>\n    </tr>\n    <tr>\n      <th>3</th>\n      <td>09:00</td>\n      <td>stockTotal</td>\n      <td>19232.0</td>\n    </tr>\n    <tr>\n      <th>4</th>\n      <td>10:00</td>\n      <td>stockTotal</td>\n      <td>20580.0</td>\n    </tr>\n  </tbody>\n</table>\n</div>"
     },
     "metadata": {},
     "execution_count": 11
    }
   ],
   "source": [
    "df_stock = df_stock.melt(id_vars=['time'])\n",
    "df_stock.head()"
   ]
  },
  {
   "cell_type": "code",
   "execution_count": 12,
   "metadata": {},
   "outputs": [],
   "source": [
    "df_stock.to_csv('response_stock.csv', index = False)"
   ]
  },
  {
   "cell_type": "code",
   "execution_count": null,
   "metadata": {},
   "outputs": [],
   "source": []
  }
 ]
}