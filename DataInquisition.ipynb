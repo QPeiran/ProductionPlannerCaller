{
 "metadata": {
  "language_info": {
   "codemirror_mode": {
    "name": "ipython",
    "version": 3
   },
   "file_extension": ".py",
   "mimetype": "text/x-python",
   "name": "python",
   "nbconvert_exporter": "python",
   "pygments_lexer": "ipython3",
   "version": "3.8.6-final"
  },
  "orig_nbformat": 2,
  "kernelspec": {
   "name": "Python 3.8.6 64-bit ('ProductionPlannerCaller': pipenv)",
   "display_name": "Python 3.8.6 64-bit ('ProductionPlannerCaller': pipenv)",
   "metadata": {
    "interpreter": {
     "hash": "d35c8b516a90ec349fb27354d3f5b0fd5f2200bb14aca3e9a64f3cb0fb9d61f2"
    }
   }
  }
 },
 "nbformat": 4,
 "nbformat_minor": 2,
 "cells": [
  {
   "cell_type": "code",
   "execution_count": 1,
   "metadata": {},
   "outputs": [],
   "source": [
    "import pandas as pd\n",
    "import json\n",
    "from pandas import json_normalize"
   ]
  },
  {
   "cell_type": "code",
   "execution_count": 2,
   "metadata": {},
   "outputs": [],
   "source": [
    "# file = open(r'C:\\Users\\Peiran Quan\\myWorkStation\\PlanningClient\\template_response.json')\n",
    "file = open(r'.\\test_response.json')"
   ]
  },
  {
   "cell_type": "code",
   "execution_count": 3,
   "metadata": {},
   "outputs": [],
   "source": [
    "data = json.load(file)"
   ]
  },
  {
   "cell_type": "code",
   "execution_count": 4,
   "metadata": {
    "tags": []
   },
   "outputs": [
    {
     "output_type": "execute_result",
     "data": {
      "text/plain": [
       "      teamId startDateTime finishDateTime teamLeader  id line batch  week  \\\n",
       "0          1         06:00          06:03     Team 1   0    6  None  None   \n",
       "1          1         06:03          06:07     Team 1   0    6  None  None   \n",
       "2          1         06:07          06:11     Team 1   0    6  None  None   \n",
       "3          1         06:11          06:15     Team 1   0    6  None  None   \n",
       "4          1         06:15          06:18     Team 1   0    6  None  None   \n",
       "...      ...           ...            ...        ...  ..  ...   ...   ...   \n",
       "1231      20         12:51          12:56    Team 20   0    2  None  None   \n",
       "1232      20         12:56          13:01    Team 20   0    2  None  None   \n",
       "1233      20         13:01          13:05    Team 20   0    2  None  None   \n",
       "1234      20         13:05          13:10    Team 20   0    2  None  None   \n",
       "1235      20         13:10          13:15    Team 20   0    2  None  None   \n",
       "\n",
       "      year  done recipe  productionTarget  mealKitPerCrate  targetSpeed  \\\n",
       "0     None  None     C4                28                4          448   \n",
       "1     None  None     C4                28                4          448   \n",
       "2     None  None     C4                28                4          448   \n",
       "3     None  None     C4                28                4          448   \n",
       "4     None  None     C4                28                4          448   \n",
       "...    ...   ...    ...               ...              ...          ...   \n",
       "1231  None  None     D4                28                4          372   \n",
       "1232  None  None     D4                28                4          372   \n",
       "1233  None  None     D4                28                4          372   \n",
       "1234  None  None     D4                28                4          372   \n",
       "1235  None  None     D4                28                4          372   \n",
       "\n",
       "     displayOrder createdAt teamNames  \n",
       "0            None      None      None  \n",
       "1            None      None      None  \n",
       "2            None      None      None  \n",
       "3            None      None      None  \n",
       "4            None      None      None  \n",
       "...           ...       ...       ...  \n",
       "1231         None      None      None  \n",
       "1232         None      None      None  \n",
       "1233         None      None      None  \n",
       "1234         None      None      None  \n",
       "1235         None      None      None  \n",
       "\n",
       "[1236 rows x 17 columns]"
      ],
      "text/html": "<div>\n<style scoped>\n    .dataframe tbody tr th:only-of-type {\n        vertical-align: middle;\n    }\n\n    .dataframe tbody tr th {\n        vertical-align: top;\n    }\n\n    .dataframe thead th {\n        text-align: right;\n    }\n</style>\n<table border=\"1\" class=\"dataframe\">\n  <thead>\n    <tr style=\"text-align: right;\">\n      <th></th>\n      <th>teamId</th>\n      <th>startDateTime</th>\n      <th>finishDateTime</th>\n      <th>teamLeader</th>\n      <th>id</th>\n      <th>line</th>\n      <th>batch</th>\n      <th>week</th>\n      <th>year</th>\n      <th>done</th>\n      <th>recipe</th>\n      <th>productionTarget</th>\n      <th>mealKitPerCrate</th>\n      <th>targetSpeed</th>\n      <th>displayOrder</th>\n      <th>createdAt</th>\n      <th>teamNames</th>\n    </tr>\n  </thead>\n  <tbody>\n    <tr>\n      <th>0</th>\n      <td>1</td>\n      <td>06:00</td>\n      <td>06:03</td>\n      <td>Team 1</td>\n      <td>0</td>\n      <td>6</td>\n      <td>None</td>\n      <td>None</td>\n      <td>None</td>\n      <td>None</td>\n      <td>C4</td>\n      <td>28</td>\n      <td>4</td>\n      <td>448</td>\n      <td>None</td>\n      <td>None</td>\n      <td>None</td>\n    </tr>\n    <tr>\n      <th>1</th>\n      <td>1</td>\n      <td>06:03</td>\n      <td>06:07</td>\n      <td>Team 1</td>\n      <td>0</td>\n      <td>6</td>\n      <td>None</td>\n      <td>None</td>\n      <td>None</td>\n      <td>None</td>\n      <td>C4</td>\n      <td>28</td>\n      <td>4</td>\n      <td>448</td>\n      <td>None</td>\n      <td>None</td>\n      <td>None</td>\n    </tr>\n    <tr>\n      <th>2</th>\n      <td>1</td>\n      <td>06:07</td>\n      <td>06:11</td>\n      <td>Team 1</td>\n      <td>0</td>\n      <td>6</td>\n      <td>None</td>\n      <td>None</td>\n      <td>None</td>\n      <td>None</td>\n      <td>C4</td>\n      <td>28</td>\n      <td>4</td>\n      <td>448</td>\n      <td>None</td>\n      <td>None</td>\n      <td>None</td>\n    </tr>\n    <tr>\n      <th>3</th>\n      <td>1</td>\n      <td>06:11</td>\n      <td>06:15</td>\n      <td>Team 1</td>\n      <td>0</td>\n      <td>6</td>\n      <td>None</td>\n      <td>None</td>\n      <td>None</td>\n      <td>None</td>\n      <td>C4</td>\n      <td>28</td>\n      <td>4</td>\n      <td>448</td>\n      <td>None</td>\n      <td>None</td>\n      <td>None</td>\n    </tr>\n    <tr>\n      <th>4</th>\n      <td>1</td>\n      <td>06:15</td>\n      <td>06:18</td>\n      <td>Team 1</td>\n      <td>0</td>\n      <td>6</td>\n      <td>None</td>\n      <td>None</td>\n      <td>None</td>\n      <td>None</td>\n      <td>C4</td>\n      <td>28</td>\n      <td>4</td>\n      <td>448</td>\n      <td>None</td>\n      <td>None</td>\n      <td>None</td>\n    </tr>\n    <tr>\n      <th>...</th>\n      <td>...</td>\n      <td>...</td>\n      <td>...</td>\n      <td>...</td>\n      <td>...</td>\n      <td>...</td>\n      <td>...</td>\n      <td>...</td>\n      <td>...</td>\n      <td>...</td>\n      <td>...</td>\n      <td>...</td>\n      <td>...</td>\n      <td>...</td>\n      <td>...</td>\n      <td>...</td>\n      <td>...</td>\n    </tr>\n    <tr>\n      <th>1231</th>\n      <td>20</td>\n      <td>12:51</td>\n      <td>12:56</td>\n      <td>Team 20</td>\n      <td>0</td>\n      <td>2</td>\n      <td>None</td>\n      <td>None</td>\n      <td>None</td>\n      <td>None</td>\n      <td>D4</td>\n      <td>28</td>\n      <td>4</td>\n      <td>372</td>\n      <td>None</td>\n      <td>None</td>\n      <td>None</td>\n    </tr>\n    <tr>\n      <th>1232</th>\n      <td>20</td>\n      <td>12:56</td>\n      <td>13:01</td>\n      <td>Team 20</td>\n      <td>0</td>\n      <td>2</td>\n      <td>None</td>\n      <td>None</td>\n      <td>None</td>\n      <td>None</td>\n      <td>D4</td>\n      <td>28</td>\n      <td>4</td>\n      <td>372</td>\n      <td>None</td>\n      <td>None</td>\n      <td>None</td>\n    </tr>\n    <tr>\n      <th>1233</th>\n      <td>20</td>\n      <td>13:01</td>\n      <td>13:05</td>\n      <td>Team 20</td>\n      <td>0</td>\n      <td>2</td>\n      <td>None</td>\n      <td>None</td>\n      <td>None</td>\n      <td>None</td>\n      <td>D4</td>\n      <td>28</td>\n      <td>4</td>\n      <td>372</td>\n      <td>None</td>\n      <td>None</td>\n      <td>None</td>\n    </tr>\n    <tr>\n      <th>1234</th>\n      <td>20</td>\n      <td>13:05</td>\n      <td>13:10</td>\n      <td>Team 20</td>\n      <td>0</td>\n      <td>2</td>\n      <td>None</td>\n      <td>None</td>\n      <td>None</td>\n      <td>None</td>\n      <td>D4</td>\n      <td>28</td>\n      <td>4</td>\n      <td>372</td>\n      <td>None</td>\n      <td>None</td>\n      <td>None</td>\n    </tr>\n    <tr>\n      <th>1235</th>\n      <td>20</td>\n      <td>13:10</td>\n      <td>13:15</td>\n      <td>Team 20</td>\n      <td>0</td>\n      <td>2</td>\n      <td>None</td>\n      <td>None</td>\n      <td>None</td>\n      <td>None</td>\n      <td>D4</td>\n      <td>28</td>\n      <td>4</td>\n      <td>372</td>\n      <td>None</td>\n      <td>None</td>\n      <td>None</td>\n    </tr>\n  </tbody>\n</table>\n<p>1236 rows × 17 columns</p>\n</div>"
     },
     "metadata": {},
     "execution_count": 4
    }
   ],
   "source": [
    "df = json_normalize(data[\"pickingJob\"])\n",
    "df"
   ]
  },
  {
   "cell_type": "code",
   "execution_count": 5,
   "metadata": {},
   "outputs": [
    {
     "output_type": "execute_result",
     "data": {
      "text/plain": [
       "     teamLeader line startDateTime finishDateTime recipe  productionTarget\n",
       "0        Team 1    6         06:00          06:03     C4                28\n",
       "1        Team 1    6         06:03          06:07     C4                28\n",
       "2        Team 1    6         06:07          06:11     C4                28\n",
       "3        Team 1    6         06:11          06:15     C4                28\n",
       "4        Team 1    6         06:15          06:18     C4                28\n",
       "...         ...  ...           ...            ...    ...               ...\n",
       "1231    Team 20    2         12:51          12:56     D4                28\n",
       "1232    Team 20    2         12:56          13:01     D4                28\n",
       "1233    Team 20    2         13:01          13:05     D4                28\n",
       "1234    Team 20    2         13:05          13:10     D4                28\n",
       "1235    Team 20    2         13:10          13:15     D4                28\n",
       "\n",
       "[1236 rows x 6 columns]"
      ],
      "text/html": "<div>\n<style scoped>\n    .dataframe tbody tr th:only-of-type {\n        vertical-align: middle;\n    }\n\n    .dataframe tbody tr th {\n        vertical-align: top;\n    }\n\n    .dataframe thead th {\n        text-align: right;\n    }\n</style>\n<table border=\"1\" class=\"dataframe\">\n  <thead>\n    <tr style=\"text-align: right;\">\n      <th></th>\n      <th>teamLeader</th>\n      <th>line</th>\n      <th>startDateTime</th>\n      <th>finishDateTime</th>\n      <th>recipe</th>\n      <th>productionTarget</th>\n    </tr>\n  </thead>\n  <tbody>\n    <tr>\n      <th>0</th>\n      <td>Team 1</td>\n      <td>6</td>\n      <td>06:00</td>\n      <td>06:03</td>\n      <td>C4</td>\n      <td>28</td>\n    </tr>\n    <tr>\n      <th>1</th>\n      <td>Team 1</td>\n      <td>6</td>\n      <td>06:03</td>\n      <td>06:07</td>\n      <td>C4</td>\n      <td>28</td>\n    </tr>\n    <tr>\n      <th>2</th>\n      <td>Team 1</td>\n      <td>6</td>\n      <td>06:07</td>\n      <td>06:11</td>\n      <td>C4</td>\n      <td>28</td>\n    </tr>\n    <tr>\n      <th>3</th>\n      <td>Team 1</td>\n      <td>6</td>\n      <td>06:11</td>\n      <td>06:15</td>\n      <td>C4</td>\n      <td>28</td>\n    </tr>\n    <tr>\n      <th>4</th>\n      <td>Team 1</td>\n      <td>6</td>\n      <td>06:15</td>\n      <td>06:18</td>\n      <td>C4</td>\n      <td>28</td>\n    </tr>\n    <tr>\n      <th>...</th>\n      <td>...</td>\n      <td>...</td>\n      <td>...</td>\n      <td>...</td>\n      <td>...</td>\n      <td>...</td>\n    </tr>\n    <tr>\n      <th>1231</th>\n      <td>Team 20</td>\n      <td>2</td>\n      <td>12:51</td>\n      <td>12:56</td>\n      <td>D4</td>\n      <td>28</td>\n    </tr>\n    <tr>\n      <th>1232</th>\n      <td>Team 20</td>\n      <td>2</td>\n      <td>12:56</td>\n      <td>13:01</td>\n      <td>D4</td>\n      <td>28</td>\n    </tr>\n    <tr>\n      <th>1233</th>\n      <td>Team 20</td>\n      <td>2</td>\n      <td>13:01</td>\n      <td>13:05</td>\n      <td>D4</td>\n      <td>28</td>\n    </tr>\n    <tr>\n      <th>1234</th>\n      <td>Team 20</td>\n      <td>2</td>\n      <td>13:05</td>\n      <td>13:10</td>\n      <td>D4</td>\n      <td>28</td>\n    </tr>\n    <tr>\n      <th>1235</th>\n      <td>Team 20</td>\n      <td>2</td>\n      <td>13:10</td>\n      <td>13:15</td>\n      <td>D4</td>\n      <td>28</td>\n    </tr>\n  </tbody>\n</table>\n<p>1236 rows × 6 columns</p>\n</div>"
     },
     "metadata": {},
     "execution_count": 5
    }
   ],
   "source": [
    "df_ultilize = df[[\"teamLeader\", \"line\", \"startDateTime\", \"finishDateTime\", \"recipe\", \"productionTarget\"]]\n",
    "df_ultilize"
   ]
  },
  {
   "cell_type": "code",
   "execution_count": 6,
   "metadata": {},
   "outputs": [],
   "source": [
    "def change_indicator(input_df: pd.DataFrame) -> pd.DataFrame :\n",
    "    input_df.sort_values(by=['startDateTime'], ascending=True, inplace=True)\n",
    "    col_ori = input_df['recipe']\n",
    "    col_shift = input_df['recipe'].shift(1)\n",
    "    input_df['change_indicator'] = ~(col_ori == col_shift)\n",
    "    return input_df"
   ]
  },
  {
   "cell_type": "code",
   "execution_count": 7,
   "metadata": {},
   "outputs": [
    {
     "output_type": "execute_result",
     "data": {
      "text/plain": [
       "     teamLeader line startDateTime finishDateTime recipe  productionTarget  \\\n",
       "0        Team 1    6         06:00          06:03     C4                28   \n",
       "1        Team 1    6         06:03          06:07     C4                28   \n",
       "2        Team 1    6         06:07          06:11     C4                28   \n",
       "3        Team 1    6         06:11          06:15     C4                28   \n",
       "4        Team 1    6         06:15          06:18     C4                28   \n",
       "...         ...  ...           ...            ...    ...               ...   \n",
       "1231    Team 20    2         12:51          12:56     D4                28   \n",
       "1232    Team 20    2         12:56          13:01     D4                28   \n",
       "1233    Team 20    2         13:01          13:05     D4                28   \n",
       "1234    Team 20    2         13:05          13:10     D4                28   \n",
       "1235    Team 20    2         13:10          13:15     D4                28   \n",
       "\n",
       "      change_indicator  \n",
       "0                 True  \n",
       "1                False  \n",
       "2                False  \n",
       "3                False  \n",
       "4                False  \n",
       "...                ...  \n",
       "1231              True  \n",
       "1232             False  \n",
       "1233             False  \n",
       "1234             False  \n",
       "1235             False  \n",
       "\n",
       "[1236 rows x 7 columns]"
      ],
      "text/html": "<div>\n<style scoped>\n    .dataframe tbody tr th:only-of-type {\n        vertical-align: middle;\n    }\n\n    .dataframe tbody tr th {\n        vertical-align: top;\n    }\n\n    .dataframe thead th {\n        text-align: right;\n    }\n</style>\n<table border=\"1\" class=\"dataframe\">\n  <thead>\n    <tr style=\"text-align: right;\">\n      <th></th>\n      <th>teamLeader</th>\n      <th>line</th>\n      <th>startDateTime</th>\n      <th>finishDateTime</th>\n      <th>recipe</th>\n      <th>productionTarget</th>\n      <th>change_indicator</th>\n    </tr>\n  </thead>\n  <tbody>\n    <tr>\n      <th>0</th>\n      <td>Team 1</td>\n      <td>6</td>\n      <td>06:00</td>\n      <td>06:03</td>\n      <td>C4</td>\n      <td>28</td>\n      <td>True</td>\n    </tr>\n    <tr>\n      <th>1</th>\n      <td>Team 1</td>\n      <td>6</td>\n      <td>06:03</td>\n      <td>06:07</td>\n      <td>C4</td>\n      <td>28</td>\n      <td>False</td>\n    </tr>\n    <tr>\n      <th>2</th>\n      <td>Team 1</td>\n      <td>6</td>\n      <td>06:07</td>\n      <td>06:11</td>\n      <td>C4</td>\n      <td>28</td>\n      <td>False</td>\n    </tr>\n    <tr>\n      <th>3</th>\n      <td>Team 1</td>\n      <td>6</td>\n      <td>06:11</td>\n      <td>06:15</td>\n      <td>C4</td>\n      <td>28</td>\n      <td>False</td>\n    </tr>\n    <tr>\n      <th>4</th>\n      <td>Team 1</td>\n      <td>6</td>\n      <td>06:15</td>\n      <td>06:18</td>\n      <td>C4</td>\n      <td>28</td>\n      <td>False</td>\n    </tr>\n    <tr>\n      <th>...</th>\n      <td>...</td>\n      <td>...</td>\n      <td>...</td>\n      <td>...</td>\n      <td>...</td>\n      <td>...</td>\n      <td>...</td>\n    </tr>\n    <tr>\n      <th>1231</th>\n      <td>Team 20</td>\n      <td>2</td>\n      <td>12:51</td>\n      <td>12:56</td>\n      <td>D4</td>\n      <td>28</td>\n      <td>True</td>\n    </tr>\n    <tr>\n      <th>1232</th>\n      <td>Team 20</td>\n      <td>2</td>\n      <td>12:56</td>\n      <td>13:01</td>\n      <td>D4</td>\n      <td>28</td>\n      <td>False</td>\n    </tr>\n    <tr>\n      <th>1233</th>\n      <td>Team 20</td>\n      <td>2</td>\n      <td>13:01</td>\n      <td>13:05</td>\n      <td>D4</td>\n      <td>28</td>\n      <td>False</td>\n    </tr>\n    <tr>\n      <th>1234</th>\n      <td>Team 20</td>\n      <td>2</td>\n      <td>13:05</td>\n      <td>13:10</td>\n      <td>D4</td>\n      <td>28</td>\n      <td>False</td>\n    </tr>\n    <tr>\n      <th>1235</th>\n      <td>Team 20</td>\n      <td>2</td>\n      <td>13:10</td>\n      <td>13:15</td>\n      <td>D4</td>\n      <td>28</td>\n      <td>False</td>\n    </tr>\n  </tbody>\n</table>\n<p>1236 rows × 7 columns</p>\n</div>"
     },
     "metadata": {},
     "execution_count": 7
    }
   ],
   "source": [
    "df_ultilize = df_ultilize.groupby(['teamLeader']).apply(change_indicator)\n",
    "df_ultilize"
   ]
  },
  {
   "cell_type": "code",
   "execution_count": 8,
   "metadata": {},
   "outputs": [],
   "source": [
    "df_ultilize.to_csv('response.csv', index = False)"
   ]
  },
  {
   "cell_type": "code",
   "execution_count": 9,
   "metadata": {},
   "outputs": [
    {
     "output_type": "execute_result",
     "data": {
      "text/plain": [
       "               time  assemblyLine01Requirement  assemblyLine02Requirement  \\\n",
       "0  12/11/2020 06:00                        NaN                        NaN   \n",
       "1  12/11/2020 07:00                        NaN                        NaN   \n",
       "2  12/11/2020 08:00                        NaN                        NaN   \n",
       "3  12/11/2020 09:00                        NaN                        NaN   \n",
       "4  12/11/2020 10:00                        NaN                        NaN   \n",
       "\n",
       "   shortage  stockTotal  as01Total  as02Total  kittingLineTotal  dollyCount  \\\n",
       "0         0        7937          0          0              7937         273   \n",
       "1         0       15589          0          0              7652         515   \n",
       "2         0       19987        342        118              4858         646   \n",
       "3         0       20261       1892       2342              4508         643   \n",
       "4         0       22692        790       1684              4905         696   \n",
       "\n",
       "   acceptedDollyCount  ...  kittingLineProduced.B2 kittingLineProduced.C2  \\\n",
       "0                   0  ...                     NaN                    NaN   \n",
       "1                   0  ...                     NaN                    NaN   \n",
       "2                   0  ...                   286.0                  229.0   \n",
       "3                   0  ...                   487.0                  478.0   \n",
       "4                   0  ...                   549.0                  478.0   \n",
       "\n",
       "   kittingLineProduced.D2 kittingLineProduced.E2  kittingLineProduced.G2  \\\n",
       "0                     NaN                    NaN                     NaN   \n",
       "1                     NaN                    NaN                     NaN   \n",
       "2                   285.0                  375.0                   140.0   \n",
       "3                   275.0                  453.0                    28.0   \n",
       "4                     0.0                  721.0                     0.0   \n",
       "\n",
       "   kittingLineProduced.K2  kittingLineProduced.L2  kittingLineProduced.S2  \\\n",
       "0                     NaN                     NaN                     NaN   \n",
       "1                     NaN                     NaN                     NaN   \n",
       "2                   294.0                   240.0                   273.0   \n",
       "3                   377.0                   254.0                   349.0   \n",
       "4                   515.0                   426.0                   532.0   \n",
       "\n",
       "   kittingLineProduced.U2  kittingLineProduced  \n",
       "0                     NaN                  NaN  \n",
       "1                     NaN                  NaN  \n",
       "2                    84.0                  NaN  \n",
       "3                     0.0                  NaN  \n",
       "4                     0.0                  NaN  \n",
       "\n",
       "[5 rows x 200 columns]"
      ],
      "text/html": "<div>\n<style scoped>\n    .dataframe tbody tr th:only-of-type {\n        vertical-align: middle;\n    }\n\n    .dataframe tbody tr th {\n        vertical-align: top;\n    }\n\n    .dataframe thead th {\n        text-align: right;\n    }\n</style>\n<table border=\"1\" class=\"dataframe\">\n  <thead>\n    <tr style=\"text-align: right;\">\n      <th></th>\n      <th>time</th>\n      <th>assemblyLine01Requirement</th>\n      <th>assemblyLine02Requirement</th>\n      <th>shortage</th>\n      <th>stockTotal</th>\n      <th>as01Total</th>\n      <th>as02Total</th>\n      <th>kittingLineTotal</th>\n      <th>dollyCount</th>\n      <th>acceptedDollyCount</th>\n      <th>...</th>\n      <th>kittingLineProduced.B2</th>\n      <th>kittingLineProduced.C2</th>\n      <th>kittingLineProduced.D2</th>\n      <th>kittingLineProduced.E2</th>\n      <th>kittingLineProduced.G2</th>\n      <th>kittingLineProduced.K2</th>\n      <th>kittingLineProduced.L2</th>\n      <th>kittingLineProduced.S2</th>\n      <th>kittingLineProduced.U2</th>\n      <th>kittingLineProduced</th>\n    </tr>\n  </thead>\n  <tbody>\n    <tr>\n      <th>0</th>\n      <td>12/11/2020 06:00</td>\n      <td>NaN</td>\n      <td>NaN</td>\n      <td>0</td>\n      <td>7937</td>\n      <td>0</td>\n      <td>0</td>\n      <td>7937</td>\n      <td>273</td>\n      <td>0</td>\n      <td>...</td>\n      <td>NaN</td>\n      <td>NaN</td>\n      <td>NaN</td>\n      <td>NaN</td>\n      <td>NaN</td>\n      <td>NaN</td>\n      <td>NaN</td>\n      <td>NaN</td>\n      <td>NaN</td>\n      <td>NaN</td>\n    </tr>\n    <tr>\n      <th>1</th>\n      <td>12/11/2020 07:00</td>\n      <td>NaN</td>\n      <td>NaN</td>\n      <td>0</td>\n      <td>15589</td>\n      <td>0</td>\n      <td>0</td>\n      <td>7652</td>\n      <td>515</td>\n      <td>0</td>\n      <td>...</td>\n      <td>NaN</td>\n      <td>NaN</td>\n      <td>NaN</td>\n      <td>NaN</td>\n      <td>NaN</td>\n      <td>NaN</td>\n      <td>NaN</td>\n      <td>NaN</td>\n      <td>NaN</td>\n      <td>NaN</td>\n    </tr>\n    <tr>\n      <th>2</th>\n      <td>12/11/2020 08:00</td>\n      <td>NaN</td>\n      <td>NaN</td>\n      <td>0</td>\n      <td>19987</td>\n      <td>342</td>\n      <td>118</td>\n      <td>4858</td>\n      <td>646</td>\n      <td>0</td>\n      <td>...</td>\n      <td>286.0</td>\n      <td>229.0</td>\n      <td>285.0</td>\n      <td>375.0</td>\n      <td>140.0</td>\n      <td>294.0</td>\n      <td>240.0</td>\n      <td>273.0</td>\n      <td>84.0</td>\n      <td>NaN</td>\n    </tr>\n    <tr>\n      <th>3</th>\n      <td>12/11/2020 09:00</td>\n      <td>NaN</td>\n      <td>NaN</td>\n      <td>0</td>\n      <td>20261</td>\n      <td>1892</td>\n      <td>2342</td>\n      <td>4508</td>\n      <td>643</td>\n      <td>0</td>\n      <td>...</td>\n      <td>487.0</td>\n      <td>478.0</td>\n      <td>275.0</td>\n      <td>453.0</td>\n      <td>28.0</td>\n      <td>377.0</td>\n      <td>254.0</td>\n      <td>349.0</td>\n      <td>0.0</td>\n      <td>NaN</td>\n    </tr>\n    <tr>\n      <th>4</th>\n      <td>12/11/2020 10:00</td>\n      <td>NaN</td>\n      <td>NaN</td>\n      <td>0</td>\n      <td>22692</td>\n      <td>790</td>\n      <td>1684</td>\n      <td>4905</td>\n      <td>696</td>\n      <td>0</td>\n      <td>...</td>\n      <td>549.0</td>\n      <td>478.0</td>\n      <td>0.0</td>\n      <td>721.0</td>\n      <td>0.0</td>\n      <td>515.0</td>\n      <td>426.0</td>\n      <td>532.0</td>\n      <td>0.0</td>\n      <td>NaN</td>\n    </tr>\n  </tbody>\n</table>\n<p>5 rows × 200 columns</p>\n</div>"
     },
     "metadata": {},
     "execution_count": 9
    }
   ],
   "source": [
    "df_stock = json_normalize(data[\"stockOverTime\"])\n",
    "df_stock.head()"
   ]
  },
  {
   "cell_type": "code",
   "execution_count": 10,
   "metadata": {},
   "outputs": [
    {
     "output_type": "execute_result",
     "data": {
      "text/plain": [
       "['time',\n",
       " 'assemblyLine01Requirement',\n",
       " 'assemblyLine02Requirement',\n",
       " 'shortage',\n",
       " 'stockTotal',\n",
       " 'as01Total',\n",
       " 'as02Total',\n",
       " 'kittingLineTotal',\n",
       " 'dollyCount',\n",
       " 'acceptedDollyCount',\n",
       " 'acceptedKittingLineTotal',\n",
       " 'acceptedKittingLineProduced',\n",
       " 'acceptedShortage',\n",
       " 'acceptedStock',\n",
       " 'acceptedStockTotal',\n",
       " 'stock.O2',\n",
       " 'stock.P2',\n",
       " 'stock.T2',\n",
       " 'stock.A4',\n",
       " 'stock.B4',\n",
       " 'stock.C4',\n",
       " 'stock.D4',\n",
       " 'stock.E4',\n",
       " 'stock.F4',\n",
       " 'stock.G4',\n",
       " 'stock.H4',\n",
       " 'stock.I4',\n",
       " 'stock.J4',\n",
       " 'stock.K4',\n",
       " 'stock.L4',\n",
       " 'stock.M4',\n",
       " 'stock.N4',\n",
       " 'stock.O4',\n",
       " 'stock.P4',\n",
       " 'stock.Q4',\n",
       " 'stock.R4',\n",
       " 'stock.S4',\n",
       " 'stock.T4',\n",
       " 'stock.SE',\n",
       " 'kittingLineProduced.O2',\n",
       " 'kittingLineProduced.P2',\n",
       " 'kittingLineProduced.T2',\n",
       " 'kittingLineProduced.A4',\n",
       " 'kittingLineProduced.B4',\n",
       " 'kittingLineProduced.C4',\n",
       " 'kittingLineProduced.D4',\n",
       " 'kittingLineProduced.E4',\n",
       " 'kittingLineProduced.F4',\n",
       " 'kittingLineProduced.G4',\n",
       " 'kittingLineProduced.H4',\n",
       " 'kittingLineProduced.I4',\n",
       " 'kittingLineProduced.J4',\n",
       " 'kittingLineProduced.K4',\n",
       " 'kittingLineProduced.L4',\n",
       " 'kittingLineProduced.M4',\n",
       " 'kittingLineProduced.N4',\n",
       " 'kittingLineProduced.O4',\n",
       " 'kittingLineProduced.P4',\n",
       " 'kittingLineProduced.Q4',\n",
       " 'kittingLineProduced.R4',\n",
       " 'kittingLineProduced.S4',\n",
       " 'kittingLineProduced.T4',\n",
       " 'kittingLineProduced.SE',\n",
       " 'stock.F2',\n",
       " 'stock.H2',\n",
       " 'stock.I2',\n",
       " 'stock.J2',\n",
       " 'stock.M2',\n",
       " 'stock.N2',\n",
       " 'stock.Q2',\n",
       " 'stock.R2',\n",
       " 'stock.U4',\n",
       " 'stock.SA',\n",
       " 'stock.SG',\n",
       " 'stock.SF',\n",
       " 'kittingLineProduced.F2',\n",
       " 'kittingLineProduced.H2',\n",
       " 'kittingLineProduced.I2',\n",
       " 'kittingLineProduced.J2',\n",
       " 'kittingLineProduced.M2',\n",
       " 'kittingLineProduced.N2',\n",
       " 'kittingLineProduced.Q2',\n",
       " 'kittingLineProduced.R2',\n",
       " 'kittingLineProduced.U4',\n",
       " 'kittingLineProduced.SA',\n",
       " 'kittingLineProduced.SG',\n",
       " 'kittingLineProduced.SF',\n",
       " 'assemblyLine01Requirement.A2',\n",
       " 'assemblyLine01Requirement.A4',\n",
       " 'assemblyLine01Requirement.B2',\n",
       " 'assemblyLine01Requirement.B4',\n",
       " 'assemblyLine01Requirement.C2',\n",
       " 'assemblyLine01Requirement.C4',\n",
       " 'assemblyLine01Requirement.D2',\n",
       " 'assemblyLine01Requirement.D4',\n",
       " 'assemblyLine01Requirement.E2',\n",
       " 'assemblyLine01Requirement.E4',\n",
       " 'assemblyLine01Requirement.F2',\n",
       " 'assemblyLine01Requirement.F4',\n",
       " 'assemblyLine01Requirement.G2',\n",
       " 'assemblyLine01Requirement.G4',\n",
       " 'assemblyLine01Requirement.H2',\n",
       " 'assemblyLine01Requirement.H4',\n",
       " 'assemblyLine01Requirement.I2',\n",
       " 'assemblyLine01Requirement.I4',\n",
       " 'assemblyLine01Requirement.J2',\n",
       " 'assemblyLine01Requirement.J4',\n",
       " 'assemblyLine01Requirement.K2',\n",
       " 'assemblyLine01Requirement.K4',\n",
       " 'assemblyLine01Requirement.L2',\n",
       " 'assemblyLine01Requirement.L4',\n",
       " 'assemblyLine01Requirement.M2',\n",
       " 'assemblyLine01Requirement.M4',\n",
       " 'assemblyLine01Requirement.N2',\n",
       " 'assemblyLine01Requirement.N4',\n",
       " 'assemblyLine01Requirement.O2',\n",
       " 'assemblyLine01Requirement.O4',\n",
       " 'assemblyLine01Requirement.P2',\n",
       " 'assemblyLine01Requirement.P4',\n",
       " 'assemblyLine01Requirement.Q2',\n",
       " 'assemblyLine01Requirement.Q4',\n",
       " 'assemblyLine01Requirement.R2',\n",
       " 'assemblyLine01Requirement.R4',\n",
       " 'assemblyLine01Requirement.S2',\n",
       " 'assemblyLine01Requirement.S4',\n",
       " 'assemblyLine01Requirement.SA',\n",
       " 'assemblyLine01Requirement.SE',\n",
       " 'assemblyLine01Requirement.SF',\n",
       " 'assemblyLine01Requirement.SG',\n",
       " 'assemblyLine01Requirement.T2',\n",
       " 'assemblyLine01Requirement.T4',\n",
       " 'assemblyLine01Requirement.U2',\n",
       " 'assemblyLine01Requirement.U4',\n",
       " 'assemblyLine02Requirement.A2',\n",
       " 'assemblyLine02Requirement.A4',\n",
       " 'assemblyLine02Requirement.B2',\n",
       " 'assemblyLine02Requirement.B4',\n",
       " 'assemblyLine02Requirement.C2',\n",
       " 'assemblyLine02Requirement.C4',\n",
       " 'assemblyLine02Requirement.D2',\n",
       " 'assemblyLine02Requirement.D4',\n",
       " 'assemblyLine02Requirement.E2',\n",
       " 'assemblyLine02Requirement.E4',\n",
       " 'assemblyLine02Requirement.F2',\n",
       " 'assemblyLine02Requirement.F4',\n",
       " 'assemblyLine02Requirement.G2',\n",
       " 'assemblyLine02Requirement.G4',\n",
       " 'assemblyLine02Requirement.H2',\n",
       " 'assemblyLine02Requirement.H4',\n",
       " 'assemblyLine02Requirement.I2',\n",
       " 'assemblyLine02Requirement.I4',\n",
       " 'assemblyLine02Requirement.J2',\n",
       " 'assemblyLine02Requirement.J4',\n",
       " 'assemblyLine02Requirement.K2',\n",
       " 'assemblyLine02Requirement.K4',\n",
       " 'assemblyLine02Requirement.L2',\n",
       " 'assemblyLine02Requirement.L4',\n",
       " 'assemblyLine02Requirement.M2',\n",
       " 'assemblyLine02Requirement.M4',\n",
       " 'assemblyLine02Requirement.N2',\n",
       " 'assemblyLine02Requirement.N4',\n",
       " 'assemblyLine02Requirement.O2',\n",
       " 'assemblyLine02Requirement.O4',\n",
       " 'assemblyLine02Requirement.P2',\n",
       " 'assemblyLine02Requirement.P4',\n",
       " 'assemblyLine02Requirement.Q2',\n",
       " 'assemblyLine02Requirement.Q4',\n",
       " 'assemblyLine02Requirement.R2',\n",
       " 'assemblyLine02Requirement.R4',\n",
       " 'assemblyLine02Requirement.S2',\n",
       " 'assemblyLine02Requirement.S4',\n",
       " 'assemblyLine02Requirement.SA',\n",
       " 'assemblyLine02Requirement.SE',\n",
       " 'assemblyLine02Requirement.SF',\n",
       " 'assemblyLine02Requirement.SG',\n",
       " 'assemblyLine02Requirement.T2',\n",
       " 'assemblyLine02Requirement.T4',\n",
       " 'assemblyLine02Requirement.U2',\n",
       " 'assemblyLine02Requirement.U4',\n",
       " 'stock.A2',\n",
       " 'stock.B2',\n",
       " 'stock.C2',\n",
       " 'stock.D2',\n",
       " 'stock.E2',\n",
       " 'stock.G2',\n",
       " 'stock.K2',\n",
       " 'stock.L2',\n",
       " 'stock.S2',\n",
       " 'stock.U2',\n",
       " 'kittingLineProduced.A2',\n",
       " 'kittingLineProduced.B2',\n",
       " 'kittingLineProduced.C2',\n",
       " 'kittingLineProduced.D2',\n",
       " 'kittingLineProduced.E2',\n",
       " 'kittingLineProduced.G2',\n",
       " 'kittingLineProduced.K2',\n",
       " 'kittingLineProduced.L2',\n",
       " 'kittingLineProduced.S2',\n",
       " 'kittingLineProduced.U2',\n",
       " 'kittingLineProduced']"
      ]
     },
     "metadata": {},
     "execution_count": 10
    }
   ],
   "source": [
    "[i for i in df_stock.columns]"
   ]
  },
  {
   "cell_type": "code",
   "execution_count": 11,
   "metadata": {},
   "outputs": [
    {
     "output_type": "execute_result",
     "data": {
      "text/plain": [
       "['stockTotal',\n",
       " 'stock.O2',\n",
       " 'stock.P2',\n",
       " 'stock.T2',\n",
       " 'stock.A4',\n",
       " 'stock.B4',\n",
       " 'stock.C4',\n",
       " 'stock.D4',\n",
       " 'stock.E4',\n",
       " 'stock.F4',\n",
       " 'stock.G4',\n",
       " 'stock.H4',\n",
       " 'stock.I4',\n",
       " 'stock.J4',\n",
       " 'stock.K4',\n",
       " 'stock.L4',\n",
       " 'stock.M4',\n",
       " 'stock.N4',\n",
       " 'stock.O4',\n",
       " 'stock.P4',\n",
       " 'stock.Q4',\n",
       " 'stock.R4',\n",
       " 'stock.S4',\n",
       " 'stock.T4',\n",
       " 'stock.SE',\n",
       " 'stock.F2',\n",
       " 'stock.H2',\n",
       " 'stock.I2',\n",
       " 'stock.J2',\n",
       " 'stock.M2',\n",
       " 'stock.N2',\n",
       " 'stock.Q2',\n",
       " 'stock.R2',\n",
       " 'stock.U4',\n",
       " 'stock.SA',\n",
       " 'stock.SG',\n",
       " 'stock.SF',\n",
       " 'stock.A2',\n",
       " 'stock.B2',\n",
       " 'stock.C2',\n",
       " 'stock.D2',\n",
       " 'stock.E2',\n",
       " 'stock.G2',\n",
       " 'stock.K2',\n",
       " 'stock.L2',\n",
       " 'stock.S2',\n",
       " 'stock.U2',\n",
       " 'time']"
      ]
     },
     "metadata": {},
     "execution_count": 11
    }
   ],
   "source": [
    "filter_col = [col for col in df_stock if col.startswith('stock')]\n",
    "filter_col.append('time')\n",
    "filter_col"
   ]
  },
  {
   "cell_type": "code",
   "execution_count": 12,
   "metadata": {},
   "outputs": [],
   "source": [
    "df_stock = df_stock[filter_col]\n",
    "# df_stock.set_index('time', inplace = True)"
   ]
  },
  {
   "cell_type": "code",
   "execution_count": 13,
   "metadata": {},
   "outputs": [
    {
     "output_type": "execute_result",
     "data": {
      "text/plain": [
       "   stockTotal  stock.O2  stock.P2  stock.T2  stock.A4  stock.B4  stock.C4  \\\n",
       "0        7937     195.0     140.0     104.0       424       484       448   \n",
       "1       15589     559.0     140.0     341.0       848       968       896   \n",
       "2       19987     557.0     140.0     336.0      1041      1169      1097   \n",
       "3       20261     549.0     136.0     321.0       892      1018       940   \n",
       "4       22692     532.0     132.0     314.0       829       963       874   \n",
       "\n",
       "   stock.D4  stock.E4  stock.F4  ...  stock.B2  stock.C2  stock.D2  stock.E2  \\\n",
       "0       372       441       522  ...       NaN       NaN       NaN       NaN   \n",
       "1       744       882       581  ...       NaN       NaN       NaN       NaN   \n",
       "2       896      1059       580  ...     279.0     223.0     276.0     366.0   \n",
       "3       730       887       565  ...     511.0     427.0     296.0     606.0   \n",
       "4       654       825       555  ...     891.0     723.0     130.0    1193.0   \n",
       "\n",
       "   stock.G2  stock.K2  stock.L2  stock.S2  stock.U2              time  \n",
       "0       NaN       NaN       NaN       NaN       NaN  12/11/2020 06:00  \n",
       "1       NaN       NaN       NaN       NaN       NaN  12/11/2020 07:00  \n",
       "2     140.0     276.0     230.0     262.0      84.0  12/11/2020 08:00  \n",
       "3     111.0     505.0     369.0     487.0      59.0  12/11/2020 09:00  \n",
       "4      67.0     906.0     709.0     939.0      50.0  12/11/2020 10:00  \n",
       "\n",
       "[5 rows x 48 columns]"
      ],
      "text/html": "<div>\n<style scoped>\n    .dataframe tbody tr th:only-of-type {\n        vertical-align: middle;\n    }\n\n    .dataframe tbody tr th {\n        vertical-align: top;\n    }\n\n    .dataframe thead th {\n        text-align: right;\n    }\n</style>\n<table border=\"1\" class=\"dataframe\">\n  <thead>\n    <tr style=\"text-align: right;\">\n      <th></th>\n      <th>stockTotal</th>\n      <th>stock.O2</th>\n      <th>stock.P2</th>\n      <th>stock.T2</th>\n      <th>stock.A4</th>\n      <th>stock.B4</th>\n      <th>stock.C4</th>\n      <th>stock.D4</th>\n      <th>stock.E4</th>\n      <th>stock.F4</th>\n      <th>...</th>\n      <th>stock.B2</th>\n      <th>stock.C2</th>\n      <th>stock.D2</th>\n      <th>stock.E2</th>\n      <th>stock.G2</th>\n      <th>stock.K2</th>\n      <th>stock.L2</th>\n      <th>stock.S2</th>\n      <th>stock.U2</th>\n      <th>time</th>\n    </tr>\n  </thead>\n  <tbody>\n    <tr>\n      <th>0</th>\n      <td>7937</td>\n      <td>195.0</td>\n      <td>140.0</td>\n      <td>104.0</td>\n      <td>424</td>\n      <td>484</td>\n      <td>448</td>\n      <td>372</td>\n      <td>441</td>\n      <td>522</td>\n      <td>...</td>\n      <td>NaN</td>\n      <td>NaN</td>\n      <td>NaN</td>\n      <td>NaN</td>\n      <td>NaN</td>\n      <td>NaN</td>\n      <td>NaN</td>\n      <td>NaN</td>\n      <td>NaN</td>\n      <td>12/11/2020 06:00</td>\n    </tr>\n    <tr>\n      <th>1</th>\n      <td>15589</td>\n      <td>559.0</td>\n      <td>140.0</td>\n      <td>341.0</td>\n      <td>848</td>\n      <td>968</td>\n      <td>896</td>\n      <td>744</td>\n      <td>882</td>\n      <td>581</td>\n      <td>...</td>\n      <td>NaN</td>\n      <td>NaN</td>\n      <td>NaN</td>\n      <td>NaN</td>\n      <td>NaN</td>\n      <td>NaN</td>\n      <td>NaN</td>\n      <td>NaN</td>\n      <td>NaN</td>\n      <td>12/11/2020 07:00</td>\n    </tr>\n    <tr>\n      <th>2</th>\n      <td>19987</td>\n      <td>557.0</td>\n      <td>140.0</td>\n      <td>336.0</td>\n      <td>1041</td>\n      <td>1169</td>\n      <td>1097</td>\n      <td>896</td>\n      <td>1059</td>\n      <td>580</td>\n      <td>...</td>\n      <td>279.0</td>\n      <td>223.0</td>\n      <td>276.0</td>\n      <td>366.0</td>\n      <td>140.0</td>\n      <td>276.0</td>\n      <td>230.0</td>\n      <td>262.0</td>\n      <td>84.0</td>\n      <td>12/11/2020 08:00</td>\n    </tr>\n    <tr>\n      <th>3</th>\n      <td>20261</td>\n      <td>549.0</td>\n      <td>136.0</td>\n      <td>321.0</td>\n      <td>892</td>\n      <td>1018</td>\n      <td>940</td>\n      <td>730</td>\n      <td>887</td>\n      <td>565</td>\n      <td>...</td>\n      <td>511.0</td>\n      <td>427.0</td>\n      <td>296.0</td>\n      <td>606.0</td>\n      <td>111.0</td>\n      <td>505.0</td>\n      <td>369.0</td>\n      <td>487.0</td>\n      <td>59.0</td>\n      <td>12/11/2020 09:00</td>\n    </tr>\n    <tr>\n      <th>4</th>\n      <td>22692</td>\n      <td>532.0</td>\n      <td>132.0</td>\n      <td>314.0</td>\n      <td>829</td>\n      <td>963</td>\n      <td>874</td>\n      <td>654</td>\n      <td>825</td>\n      <td>555</td>\n      <td>...</td>\n      <td>891.0</td>\n      <td>723.0</td>\n      <td>130.0</td>\n      <td>1193.0</td>\n      <td>67.0</td>\n      <td>906.0</td>\n      <td>709.0</td>\n      <td>939.0</td>\n      <td>50.0</td>\n      <td>12/11/2020 10:00</td>\n    </tr>\n  </tbody>\n</table>\n<p>5 rows × 48 columns</p>\n</div>"
     },
     "metadata": {},
     "execution_count": 13
    }
   ],
   "source": [
    "df_stock.head()"
   ]
  },
  {
   "cell_type": "code",
   "execution_count": 14,
   "metadata": {},
   "outputs": [
    {
     "output_type": "execute_result",
     "data": {
      "text/plain": [
       "               time    variable    value\n",
       "0  12/11/2020 06:00  stockTotal   7937.0\n",
       "1  12/11/2020 07:00  stockTotal  15589.0\n",
       "2  12/11/2020 08:00  stockTotal  19987.0\n",
       "3  12/11/2020 09:00  stockTotal  20261.0\n",
       "4  12/11/2020 10:00  stockTotal  22692.0"
      ],
      "text/html": "<div>\n<style scoped>\n    .dataframe tbody tr th:only-of-type {\n        vertical-align: middle;\n    }\n\n    .dataframe tbody tr th {\n        vertical-align: top;\n    }\n\n    .dataframe thead th {\n        text-align: right;\n    }\n</style>\n<table border=\"1\" class=\"dataframe\">\n  <thead>\n    <tr style=\"text-align: right;\">\n      <th></th>\n      <th>time</th>\n      <th>variable</th>\n      <th>value</th>\n    </tr>\n  </thead>\n  <tbody>\n    <tr>\n      <th>0</th>\n      <td>12/11/2020 06:00</td>\n      <td>stockTotal</td>\n      <td>7937.0</td>\n    </tr>\n    <tr>\n      <th>1</th>\n      <td>12/11/2020 07:00</td>\n      <td>stockTotal</td>\n      <td>15589.0</td>\n    </tr>\n    <tr>\n      <th>2</th>\n      <td>12/11/2020 08:00</td>\n      <td>stockTotal</td>\n      <td>19987.0</td>\n    </tr>\n    <tr>\n      <th>3</th>\n      <td>12/11/2020 09:00</td>\n      <td>stockTotal</td>\n      <td>20261.0</td>\n    </tr>\n    <tr>\n      <th>4</th>\n      <td>12/11/2020 10:00</td>\n      <td>stockTotal</td>\n      <td>22692.0</td>\n    </tr>\n  </tbody>\n</table>\n</div>"
     },
     "metadata": {},
     "execution_count": 14
    }
   ],
   "source": [
    "df_stock = df_stock.melt(id_vars=['time'])\n",
    "df_stock.head()"
   ]
  },
  {
   "cell_type": "code",
   "execution_count": 15,
   "metadata": {},
   "outputs": [],
   "source": [
    "df_stock.to_csv('response_stock.csv', index = False)"
   ]
  },
  {
   "cell_type": "code",
   "execution_count": null,
   "metadata": {},
   "outputs": [],
   "source": []
  }
 ]
}