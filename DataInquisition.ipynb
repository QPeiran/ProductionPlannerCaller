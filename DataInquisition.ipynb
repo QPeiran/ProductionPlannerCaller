{
 "metadata": {
  "language_info": {
   "codemirror_mode": {
    "name": "ipython",
    "version": 3
   },
   "file_extension": ".py",
   "mimetype": "text/x-python",
   "name": "python",
   "nbconvert_exporter": "python",
   "pygments_lexer": "ipython3",
   "version": "3.8.6-final"
  },
  "orig_nbformat": 2,
  "kernelspec": {
   "name": "Python 3.8.6 64-bit ('ProductionPlannerCaller': pipenv)",
   "display_name": "Python 3.8.6 64-bit ('ProductionPlannerCaller': pipenv)",
   "metadata": {
    "interpreter": {
     "hash": "d35c8b516a90ec349fb27354d3f5b0fd5f2200bb14aca3e9a64f3cb0fb9d61f2"
    }
   }
  }
 },
 "nbformat": 4,
 "nbformat_minor": 2,
 "cells": [
  {
   "cell_type": "code",
   "execution_count": 1,
   "metadata": {},
   "outputs": [],
   "source": [
    "import pandas as pd\n",
    "import json\n",
    "from pandas import json_normalize"
   ]
  },
  {
   "cell_type": "code",
   "execution_count": 2,
   "metadata": {},
   "outputs": [],
   "source": [
    "# file = open(r'C:\\Users\\Peiran Quan\\myWorkStation\\PlanningClient\\template_response.json')\n",
    "file = open(r'.\\test_response.json')"
   ]
  },
  {
   "cell_type": "code",
   "execution_count": 3,
   "metadata": {},
   "outputs": [],
   "source": [
    "data = json.load(file)"
   ]
  },
  {
   "cell_type": "code",
   "execution_count": 4,
   "metadata": {
    "tags": []
   },
   "outputs": [
    {
     "output_type": "execute_result",
     "data": {
      "text/plain": [
       "     teamId startDateTime finishDateTime teamLeader  id line batch  week  \\\n",
       "0         1         06:00          06:03     Team 1   0    6  None  None   \n",
       "1         1         06:03          06:07     Team 1   0    6  None  None   \n",
       "2         1         06:07          06:11     Team 1   0    6  None  None   \n",
       "3         1         06:11          06:15     Team 1   0    6  None  None   \n",
       "4         1         06:15          06:19     Team 1   0    6  None  None   \n",
       "..      ...           ...            ...        ...  ..  ...   ...   ...   \n",
       "828      11         13:40          13:45    Team 11   0    2  None  None   \n",
       "829      11         13:45          13:50    Team 11   0    2  None  None   \n",
       "830      11         13:50          13:56    Team 11   0    2  None  None   \n",
       "831      11         13:56          14:01    Team 11   0    2  None  None   \n",
       "832      12         13:00          13:04    Team 12   0   16  None  None   \n",
       "\n",
       "     year  done recipe  productionTarget  mealKitPerCrate  targetSpeed  \\\n",
       "0    None  None     C4                28                4          442   \n",
       "1    None  None     C4                28                4          442   \n",
       "2    None  None     C4                28                4          442   \n",
       "3    None  None     C4                28                4          442   \n",
       "4    None  None     C4                28                4          442   \n",
       "..    ...   ...    ...               ...              ...          ...   \n",
       "828  None  None     D2                35                5          417   \n",
       "829  None  None     D2                35                5          417   \n",
       "830  None  None     D4                28                4          350   \n",
       "831  None  None     D4                28                4          350   \n",
       "832  None  None     P4                21                3          349   \n",
       "\n",
       "    displayOrder createdAt teamNames  \n",
       "0           None      None      None  \n",
       "1           None      None      None  \n",
       "2           None      None      None  \n",
       "3           None      None      None  \n",
       "4           None      None      None  \n",
       "..           ...       ...       ...  \n",
       "828         None      None      None  \n",
       "829         None      None      None  \n",
       "830         None      None      None  \n",
       "831         None      None      None  \n",
       "832         None      None      None  \n",
       "\n",
       "[833 rows x 17 columns]"
      ],
      "text/html": "<div>\n<style scoped>\n    .dataframe tbody tr th:only-of-type {\n        vertical-align: middle;\n    }\n\n    .dataframe tbody tr th {\n        vertical-align: top;\n    }\n\n    .dataframe thead th {\n        text-align: right;\n    }\n</style>\n<table border=\"1\" class=\"dataframe\">\n  <thead>\n    <tr style=\"text-align: right;\">\n      <th></th>\n      <th>teamId</th>\n      <th>startDateTime</th>\n      <th>finishDateTime</th>\n      <th>teamLeader</th>\n      <th>id</th>\n      <th>line</th>\n      <th>batch</th>\n      <th>week</th>\n      <th>year</th>\n      <th>done</th>\n      <th>recipe</th>\n      <th>productionTarget</th>\n      <th>mealKitPerCrate</th>\n      <th>targetSpeed</th>\n      <th>displayOrder</th>\n      <th>createdAt</th>\n      <th>teamNames</th>\n    </tr>\n  </thead>\n  <tbody>\n    <tr>\n      <th>0</th>\n      <td>1</td>\n      <td>06:00</td>\n      <td>06:03</td>\n      <td>Team 1</td>\n      <td>0</td>\n      <td>6</td>\n      <td>None</td>\n      <td>None</td>\n      <td>None</td>\n      <td>None</td>\n      <td>C4</td>\n      <td>28</td>\n      <td>4</td>\n      <td>442</td>\n      <td>None</td>\n      <td>None</td>\n      <td>None</td>\n    </tr>\n    <tr>\n      <th>1</th>\n      <td>1</td>\n      <td>06:03</td>\n      <td>06:07</td>\n      <td>Team 1</td>\n      <td>0</td>\n      <td>6</td>\n      <td>None</td>\n      <td>None</td>\n      <td>None</td>\n      <td>None</td>\n      <td>C4</td>\n      <td>28</td>\n      <td>4</td>\n      <td>442</td>\n      <td>None</td>\n      <td>None</td>\n      <td>None</td>\n    </tr>\n    <tr>\n      <th>2</th>\n      <td>1</td>\n      <td>06:07</td>\n      <td>06:11</td>\n      <td>Team 1</td>\n      <td>0</td>\n      <td>6</td>\n      <td>None</td>\n      <td>None</td>\n      <td>None</td>\n      <td>None</td>\n      <td>C4</td>\n      <td>28</td>\n      <td>4</td>\n      <td>442</td>\n      <td>None</td>\n      <td>None</td>\n      <td>None</td>\n    </tr>\n    <tr>\n      <th>3</th>\n      <td>1</td>\n      <td>06:11</td>\n      <td>06:15</td>\n      <td>Team 1</td>\n      <td>0</td>\n      <td>6</td>\n      <td>None</td>\n      <td>None</td>\n      <td>None</td>\n      <td>None</td>\n      <td>C4</td>\n      <td>28</td>\n      <td>4</td>\n      <td>442</td>\n      <td>None</td>\n      <td>None</td>\n      <td>None</td>\n    </tr>\n    <tr>\n      <th>4</th>\n      <td>1</td>\n      <td>06:15</td>\n      <td>06:19</td>\n      <td>Team 1</td>\n      <td>0</td>\n      <td>6</td>\n      <td>None</td>\n      <td>None</td>\n      <td>None</td>\n      <td>None</td>\n      <td>C4</td>\n      <td>28</td>\n      <td>4</td>\n      <td>442</td>\n      <td>None</td>\n      <td>None</td>\n      <td>None</td>\n    </tr>\n    <tr>\n      <th>...</th>\n      <td>...</td>\n      <td>...</td>\n      <td>...</td>\n      <td>...</td>\n      <td>...</td>\n      <td>...</td>\n      <td>...</td>\n      <td>...</td>\n      <td>...</td>\n      <td>...</td>\n      <td>...</td>\n      <td>...</td>\n      <td>...</td>\n      <td>...</td>\n      <td>...</td>\n      <td>...</td>\n      <td>...</td>\n    </tr>\n    <tr>\n      <th>828</th>\n      <td>11</td>\n      <td>13:40</td>\n      <td>13:45</td>\n      <td>Team 11</td>\n      <td>0</td>\n      <td>2</td>\n      <td>None</td>\n      <td>None</td>\n      <td>None</td>\n      <td>None</td>\n      <td>D2</td>\n      <td>35</td>\n      <td>5</td>\n      <td>417</td>\n      <td>None</td>\n      <td>None</td>\n      <td>None</td>\n    </tr>\n    <tr>\n      <th>829</th>\n      <td>11</td>\n      <td>13:45</td>\n      <td>13:50</td>\n      <td>Team 11</td>\n      <td>0</td>\n      <td>2</td>\n      <td>None</td>\n      <td>None</td>\n      <td>None</td>\n      <td>None</td>\n      <td>D2</td>\n      <td>35</td>\n      <td>5</td>\n      <td>417</td>\n      <td>None</td>\n      <td>None</td>\n      <td>None</td>\n    </tr>\n    <tr>\n      <th>830</th>\n      <td>11</td>\n      <td>13:50</td>\n      <td>13:56</td>\n      <td>Team 11</td>\n      <td>0</td>\n      <td>2</td>\n      <td>None</td>\n      <td>None</td>\n      <td>None</td>\n      <td>None</td>\n      <td>D4</td>\n      <td>28</td>\n      <td>4</td>\n      <td>350</td>\n      <td>None</td>\n      <td>None</td>\n      <td>None</td>\n    </tr>\n    <tr>\n      <th>831</th>\n      <td>11</td>\n      <td>13:56</td>\n      <td>14:01</td>\n      <td>Team 11</td>\n      <td>0</td>\n      <td>2</td>\n      <td>None</td>\n      <td>None</td>\n      <td>None</td>\n      <td>None</td>\n      <td>D4</td>\n      <td>28</td>\n      <td>4</td>\n      <td>350</td>\n      <td>None</td>\n      <td>None</td>\n      <td>None</td>\n    </tr>\n    <tr>\n      <th>832</th>\n      <td>12</td>\n      <td>13:00</td>\n      <td>13:04</td>\n      <td>Team 12</td>\n      <td>0</td>\n      <td>16</td>\n      <td>None</td>\n      <td>None</td>\n      <td>None</td>\n      <td>None</td>\n      <td>P4</td>\n      <td>21</td>\n      <td>3</td>\n      <td>349</td>\n      <td>None</td>\n      <td>None</td>\n      <td>None</td>\n    </tr>\n  </tbody>\n</table>\n<p>833 rows × 17 columns</p>\n</div>"
     },
     "metadata": {},
     "execution_count": 4
    }
   ],
   "source": [
    "df = json_normalize(data[\"pickingJob\"])\n",
    "df"
   ]
  },
  {
   "cell_type": "code",
   "execution_count": 5,
   "metadata": {},
   "outputs": [
    {
     "output_type": "execute_result",
     "data": {
      "text/plain": [
       "    teamLeader line startDateTime finishDateTime recipe  productionTarget\n",
       "0       Team 1    6         06:00          06:03     C4                28\n",
       "1       Team 1    6         06:03          06:07     C4                28\n",
       "2       Team 1    6         06:07          06:11     C4                28\n",
       "3       Team 1    6         06:11          06:15     C4                28\n",
       "4       Team 1    6         06:15          06:19     C4                28\n",
       "..         ...  ...           ...            ...    ...               ...\n",
       "828    Team 11    2         13:40          13:45     D2                35\n",
       "829    Team 11    2         13:45          13:50     D2                35\n",
       "830    Team 11    2         13:50          13:56     D4                28\n",
       "831    Team 11    2         13:56          14:01     D4                28\n",
       "832    Team 12   16         13:00          13:04     P4                21\n",
       "\n",
       "[833 rows x 6 columns]"
      ],
      "text/html": "<div>\n<style scoped>\n    .dataframe tbody tr th:only-of-type {\n        vertical-align: middle;\n    }\n\n    .dataframe tbody tr th {\n        vertical-align: top;\n    }\n\n    .dataframe thead th {\n        text-align: right;\n    }\n</style>\n<table border=\"1\" class=\"dataframe\">\n  <thead>\n    <tr style=\"text-align: right;\">\n      <th></th>\n      <th>teamLeader</th>\n      <th>line</th>\n      <th>startDateTime</th>\n      <th>finishDateTime</th>\n      <th>recipe</th>\n      <th>productionTarget</th>\n    </tr>\n  </thead>\n  <tbody>\n    <tr>\n      <th>0</th>\n      <td>Team 1</td>\n      <td>6</td>\n      <td>06:00</td>\n      <td>06:03</td>\n      <td>C4</td>\n      <td>28</td>\n    </tr>\n    <tr>\n      <th>1</th>\n      <td>Team 1</td>\n      <td>6</td>\n      <td>06:03</td>\n      <td>06:07</td>\n      <td>C4</td>\n      <td>28</td>\n    </tr>\n    <tr>\n      <th>2</th>\n      <td>Team 1</td>\n      <td>6</td>\n      <td>06:07</td>\n      <td>06:11</td>\n      <td>C4</td>\n      <td>28</td>\n    </tr>\n    <tr>\n      <th>3</th>\n      <td>Team 1</td>\n      <td>6</td>\n      <td>06:11</td>\n      <td>06:15</td>\n      <td>C4</td>\n      <td>28</td>\n    </tr>\n    <tr>\n      <th>4</th>\n      <td>Team 1</td>\n      <td>6</td>\n      <td>06:15</td>\n      <td>06:19</td>\n      <td>C4</td>\n      <td>28</td>\n    </tr>\n    <tr>\n      <th>...</th>\n      <td>...</td>\n      <td>...</td>\n      <td>...</td>\n      <td>...</td>\n      <td>...</td>\n      <td>...</td>\n    </tr>\n    <tr>\n      <th>828</th>\n      <td>Team 11</td>\n      <td>2</td>\n      <td>13:40</td>\n      <td>13:45</td>\n      <td>D2</td>\n      <td>35</td>\n    </tr>\n    <tr>\n      <th>829</th>\n      <td>Team 11</td>\n      <td>2</td>\n      <td>13:45</td>\n      <td>13:50</td>\n      <td>D2</td>\n      <td>35</td>\n    </tr>\n    <tr>\n      <th>830</th>\n      <td>Team 11</td>\n      <td>2</td>\n      <td>13:50</td>\n      <td>13:56</td>\n      <td>D4</td>\n      <td>28</td>\n    </tr>\n    <tr>\n      <th>831</th>\n      <td>Team 11</td>\n      <td>2</td>\n      <td>13:56</td>\n      <td>14:01</td>\n      <td>D4</td>\n      <td>28</td>\n    </tr>\n    <tr>\n      <th>832</th>\n      <td>Team 12</td>\n      <td>16</td>\n      <td>13:00</td>\n      <td>13:04</td>\n      <td>P4</td>\n      <td>21</td>\n    </tr>\n  </tbody>\n</table>\n<p>833 rows × 6 columns</p>\n</div>"
     },
     "metadata": {},
     "execution_count": 5
    }
   ],
   "source": [
    "df_ultilize = df[[\"teamLeader\", \"line\", \"startDateTime\", \"finishDateTime\", \"recipe\", \"productionTarget\"]]\n",
    "df_ultilize"
   ]
  },
  {
   "cell_type": "code",
   "execution_count": 6,
   "metadata": {},
   "outputs": [],
   "source": [
    "def change_indicator(input_df: pd.DataFrame) -> pd.DataFrame :\n",
    "    input_df.sort_values(by=['startDateTime'], ascending=True, inplace=True)\n",
    "    col_ori = input_df['recipe']\n",
    "    col_shift = input_df['recipe'].shift(1)\n",
    "    input_df['change_indicator'] = ~(col_ori == col_shift)\n",
    "    return input_df"
   ]
  },
  {
   "cell_type": "code",
   "execution_count": 7,
   "metadata": {},
   "outputs": [
    {
     "output_type": "execute_result",
     "data": {
      "text/plain": [
       "    teamLeader line startDateTime finishDateTime recipe  productionTarget  \\\n",
       "0       Team 1    6         06:00          06:03     C4                28   \n",
       "1       Team 1    6         06:03          06:07     C4                28   \n",
       "2       Team 1    6         06:07          06:11     C4                28   \n",
       "3       Team 1    6         06:11          06:15     C4                28   \n",
       "4       Team 1    6         06:15          06:19     C4                28   \n",
       "..         ...  ...           ...            ...    ...               ...   \n",
       "828    Team 11    2         13:40          13:45     D2                35   \n",
       "829    Team 11    2         13:45          13:50     D2                35   \n",
       "830    Team 11    2         13:50          13:56     D4                28   \n",
       "831    Team 11    2         13:56          14:01     D4                28   \n",
       "832    Team 12   16         13:00          13:04     P4                21   \n",
       "\n",
       "     change_indicator  \n",
       "0                True  \n",
       "1               False  \n",
       "2               False  \n",
       "3               False  \n",
       "4               False  \n",
       "..                ...  \n",
       "828             False  \n",
       "829             False  \n",
       "830              True  \n",
       "831             False  \n",
       "832              True  \n",
       "\n",
       "[833 rows x 7 columns]"
      ],
      "text/html": "<div>\n<style scoped>\n    .dataframe tbody tr th:only-of-type {\n        vertical-align: middle;\n    }\n\n    .dataframe tbody tr th {\n        vertical-align: top;\n    }\n\n    .dataframe thead th {\n        text-align: right;\n    }\n</style>\n<table border=\"1\" class=\"dataframe\">\n  <thead>\n    <tr style=\"text-align: right;\">\n      <th></th>\n      <th>teamLeader</th>\n      <th>line</th>\n      <th>startDateTime</th>\n      <th>finishDateTime</th>\n      <th>recipe</th>\n      <th>productionTarget</th>\n      <th>change_indicator</th>\n    </tr>\n  </thead>\n  <tbody>\n    <tr>\n      <th>0</th>\n      <td>Team 1</td>\n      <td>6</td>\n      <td>06:00</td>\n      <td>06:03</td>\n      <td>C4</td>\n      <td>28</td>\n      <td>True</td>\n    </tr>\n    <tr>\n      <th>1</th>\n      <td>Team 1</td>\n      <td>6</td>\n      <td>06:03</td>\n      <td>06:07</td>\n      <td>C4</td>\n      <td>28</td>\n      <td>False</td>\n    </tr>\n    <tr>\n      <th>2</th>\n      <td>Team 1</td>\n      <td>6</td>\n      <td>06:07</td>\n      <td>06:11</td>\n      <td>C4</td>\n      <td>28</td>\n      <td>False</td>\n    </tr>\n    <tr>\n      <th>3</th>\n      <td>Team 1</td>\n      <td>6</td>\n      <td>06:11</td>\n      <td>06:15</td>\n      <td>C4</td>\n      <td>28</td>\n      <td>False</td>\n    </tr>\n    <tr>\n      <th>4</th>\n      <td>Team 1</td>\n      <td>6</td>\n      <td>06:15</td>\n      <td>06:19</td>\n      <td>C4</td>\n      <td>28</td>\n      <td>False</td>\n    </tr>\n    <tr>\n      <th>...</th>\n      <td>...</td>\n      <td>...</td>\n      <td>...</td>\n      <td>...</td>\n      <td>...</td>\n      <td>...</td>\n      <td>...</td>\n    </tr>\n    <tr>\n      <th>828</th>\n      <td>Team 11</td>\n      <td>2</td>\n      <td>13:40</td>\n      <td>13:45</td>\n      <td>D2</td>\n      <td>35</td>\n      <td>False</td>\n    </tr>\n    <tr>\n      <th>829</th>\n      <td>Team 11</td>\n      <td>2</td>\n      <td>13:45</td>\n      <td>13:50</td>\n      <td>D2</td>\n      <td>35</td>\n      <td>False</td>\n    </tr>\n    <tr>\n      <th>830</th>\n      <td>Team 11</td>\n      <td>2</td>\n      <td>13:50</td>\n      <td>13:56</td>\n      <td>D4</td>\n      <td>28</td>\n      <td>True</td>\n    </tr>\n    <tr>\n      <th>831</th>\n      <td>Team 11</td>\n      <td>2</td>\n      <td>13:56</td>\n      <td>14:01</td>\n      <td>D4</td>\n      <td>28</td>\n      <td>False</td>\n    </tr>\n    <tr>\n      <th>832</th>\n      <td>Team 12</td>\n      <td>16</td>\n      <td>13:00</td>\n      <td>13:04</td>\n      <td>P4</td>\n      <td>21</td>\n      <td>True</td>\n    </tr>\n  </tbody>\n</table>\n<p>833 rows × 7 columns</p>\n</div>"
     },
     "metadata": {},
     "execution_count": 7
    }
   ],
   "source": [
    "df_ultilize = df_ultilize.groupby(['teamLeader']).apply(change_indicator)\n",
    "df_ultilize"
   ]
  },
  {
   "cell_type": "code",
   "execution_count": 8,
   "metadata": {},
   "outputs": [],
   "source": [
    "df_ultilize.to_csv('response.csv', index = False)"
   ]
  },
  {
   "cell_type": "code",
   "execution_count": 9,
   "metadata": {},
   "outputs": [
    {
     "output_type": "execute_result",
     "data": {
      "text/plain": [
       "               time  assemblyLine01Requirement  assemblyLine02Requirement  \\\n",
       "0  12/11/2020 06:00                        NaN                        NaN   \n",
       "1  12/11/2020 07:00                        NaN                        NaN   \n",
       "2  12/11/2020 08:00                        NaN                        NaN   \n",
       "3  12/11/2020 09:00                        NaN                        NaN   \n",
       "4  12/11/2020 10:00                        NaN                        NaN   \n",
       "\n",
       "   shortage  stockTotal  as01Total  as02Total  kittingLineTotal  dollyCount  \\\n",
       "0         0        3292          0          0              3292         121   \n",
       "1         0        6684          0          0              3392         237   \n",
       "2       -33        9950        342        118              3726         335   \n",
       "3         0        9067       1892       2342              3351         313   \n",
       "4         0        9961        790       1684              3368         340   \n",
       "\n",
       "   acceptedDollyCount  ...  stock.U2 stock.SE  kittingLineProduced.F2  \\\n",
       "0                   0  ...       NaN      NaN                     NaN   \n",
       "1                   0  ...       NaN      NaN                     NaN   \n",
       "2                   0  ...       NaN      NaN                     NaN   \n",
       "3                   0  ...      59.0     33.0                   126.0   \n",
       "4                   0  ...      50.0     33.0                     0.0   \n",
       "\n",
       "  kittingLineProduced.G2  kittingLineProduced.I2  kittingLineProduced.J2  \\\n",
       "0                    NaN                     NaN                     NaN   \n",
       "1                    NaN                     NaN                     NaN   \n",
       "2                    NaN                     NaN                     NaN   \n",
       "3                  140.0                   210.0                   168.0   \n",
       "4                    0.0                     0.0                     0.0   \n",
       "\n",
       "   kittingLineProduced.P2  kittingLineProduced.U2  kittingLineProduced.SE  \\\n",
       "0                     NaN                     NaN                     NaN   \n",
       "1                     NaN                     NaN                     NaN   \n",
       "2                     NaN                     NaN                     NaN   \n",
       "3                    28.0                    84.0                    38.0   \n",
       "4                     0.0                     0.0                     0.0   \n",
       "\n",
       "   kittingLineProduced  \n",
       "0                  NaN  \n",
       "1                  NaN  \n",
       "2                  NaN  \n",
       "3                  NaN  \n",
       "4                  NaN  \n",
       "\n",
       "[5 rows x 200 columns]"
      ],
      "text/html": "<div>\n<style scoped>\n    .dataframe tbody tr th:only-of-type {\n        vertical-align: middle;\n    }\n\n    .dataframe tbody tr th {\n        vertical-align: top;\n    }\n\n    .dataframe thead th {\n        text-align: right;\n    }\n</style>\n<table border=\"1\" class=\"dataframe\">\n  <thead>\n    <tr style=\"text-align: right;\">\n      <th></th>\n      <th>time</th>\n      <th>assemblyLine01Requirement</th>\n      <th>assemblyLine02Requirement</th>\n      <th>shortage</th>\n      <th>stockTotal</th>\n      <th>as01Total</th>\n      <th>as02Total</th>\n      <th>kittingLineTotal</th>\n      <th>dollyCount</th>\n      <th>acceptedDollyCount</th>\n      <th>...</th>\n      <th>stock.U2</th>\n      <th>stock.SE</th>\n      <th>kittingLineProduced.F2</th>\n      <th>kittingLineProduced.G2</th>\n      <th>kittingLineProduced.I2</th>\n      <th>kittingLineProduced.J2</th>\n      <th>kittingLineProduced.P2</th>\n      <th>kittingLineProduced.U2</th>\n      <th>kittingLineProduced.SE</th>\n      <th>kittingLineProduced</th>\n    </tr>\n  </thead>\n  <tbody>\n    <tr>\n      <th>0</th>\n      <td>12/11/2020 06:00</td>\n      <td>NaN</td>\n      <td>NaN</td>\n      <td>0</td>\n      <td>3292</td>\n      <td>0</td>\n      <td>0</td>\n      <td>3292</td>\n      <td>121</td>\n      <td>0</td>\n      <td>...</td>\n      <td>NaN</td>\n      <td>NaN</td>\n      <td>NaN</td>\n      <td>NaN</td>\n      <td>NaN</td>\n      <td>NaN</td>\n      <td>NaN</td>\n      <td>NaN</td>\n      <td>NaN</td>\n      <td>NaN</td>\n    </tr>\n    <tr>\n      <th>1</th>\n      <td>12/11/2020 07:00</td>\n      <td>NaN</td>\n      <td>NaN</td>\n      <td>0</td>\n      <td>6684</td>\n      <td>0</td>\n      <td>0</td>\n      <td>3392</td>\n      <td>237</td>\n      <td>0</td>\n      <td>...</td>\n      <td>NaN</td>\n      <td>NaN</td>\n      <td>NaN</td>\n      <td>NaN</td>\n      <td>NaN</td>\n      <td>NaN</td>\n      <td>NaN</td>\n      <td>NaN</td>\n      <td>NaN</td>\n      <td>NaN</td>\n    </tr>\n    <tr>\n      <th>2</th>\n      <td>12/11/2020 08:00</td>\n      <td>NaN</td>\n      <td>NaN</td>\n      <td>-33</td>\n      <td>9950</td>\n      <td>342</td>\n      <td>118</td>\n      <td>3726</td>\n      <td>335</td>\n      <td>0</td>\n      <td>...</td>\n      <td>NaN</td>\n      <td>NaN</td>\n      <td>NaN</td>\n      <td>NaN</td>\n      <td>NaN</td>\n      <td>NaN</td>\n      <td>NaN</td>\n      <td>NaN</td>\n      <td>NaN</td>\n      <td>NaN</td>\n    </tr>\n    <tr>\n      <th>3</th>\n      <td>12/11/2020 09:00</td>\n      <td>NaN</td>\n      <td>NaN</td>\n      <td>0</td>\n      <td>9067</td>\n      <td>1892</td>\n      <td>2342</td>\n      <td>3351</td>\n      <td>313</td>\n      <td>0</td>\n      <td>...</td>\n      <td>59.0</td>\n      <td>33.0</td>\n      <td>126.0</td>\n      <td>140.0</td>\n      <td>210.0</td>\n      <td>168.0</td>\n      <td>28.0</td>\n      <td>84.0</td>\n      <td>38.0</td>\n      <td>NaN</td>\n    </tr>\n    <tr>\n      <th>4</th>\n      <td>12/11/2020 10:00</td>\n      <td>NaN</td>\n      <td>NaN</td>\n      <td>0</td>\n      <td>9961</td>\n      <td>790</td>\n      <td>1684</td>\n      <td>3368</td>\n      <td>340</td>\n      <td>0</td>\n      <td>...</td>\n      <td>50.0</td>\n      <td>33.0</td>\n      <td>0.0</td>\n      <td>0.0</td>\n      <td>0.0</td>\n      <td>0.0</td>\n      <td>0.0</td>\n      <td>0.0</td>\n      <td>0.0</td>\n      <td>NaN</td>\n    </tr>\n  </tbody>\n</table>\n<p>5 rows × 200 columns</p>\n</div>"
     },
     "metadata": {},
     "execution_count": 9
    }
   ],
   "source": [
    "df_stock = json_normalize(data[\"stockOverTime\"])\n",
    "df_stock.head()"
   ]
  },
  {
   "cell_type": "code",
   "execution_count": 10,
   "metadata": {},
   "outputs": [
    {
     "output_type": "execute_result",
     "data": {
      "text/plain": [
       "['time',\n",
       " 'assemblyLine01Requirement',\n",
       " 'assemblyLine02Requirement',\n",
       " 'shortage',\n",
       " 'stockTotal',\n",
       " 'as01Total',\n",
       " 'as02Total',\n",
       " 'kittingLineTotal',\n",
       " 'dollyCount',\n",
       " 'acceptedDollyCount',\n",
       " 'acceptedKittingLineTotal',\n",
       " 'acceptedKittingLineProduced',\n",
       " 'acceptedShortage',\n",
       " 'acceptedStock',\n",
       " 'acceptedStockTotal',\n",
       " 'stock.O2',\n",
       " 'stock.T2',\n",
       " 'stock.B4',\n",
       " 'stock.C4',\n",
       " 'stock.D4',\n",
       " 'stock.E4',\n",
       " 'stock.G4',\n",
       " 'stock.K4',\n",
       " 'stock.L4',\n",
       " 'stock.O4',\n",
       " 'stock.S4',\n",
       " 'stock.T4',\n",
       " 'kittingLineProduced.O2',\n",
       " 'kittingLineProduced.T2',\n",
       " 'kittingLineProduced.B4',\n",
       " 'kittingLineProduced.C4',\n",
       " 'kittingLineProduced.D4',\n",
       " 'kittingLineProduced.E4',\n",
       " 'kittingLineProduced.G4',\n",
       " 'kittingLineProduced.K4',\n",
       " 'kittingLineProduced.L4',\n",
       " 'kittingLineProduced.O4',\n",
       " 'kittingLineProduced.S4',\n",
       " 'kittingLineProduced.T4',\n",
       " 'stock.A4',\n",
       " 'stock.M4',\n",
       " 'stock.SA',\n",
       " 'stock.SG',\n",
       " 'kittingLineProduced.A4',\n",
       " 'kittingLineProduced.M4',\n",
       " 'kittingLineProduced.SA',\n",
       " 'kittingLineProduced.SG',\n",
       " 'assemblyLine01Requirement.A2',\n",
       " 'assemblyLine01Requirement.A4',\n",
       " 'assemblyLine01Requirement.B2',\n",
       " 'assemblyLine01Requirement.B4',\n",
       " 'assemblyLine01Requirement.C2',\n",
       " 'assemblyLine01Requirement.C4',\n",
       " 'assemblyLine01Requirement.D2',\n",
       " 'assemblyLine01Requirement.D4',\n",
       " 'assemblyLine01Requirement.E2',\n",
       " 'assemblyLine01Requirement.E4',\n",
       " 'assemblyLine01Requirement.F4',\n",
       " 'assemblyLine01Requirement.G4',\n",
       " 'assemblyLine01Requirement.H2',\n",
       " 'assemblyLine01Requirement.H4',\n",
       " 'assemblyLine01Requirement.I4',\n",
       " 'assemblyLine01Requirement.J4',\n",
       " 'assemblyLine01Requirement.K2',\n",
       " 'assemblyLine01Requirement.K4',\n",
       " 'assemblyLine01Requirement.L2',\n",
       " 'assemblyLine01Requirement.L4',\n",
       " 'assemblyLine01Requirement.M2',\n",
       " 'assemblyLine01Requirement.M4',\n",
       " 'assemblyLine01Requirement.N2',\n",
       " 'assemblyLine01Requirement.N4',\n",
       " 'assemblyLine01Requirement.O2',\n",
       " 'assemblyLine01Requirement.O4',\n",
       " 'assemblyLine01Requirement.P4',\n",
       " 'assemblyLine01Requirement.Q2',\n",
       " 'assemblyLine01Requirement.Q4',\n",
       " 'assemblyLine01Requirement.R2',\n",
       " 'assemblyLine01Requirement.R4',\n",
       " 'assemblyLine01Requirement.S2',\n",
       " 'assemblyLine01Requirement.S4',\n",
       " 'assemblyLine01Requirement.SA',\n",
       " 'assemblyLine01Requirement.SF',\n",
       " 'assemblyLine01Requirement.SG',\n",
       " 'assemblyLine01Requirement.T2',\n",
       " 'assemblyLine01Requirement.T4',\n",
       " 'assemblyLine01Requirement.U4',\n",
       " 'assemblyLine02Requirement.A2',\n",
       " 'assemblyLine02Requirement.A4',\n",
       " 'assemblyLine02Requirement.B2',\n",
       " 'assemblyLine02Requirement.B4',\n",
       " 'assemblyLine02Requirement.C2',\n",
       " 'assemblyLine02Requirement.C4',\n",
       " 'assemblyLine02Requirement.D2',\n",
       " 'assemblyLine02Requirement.D4',\n",
       " 'assemblyLine02Requirement.E2',\n",
       " 'assemblyLine02Requirement.E4',\n",
       " 'assemblyLine02Requirement.F4',\n",
       " 'assemblyLine02Requirement.G4',\n",
       " 'assemblyLine02Requirement.H2',\n",
       " 'assemblyLine02Requirement.H4',\n",
       " 'assemblyLine02Requirement.I4',\n",
       " 'assemblyLine02Requirement.J4',\n",
       " 'assemblyLine02Requirement.K2',\n",
       " 'assemblyLine02Requirement.K4',\n",
       " 'assemblyLine02Requirement.L2',\n",
       " 'assemblyLine02Requirement.L4',\n",
       " 'assemblyLine02Requirement.M2',\n",
       " 'assemblyLine02Requirement.M4',\n",
       " 'assemblyLine02Requirement.N2',\n",
       " 'assemblyLine02Requirement.N4',\n",
       " 'assemblyLine02Requirement.O2',\n",
       " 'assemblyLine02Requirement.O4',\n",
       " 'assemblyLine02Requirement.P4',\n",
       " 'assemblyLine02Requirement.Q2',\n",
       " 'assemblyLine02Requirement.Q4',\n",
       " 'assemblyLine02Requirement.R2',\n",
       " 'assemblyLine02Requirement.R4',\n",
       " 'assemblyLine02Requirement.S2',\n",
       " 'assemblyLine02Requirement.S4',\n",
       " 'assemblyLine02Requirement.SA',\n",
       " 'assemblyLine02Requirement.SF',\n",
       " 'assemblyLine02Requirement.SG',\n",
       " 'assemblyLine02Requirement.T2',\n",
       " 'assemblyLine02Requirement.T4',\n",
       " 'assemblyLine02Requirement.U4',\n",
       " 'stock.A2',\n",
       " 'stock.B2',\n",
       " 'stock.C2',\n",
       " 'stock.D2',\n",
       " 'stock.E2',\n",
       " 'stock.H2',\n",
       " 'stock.K2',\n",
       " 'stock.L2',\n",
       " 'stock.M2',\n",
       " 'stock.N2',\n",
       " 'stock.Q2',\n",
       " 'stock.R2',\n",
       " 'stock.S2',\n",
       " 'stock.F4',\n",
       " 'stock.H4',\n",
       " 'stock.I4',\n",
       " 'stock.J4',\n",
       " 'stock.P4',\n",
       " 'stock.Q4',\n",
       " 'stock.R4',\n",
       " 'stock.U4',\n",
       " 'stock.SF',\n",
       " 'stock.N4',\n",
       " 'kittingLineProduced.A2',\n",
       " 'kittingLineProduced.B2',\n",
       " 'kittingLineProduced.C2',\n",
       " 'kittingLineProduced.D2',\n",
       " 'kittingLineProduced.E2',\n",
       " 'kittingLineProduced.H2',\n",
       " 'kittingLineProduced.K2',\n",
       " 'kittingLineProduced.L2',\n",
       " 'kittingLineProduced.M2',\n",
       " 'kittingLineProduced.N2',\n",
       " 'kittingLineProduced.Q2',\n",
       " 'kittingLineProduced.R2',\n",
       " 'kittingLineProduced.S2',\n",
       " 'kittingLineProduced.F4',\n",
       " 'kittingLineProduced.H4',\n",
       " 'kittingLineProduced.I4',\n",
       " 'kittingLineProduced.J4',\n",
       " 'kittingLineProduced.P4',\n",
       " 'kittingLineProduced.Q4',\n",
       " 'kittingLineProduced.R4',\n",
       " 'kittingLineProduced.U4',\n",
       " 'kittingLineProduced.SF',\n",
       " 'kittingLineProduced.N4',\n",
       " 'assemblyLine01Requirement.F2',\n",
       " 'assemblyLine01Requirement.G2',\n",
       " 'assemblyLine01Requirement.I2',\n",
       " 'assemblyLine01Requirement.J2',\n",
       " 'assemblyLine01Requirement.P2',\n",
       " 'assemblyLine01Requirement.SE',\n",
       " 'assemblyLine01Requirement.U2',\n",
       " 'assemblyLine02Requirement.F2',\n",
       " 'assemblyLine02Requirement.G2',\n",
       " 'assemblyLine02Requirement.I2',\n",
       " 'assemblyLine02Requirement.J2',\n",
       " 'assemblyLine02Requirement.P2',\n",
       " 'assemblyLine02Requirement.SE',\n",
       " 'assemblyLine02Requirement.U2',\n",
       " 'stock.F2',\n",
       " 'stock.G2',\n",
       " 'stock.I2',\n",
       " 'stock.J2',\n",
       " 'stock.P2',\n",
       " 'stock.U2',\n",
       " 'stock.SE',\n",
       " 'kittingLineProduced.F2',\n",
       " 'kittingLineProduced.G2',\n",
       " 'kittingLineProduced.I2',\n",
       " 'kittingLineProduced.J2',\n",
       " 'kittingLineProduced.P2',\n",
       " 'kittingLineProduced.U2',\n",
       " 'kittingLineProduced.SE',\n",
       " 'kittingLineProduced']"
      ]
     },
     "metadata": {},
     "execution_count": 10
    }
   ],
   "source": [
    "[i for i in df_stock.columns]"
   ]
  },
  {
   "cell_type": "code",
   "execution_count": 11,
   "metadata": {},
   "outputs": [
    {
     "output_type": "execute_result",
     "data": {
      "text/plain": [
       "['stockTotal',\n",
       " 'stock.O2',\n",
       " 'stock.T2',\n",
       " 'stock.B4',\n",
       " 'stock.C4',\n",
       " 'stock.D4',\n",
       " 'stock.E4',\n",
       " 'stock.G4',\n",
       " 'stock.K4',\n",
       " 'stock.L4',\n",
       " 'stock.O4',\n",
       " 'stock.S4',\n",
       " 'stock.T4',\n",
       " 'stock.A4',\n",
       " 'stock.M4',\n",
       " 'stock.SA',\n",
       " 'stock.SG',\n",
       " 'stock.A2',\n",
       " 'stock.B2',\n",
       " 'stock.C2',\n",
       " 'stock.D2',\n",
       " 'stock.E2',\n",
       " 'stock.H2',\n",
       " 'stock.K2',\n",
       " 'stock.L2',\n",
       " 'stock.M2',\n",
       " 'stock.N2',\n",
       " 'stock.Q2',\n",
       " 'stock.R2',\n",
       " 'stock.S2',\n",
       " 'stock.F4',\n",
       " 'stock.H4',\n",
       " 'stock.I4',\n",
       " 'stock.J4',\n",
       " 'stock.P4',\n",
       " 'stock.Q4',\n",
       " 'stock.R4',\n",
       " 'stock.U4',\n",
       " 'stock.SF',\n",
       " 'stock.N4',\n",
       " 'stock.F2',\n",
       " 'stock.G2',\n",
       " 'stock.I2',\n",
       " 'stock.J2',\n",
       " 'stock.P2',\n",
       " 'stock.U2',\n",
       " 'stock.SE',\n",
       " 'time']"
      ]
     },
     "metadata": {},
     "execution_count": 11
    }
   ],
   "source": [
    "filter_col = [col for col in df_stock if col.startswith('stock')]\n",
    "filter_col.append('time')\n",
    "filter_col"
   ]
  },
  {
   "cell_type": "code",
   "execution_count": 12,
   "metadata": {},
   "outputs": [],
   "source": [
    "df_stock = df_stock[filter_col]\n",
    "# df_stock.set_index('time', inplace = True)"
   ]
  },
  {
   "cell_type": "code",
   "execution_count": 13,
   "metadata": {},
   "outputs": [
    {
     "output_type": "execute_result",
     "data": {
      "text/plain": [
       "   stockTotal  stock.O2  stock.T2  stock.B4  stock.C4  stock.D4  stock.E4  \\\n",
       "0        3292        35     174.0       125       442       350       435   \n",
       "1        6684        35     341.0       505       884       700       870   \n",
       "2        9950        33     336.0       644      1069       840      1059   \n",
       "3        9067        25     321.0       493       912       674       887   \n",
       "4        9961        43     314.0       438       846       598       825   \n",
       "\n",
       "   stock.G4  stock.K4  stock.L4  ...  stock.SF  stock.N4  stock.F2  stock.G2  \\\n",
       "0       300       353       439  ...       NaN       NaN       NaN       NaN   \n",
       "1       526       706       878  ...       NaN       NaN       NaN       NaN   \n",
       "2       521       822      1055  ...      -2.0       0.0       NaN       NaN   \n",
       "3       484       633       901  ...      49.0     195.0      96.0      83.0   \n",
       "4       471       552       841  ...      47.0     131.0      73.0      39.0   \n",
       "\n",
       "   stock.I2  stock.J2  stock.P2  stock.U2  stock.SE              time  \n",
       "0       NaN       NaN       NaN       NaN       NaN  12/11/2020 06:00  \n",
       "1       NaN       NaN       NaN       NaN       NaN  12/11/2020 07:00  \n",
       "2       NaN       NaN       NaN       NaN       NaN  12/11/2020 08:00  \n",
       "3     148.0     107.0      24.0      59.0      33.0  12/11/2020 09:00  \n",
       "4      85.0      58.0      20.0      50.0      33.0  12/11/2020 10:00  \n",
       "\n",
       "[5 rows x 48 columns]"
      ],
      "text/html": "<div>\n<style scoped>\n    .dataframe tbody tr th:only-of-type {\n        vertical-align: middle;\n    }\n\n    .dataframe tbody tr th {\n        vertical-align: top;\n    }\n\n    .dataframe thead th {\n        text-align: right;\n    }\n</style>\n<table border=\"1\" class=\"dataframe\">\n  <thead>\n    <tr style=\"text-align: right;\">\n      <th></th>\n      <th>stockTotal</th>\n      <th>stock.O2</th>\n      <th>stock.T2</th>\n      <th>stock.B4</th>\n      <th>stock.C4</th>\n      <th>stock.D4</th>\n      <th>stock.E4</th>\n      <th>stock.G4</th>\n      <th>stock.K4</th>\n      <th>stock.L4</th>\n      <th>...</th>\n      <th>stock.SF</th>\n      <th>stock.N4</th>\n      <th>stock.F2</th>\n      <th>stock.G2</th>\n      <th>stock.I2</th>\n      <th>stock.J2</th>\n      <th>stock.P2</th>\n      <th>stock.U2</th>\n      <th>stock.SE</th>\n      <th>time</th>\n    </tr>\n  </thead>\n  <tbody>\n    <tr>\n      <th>0</th>\n      <td>3292</td>\n      <td>35</td>\n      <td>174.0</td>\n      <td>125</td>\n      <td>442</td>\n      <td>350</td>\n      <td>435</td>\n      <td>300</td>\n      <td>353</td>\n      <td>439</td>\n      <td>...</td>\n      <td>NaN</td>\n      <td>NaN</td>\n      <td>NaN</td>\n      <td>NaN</td>\n      <td>NaN</td>\n      <td>NaN</td>\n      <td>NaN</td>\n      <td>NaN</td>\n      <td>NaN</td>\n      <td>12/11/2020 06:00</td>\n    </tr>\n    <tr>\n      <th>1</th>\n      <td>6684</td>\n      <td>35</td>\n      <td>341.0</td>\n      <td>505</td>\n      <td>884</td>\n      <td>700</td>\n      <td>870</td>\n      <td>526</td>\n      <td>706</td>\n      <td>878</td>\n      <td>...</td>\n      <td>NaN</td>\n      <td>NaN</td>\n      <td>NaN</td>\n      <td>NaN</td>\n      <td>NaN</td>\n      <td>NaN</td>\n      <td>NaN</td>\n      <td>NaN</td>\n      <td>NaN</td>\n      <td>12/11/2020 07:00</td>\n    </tr>\n    <tr>\n      <th>2</th>\n      <td>9950</td>\n      <td>33</td>\n      <td>336.0</td>\n      <td>644</td>\n      <td>1069</td>\n      <td>840</td>\n      <td>1059</td>\n      <td>521</td>\n      <td>822</td>\n      <td>1055</td>\n      <td>...</td>\n      <td>-2.0</td>\n      <td>0.0</td>\n      <td>NaN</td>\n      <td>NaN</td>\n      <td>NaN</td>\n      <td>NaN</td>\n      <td>NaN</td>\n      <td>NaN</td>\n      <td>NaN</td>\n      <td>12/11/2020 08:00</td>\n    </tr>\n    <tr>\n      <th>3</th>\n      <td>9067</td>\n      <td>25</td>\n      <td>321.0</td>\n      <td>493</td>\n      <td>912</td>\n      <td>674</td>\n      <td>887</td>\n      <td>484</td>\n      <td>633</td>\n      <td>901</td>\n      <td>...</td>\n      <td>49.0</td>\n      <td>195.0</td>\n      <td>96.0</td>\n      <td>83.0</td>\n      <td>148.0</td>\n      <td>107.0</td>\n      <td>24.0</td>\n      <td>59.0</td>\n      <td>33.0</td>\n      <td>12/11/2020 09:00</td>\n    </tr>\n    <tr>\n      <th>4</th>\n      <td>9961</td>\n      <td>43</td>\n      <td>314.0</td>\n      <td>438</td>\n      <td>846</td>\n      <td>598</td>\n      <td>825</td>\n      <td>471</td>\n      <td>552</td>\n      <td>841</td>\n      <td>...</td>\n      <td>47.0</td>\n      <td>131.0</td>\n      <td>73.0</td>\n      <td>39.0</td>\n      <td>85.0</td>\n      <td>58.0</td>\n      <td>20.0</td>\n      <td>50.0</td>\n      <td>33.0</td>\n      <td>12/11/2020 10:00</td>\n    </tr>\n  </tbody>\n</table>\n<p>5 rows × 48 columns</p>\n</div>"
     },
     "metadata": {},
     "execution_count": 13
    }
   ],
   "source": [
    "df_stock.head()"
   ]
  },
  {
   "cell_type": "code",
   "execution_count": 14,
   "metadata": {},
   "outputs": [
    {
     "output_type": "execute_result",
     "data": {
      "text/plain": [
       "               time    variable   value\n",
       "0  12/11/2020 06:00  stockTotal  3292.0\n",
       "1  12/11/2020 07:00  stockTotal  6684.0\n",
       "2  12/11/2020 08:00  stockTotal  9950.0\n",
       "3  12/11/2020 09:00  stockTotal  9067.0\n",
       "4  12/11/2020 10:00  stockTotal  9961.0"
      ],
      "text/html": "<div>\n<style scoped>\n    .dataframe tbody tr th:only-of-type {\n        vertical-align: middle;\n    }\n\n    .dataframe tbody tr th {\n        vertical-align: top;\n    }\n\n    .dataframe thead th {\n        text-align: right;\n    }\n</style>\n<table border=\"1\" class=\"dataframe\">\n  <thead>\n    <tr style=\"text-align: right;\">\n      <th></th>\n      <th>time</th>\n      <th>variable</th>\n      <th>value</th>\n    </tr>\n  </thead>\n  <tbody>\n    <tr>\n      <th>0</th>\n      <td>12/11/2020 06:00</td>\n      <td>stockTotal</td>\n      <td>3292.0</td>\n    </tr>\n    <tr>\n      <th>1</th>\n      <td>12/11/2020 07:00</td>\n      <td>stockTotal</td>\n      <td>6684.0</td>\n    </tr>\n    <tr>\n      <th>2</th>\n      <td>12/11/2020 08:00</td>\n      <td>stockTotal</td>\n      <td>9950.0</td>\n    </tr>\n    <tr>\n      <th>3</th>\n      <td>12/11/2020 09:00</td>\n      <td>stockTotal</td>\n      <td>9067.0</td>\n    </tr>\n    <tr>\n      <th>4</th>\n      <td>12/11/2020 10:00</td>\n      <td>stockTotal</td>\n      <td>9961.0</td>\n    </tr>\n  </tbody>\n</table>\n</div>"
     },
     "metadata": {},
     "execution_count": 14
    }
   ],
   "source": [
    "df_stock = df_stock.melt(id_vars=['time'])\n",
    "df_stock.head()"
   ]
  },
  {
   "cell_type": "code",
   "execution_count": 15,
   "metadata": {},
   "outputs": [],
   "source": [
    "df_stock.to_csv('response_stock.csv', index = False)"
   ]
  },
  {
   "cell_type": "code",
   "execution_count": null,
   "metadata": {},
   "outputs": [],
   "source": []
  }
 ]
}