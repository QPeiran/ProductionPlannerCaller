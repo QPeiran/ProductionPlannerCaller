{
 "metadata": {
  "language_info": {
   "codemirror_mode": {
    "name": "ipython",
    "version": 3
   },
   "file_extension": ".py",
   "mimetype": "text/x-python",
   "name": "python",
   "nbconvert_exporter": "python",
   "pygments_lexer": "ipython3",
   "version": "3.8.6-final"
  },
  "orig_nbformat": 2,
  "kernelspec": {
   "name": "python_defaultSpec_1603761565369",
   "display_name": "Python 3.8.6 64-bit ('PlanningClient': pipenv)"
  }
 },
 "nbformat": 4,
 "nbformat_minor": 2,
 "cells": [
  {
   "cell_type": "code",
   "execution_count": 1,
   "metadata": {},
   "outputs": [],
   "source": [
    "import pandas as pd\n",
    "import json\n",
    "from pandas import json_normalize"
   ]
  },
  {
   "cell_type": "code",
   "execution_count": 2,
   "metadata": {},
   "outputs": [],
   "source": [
    "file = open(r'C:\\Users\\Peiran Quan\\myWorkStation\\PlanningClient\\template_response.json')"
   ]
  },
  {
   "cell_type": "code",
   "execution_count": 3,
   "metadata": {},
   "outputs": [],
   "source": [
    "data = json.load(file)"
   ]
  },
  {
   "cell_type": "code",
   "execution_count": 4,
   "metadata": {
    "tags": []
   },
   "outputs": [
    {
     "output_type": "execute_result",
     "data": {
      "text/plain": "     teamId startDateTime finishDateTime teamLeader  id line batch  week  \\\n0         1         06:00          06:51     Team 1   0    5  None  None   \n1         1         06:51          07:46     Team 1   0   14  None  None   \n2         1         07:46          08:42     Team 1   0    3  None  None   \n3         1         08:42          09:39     Team 1   0   11  None  None   \n4         1         09:39          10:36     Team 1   0    6  None  None   \n..      ...           ...            ...        ...  ..  ...   ...   ...   \n104       9         14:08          15:04     Team 9   0   11  None  None   \n105       9         15:04          15:43     Team 9   0   12  None  None   \n106       9         15:43          16:05     Team 9   0   19  None  None   \n107       9         16:05          16:59     Team 9   0   19  None  None   \n108       9         16:59          20:39     Team 9   0   14  None  None   \n\n     year  done recipe  productionTarget mealKitPerCrate targetSpeed  \\\n0    None  None     B4               280            None        None   \n1    None  None     N2               350            None        None   \n2    None  None     D2               350            None        None   \n3    None  None     M4               280            None        None   \n4    None  None     C4               280            None        None   \n..    ...   ...    ...               ...             ...         ...   \n104  None  None     M2               350            None        None   \n105  None  None     K2               229            None        None   \n106  None  None     T2               143            None        None   \n107  None  None     T4               280            None        None   \n108  None  None     N4              1230            None        None   \n\n    displayOrder createdAt  \n0           None      None  \n1           None      None  \n2           None      None  \n3           None      None  \n4           None      None  \n..           ...       ...  \n104         None      None  \n105         None      None  \n106         None      None  \n107         None      None  \n108         None      None  \n\n[109 rows x 16 columns]",
      "text/html": "<div>\n<style scoped>\n    .dataframe tbody tr th:only-of-type {\n        vertical-align: middle;\n    }\n\n    .dataframe tbody tr th {\n        vertical-align: top;\n    }\n\n    .dataframe thead th {\n        text-align: right;\n    }\n</style>\n<table border=\"1\" class=\"dataframe\">\n  <thead>\n    <tr style=\"text-align: right;\">\n      <th></th>\n      <th>teamId</th>\n      <th>startDateTime</th>\n      <th>finishDateTime</th>\n      <th>teamLeader</th>\n      <th>id</th>\n      <th>line</th>\n      <th>batch</th>\n      <th>week</th>\n      <th>year</th>\n      <th>done</th>\n      <th>recipe</th>\n      <th>productionTarget</th>\n      <th>mealKitPerCrate</th>\n      <th>targetSpeed</th>\n      <th>displayOrder</th>\n      <th>createdAt</th>\n    </tr>\n  </thead>\n  <tbody>\n    <tr>\n      <th>0</th>\n      <td>1</td>\n      <td>06:00</td>\n      <td>06:51</td>\n      <td>Team 1</td>\n      <td>0</td>\n      <td>5</td>\n      <td>None</td>\n      <td>None</td>\n      <td>None</td>\n      <td>None</td>\n      <td>B4</td>\n      <td>280</td>\n      <td>None</td>\n      <td>None</td>\n      <td>None</td>\n      <td>None</td>\n    </tr>\n    <tr>\n      <th>1</th>\n      <td>1</td>\n      <td>06:51</td>\n      <td>07:46</td>\n      <td>Team 1</td>\n      <td>0</td>\n      <td>14</td>\n      <td>None</td>\n      <td>None</td>\n      <td>None</td>\n      <td>None</td>\n      <td>N2</td>\n      <td>350</td>\n      <td>None</td>\n      <td>None</td>\n      <td>None</td>\n      <td>None</td>\n    </tr>\n    <tr>\n      <th>2</th>\n      <td>1</td>\n      <td>07:46</td>\n      <td>08:42</td>\n      <td>Team 1</td>\n      <td>0</td>\n      <td>3</td>\n      <td>None</td>\n      <td>None</td>\n      <td>None</td>\n      <td>None</td>\n      <td>D2</td>\n      <td>350</td>\n      <td>None</td>\n      <td>None</td>\n      <td>None</td>\n      <td>None</td>\n    </tr>\n    <tr>\n      <th>3</th>\n      <td>1</td>\n      <td>08:42</td>\n      <td>09:39</td>\n      <td>Team 1</td>\n      <td>0</td>\n      <td>11</td>\n      <td>None</td>\n      <td>None</td>\n      <td>None</td>\n      <td>None</td>\n      <td>M4</td>\n      <td>280</td>\n      <td>None</td>\n      <td>None</td>\n      <td>None</td>\n      <td>None</td>\n    </tr>\n    <tr>\n      <th>4</th>\n      <td>1</td>\n      <td>09:39</td>\n      <td>10:36</td>\n      <td>Team 1</td>\n      <td>0</td>\n      <td>6</td>\n      <td>None</td>\n      <td>None</td>\n      <td>None</td>\n      <td>None</td>\n      <td>C4</td>\n      <td>280</td>\n      <td>None</td>\n      <td>None</td>\n      <td>None</td>\n      <td>None</td>\n    </tr>\n    <tr>\n      <th>...</th>\n      <td>...</td>\n      <td>...</td>\n      <td>...</td>\n      <td>...</td>\n      <td>...</td>\n      <td>...</td>\n      <td>...</td>\n      <td>...</td>\n      <td>...</td>\n      <td>...</td>\n      <td>...</td>\n      <td>...</td>\n      <td>...</td>\n      <td>...</td>\n      <td>...</td>\n      <td>...</td>\n    </tr>\n    <tr>\n      <th>104</th>\n      <td>9</td>\n      <td>14:08</td>\n      <td>15:04</td>\n      <td>Team 9</td>\n      <td>0</td>\n      <td>11</td>\n      <td>None</td>\n      <td>None</td>\n      <td>None</td>\n      <td>None</td>\n      <td>M2</td>\n      <td>350</td>\n      <td>None</td>\n      <td>None</td>\n      <td>None</td>\n      <td>None</td>\n    </tr>\n    <tr>\n      <th>105</th>\n      <td>9</td>\n      <td>15:04</td>\n      <td>15:43</td>\n      <td>Team 9</td>\n      <td>0</td>\n      <td>12</td>\n      <td>None</td>\n      <td>None</td>\n      <td>None</td>\n      <td>None</td>\n      <td>K2</td>\n      <td>229</td>\n      <td>None</td>\n      <td>None</td>\n      <td>None</td>\n      <td>None</td>\n    </tr>\n    <tr>\n      <th>106</th>\n      <td>9</td>\n      <td>15:43</td>\n      <td>16:05</td>\n      <td>Team 9</td>\n      <td>0</td>\n      <td>19</td>\n      <td>None</td>\n      <td>None</td>\n      <td>None</td>\n      <td>None</td>\n      <td>T2</td>\n      <td>143</td>\n      <td>None</td>\n      <td>None</td>\n      <td>None</td>\n      <td>None</td>\n    </tr>\n    <tr>\n      <th>107</th>\n      <td>9</td>\n      <td>16:05</td>\n      <td>16:59</td>\n      <td>Team 9</td>\n      <td>0</td>\n      <td>19</td>\n      <td>None</td>\n      <td>None</td>\n      <td>None</td>\n      <td>None</td>\n      <td>T4</td>\n      <td>280</td>\n      <td>None</td>\n      <td>None</td>\n      <td>None</td>\n      <td>None</td>\n    </tr>\n    <tr>\n      <th>108</th>\n      <td>9</td>\n      <td>16:59</td>\n      <td>20:39</td>\n      <td>Team 9</td>\n      <td>0</td>\n      <td>14</td>\n      <td>None</td>\n      <td>None</td>\n      <td>None</td>\n      <td>None</td>\n      <td>N4</td>\n      <td>1230</td>\n      <td>None</td>\n      <td>None</td>\n      <td>None</td>\n      <td>None</td>\n    </tr>\n  </tbody>\n</table>\n<p>109 rows × 16 columns</p>\n</div>"
     },
     "metadata": {},
     "execution_count": 4
    }
   ],
   "source": [
    "df = json_normalize(data[\"pickingJob\"])\n",
    "df"
   ]
  },
  {
   "cell_type": "code",
   "execution_count": 5,
   "metadata": {},
   "outputs": [
    {
     "output_type": "execute_result",
     "data": {
      "text/plain": "    teamLeader line startDateTime finishDateTime recipe  productionTarget\n0       Team 1    5         06:00          06:51     B4               280\n1       Team 1   14         06:51          07:46     N2               350\n2       Team 1    3         07:46          08:42     D2               350\n3       Team 1   11         08:42          09:39     M4               280\n4       Team 1    6         09:39          10:36     C4               280\n..         ...  ...           ...            ...    ...               ...\n104     Team 9   11         14:08          15:04     M2               350\n105     Team 9   12         15:04          15:43     K2               229\n106     Team 9   19         15:43          16:05     T2               143\n107     Team 9   19         16:05          16:59     T4               280\n108     Team 9   14         16:59          20:39     N4              1230\n\n[109 rows x 6 columns]",
      "text/html": "<div>\n<style scoped>\n    .dataframe tbody tr th:only-of-type {\n        vertical-align: middle;\n    }\n\n    .dataframe tbody tr th {\n        vertical-align: top;\n    }\n\n    .dataframe thead th {\n        text-align: right;\n    }\n</style>\n<table border=\"1\" class=\"dataframe\">\n  <thead>\n    <tr style=\"text-align: right;\">\n      <th></th>\n      <th>teamLeader</th>\n      <th>line</th>\n      <th>startDateTime</th>\n      <th>finishDateTime</th>\n      <th>recipe</th>\n      <th>productionTarget</th>\n    </tr>\n  </thead>\n  <tbody>\n    <tr>\n      <th>0</th>\n      <td>Team 1</td>\n      <td>5</td>\n      <td>06:00</td>\n      <td>06:51</td>\n      <td>B4</td>\n      <td>280</td>\n    </tr>\n    <tr>\n      <th>1</th>\n      <td>Team 1</td>\n      <td>14</td>\n      <td>06:51</td>\n      <td>07:46</td>\n      <td>N2</td>\n      <td>350</td>\n    </tr>\n    <tr>\n      <th>2</th>\n      <td>Team 1</td>\n      <td>3</td>\n      <td>07:46</td>\n      <td>08:42</td>\n      <td>D2</td>\n      <td>350</td>\n    </tr>\n    <tr>\n      <th>3</th>\n      <td>Team 1</td>\n      <td>11</td>\n      <td>08:42</td>\n      <td>09:39</td>\n      <td>M4</td>\n      <td>280</td>\n    </tr>\n    <tr>\n      <th>4</th>\n      <td>Team 1</td>\n      <td>6</td>\n      <td>09:39</td>\n      <td>10:36</td>\n      <td>C4</td>\n      <td>280</td>\n    </tr>\n    <tr>\n      <th>...</th>\n      <td>...</td>\n      <td>...</td>\n      <td>...</td>\n      <td>...</td>\n      <td>...</td>\n      <td>...</td>\n    </tr>\n    <tr>\n      <th>104</th>\n      <td>Team 9</td>\n      <td>11</td>\n      <td>14:08</td>\n      <td>15:04</td>\n      <td>M2</td>\n      <td>350</td>\n    </tr>\n    <tr>\n      <th>105</th>\n      <td>Team 9</td>\n      <td>12</td>\n      <td>15:04</td>\n      <td>15:43</td>\n      <td>K2</td>\n      <td>229</td>\n    </tr>\n    <tr>\n      <th>106</th>\n      <td>Team 9</td>\n      <td>19</td>\n      <td>15:43</td>\n      <td>16:05</td>\n      <td>T2</td>\n      <td>143</td>\n    </tr>\n    <tr>\n      <th>107</th>\n      <td>Team 9</td>\n      <td>19</td>\n      <td>16:05</td>\n      <td>16:59</td>\n      <td>T4</td>\n      <td>280</td>\n    </tr>\n    <tr>\n      <th>108</th>\n      <td>Team 9</td>\n      <td>14</td>\n      <td>16:59</td>\n      <td>20:39</td>\n      <td>N4</td>\n      <td>1230</td>\n    </tr>\n  </tbody>\n</table>\n<p>109 rows × 6 columns</p>\n</div>"
     },
     "metadata": {},
     "execution_count": 5
    }
   ],
   "source": [
    "df_ultilize = df[[\"teamLeader\", \"line\", \"startDateTime\", \"finishDateTime\", \"recipe\", \"productionTarget\"]]\n",
    "df_ultilize"
   ]
  },
  {
   "cell_type": "code",
   "execution_count": 6,
   "metadata": {},
   "outputs": [],
   "source": [
    "df_ultilize.to_csv('response.csv', index = False)"
   ]
  }
 ]
}