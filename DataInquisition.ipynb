{
 "metadata": {
  "language_info": {
   "codemirror_mode": {
    "name": "ipython",
    "version": 3
   },
   "file_extension": ".py",
   "mimetype": "text/x-python",
   "name": "python",
   "nbconvert_exporter": "python",
   "pygments_lexer": "ipython3",
   "version": "3.8.6-final"
  },
  "orig_nbformat": 2,
  "kernelspec": {
   "name": "Python 3.8.6 64-bit ('ProductionPlannerCaller': pipenv)",
   "display_name": "Python 3.8.6 64-bit ('ProductionPlannerCaller': pipenv)",
   "metadata": {
    "interpreter": {
     "hash": "d35c8b516a90ec349fb27354d3f5b0fd5f2200bb14aca3e9a64f3cb0fb9d61f2"
    }
   }
  }
 },
 "nbformat": 4,
 "nbformat_minor": 2,
 "cells": [
  {
   "cell_type": "code",
   "execution_count": 1,
   "metadata": {},
   "outputs": [],
   "source": [
    "import pandas as pd\n",
    "import json\n",
    "from pandas import json_normalize"
   ]
  },
  {
   "cell_type": "code",
   "execution_count": 2,
   "metadata": {},
   "outputs": [],
   "source": [
    "# file = open(r'C:\\Users\\Peiran Quan\\myWorkStation\\PlanningClient\\template_response.json')\n",
    "file = open(r'.\\test_response.json')"
   ]
  },
  {
   "cell_type": "code",
   "execution_count": 3,
   "metadata": {},
   "outputs": [],
   "source": [
    "data = json.load(file)"
   ]
  },
  {
   "cell_type": "code",
   "execution_count": 4,
   "metadata": {
    "tags": []
   },
   "outputs": [
    {
     "output_type": "execute_result",
     "data": {
      "text/plain": [
       "    teamId startDateTime finishDateTime teamLeader  id line batch  week  year  \\\n",
       "0        1         06:00          06:41     Team 1   0   15  None  None  None   \n",
       "1        1         06:41          07:32     Team 1   0    9  None  None  None   \n",
       "2        1         07:32          08:23     Team 1   0   18  None  None  None   \n",
       "3        1         08:23          09:27     Team 1   0   14  None  None  None   \n",
       "4        1         09:27          09:59     Team 1   0   16  None  None  None   \n",
       "5        1         09:59          10:41     Team 1   0    8  None  None  None   \n",
       "6        1         10:41          11:32     Team 1   0   11  None  None  None   \n",
       "7        1         11:32          12:21     Team 1   0   11  None  None  None   \n",
       "8        1         12:21          13:25     Team 1   0   13  None  None  None   \n",
       "9        2         06:00          06:51     Team 2   0   10  None  None  None   \n",
       "10       2         06:51          07:42     Team 2   0    7  None  None  None   \n",
       "11       2         07:42          08:09     Team 2   0   16  None  None  None   \n",
       "12       2         08:09          08:48     Team 2   0   19  None  None  None   \n",
       "13       2         08:48          09:38     Team 2   0   17  None  None  None   \n",
       "14       2         09:38          10:31     Team 2   0   20  None  None  None   \n",
       "15       2         10:31          11:23     Team 2   0   17  None  None  None   \n",
       "16       2         11:23          12:14     Team 2   0    2  None  None  None   \n",
       "17       2         12:14          13:05     Team 2   0    4  None  None  None   \n",
       "18       2         13:05          13:55     Team 2   0    9  None  None  None   \n",
       "19       3         06:00          06:51     Team 3   0    3  None  None  None   \n",
       "20       3         06:51          07:42     Team 3   0    1  None  None  None   \n",
       "21       3         07:42          08:21     Team 3   0    8  None  None  None   \n",
       "22       3         08:21          09:21     Team 3   0   13  None  None  None   \n",
       "23       3         09:21          10:12     Team 3   0    3  None  None  None   \n",
       "24       3         10:12          11:03     Team 3   0    2  None  None  None   \n",
       "25       3         11:03          11:54     Team 3   0    4  None  None  None   \n",
       "26       3         11:54          12:46     Team 3   0   18  None  None  None   \n",
       "27       3         13:05          13:57     Team 3   0    4  None  None  None   \n",
       "28       4         06:00          07:00     Team 4   0   14  None  None  None   \n",
       "29       4         07:00          07:31     Team 4   0   15  None  None  None   \n",
       "30       4         07:31          08:22     Team 4   0   20  None  None  None   \n",
       "31       4         08:22          08:31     Team 4   0    9  None  None  None   \n",
       "32       4         08:31          09:31     Team 4   0   12  None  None  None   \n",
       "33       4         09:31          10:22     Team 4   0    1  None  None  None   \n",
       "34       4         10:22          11:13     Team 4   0    5  None  None  None   \n",
       "35       4         11:13          12:04     Team 4   0    3  None  None  None   \n",
       "36       4         12:04          13:20     Team 4   0    6  None  None  None   \n",
       "37       5         08:00          08:39     Team 5   0    6  None  None  None   \n",
       "38       5         08:39          09:17     Team 5   0    6  None  None  None   \n",
       "39       5         09:17          09:59     Team 5   0   19  None  None  None   \n",
       "40       5         09:59          10:39     Team 5   0   15  None  None  None   \n",
       "41       5         10:39          11:31     Team 5   0    1  None  None  None   \n",
       "42       5         11:31          12:18     Team 5   0   20  None  None  None   \n",
       "43       5         12:18          13:09     Team 5   0   16  None  None  None   \n",
       "44       5         13:09          14:00     Team 5   0    5  None  None  None   \n",
       "45       6         10:00          10:50     Team 6   0    7  None  None  None   \n",
       "46       6         10:50          11:51     Team 6   0   10  None  None  None   \n",
       "47       6         11:51          12:55     Team 6   0   12  None  None  None   \n",
       "\n",
       "    done recipe  productionTarget  mealKitPerCrate  targetSpeed displayOrder  \\\n",
       "0   None     G2               280                4          450         None   \n",
       "1   None     H4               280                4          350         None   \n",
       "2   None     O2               350                5          450         None   \n",
       "3   None     R4               350                5          350         None   \n",
       "4   None     P2               210                3          450         None   \n",
       "5   None     F2               280                4          450         None   \n",
       "6   None     M2               350                5          450         None   \n",
       "7   None     M4               280                4          350         None   \n",
       "8   None     L4               350                5          350         None   \n",
       "9   None     T4               280                4          350         None   \n",
       "10  None     E4               280                4          350         None   \n",
       "11  None     P4               140                2          350         None   \n",
       "12  None     Q4               210                3          350         None   \n",
       "13  None     S2               350                5          450         None   \n",
       "14  None     N4               280                4          350         None   \n",
       "15  None     S4               280                4          350         None   \n",
       "16  None     A2               350                5          450         None   \n",
       "17  None     C2               350                5          450         None   \n",
       "18  None     H2               350                5          450         None   \n",
       "19  None     B4               280                4          350         None   \n",
       "20  None     K4               280                4          350         None   \n",
       "21  None     F4               210                3          350         None   \n",
       "22  None     L2               420                6          450         None   \n",
       "23  None     B4               280                4          350         None   \n",
       "24  None     A4               280                4          350         None   \n",
       "25  None     C4               280                4          350         None   \n",
       "26  None     O4               280                4          350         None   \n",
       "27  None     C4               280                4          350         None   \n",
       "28  None     R2               420                6          450         None   \n",
       "29  None     SF               224                7          500         None   \n",
       "30  None     N2               350                5          450         None   \n",
       "31  None     SE                43                7          500         None   \n",
       "32  None     I2               420                6          450         None   \n",
       "33  None     K2               350                5          450         None   \n",
       "34  None     D4               280                4          350         None   \n",
       "35  None     B2               350                5          450         None   \n",
       "36  None     U4               420                6          350         None   \n",
       "37  None     J4               210                3          350         None   \n",
       "38  None     J2               280                4          450         None   \n",
       "39  None     Q2               280                4          450         None   \n",
       "40  None     G4               210                3          350         None   \n",
       "41  None     K4               280                4          350         None   \n",
       "42  None     SG               359                6          500         None   \n",
       "43  None     SA               387                6          500         None   \n",
       "44  None     D4               280                4          350         None   \n",
       "45  None     E2               350                5          450         None   \n",
       "46  None     T2               420                6          450         None   \n",
       "47  None     I4               350                5          350         None   \n",
       "\n",
       "   createdAt  \n",
       "0       None  \n",
       "1       None  \n",
       "2       None  \n",
       "3       None  \n",
       "4       None  \n",
       "5       None  \n",
       "6       None  \n",
       "7       None  \n",
       "8       None  \n",
       "9       None  \n",
       "10      None  \n",
       "11      None  \n",
       "12      None  \n",
       "13      None  \n",
       "14      None  \n",
       "15      None  \n",
       "16      None  \n",
       "17      None  \n",
       "18      None  \n",
       "19      None  \n",
       "20      None  \n",
       "21      None  \n",
       "22      None  \n",
       "23      None  \n",
       "24      None  \n",
       "25      None  \n",
       "26      None  \n",
       "27      None  \n",
       "28      None  \n",
       "29      None  \n",
       "30      None  \n",
       "31      None  \n",
       "32      None  \n",
       "33      None  \n",
       "34      None  \n",
       "35      None  \n",
       "36      None  \n",
       "37      None  \n",
       "38      None  \n",
       "39      None  \n",
       "40      None  \n",
       "41      None  \n",
       "42      None  \n",
       "43      None  \n",
       "44      None  \n",
       "45      None  \n",
       "46      None  \n",
       "47      None  "
      ],
      "text/html": "<div>\n<style scoped>\n    .dataframe tbody tr th:only-of-type {\n        vertical-align: middle;\n    }\n\n    .dataframe tbody tr th {\n        vertical-align: top;\n    }\n\n    .dataframe thead th {\n        text-align: right;\n    }\n</style>\n<table border=\"1\" class=\"dataframe\">\n  <thead>\n    <tr style=\"text-align: right;\">\n      <th></th>\n      <th>teamId</th>\n      <th>startDateTime</th>\n      <th>finishDateTime</th>\n      <th>teamLeader</th>\n      <th>id</th>\n      <th>line</th>\n      <th>batch</th>\n      <th>week</th>\n      <th>year</th>\n      <th>done</th>\n      <th>recipe</th>\n      <th>productionTarget</th>\n      <th>mealKitPerCrate</th>\n      <th>targetSpeed</th>\n      <th>displayOrder</th>\n      <th>createdAt</th>\n    </tr>\n  </thead>\n  <tbody>\n    <tr>\n      <th>0</th>\n      <td>1</td>\n      <td>06:00</td>\n      <td>06:41</td>\n      <td>Team 1</td>\n      <td>0</td>\n      <td>15</td>\n      <td>None</td>\n      <td>None</td>\n      <td>None</td>\n      <td>None</td>\n      <td>G2</td>\n      <td>280</td>\n      <td>4</td>\n      <td>450</td>\n      <td>None</td>\n      <td>None</td>\n    </tr>\n    <tr>\n      <th>1</th>\n      <td>1</td>\n      <td>06:41</td>\n      <td>07:32</td>\n      <td>Team 1</td>\n      <td>0</td>\n      <td>9</td>\n      <td>None</td>\n      <td>None</td>\n      <td>None</td>\n      <td>None</td>\n      <td>H4</td>\n      <td>280</td>\n      <td>4</td>\n      <td>350</td>\n      <td>None</td>\n      <td>None</td>\n    </tr>\n    <tr>\n      <th>2</th>\n      <td>1</td>\n      <td>07:32</td>\n      <td>08:23</td>\n      <td>Team 1</td>\n      <td>0</td>\n      <td>18</td>\n      <td>None</td>\n      <td>None</td>\n      <td>None</td>\n      <td>None</td>\n      <td>O2</td>\n      <td>350</td>\n      <td>5</td>\n      <td>450</td>\n      <td>None</td>\n      <td>None</td>\n    </tr>\n    <tr>\n      <th>3</th>\n      <td>1</td>\n      <td>08:23</td>\n      <td>09:27</td>\n      <td>Team 1</td>\n      <td>0</td>\n      <td>14</td>\n      <td>None</td>\n      <td>None</td>\n      <td>None</td>\n      <td>None</td>\n      <td>R4</td>\n      <td>350</td>\n      <td>5</td>\n      <td>350</td>\n      <td>None</td>\n      <td>None</td>\n    </tr>\n    <tr>\n      <th>4</th>\n      <td>1</td>\n      <td>09:27</td>\n      <td>09:59</td>\n      <td>Team 1</td>\n      <td>0</td>\n      <td>16</td>\n      <td>None</td>\n      <td>None</td>\n      <td>None</td>\n      <td>None</td>\n      <td>P2</td>\n      <td>210</td>\n      <td>3</td>\n      <td>450</td>\n      <td>None</td>\n      <td>None</td>\n    </tr>\n    <tr>\n      <th>5</th>\n      <td>1</td>\n      <td>09:59</td>\n      <td>10:41</td>\n      <td>Team 1</td>\n      <td>0</td>\n      <td>8</td>\n      <td>None</td>\n      <td>None</td>\n      <td>None</td>\n      <td>None</td>\n      <td>F2</td>\n      <td>280</td>\n      <td>4</td>\n      <td>450</td>\n      <td>None</td>\n      <td>None</td>\n    </tr>\n    <tr>\n      <th>6</th>\n      <td>1</td>\n      <td>10:41</td>\n      <td>11:32</td>\n      <td>Team 1</td>\n      <td>0</td>\n      <td>11</td>\n      <td>None</td>\n      <td>None</td>\n      <td>None</td>\n      <td>None</td>\n      <td>M2</td>\n      <td>350</td>\n      <td>5</td>\n      <td>450</td>\n      <td>None</td>\n      <td>None</td>\n    </tr>\n    <tr>\n      <th>7</th>\n      <td>1</td>\n      <td>11:32</td>\n      <td>12:21</td>\n      <td>Team 1</td>\n      <td>0</td>\n      <td>11</td>\n      <td>None</td>\n      <td>None</td>\n      <td>None</td>\n      <td>None</td>\n      <td>M4</td>\n      <td>280</td>\n      <td>4</td>\n      <td>350</td>\n      <td>None</td>\n      <td>None</td>\n    </tr>\n    <tr>\n      <th>8</th>\n      <td>1</td>\n      <td>12:21</td>\n      <td>13:25</td>\n      <td>Team 1</td>\n      <td>0</td>\n      <td>13</td>\n      <td>None</td>\n      <td>None</td>\n      <td>None</td>\n      <td>None</td>\n      <td>L4</td>\n      <td>350</td>\n      <td>5</td>\n      <td>350</td>\n      <td>None</td>\n      <td>None</td>\n    </tr>\n    <tr>\n      <th>9</th>\n      <td>2</td>\n      <td>06:00</td>\n      <td>06:51</td>\n      <td>Team 2</td>\n      <td>0</td>\n      <td>10</td>\n      <td>None</td>\n      <td>None</td>\n      <td>None</td>\n      <td>None</td>\n      <td>T4</td>\n      <td>280</td>\n      <td>4</td>\n      <td>350</td>\n      <td>None</td>\n      <td>None</td>\n    </tr>\n    <tr>\n      <th>10</th>\n      <td>2</td>\n      <td>06:51</td>\n      <td>07:42</td>\n      <td>Team 2</td>\n      <td>0</td>\n      <td>7</td>\n      <td>None</td>\n      <td>None</td>\n      <td>None</td>\n      <td>None</td>\n      <td>E4</td>\n      <td>280</td>\n      <td>4</td>\n      <td>350</td>\n      <td>None</td>\n      <td>None</td>\n    </tr>\n    <tr>\n      <th>11</th>\n      <td>2</td>\n      <td>07:42</td>\n      <td>08:09</td>\n      <td>Team 2</td>\n      <td>0</td>\n      <td>16</td>\n      <td>None</td>\n      <td>None</td>\n      <td>None</td>\n      <td>None</td>\n      <td>P4</td>\n      <td>140</td>\n      <td>2</td>\n      <td>350</td>\n      <td>None</td>\n      <td>None</td>\n    </tr>\n    <tr>\n      <th>12</th>\n      <td>2</td>\n      <td>08:09</td>\n      <td>08:48</td>\n      <td>Team 2</td>\n      <td>0</td>\n      <td>19</td>\n      <td>None</td>\n      <td>None</td>\n      <td>None</td>\n      <td>None</td>\n      <td>Q4</td>\n      <td>210</td>\n      <td>3</td>\n      <td>350</td>\n      <td>None</td>\n      <td>None</td>\n    </tr>\n    <tr>\n      <th>13</th>\n      <td>2</td>\n      <td>08:48</td>\n      <td>09:38</td>\n      <td>Team 2</td>\n      <td>0</td>\n      <td>17</td>\n      <td>None</td>\n      <td>None</td>\n      <td>None</td>\n      <td>None</td>\n      <td>S2</td>\n      <td>350</td>\n      <td>5</td>\n      <td>450</td>\n      <td>None</td>\n      <td>None</td>\n    </tr>\n    <tr>\n      <th>14</th>\n      <td>2</td>\n      <td>09:38</td>\n      <td>10:31</td>\n      <td>Team 2</td>\n      <td>0</td>\n      <td>20</td>\n      <td>None</td>\n      <td>None</td>\n      <td>None</td>\n      <td>None</td>\n      <td>N4</td>\n      <td>280</td>\n      <td>4</td>\n      <td>350</td>\n      <td>None</td>\n      <td>None</td>\n    </tr>\n    <tr>\n      <th>15</th>\n      <td>2</td>\n      <td>10:31</td>\n      <td>11:23</td>\n      <td>Team 2</td>\n      <td>0</td>\n      <td>17</td>\n      <td>None</td>\n      <td>None</td>\n      <td>None</td>\n      <td>None</td>\n      <td>S4</td>\n      <td>280</td>\n      <td>4</td>\n      <td>350</td>\n      <td>None</td>\n      <td>None</td>\n    </tr>\n    <tr>\n      <th>16</th>\n      <td>2</td>\n      <td>11:23</td>\n      <td>12:14</td>\n      <td>Team 2</td>\n      <td>0</td>\n      <td>2</td>\n      <td>None</td>\n      <td>None</td>\n      <td>None</td>\n      <td>None</td>\n      <td>A2</td>\n      <td>350</td>\n      <td>5</td>\n      <td>450</td>\n      <td>None</td>\n      <td>None</td>\n    </tr>\n    <tr>\n      <th>17</th>\n      <td>2</td>\n      <td>12:14</td>\n      <td>13:05</td>\n      <td>Team 2</td>\n      <td>0</td>\n      <td>4</td>\n      <td>None</td>\n      <td>None</td>\n      <td>None</td>\n      <td>None</td>\n      <td>C2</td>\n      <td>350</td>\n      <td>5</td>\n      <td>450</td>\n      <td>None</td>\n      <td>None</td>\n    </tr>\n    <tr>\n      <th>18</th>\n      <td>2</td>\n      <td>13:05</td>\n      <td>13:55</td>\n      <td>Team 2</td>\n      <td>0</td>\n      <td>9</td>\n      <td>None</td>\n      <td>None</td>\n      <td>None</td>\n      <td>None</td>\n      <td>H2</td>\n      <td>350</td>\n      <td>5</td>\n      <td>450</td>\n      <td>None</td>\n      <td>None</td>\n    </tr>\n    <tr>\n      <th>19</th>\n      <td>3</td>\n      <td>06:00</td>\n      <td>06:51</td>\n      <td>Team 3</td>\n      <td>0</td>\n      <td>3</td>\n      <td>None</td>\n      <td>None</td>\n      <td>None</td>\n      <td>None</td>\n      <td>B4</td>\n      <td>280</td>\n      <td>4</td>\n      <td>350</td>\n      <td>None</td>\n      <td>None</td>\n    </tr>\n    <tr>\n      <th>20</th>\n      <td>3</td>\n      <td>06:51</td>\n      <td>07:42</td>\n      <td>Team 3</td>\n      <td>0</td>\n      <td>1</td>\n      <td>None</td>\n      <td>None</td>\n      <td>None</td>\n      <td>None</td>\n      <td>K4</td>\n      <td>280</td>\n      <td>4</td>\n      <td>350</td>\n      <td>None</td>\n      <td>None</td>\n    </tr>\n    <tr>\n      <th>21</th>\n      <td>3</td>\n      <td>07:42</td>\n      <td>08:21</td>\n      <td>Team 3</td>\n      <td>0</td>\n      <td>8</td>\n      <td>None</td>\n      <td>None</td>\n      <td>None</td>\n      <td>None</td>\n      <td>F4</td>\n      <td>210</td>\n      <td>3</td>\n      <td>350</td>\n      <td>None</td>\n      <td>None</td>\n    </tr>\n    <tr>\n      <th>22</th>\n      <td>3</td>\n      <td>08:21</td>\n      <td>09:21</td>\n      <td>Team 3</td>\n      <td>0</td>\n      <td>13</td>\n      <td>None</td>\n      <td>None</td>\n      <td>None</td>\n      <td>None</td>\n      <td>L2</td>\n      <td>420</td>\n      <td>6</td>\n      <td>450</td>\n      <td>None</td>\n      <td>None</td>\n    </tr>\n    <tr>\n      <th>23</th>\n      <td>3</td>\n      <td>09:21</td>\n      <td>10:12</td>\n      <td>Team 3</td>\n      <td>0</td>\n      <td>3</td>\n      <td>None</td>\n      <td>None</td>\n      <td>None</td>\n      <td>None</td>\n      <td>B4</td>\n      <td>280</td>\n      <td>4</td>\n      <td>350</td>\n      <td>None</td>\n      <td>None</td>\n    </tr>\n    <tr>\n      <th>24</th>\n      <td>3</td>\n      <td>10:12</td>\n      <td>11:03</td>\n      <td>Team 3</td>\n      <td>0</td>\n      <td>2</td>\n      <td>None</td>\n      <td>None</td>\n      <td>None</td>\n      <td>None</td>\n      <td>A4</td>\n      <td>280</td>\n      <td>4</td>\n      <td>350</td>\n      <td>None</td>\n      <td>None</td>\n    </tr>\n    <tr>\n      <th>25</th>\n      <td>3</td>\n      <td>11:03</td>\n      <td>11:54</td>\n      <td>Team 3</td>\n      <td>0</td>\n      <td>4</td>\n      <td>None</td>\n      <td>None</td>\n      <td>None</td>\n      <td>None</td>\n      <td>C4</td>\n      <td>280</td>\n      <td>4</td>\n      <td>350</td>\n      <td>None</td>\n      <td>None</td>\n    </tr>\n    <tr>\n      <th>26</th>\n      <td>3</td>\n      <td>11:54</td>\n      <td>12:46</td>\n      <td>Team 3</td>\n      <td>0</td>\n      <td>18</td>\n      <td>None</td>\n      <td>None</td>\n      <td>None</td>\n      <td>None</td>\n      <td>O4</td>\n      <td>280</td>\n      <td>4</td>\n      <td>350</td>\n      <td>None</td>\n      <td>None</td>\n    </tr>\n    <tr>\n      <th>27</th>\n      <td>3</td>\n      <td>13:05</td>\n      <td>13:57</td>\n      <td>Team 3</td>\n      <td>0</td>\n      <td>4</td>\n      <td>None</td>\n      <td>None</td>\n      <td>None</td>\n      <td>None</td>\n      <td>C4</td>\n      <td>280</td>\n      <td>4</td>\n      <td>350</td>\n      <td>None</td>\n      <td>None</td>\n    </tr>\n    <tr>\n      <th>28</th>\n      <td>4</td>\n      <td>06:00</td>\n      <td>07:00</td>\n      <td>Team 4</td>\n      <td>0</td>\n      <td>14</td>\n      <td>None</td>\n      <td>None</td>\n      <td>None</td>\n      <td>None</td>\n      <td>R2</td>\n      <td>420</td>\n      <td>6</td>\n      <td>450</td>\n      <td>None</td>\n      <td>None</td>\n    </tr>\n    <tr>\n      <th>29</th>\n      <td>4</td>\n      <td>07:00</td>\n      <td>07:31</td>\n      <td>Team 4</td>\n      <td>0</td>\n      <td>15</td>\n      <td>None</td>\n      <td>None</td>\n      <td>None</td>\n      <td>None</td>\n      <td>SF</td>\n      <td>224</td>\n      <td>7</td>\n      <td>500</td>\n      <td>None</td>\n      <td>None</td>\n    </tr>\n    <tr>\n      <th>30</th>\n      <td>4</td>\n      <td>07:31</td>\n      <td>08:22</td>\n      <td>Team 4</td>\n      <td>0</td>\n      <td>20</td>\n      <td>None</td>\n      <td>None</td>\n      <td>None</td>\n      <td>None</td>\n      <td>N2</td>\n      <td>350</td>\n      <td>5</td>\n      <td>450</td>\n      <td>None</td>\n      <td>None</td>\n    </tr>\n    <tr>\n      <th>31</th>\n      <td>4</td>\n      <td>08:22</td>\n      <td>08:31</td>\n      <td>Team 4</td>\n      <td>0</td>\n      <td>9</td>\n      <td>None</td>\n      <td>None</td>\n      <td>None</td>\n      <td>None</td>\n      <td>SE</td>\n      <td>43</td>\n      <td>7</td>\n      <td>500</td>\n      <td>None</td>\n      <td>None</td>\n    </tr>\n    <tr>\n      <th>32</th>\n      <td>4</td>\n      <td>08:31</td>\n      <td>09:31</td>\n      <td>Team 4</td>\n      <td>0</td>\n      <td>12</td>\n      <td>None</td>\n      <td>None</td>\n      <td>None</td>\n      <td>None</td>\n      <td>I2</td>\n      <td>420</td>\n      <td>6</td>\n      <td>450</td>\n      <td>None</td>\n      <td>None</td>\n    </tr>\n    <tr>\n      <th>33</th>\n      <td>4</td>\n      <td>09:31</td>\n      <td>10:22</td>\n      <td>Team 4</td>\n      <td>0</td>\n      <td>1</td>\n      <td>None</td>\n      <td>None</td>\n      <td>None</td>\n      <td>None</td>\n      <td>K2</td>\n      <td>350</td>\n      <td>5</td>\n      <td>450</td>\n      <td>None</td>\n      <td>None</td>\n    </tr>\n    <tr>\n      <th>34</th>\n      <td>4</td>\n      <td>10:22</td>\n      <td>11:13</td>\n      <td>Team 4</td>\n      <td>0</td>\n      <td>5</td>\n      <td>None</td>\n      <td>None</td>\n      <td>None</td>\n      <td>None</td>\n      <td>D4</td>\n      <td>280</td>\n      <td>4</td>\n      <td>350</td>\n      <td>None</td>\n      <td>None</td>\n    </tr>\n    <tr>\n      <th>35</th>\n      <td>4</td>\n      <td>11:13</td>\n      <td>12:04</td>\n      <td>Team 4</td>\n      <td>0</td>\n      <td>3</td>\n      <td>None</td>\n      <td>None</td>\n      <td>None</td>\n      <td>None</td>\n      <td>B2</td>\n      <td>350</td>\n      <td>5</td>\n      <td>450</td>\n      <td>None</td>\n      <td>None</td>\n    </tr>\n    <tr>\n      <th>36</th>\n      <td>4</td>\n      <td>12:04</td>\n      <td>13:20</td>\n      <td>Team 4</td>\n      <td>0</td>\n      <td>6</td>\n      <td>None</td>\n      <td>None</td>\n      <td>None</td>\n      <td>None</td>\n      <td>U4</td>\n      <td>420</td>\n      <td>6</td>\n      <td>350</td>\n      <td>None</td>\n      <td>None</td>\n    </tr>\n    <tr>\n      <th>37</th>\n      <td>5</td>\n      <td>08:00</td>\n      <td>08:39</td>\n      <td>Team 5</td>\n      <td>0</td>\n      <td>6</td>\n      <td>None</td>\n      <td>None</td>\n      <td>None</td>\n      <td>None</td>\n      <td>J4</td>\n      <td>210</td>\n      <td>3</td>\n      <td>350</td>\n      <td>None</td>\n      <td>None</td>\n    </tr>\n    <tr>\n      <th>38</th>\n      <td>5</td>\n      <td>08:39</td>\n      <td>09:17</td>\n      <td>Team 5</td>\n      <td>0</td>\n      <td>6</td>\n      <td>None</td>\n      <td>None</td>\n      <td>None</td>\n      <td>None</td>\n      <td>J2</td>\n      <td>280</td>\n      <td>4</td>\n      <td>450</td>\n      <td>None</td>\n      <td>None</td>\n    </tr>\n    <tr>\n      <th>39</th>\n      <td>5</td>\n      <td>09:17</td>\n      <td>09:59</td>\n      <td>Team 5</td>\n      <td>0</td>\n      <td>19</td>\n      <td>None</td>\n      <td>None</td>\n      <td>None</td>\n      <td>None</td>\n      <td>Q2</td>\n      <td>280</td>\n      <td>4</td>\n      <td>450</td>\n      <td>None</td>\n      <td>None</td>\n    </tr>\n    <tr>\n      <th>40</th>\n      <td>5</td>\n      <td>09:59</td>\n      <td>10:39</td>\n      <td>Team 5</td>\n      <td>0</td>\n      <td>15</td>\n      <td>None</td>\n      <td>None</td>\n      <td>None</td>\n      <td>None</td>\n      <td>G4</td>\n      <td>210</td>\n      <td>3</td>\n      <td>350</td>\n      <td>None</td>\n      <td>None</td>\n    </tr>\n    <tr>\n      <th>41</th>\n      <td>5</td>\n      <td>10:39</td>\n      <td>11:31</td>\n      <td>Team 5</td>\n      <td>0</td>\n      <td>1</td>\n      <td>None</td>\n      <td>None</td>\n      <td>None</td>\n      <td>None</td>\n      <td>K4</td>\n      <td>280</td>\n      <td>4</td>\n      <td>350</td>\n      <td>None</td>\n      <td>None</td>\n    </tr>\n    <tr>\n      <th>42</th>\n      <td>5</td>\n      <td>11:31</td>\n      <td>12:18</td>\n      <td>Team 5</td>\n      <td>0</td>\n      <td>20</td>\n      <td>None</td>\n      <td>None</td>\n      <td>None</td>\n      <td>None</td>\n      <td>SG</td>\n      <td>359</td>\n      <td>6</td>\n      <td>500</td>\n      <td>None</td>\n      <td>None</td>\n    </tr>\n    <tr>\n      <th>43</th>\n      <td>5</td>\n      <td>12:18</td>\n      <td>13:09</td>\n      <td>Team 5</td>\n      <td>0</td>\n      <td>16</td>\n      <td>None</td>\n      <td>None</td>\n      <td>None</td>\n      <td>None</td>\n      <td>SA</td>\n      <td>387</td>\n      <td>6</td>\n      <td>500</td>\n      <td>None</td>\n      <td>None</td>\n    </tr>\n    <tr>\n      <th>44</th>\n      <td>5</td>\n      <td>13:09</td>\n      <td>14:00</td>\n      <td>Team 5</td>\n      <td>0</td>\n      <td>5</td>\n      <td>None</td>\n      <td>None</td>\n      <td>None</td>\n      <td>None</td>\n      <td>D4</td>\n      <td>280</td>\n      <td>4</td>\n      <td>350</td>\n      <td>None</td>\n      <td>None</td>\n    </tr>\n    <tr>\n      <th>45</th>\n      <td>6</td>\n      <td>10:00</td>\n      <td>10:50</td>\n      <td>Team 6</td>\n      <td>0</td>\n      <td>7</td>\n      <td>None</td>\n      <td>None</td>\n      <td>None</td>\n      <td>None</td>\n      <td>E2</td>\n      <td>350</td>\n      <td>5</td>\n      <td>450</td>\n      <td>None</td>\n      <td>None</td>\n    </tr>\n    <tr>\n      <th>46</th>\n      <td>6</td>\n      <td>10:50</td>\n      <td>11:51</td>\n      <td>Team 6</td>\n      <td>0</td>\n      <td>10</td>\n      <td>None</td>\n      <td>None</td>\n      <td>None</td>\n      <td>None</td>\n      <td>T2</td>\n      <td>420</td>\n      <td>6</td>\n      <td>450</td>\n      <td>None</td>\n      <td>None</td>\n    </tr>\n    <tr>\n      <th>47</th>\n      <td>6</td>\n      <td>11:51</td>\n      <td>12:55</td>\n      <td>Team 6</td>\n      <td>0</td>\n      <td>12</td>\n      <td>None</td>\n      <td>None</td>\n      <td>None</td>\n      <td>None</td>\n      <td>I4</td>\n      <td>350</td>\n      <td>5</td>\n      <td>350</td>\n      <td>None</td>\n      <td>None</td>\n    </tr>\n  </tbody>\n</table>\n</div>"
     },
     "metadata": {},
     "execution_count": 4
    }
   ],
   "source": [
    "df = json_normalize(data[\"pickingJob\"])\n",
    "df"
   ]
  },
  {
   "cell_type": "code",
   "execution_count": 5,
   "metadata": {},
   "outputs": [
    {
     "output_type": "execute_result",
     "data": {
      "text/plain": [
       "   teamLeader line startDateTime finishDateTime recipe  productionTarget\n",
       "0      Team 1   15         06:00          06:41     G2               280\n",
       "1      Team 1    9         06:41          07:32     H4               280\n",
       "2      Team 1   18         07:32          08:23     O2               350\n",
       "3      Team 1   14         08:23          09:27     R4               350\n",
       "4      Team 1   16         09:27          09:59     P2               210\n",
       "5      Team 1    8         09:59          10:41     F2               280\n",
       "6      Team 1   11         10:41          11:32     M2               350\n",
       "7      Team 1   11         11:32          12:21     M4               280\n",
       "8      Team 1   13         12:21          13:25     L4               350\n",
       "9      Team 2   10         06:00          06:51     T4               280\n",
       "10     Team 2    7         06:51          07:42     E4               280\n",
       "11     Team 2   16         07:42          08:09     P4               140\n",
       "12     Team 2   19         08:09          08:48     Q4               210\n",
       "13     Team 2   17         08:48          09:38     S2               350\n",
       "14     Team 2   20         09:38          10:31     N4               280\n",
       "15     Team 2   17         10:31          11:23     S4               280\n",
       "16     Team 2    2         11:23          12:14     A2               350\n",
       "17     Team 2    4         12:14          13:05     C2               350\n",
       "18     Team 2    9         13:05          13:55     H2               350\n",
       "19     Team 3    3         06:00          06:51     B4               280\n",
       "20     Team 3    1         06:51          07:42     K4               280\n",
       "21     Team 3    8         07:42          08:21     F4               210\n",
       "22     Team 3   13         08:21          09:21     L2               420\n",
       "23     Team 3    3         09:21          10:12     B4               280\n",
       "24     Team 3    2         10:12          11:03     A4               280\n",
       "25     Team 3    4         11:03          11:54     C4               280\n",
       "26     Team 3   18         11:54          12:46     O4               280\n",
       "27     Team 3    4         13:05          13:57     C4               280\n",
       "28     Team 4   14         06:00          07:00     R2               420\n",
       "29     Team 4   15         07:00          07:31     SF               224\n",
       "30     Team 4   20         07:31          08:22     N2               350\n",
       "31     Team 4    9         08:22          08:31     SE                43\n",
       "32     Team 4   12         08:31          09:31     I2               420\n",
       "33     Team 4    1         09:31          10:22     K2               350\n",
       "34     Team 4    5         10:22          11:13     D4               280\n",
       "35     Team 4    3         11:13          12:04     B2               350\n",
       "36     Team 4    6         12:04          13:20     U4               420\n",
       "37     Team 5    6         08:00          08:39     J4               210\n",
       "38     Team 5    6         08:39          09:17     J2               280\n",
       "39     Team 5   19         09:17          09:59     Q2               280\n",
       "40     Team 5   15         09:59          10:39     G4               210\n",
       "41     Team 5    1         10:39          11:31     K4               280\n",
       "42     Team 5   20         11:31          12:18     SG               359\n",
       "43     Team 5   16         12:18          13:09     SA               387\n",
       "44     Team 5    5         13:09          14:00     D4               280\n",
       "45     Team 6    7         10:00          10:50     E2               350\n",
       "46     Team 6   10         10:50          11:51     T2               420\n",
       "47     Team 6   12         11:51          12:55     I4               350"
      ],
      "text/html": "<div>\n<style scoped>\n    .dataframe tbody tr th:only-of-type {\n        vertical-align: middle;\n    }\n\n    .dataframe tbody tr th {\n        vertical-align: top;\n    }\n\n    .dataframe thead th {\n        text-align: right;\n    }\n</style>\n<table border=\"1\" class=\"dataframe\">\n  <thead>\n    <tr style=\"text-align: right;\">\n      <th></th>\n      <th>teamLeader</th>\n      <th>line</th>\n      <th>startDateTime</th>\n      <th>finishDateTime</th>\n      <th>recipe</th>\n      <th>productionTarget</th>\n    </tr>\n  </thead>\n  <tbody>\n    <tr>\n      <th>0</th>\n      <td>Team 1</td>\n      <td>15</td>\n      <td>06:00</td>\n      <td>06:41</td>\n      <td>G2</td>\n      <td>280</td>\n    </tr>\n    <tr>\n      <th>1</th>\n      <td>Team 1</td>\n      <td>9</td>\n      <td>06:41</td>\n      <td>07:32</td>\n      <td>H4</td>\n      <td>280</td>\n    </tr>\n    <tr>\n      <th>2</th>\n      <td>Team 1</td>\n      <td>18</td>\n      <td>07:32</td>\n      <td>08:23</td>\n      <td>O2</td>\n      <td>350</td>\n    </tr>\n    <tr>\n      <th>3</th>\n      <td>Team 1</td>\n      <td>14</td>\n      <td>08:23</td>\n      <td>09:27</td>\n      <td>R4</td>\n      <td>350</td>\n    </tr>\n    <tr>\n      <th>4</th>\n      <td>Team 1</td>\n      <td>16</td>\n      <td>09:27</td>\n      <td>09:59</td>\n      <td>P2</td>\n      <td>210</td>\n    </tr>\n    <tr>\n      <th>5</th>\n      <td>Team 1</td>\n      <td>8</td>\n      <td>09:59</td>\n      <td>10:41</td>\n      <td>F2</td>\n      <td>280</td>\n    </tr>\n    <tr>\n      <th>6</th>\n      <td>Team 1</td>\n      <td>11</td>\n      <td>10:41</td>\n      <td>11:32</td>\n      <td>M2</td>\n      <td>350</td>\n    </tr>\n    <tr>\n      <th>7</th>\n      <td>Team 1</td>\n      <td>11</td>\n      <td>11:32</td>\n      <td>12:21</td>\n      <td>M4</td>\n      <td>280</td>\n    </tr>\n    <tr>\n      <th>8</th>\n      <td>Team 1</td>\n      <td>13</td>\n      <td>12:21</td>\n      <td>13:25</td>\n      <td>L4</td>\n      <td>350</td>\n    </tr>\n    <tr>\n      <th>9</th>\n      <td>Team 2</td>\n      <td>10</td>\n      <td>06:00</td>\n      <td>06:51</td>\n      <td>T4</td>\n      <td>280</td>\n    </tr>\n    <tr>\n      <th>10</th>\n      <td>Team 2</td>\n      <td>7</td>\n      <td>06:51</td>\n      <td>07:42</td>\n      <td>E4</td>\n      <td>280</td>\n    </tr>\n    <tr>\n      <th>11</th>\n      <td>Team 2</td>\n      <td>16</td>\n      <td>07:42</td>\n      <td>08:09</td>\n      <td>P4</td>\n      <td>140</td>\n    </tr>\n    <tr>\n      <th>12</th>\n      <td>Team 2</td>\n      <td>19</td>\n      <td>08:09</td>\n      <td>08:48</td>\n      <td>Q4</td>\n      <td>210</td>\n    </tr>\n    <tr>\n      <th>13</th>\n      <td>Team 2</td>\n      <td>17</td>\n      <td>08:48</td>\n      <td>09:38</td>\n      <td>S2</td>\n      <td>350</td>\n    </tr>\n    <tr>\n      <th>14</th>\n      <td>Team 2</td>\n      <td>20</td>\n      <td>09:38</td>\n      <td>10:31</td>\n      <td>N4</td>\n      <td>280</td>\n    </tr>\n    <tr>\n      <th>15</th>\n      <td>Team 2</td>\n      <td>17</td>\n      <td>10:31</td>\n      <td>11:23</td>\n      <td>S4</td>\n      <td>280</td>\n    </tr>\n    <tr>\n      <th>16</th>\n      <td>Team 2</td>\n      <td>2</td>\n      <td>11:23</td>\n      <td>12:14</td>\n      <td>A2</td>\n      <td>350</td>\n    </tr>\n    <tr>\n      <th>17</th>\n      <td>Team 2</td>\n      <td>4</td>\n      <td>12:14</td>\n      <td>13:05</td>\n      <td>C2</td>\n      <td>350</td>\n    </tr>\n    <tr>\n      <th>18</th>\n      <td>Team 2</td>\n      <td>9</td>\n      <td>13:05</td>\n      <td>13:55</td>\n      <td>H2</td>\n      <td>350</td>\n    </tr>\n    <tr>\n      <th>19</th>\n      <td>Team 3</td>\n      <td>3</td>\n      <td>06:00</td>\n      <td>06:51</td>\n      <td>B4</td>\n      <td>280</td>\n    </tr>\n    <tr>\n      <th>20</th>\n      <td>Team 3</td>\n      <td>1</td>\n      <td>06:51</td>\n      <td>07:42</td>\n      <td>K4</td>\n      <td>280</td>\n    </tr>\n    <tr>\n      <th>21</th>\n      <td>Team 3</td>\n      <td>8</td>\n      <td>07:42</td>\n      <td>08:21</td>\n      <td>F4</td>\n      <td>210</td>\n    </tr>\n    <tr>\n      <th>22</th>\n      <td>Team 3</td>\n      <td>13</td>\n      <td>08:21</td>\n      <td>09:21</td>\n      <td>L2</td>\n      <td>420</td>\n    </tr>\n    <tr>\n      <th>23</th>\n      <td>Team 3</td>\n      <td>3</td>\n      <td>09:21</td>\n      <td>10:12</td>\n      <td>B4</td>\n      <td>280</td>\n    </tr>\n    <tr>\n      <th>24</th>\n      <td>Team 3</td>\n      <td>2</td>\n      <td>10:12</td>\n      <td>11:03</td>\n      <td>A4</td>\n      <td>280</td>\n    </tr>\n    <tr>\n      <th>25</th>\n      <td>Team 3</td>\n      <td>4</td>\n      <td>11:03</td>\n      <td>11:54</td>\n      <td>C4</td>\n      <td>280</td>\n    </tr>\n    <tr>\n      <th>26</th>\n      <td>Team 3</td>\n      <td>18</td>\n      <td>11:54</td>\n      <td>12:46</td>\n      <td>O4</td>\n      <td>280</td>\n    </tr>\n    <tr>\n      <th>27</th>\n      <td>Team 3</td>\n      <td>4</td>\n      <td>13:05</td>\n      <td>13:57</td>\n      <td>C4</td>\n      <td>280</td>\n    </tr>\n    <tr>\n      <th>28</th>\n      <td>Team 4</td>\n      <td>14</td>\n      <td>06:00</td>\n      <td>07:00</td>\n      <td>R2</td>\n      <td>420</td>\n    </tr>\n    <tr>\n      <th>29</th>\n      <td>Team 4</td>\n      <td>15</td>\n      <td>07:00</td>\n      <td>07:31</td>\n      <td>SF</td>\n      <td>224</td>\n    </tr>\n    <tr>\n      <th>30</th>\n      <td>Team 4</td>\n      <td>20</td>\n      <td>07:31</td>\n      <td>08:22</td>\n      <td>N2</td>\n      <td>350</td>\n    </tr>\n    <tr>\n      <th>31</th>\n      <td>Team 4</td>\n      <td>9</td>\n      <td>08:22</td>\n      <td>08:31</td>\n      <td>SE</td>\n      <td>43</td>\n    </tr>\n    <tr>\n      <th>32</th>\n      <td>Team 4</td>\n      <td>12</td>\n      <td>08:31</td>\n      <td>09:31</td>\n      <td>I2</td>\n      <td>420</td>\n    </tr>\n    <tr>\n      <th>33</th>\n      <td>Team 4</td>\n      <td>1</td>\n      <td>09:31</td>\n      <td>10:22</td>\n      <td>K2</td>\n      <td>350</td>\n    </tr>\n    <tr>\n      <th>34</th>\n      <td>Team 4</td>\n      <td>5</td>\n      <td>10:22</td>\n      <td>11:13</td>\n      <td>D4</td>\n      <td>280</td>\n    </tr>\n    <tr>\n      <th>35</th>\n      <td>Team 4</td>\n      <td>3</td>\n      <td>11:13</td>\n      <td>12:04</td>\n      <td>B2</td>\n      <td>350</td>\n    </tr>\n    <tr>\n      <th>36</th>\n      <td>Team 4</td>\n      <td>6</td>\n      <td>12:04</td>\n      <td>13:20</td>\n      <td>U4</td>\n      <td>420</td>\n    </tr>\n    <tr>\n      <th>37</th>\n      <td>Team 5</td>\n      <td>6</td>\n      <td>08:00</td>\n      <td>08:39</td>\n      <td>J4</td>\n      <td>210</td>\n    </tr>\n    <tr>\n      <th>38</th>\n      <td>Team 5</td>\n      <td>6</td>\n      <td>08:39</td>\n      <td>09:17</td>\n      <td>J2</td>\n      <td>280</td>\n    </tr>\n    <tr>\n      <th>39</th>\n      <td>Team 5</td>\n      <td>19</td>\n      <td>09:17</td>\n      <td>09:59</td>\n      <td>Q2</td>\n      <td>280</td>\n    </tr>\n    <tr>\n      <th>40</th>\n      <td>Team 5</td>\n      <td>15</td>\n      <td>09:59</td>\n      <td>10:39</td>\n      <td>G4</td>\n      <td>210</td>\n    </tr>\n    <tr>\n      <th>41</th>\n      <td>Team 5</td>\n      <td>1</td>\n      <td>10:39</td>\n      <td>11:31</td>\n      <td>K4</td>\n      <td>280</td>\n    </tr>\n    <tr>\n      <th>42</th>\n      <td>Team 5</td>\n      <td>20</td>\n      <td>11:31</td>\n      <td>12:18</td>\n      <td>SG</td>\n      <td>359</td>\n    </tr>\n    <tr>\n      <th>43</th>\n      <td>Team 5</td>\n      <td>16</td>\n      <td>12:18</td>\n      <td>13:09</td>\n      <td>SA</td>\n      <td>387</td>\n    </tr>\n    <tr>\n      <th>44</th>\n      <td>Team 5</td>\n      <td>5</td>\n      <td>13:09</td>\n      <td>14:00</td>\n      <td>D4</td>\n      <td>280</td>\n    </tr>\n    <tr>\n      <th>45</th>\n      <td>Team 6</td>\n      <td>7</td>\n      <td>10:00</td>\n      <td>10:50</td>\n      <td>E2</td>\n      <td>350</td>\n    </tr>\n    <tr>\n      <th>46</th>\n      <td>Team 6</td>\n      <td>10</td>\n      <td>10:50</td>\n      <td>11:51</td>\n      <td>T2</td>\n      <td>420</td>\n    </tr>\n    <tr>\n      <th>47</th>\n      <td>Team 6</td>\n      <td>12</td>\n      <td>11:51</td>\n      <td>12:55</td>\n      <td>I4</td>\n      <td>350</td>\n    </tr>\n  </tbody>\n</table>\n</div>"
     },
     "metadata": {},
     "execution_count": 5
    }
   ],
   "source": [
    "df_ultilize = df[[\"teamLeader\", \"line\", \"startDateTime\", \"finishDateTime\", \"recipe\", \"productionTarget\"]]\n",
    "df_ultilize"
   ]
  },
  {
   "cell_type": "code",
   "execution_count": 6,
   "metadata": {},
   "outputs": [],
   "source": [
    "df_ultilize.to_csv('response.csv', index = False)"
   ]
  },
  {
   "cell_type": "code",
   "execution_count": 7,
   "metadata": {},
   "outputs": [
    {
     "output_type": "execute_result",
     "data": {
      "text/plain": [
       "    time  assemblyLine01Requirement  assemblyLine02Requirement  shortage  \\\n",
       "0  06:00                        NaN                        NaN         0   \n",
       "1  07:00                        NaN                        NaN         0   \n",
       "2  08:00                        NaN                        NaN     -1202   \n",
       "3  09:00                        NaN                        NaN     -3277   \n",
       "4  10:00                        NaN                        NaN     -3318   \n",
       "\n",
       "   stockTotal  as01Total  as02Total  kittingLineTotal  dollyCount  \\\n",
       "0        1474          0          0              1474          48   \n",
       "1        2955          0          0              1481         101   \n",
       "2        2977       1024        804              1850         120   \n",
       "3        1155       2155       1577              1910          65   \n",
       "4        1124        885       1324              2178          65   \n",
       "\n",
       "   acceptedDollyCount  ...  kittingLineProduced.SE  \\\n",
       "0                   0  ...                     NaN   \n",
       "1                   0  ...                     NaN   \n",
       "2                   0  ...                    43.0   \n",
       "3                   0  ...                     0.0   \n",
       "4                   0  ...                     0.0   \n",
       "\n",
       "  assemblyLine01Requirement.P2  assemblyLine02Requirement.P2 stock.P2  \\\n",
       "0                          NaN                           NaN      NaN   \n",
       "1                          NaN                           NaN      NaN   \n",
       "2                          NaN                           NaN      NaN   \n",
       "3                          0.0                           4.0    206.0   \n",
       "4                          0.0                           9.0    197.0   \n",
       "\n",
       "   kittingLineProduced.P2  assemblyLine01Requirement.U2  \\\n",
       "0                     NaN                           NaN   \n",
       "1                     NaN                           NaN   \n",
       "2                     NaN                           NaN   \n",
       "3                   210.0                           NaN   \n",
       "4                     0.0                           0.0   \n",
       "\n",
       "   assemblyLine02Requirement.U2  stock.U2  kittingLineProduced.U2  \\\n",
       "0                           NaN       NaN                     NaN   \n",
       "1                           NaN       NaN                     NaN   \n",
       "2                           NaN       NaN                     NaN   \n",
       "3                           NaN       NaN                     NaN   \n",
       "4                           1.0      -1.0                     0.0   \n",
       "\n",
       "   kittingLineProduced  \n",
       "0                  NaN  \n",
       "1                  NaN  \n",
       "2                  NaN  \n",
       "3                  NaN  \n",
       "4                  NaN  \n",
       "\n",
       "[5 rows x 200 columns]"
      ],
      "text/html": "<div>\n<style scoped>\n    .dataframe tbody tr th:only-of-type {\n        vertical-align: middle;\n    }\n\n    .dataframe tbody tr th {\n        vertical-align: top;\n    }\n\n    .dataframe thead th {\n        text-align: right;\n    }\n</style>\n<table border=\"1\" class=\"dataframe\">\n  <thead>\n    <tr style=\"text-align: right;\">\n      <th></th>\n      <th>time</th>\n      <th>assemblyLine01Requirement</th>\n      <th>assemblyLine02Requirement</th>\n      <th>shortage</th>\n      <th>stockTotal</th>\n      <th>as01Total</th>\n      <th>as02Total</th>\n      <th>kittingLineTotal</th>\n      <th>dollyCount</th>\n      <th>acceptedDollyCount</th>\n      <th>...</th>\n      <th>kittingLineProduced.SE</th>\n      <th>assemblyLine01Requirement.P2</th>\n      <th>assemblyLine02Requirement.P2</th>\n      <th>stock.P2</th>\n      <th>kittingLineProduced.P2</th>\n      <th>assemblyLine01Requirement.U2</th>\n      <th>assemblyLine02Requirement.U2</th>\n      <th>stock.U2</th>\n      <th>kittingLineProduced.U2</th>\n      <th>kittingLineProduced</th>\n    </tr>\n  </thead>\n  <tbody>\n    <tr>\n      <th>0</th>\n      <td>06:00</td>\n      <td>NaN</td>\n      <td>NaN</td>\n      <td>0</td>\n      <td>1474</td>\n      <td>0</td>\n      <td>0</td>\n      <td>1474</td>\n      <td>48</td>\n      <td>0</td>\n      <td>...</td>\n      <td>NaN</td>\n      <td>NaN</td>\n      <td>NaN</td>\n      <td>NaN</td>\n      <td>NaN</td>\n      <td>NaN</td>\n      <td>NaN</td>\n      <td>NaN</td>\n      <td>NaN</td>\n      <td>NaN</td>\n    </tr>\n    <tr>\n      <th>1</th>\n      <td>07:00</td>\n      <td>NaN</td>\n      <td>NaN</td>\n      <td>0</td>\n      <td>2955</td>\n      <td>0</td>\n      <td>0</td>\n      <td>1481</td>\n      <td>101</td>\n      <td>0</td>\n      <td>...</td>\n      <td>NaN</td>\n      <td>NaN</td>\n      <td>NaN</td>\n      <td>NaN</td>\n      <td>NaN</td>\n      <td>NaN</td>\n      <td>NaN</td>\n      <td>NaN</td>\n      <td>NaN</td>\n      <td>NaN</td>\n    </tr>\n    <tr>\n      <th>2</th>\n      <td>08:00</td>\n      <td>NaN</td>\n      <td>NaN</td>\n      <td>-1202</td>\n      <td>2977</td>\n      <td>1024</td>\n      <td>804</td>\n      <td>1850</td>\n      <td>120</td>\n      <td>0</td>\n      <td>...</td>\n      <td>43.0</td>\n      <td>NaN</td>\n      <td>NaN</td>\n      <td>NaN</td>\n      <td>NaN</td>\n      <td>NaN</td>\n      <td>NaN</td>\n      <td>NaN</td>\n      <td>NaN</td>\n      <td>NaN</td>\n    </tr>\n    <tr>\n      <th>3</th>\n      <td>09:00</td>\n      <td>NaN</td>\n      <td>NaN</td>\n      <td>-3277</td>\n      <td>1155</td>\n      <td>2155</td>\n      <td>1577</td>\n      <td>1910</td>\n      <td>65</td>\n      <td>0</td>\n      <td>...</td>\n      <td>0.0</td>\n      <td>0.0</td>\n      <td>4.0</td>\n      <td>206.0</td>\n      <td>210.0</td>\n      <td>NaN</td>\n      <td>NaN</td>\n      <td>NaN</td>\n      <td>NaN</td>\n      <td>NaN</td>\n    </tr>\n    <tr>\n      <th>4</th>\n      <td>10:00</td>\n      <td>NaN</td>\n      <td>NaN</td>\n      <td>-3318</td>\n      <td>1124</td>\n      <td>885</td>\n      <td>1324</td>\n      <td>2178</td>\n      <td>65</td>\n      <td>0</td>\n      <td>...</td>\n      <td>0.0</td>\n      <td>0.0</td>\n      <td>9.0</td>\n      <td>197.0</td>\n      <td>0.0</td>\n      <td>0.0</td>\n      <td>1.0</td>\n      <td>-1.0</td>\n      <td>0.0</td>\n      <td>NaN</td>\n    </tr>\n  </tbody>\n</table>\n<p>5 rows × 200 columns</p>\n</div>"
     },
     "metadata": {},
     "execution_count": 7
    }
   ],
   "source": [
    "df_stock = json_normalize(data[\"stockOverTime\"])\n",
    "df_stock.head()"
   ]
  },
  {
   "cell_type": "code",
   "execution_count": 8,
   "metadata": {},
   "outputs": [
    {
     "output_type": "execute_result",
     "data": {
      "text/plain": [
       "['stockTotal',\n",
       " 'stock.G2',\n",
       " 'stock.R2',\n",
       " 'stock.B4',\n",
       " 'stock.E4',\n",
       " 'stock.H4',\n",
       " 'stock.K4',\n",
       " 'stock.T4',\n",
       " 'stock.N2',\n",
       " 'stock.O2',\n",
       " 'stock.F4',\n",
       " 'stock.P4',\n",
       " 'stock.SF',\n",
       " 'stock.A2',\n",
       " 'stock.B2',\n",
       " 'stock.C2',\n",
       " 'stock.D2',\n",
       " 'stock.E2',\n",
       " 'stock.F2',\n",
       " 'stock.H2',\n",
       " 'stock.I2',\n",
       " 'stock.J2',\n",
       " 'stock.K2',\n",
       " 'stock.L2',\n",
       " 'stock.M2',\n",
       " 'stock.Q2',\n",
       " 'stock.S2',\n",
       " 'stock.T2',\n",
       " 'stock.A4',\n",
       " 'stock.C4',\n",
       " 'stock.D4',\n",
       " 'stock.G4',\n",
       " 'stock.I4',\n",
       " 'stock.J4',\n",
       " 'stock.L4',\n",
       " 'stock.M4',\n",
       " 'stock.N4',\n",
       " 'stock.O4',\n",
       " 'stock.Q4',\n",
       " 'stock.R4',\n",
       " 'stock.S4',\n",
       " 'stock.U4',\n",
       " 'stock.SA',\n",
       " 'stock.SG',\n",
       " 'stock.SE',\n",
       " 'stock.P2',\n",
       " 'stock.U2',\n",
       " 'time']"
      ]
     },
     "metadata": {},
     "execution_count": 8
    }
   ],
   "source": [
    "filter_col = [col for col in df_stock if col.startswith('stock')]\n",
    "filter_col.append('time')\n",
    "filter_col"
   ]
  },
  {
   "cell_type": "code",
   "execution_count": 9,
   "metadata": {},
   "outputs": [],
   "source": [
    "df_stock = df_stock[filter_col]\n",
    "# df_stock.set_index('time', inplace = True)"
   ]
  },
  {
   "cell_type": "code",
   "execution_count": 10,
   "metadata": {},
   "outputs": [
    {
     "output_type": "execute_result",
     "data": {
      "text/plain": [
       "   stockTotal  stock.G2  stock.R2  stock.B4  stock.E4  stock.H4  stock.K4  \\\n",
       "0        1474       280       420       280        53       108        53   \n",
       "1        2955       280       420       280       280       280       280   \n",
       "2        2977       277       399       183       245       270       168   \n",
       "3        1155       264       343       195       184       247       -13   \n",
       "4        1124       206       324       158       162       236        26   \n",
       "\n",
       "   stock.T4  stock.N2  stock.O2  ...  stock.Q4  stock.R4  stock.S4  stock.U4  \\\n",
       "0       280       NaN       NaN  ...       NaN       NaN       NaN       NaN   \n",
       "1       280     215.0     206.0  ...       NaN       NaN       NaN       NaN   \n",
       "2       227     331.0     337.0  ...     151.0     164.0     -32.0      -1.0   \n",
       "3       113     295.0     318.0  ...      47.0     215.0    -126.0      -1.0   \n",
       "4        54     261.0     307.0  ...       8.0     178.0      10.0      -2.0   \n",
       "\n",
       "   stock.SA  stock.SG  stock.SE  stock.P2  stock.U2   time  \n",
       "0       NaN       NaN       NaN       NaN       NaN  06:00  \n",
       "1       NaN       NaN       NaN       NaN       NaN  07:00  \n",
       "2     -15.0      -7.0      41.0       NaN       NaN  08:00  \n",
       "3     -29.0     -22.0      39.0     206.0       NaN  09:00  \n",
       "4     -30.0     -31.0      38.0     197.0      -1.0  10:00  \n",
       "\n",
       "[5 rows x 48 columns]"
      ],
      "text/html": "<div>\n<style scoped>\n    .dataframe tbody tr th:only-of-type {\n        vertical-align: middle;\n    }\n\n    .dataframe tbody tr th {\n        vertical-align: top;\n    }\n\n    .dataframe thead th {\n        text-align: right;\n    }\n</style>\n<table border=\"1\" class=\"dataframe\">\n  <thead>\n    <tr style=\"text-align: right;\">\n      <th></th>\n      <th>stockTotal</th>\n      <th>stock.G2</th>\n      <th>stock.R2</th>\n      <th>stock.B4</th>\n      <th>stock.E4</th>\n      <th>stock.H4</th>\n      <th>stock.K4</th>\n      <th>stock.T4</th>\n      <th>stock.N2</th>\n      <th>stock.O2</th>\n      <th>...</th>\n      <th>stock.Q4</th>\n      <th>stock.R4</th>\n      <th>stock.S4</th>\n      <th>stock.U4</th>\n      <th>stock.SA</th>\n      <th>stock.SG</th>\n      <th>stock.SE</th>\n      <th>stock.P2</th>\n      <th>stock.U2</th>\n      <th>time</th>\n    </tr>\n  </thead>\n  <tbody>\n    <tr>\n      <th>0</th>\n      <td>1474</td>\n      <td>280</td>\n      <td>420</td>\n      <td>280</td>\n      <td>53</td>\n      <td>108</td>\n      <td>53</td>\n      <td>280</td>\n      <td>NaN</td>\n      <td>NaN</td>\n      <td>...</td>\n      <td>NaN</td>\n      <td>NaN</td>\n      <td>NaN</td>\n      <td>NaN</td>\n      <td>NaN</td>\n      <td>NaN</td>\n      <td>NaN</td>\n      <td>NaN</td>\n      <td>NaN</td>\n      <td>06:00</td>\n    </tr>\n    <tr>\n      <th>1</th>\n      <td>2955</td>\n      <td>280</td>\n      <td>420</td>\n      <td>280</td>\n      <td>280</td>\n      <td>280</td>\n      <td>280</td>\n      <td>280</td>\n      <td>215.0</td>\n      <td>206.0</td>\n      <td>...</td>\n      <td>NaN</td>\n      <td>NaN</td>\n      <td>NaN</td>\n      <td>NaN</td>\n      <td>NaN</td>\n      <td>NaN</td>\n      <td>NaN</td>\n      <td>NaN</td>\n      <td>NaN</td>\n      <td>07:00</td>\n    </tr>\n    <tr>\n      <th>2</th>\n      <td>2977</td>\n      <td>277</td>\n      <td>399</td>\n      <td>183</td>\n      <td>245</td>\n      <td>270</td>\n      <td>168</td>\n      <td>227</td>\n      <td>331.0</td>\n      <td>337.0</td>\n      <td>...</td>\n      <td>151.0</td>\n      <td>164.0</td>\n      <td>-32.0</td>\n      <td>-1.0</td>\n      <td>-15.0</td>\n      <td>-7.0</td>\n      <td>41.0</td>\n      <td>NaN</td>\n      <td>NaN</td>\n      <td>08:00</td>\n    </tr>\n    <tr>\n      <th>3</th>\n      <td>1155</td>\n      <td>264</td>\n      <td>343</td>\n      <td>195</td>\n      <td>184</td>\n      <td>247</td>\n      <td>-13</td>\n      <td>113</td>\n      <td>295.0</td>\n      <td>318.0</td>\n      <td>...</td>\n      <td>47.0</td>\n      <td>215.0</td>\n      <td>-126.0</td>\n      <td>-1.0</td>\n      <td>-29.0</td>\n      <td>-22.0</td>\n      <td>39.0</td>\n      <td>206.0</td>\n      <td>NaN</td>\n      <td>09:00</td>\n    </tr>\n    <tr>\n      <th>4</th>\n      <td>1124</td>\n      <td>206</td>\n      <td>324</td>\n      <td>158</td>\n      <td>162</td>\n      <td>236</td>\n      <td>26</td>\n      <td>54</td>\n      <td>261.0</td>\n      <td>307.0</td>\n      <td>...</td>\n      <td>8.0</td>\n      <td>178.0</td>\n      <td>10.0</td>\n      <td>-2.0</td>\n      <td>-30.0</td>\n      <td>-31.0</td>\n      <td>38.0</td>\n      <td>197.0</td>\n      <td>-1.0</td>\n      <td>10:00</td>\n    </tr>\n  </tbody>\n</table>\n<p>5 rows × 48 columns</p>\n</div>"
     },
     "metadata": {},
     "execution_count": 10
    }
   ],
   "source": [
    "df_stock.head()"
   ]
  },
  {
   "cell_type": "code",
   "execution_count": 11,
   "metadata": {},
   "outputs": [
    {
     "output_type": "execute_result",
     "data": {
      "text/plain": [
       "    time    variable   value\n",
       "0  06:00  stockTotal  1474.0\n",
       "1  07:00  stockTotal  2955.0\n",
       "2  08:00  stockTotal  2977.0\n",
       "3  09:00  stockTotal  1155.0\n",
       "4  10:00  stockTotal  1124.0"
      ],
      "text/html": "<div>\n<style scoped>\n    .dataframe tbody tr th:only-of-type {\n        vertical-align: middle;\n    }\n\n    .dataframe tbody tr th {\n        vertical-align: top;\n    }\n\n    .dataframe thead th {\n        text-align: right;\n    }\n</style>\n<table border=\"1\" class=\"dataframe\">\n  <thead>\n    <tr style=\"text-align: right;\">\n      <th></th>\n      <th>time</th>\n      <th>variable</th>\n      <th>value</th>\n    </tr>\n  </thead>\n  <tbody>\n    <tr>\n      <th>0</th>\n      <td>06:00</td>\n      <td>stockTotal</td>\n      <td>1474.0</td>\n    </tr>\n    <tr>\n      <th>1</th>\n      <td>07:00</td>\n      <td>stockTotal</td>\n      <td>2955.0</td>\n    </tr>\n    <tr>\n      <th>2</th>\n      <td>08:00</td>\n      <td>stockTotal</td>\n      <td>2977.0</td>\n    </tr>\n    <tr>\n      <th>3</th>\n      <td>09:00</td>\n      <td>stockTotal</td>\n      <td>1155.0</td>\n    </tr>\n    <tr>\n      <th>4</th>\n      <td>10:00</td>\n      <td>stockTotal</td>\n      <td>1124.0</td>\n    </tr>\n  </tbody>\n</table>\n</div>"
     },
     "metadata": {},
     "execution_count": 11
    }
   ],
   "source": [
    "df_stock = df_stock.melt(id_vars=['time'])\n",
    "df_stock.head()"
   ]
  },
  {
   "cell_type": "code",
   "execution_count": 12,
   "metadata": {},
   "outputs": [],
   "source": [
    "df_stock.to_csv('response_stock.csv', index = False)"
   ]
  },
  {
   "cell_type": "code",
   "execution_count": null,
   "metadata": {},
   "outputs": [],
   "source": []
  }
 ]
}