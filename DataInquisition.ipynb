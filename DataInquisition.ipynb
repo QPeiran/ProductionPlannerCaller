{
 "metadata": {
  "language_info": {
   "codemirror_mode": {
    "name": "ipython",
    "version": 3
   },
   "file_extension": ".py",
   "mimetype": "text/x-python",
   "name": "python",
   "nbconvert_exporter": "python",
   "pygments_lexer": "ipython3",
   "version": "3.8.6-final"
  },
  "orig_nbformat": 2,
  "kernelspec": {
   "name": "Python 3.8.6 64-bit ('ProductionPlannerCaller': pipenv)",
   "display_name": "Python 3.8.6 64-bit ('ProductionPlannerCaller': pipenv)",
   "metadata": {
    "interpreter": {
     "hash": "d35c8b516a90ec349fb27354d3f5b0fd5f2200bb14aca3e9a64f3cb0fb9d61f2"
    }
   }
  }
 },
 "nbformat": 4,
 "nbformat_minor": 2,
 "cells": [
  {
   "cell_type": "code",
   "execution_count": 1,
   "metadata": {},
   "outputs": [],
   "source": [
    "import pandas as pd\n",
    "import json\n",
    "from pandas import json_normalize"
   ]
  },
  {
   "cell_type": "code",
   "execution_count": 2,
   "metadata": {},
   "outputs": [],
   "source": [
    "# file = open(r'C:\\Users\\Peiran Quan\\myWorkStation\\PlanningClient\\template_response.json')\n",
    "file = open(r'.\\test_response.json')"
   ]
  },
  {
   "cell_type": "code",
   "execution_count": 3,
   "metadata": {},
   "outputs": [],
   "source": [
    "data = json.load(file)"
   ]
  },
  {
   "cell_type": "code",
   "execution_count": 4,
   "metadata": {
    "tags": []
   },
   "outputs": [
    {
     "output_type": "execute_result",
     "data": {
      "text/plain": [
       "     teamId startDateTime finishDateTime teamLeader  id line batch  week  \\\n",
       "0         1         06:00          06:07     Team 1   0   19  None  None   \n",
       "1         1         06:07          06:13     Team 1   0   19  None  None   \n",
       "2         1         06:13          06:20     Team 1   0   19  None  None   \n",
       "3         1         06:20          06:26     Team 1   0   19  None  None   \n",
       "4         1         06:26          06:32     Team 1   0   19  None  None   \n",
       "..      ...           ...            ...        ...  ..  ...   ...   ...   \n",
       "713       9         12:08          12:12     Team 9   0   19  None  None   \n",
       "714       9         12:12          12:17     Team 9   0   19  None  None   \n",
       "715       9         12:17          12:21     Team 9   0   19  None  None   \n",
       "716       9         12:21          12:25     Team 9   0   19  None  None   \n",
       "717       9         12:25          12:40     Team 9   0   19  None  None   \n",
       "\n",
       "     year  done recipe  productionTarget  mealKitPerCrate  targetSpeed  \\\n",
       "0    None  None     O2                35                5          334   \n",
       "1    None  None     O2                35                5          334   \n",
       "2    None  None     O2                35                5          334   \n",
       "3    None  None     O2                35                5          334   \n",
       "4    None  None     O2                35                5          334   \n",
       "..    ...   ...    ...               ...              ...          ...   \n",
       "713  None  None     O4                28                4          381   \n",
       "714  None  None     O4                28                4          381   \n",
       "715  None  None     O4                28                4          381   \n",
       "716  None  None     O4                27                4          381   \n",
       "717  None  None     U4                35                5          156   \n",
       "\n",
       "    displayOrder createdAt teamNames  \n",
       "0           None      None      None  \n",
       "1           None      None      None  \n",
       "2           None      None      None  \n",
       "3           None      None      None  \n",
       "4           None      None      None  \n",
       "..           ...       ...       ...  \n",
       "713         None      None      None  \n",
       "714         None      None      None  \n",
       "715         None      None      None  \n",
       "716         None      None      None  \n",
       "717         None      None      None  \n",
       "\n",
       "[718 rows x 17 columns]"
      ],
      "text/html": "<div>\n<style scoped>\n    .dataframe tbody tr th:only-of-type {\n        vertical-align: middle;\n    }\n\n    .dataframe tbody tr th {\n        vertical-align: top;\n    }\n\n    .dataframe thead th {\n        text-align: right;\n    }\n</style>\n<table border=\"1\" class=\"dataframe\">\n  <thead>\n    <tr style=\"text-align: right;\">\n      <th></th>\n      <th>teamId</th>\n      <th>startDateTime</th>\n      <th>finishDateTime</th>\n      <th>teamLeader</th>\n      <th>id</th>\n      <th>line</th>\n      <th>batch</th>\n      <th>week</th>\n      <th>year</th>\n      <th>done</th>\n      <th>recipe</th>\n      <th>productionTarget</th>\n      <th>mealKitPerCrate</th>\n      <th>targetSpeed</th>\n      <th>displayOrder</th>\n      <th>createdAt</th>\n      <th>teamNames</th>\n    </tr>\n  </thead>\n  <tbody>\n    <tr>\n      <th>0</th>\n      <td>1</td>\n      <td>06:00</td>\n      <td>06:07</td>\n      <td>Team 1</td>\n      <td>0</td>\n      <td>19</td>\n      <td>None</td>\n      <td>None</td>\n      <td>None</td>\n      <td>None</td>\n      <td>O2</td>\n      <td>35</td>\n      <td>5</td>\n      <td>334</td>\n      <td>None</td>\n      <td>None</td>\n      <td>None</td>\n    </tr>\n    <tr>\n      <th>1</th>\n      <td>1</td>\n      <td>06:07</td>\n      <td>06:13</td>\n      <td>Team 1</td>\n      <td>0</td>\n      <td>19</td>\n      <td>None</td>\n      <td>None</td>\n      <td>None</td>\n      <td>None</td>\n      <td>O2</td>\n      <td>35</td>\n      <td>5</td>\n      <td>334</td>\n      <td>None</td>\n      <td>None</td>\n      <td>None</td>\n    </tr>\n    <tr>\n      <th>2</th>\n      <td>1</td>\n      <td>06:13</td>\n      <td>06:20</td>\n      <td>Team 1</td>\n      <td>0</td>\n      <td>19</td>\n      <td>None</td>\n      <td>None</td>\n      <td>None</td>\n      <td>None</td>\n      <td>O2</td>\n      <td>35</td>\n      <td>5</td>\n      <td>334</td>\n      <td>None</td>\n      <td>None</td>\n      <td>None</td>\n    </tr>\n    <tr>\n      <th>3</th>\n      <td>1</td>\n      <td>06:20</td>\n      <td>06:26</td>\n      <td>Team 1</td>\n      <td>0</td>\n      <td>19</td>\n      <td>None</td>\n      <td>None</td>\n      <td>None</td>\n      <td>None</td>\n      <td>O2</td>\n      <td>35</td>\n      <td>5</td>\n      <td>334</td>\n      <td>None</td>\n      <td>None</td>\n      <td>None</td>\n    </tr>\n    <tr>\n      <th>4</th>\n      <td>1</td>\n      <td>06:26</td>\n      <td>06:32</td>\n      <td>Team 1</td>\n      <td>0</td>\n      <td>19</td>\n      <td>None</td>\n      <td>None</td>\n      <td>None</td>\n      <td>None</td>\n      <td>O2</td>\n      <td>35</td>\n      <td>5</td>\n      <td>334</td>\n      <td>None</td>\n      <td>None</td>\n      <td>None</td>\n    </tr>\n    <tr>\n      <th>...</th>\n      <td>...</td>\n      <td>...</td>\n      <td>...</td>\n      <td>...</td>\n      <td>...</td>\n      <td>...</td>\n      <td>...</td>\n      <td>...</td>\n      <td>...</td>\n      <td>...</td>\n      <td>...</td>\n      <td>...</td>\n      <td>...</td>\n      <td>...</td>\n      <td>...</td>\n      <td>...</td>\n      <td>...</td>\n    </tr>\n    <tr>\n      <th>713</th>\n      <td>9</td>\n      <td>12:08</td>\n      <td>12:12</td>\n      <td>Team 9</td>\n      <td>0</td>\n      <td>19</td>\n      <td>None</td>\n      <td>None</td>\n      <td>None</td>\n      <td>None</td>\n      <td>O4</td>\n      <td>28</td>\n      <td>4</td>\n      <td>381</td>\n      <td>None</td>\n      <td>None</td>\n      <td>None</td>\n    </tr>\n    <tr>\n      <th>714</th>\n      <td>9</td>\n      <td>12:12</td>\n      <td>12:17</td>\n      <td>Team 9</td>\n      <td>0</td>\n      <td>19</td>\n      <td>None</td>\n      <td>None</td>\n      <td>None</td>\n      <td>None</td>\n      <td>O4</td>\n      <td>28</td>\n      <td>4</td>\n      <td>381</td>\n      <td>None</td>\n      <td>None</td>\n      <td>None</td>\n    </tr>\n    <tr>\n      <th>715</th>\n      <td>9</td>\n      <td>12:17</td>\n      <td>12:21</td>\n      <td>Team 9</td>\n      <td>0</td>\n      <td>19</td>\n      <td>None</td>\n      <td>None</td>\n      <td>None</td>\n      <td>None</td>\n      <td>O4</td>\n      <td>28</td>\n      <td>4</td>\n      <td>381</td>\n      <td>None</td>\n      <td>None</td>\n      <td>None</td>\n    </tr>\n    <tr>\n      <th>716</th>\n      <td>9</td>\n      <td>12:21</td>\n      <td>12:25</td>\n      <td>Team 9</td>\n      <td>0</td>\n      <td>19</td>\n      <td>None</td>\n      <td>None</td>\n      <td>None</td>\n      <td>None</td>\n      <td>O4</td>\n      <td>27</td>\n      <td>4</td>\n      <td>381</td>\n      <td>None</td>\n      <td>None</td>\n      <td>None</td>\n    </tr>\n    <tr>\n      <th>717</th>\n      <td>9</td>\n      <td>12:25</td>\n      <td>12:40</td>\n      <td>Team 9</td>\n      <td>0</td>\n      <td>19</td>\n      <td>None</td>\n      <td>None</td>\n      <td>None</td>\n      <td>None</td>\n      <td>U4</td>\n      <td>35</td>\n      <td>5</td>\n      <td>156</td>\n      <td>None</td>\n      <td>None</td>\n      <td>None</td>\n    </tr>\n  </tbody>\n</table>\n<p>718 rows × 17 columns</p>\n</div>"
     },
     "metadata": {},
     "execution_count": 4
    }
   ],
   "source": [
    "df = json_normalize(data[\"pickingJob\"])\n",
    "df"
   ]
  },
  {
   "cell_type": "code",
   "execution_count": 5,
   "metadata": {},
   "outputs": [
    {
     "output_type": "execute_result",
     "data": {
      "text/plain": [
       "    teamLeader line startDateTime finishDateTime recipe  productionTarget\n",
       "0       Team 1   19         06:00          06:07     O2                35\n",
       "1       Team 1   19         06:07          06:13     O2                35\n",
       "2       Team 1   19         06:13          06:20     O2                35\n",
       "3       Team 1   19         06:20          06:26     O2                35\n",
       "4       Team 1   19         06:26          06:32     O2                35\n",
       "..         ...  ...           ...            ...    ...               ...\n",
       "713     Team 9   19         12:08          12:12     O4                28\n",
       "714     Team 9   19         12:12          12:17     O4                28\n",
       "715     Team 9   19         12:17          12:21     O4                28\n",
       "716     Team 9   19         12:21          12:25     O4                27\n",
       "717     Team 9   19         12:25          12:40     U4                35\n",
       "\n",
       "[718 rows x 6 columns]"
      ],
      "text/html": "<div>\n<style scoped>\n    .dataframe tbody tr th:only-of-type {\n        vertical-align: middle;\n    }\n\n    .dataframe tbody tr th {\n        vertical-align: top;\n    }\n\n    .dataframe thead th {\n        text-align: right;\n    }\n</style>\n<table border=\"1\" class=\"dataframe\">\n  <thead>\n    <tr style=\"text-align: right;\">\n      <th></th>\n      <th>teamLeader</th>\n      <th>line</th>\n      <th>startDateTime</th>\n      <th>finishDateTime</th>\n      <th>recipe</th>\n      <th>productionTarget</th>\n    </tr>\n  </thead>\n  <tbody>\n    <tr>\n      <th>0</th>\n      <td>Team 1</td>\n      <td>19</td>\n      <td>06:00</td>\n      <td>06:07</td>\n      <td>O2</td>\n      <td>35</td>\n    </tr>\n    <tr>\n      <th>1</th>\n      <td>Team 1</td>\n      <td>19</td>\n      <td>06:07</td>\n      <td>06:13</td>\n      <td>O2</td>\n      <td>35</td>\n    </tr>\n    <tr>\n      <th>2</th>\n      <td>Team 1</td>\n      <td>19</td>\n      <td>06:13</td>\n      <td>06:20</td>\n      <td>O2</td>\n      <td>35</td>\n    </tr>\n    <tr>\n      <th>3</th>\n      <td>Team 1</td>\n      <td>19</td>\n      <td>06:20</td>\n      <td>06:26</td>\n      <td>O2</td>\n      <td>35</td>\n    </tr>\n    <tr>\n      <th>4</th>\n      <td>Team 1</td>\n      <td>19</td>\n      <td>06:26</td>\n      <td>06:32</td>\n      <td>O2</td>\n      <td>35</td>\n    </tr>\n    <tr>\n      <th>...</th>\n      <td>...</td>\n      <td>...</td>\n      <td>...</td>\n      <td>...</td>\n      <td>...</td>\n      <td>...</td>\n    </tr>\n    <tr>\n      <th>713</th>\n      <td>Team 9</td>\n      <td>19</td>\n      <td>12:08</td>\n      <td>12:12</td>\n      <td>O4</td>\n      <td>28</td>\n    </tr>\n    <tr>\n      <th>714</th>\n      <td>Team 9</td>\n      <td>19</td>\n      <td>12:12</td>\n      <td>12:17</td>\n      <td>O4</td>\n      <td>28</td>\n    </tr>\n    <tr>\n      <th>715</th>\n      <td>Team 9</td>\n      <td>19</td>\n      <td>12:17</td>\n      <td>12:21</td>\n      <td>O4</td>\n      <td>28</td>\n    </tr>\n    <tr>\n      <th>716</th>\n      <td>Team 9</td>\n      <td>19</td>\n      <td>12:21</td>\n      <td>12:25</td>\n      <td>O4</td>\n      <td>27</td>\n    </tr>\n    <tr>\n      <th>717</th>\n      <td>Team 9</td>\n      <td>19</td>\n      <td>12:25</td>\n      <td>12:40</td>\n      <td>U4</td>\n      <td>35</td>\n    </tr>\n  </tbody>\n</table>\n<p>718 rows × 6 columns</p>\n</div>"
     },
     "metadata": {},
     "execution_count": 5
    }
   ],
   "source": [
    "df_ultilize = df[[\"teamLeader\", \"line\", \"startDateTime\", \"finishDateTime\", \"recipe\", \"productionTarget\"]]\n",
    "df_ultilize"
   ]
  },
  {
   "cell_type": "code",
   "execution_count": 6,
   "metadata": {},
   "outputs": [],
   "source": [
    "def change_indicator(input_df: pd.DataFrame) -> pd.DataFrame :\n",
    "    input_df.sort_values(by=['startDateTime'], ascending=True, inplace=True)\n",
    "    col_ori = input_df['recipe']\n",
    "    col_shift = input_df['recipe'].shift(1)\n",
    "    input_df['change_indicator'] = ~(col_ori == col_shift)\n",
    "    return input_df"
   ]
  },
  {
   "cell_type": "code",
   "execution_count": 7,
   "metadata": {},
   "outputs": [
    {
     "output_type": "execute_result",
     "data": {
      "text/plain": [
       "    teamLeader line startDateTime finishDateTime recipe  productionTarget  \\\n",
       "0       Team 1   19         06:00          06:07     O2                35   \n",
       "1       Team 1   19         06:07          06:13     O2                35   \n",
       "2       Team 1   19         06:13          06:20     O2                35   \n",
       "3       Team 1   19         06:20          06:26     O2                35   \n",
       "4       Team 1   19         06:26          06:32     O2                35   \n",
       "..         ...  ...           ...            ...    ...               ...   \n",
       "713     Team 9   19         12:08          12:12     O4                28   \n",
       "714     Team 9   19         12:12          12:17     O4                28   \n",
       "715     Team 9   19         12:17          12:21     O4                28   \n",
       "716     Team 9   19         12:21          12:25     O4                27   \n",
       "717     Team 9   19         12:25          12:40     U4                35   \n",
       "\n",
       "     change_indicator  \n",
       "0                True  \n",
       "1               False  \n",
       "2               False  \n",
       "3               False  \n",
       "4               False  \n",
       "..                ...  \n",
       "713             False  \n",
       "714             False  \n",
       "715             False  \n",
       "716             False  \n",
       "717              True  \n",
       "\n",
       "[718 rows x 7 columns]"
      ],
      "text/html": "<div>\n<style scoped>\n    .dataframe tbody tr th:only-of-type {\n        vertical-align: middle;\n    }\n\n    .dataframe tbody tr th {\n        vertical-align: top;\n    }\n\n    .dataframe thead th {\n        text-align: right;\n    }\n</style>\n<table border=\"1\" class=\"dataframe\">\n  <thead>\n    <tr style=\"text-align: right;\">\n      <th></th>\n      <th>teamLeader</th>\n      <th>line</th>\n      <th>startDateTime</th>\n      <th>finishDateTime</th>\n      <th>recipe</th>\n      <th>productionTarget</th>\n      <th>change_indicator</th>\n    </tr>\n  </thead>\n  <tbody>\n    <tr>\n      <th>0</th>\n      <td>Team 1</td>\n      <td>19</td>\n      <td>06:00</td>\n      <td>06:07</td>\n      <td>O2</td>\n      <td>35</td>\n      <td>True</td>\n    </tr>\n    <tr>\n      <th>1</th>\n      <td>Team 1</td>\n      <td>19</td>\n      <td>06:07</td>\n      <td>06:13</td>\n      <td>O2</td>\n      <td>35</td>\n      <td>False</td>\n    </tr>\n    <tr>\n      <th>2</th>\n      <td>Team 1</td>\n      <td>19</td>\n      <td>06:13</td>\n      <td>06:20</td>\n      <td>O2</td>\n      <td>35</td>\n      <td>False</td>\n    </tr>\n    <tr>\n      <th>3</th>\n      <td>Team 1</td>\n      <td>19</td>\n      <td>06:20</td>\n      <td>06:26</td>\n      <td>O2</td>\n      <td>35</td>\n      <td>False</td>\n    </tr>\n    <tr>\n      <th>4</th>\n      <td>Team 1</td>\n      <td>19</td>\n      <td>06:26</td>\n      <td>06:32</td>\n      <td>O2</td>\n      <td>35</td>\n      <td>False</td>\n    </tr>\n    <tr>\n      <th>...</th>\n      <td>...</td>\n      <td>...</td>\n      <td>...</td>\n      <td>...</td>\n      <td>...</td>\n      <td>...</td>\n      <td>...</td>\n    </tr>\n    <tr>\n      <th>713</th>\n      <td>Team 9</td>\n      <td>19</td>\n      <td>12:08</td>\n      <td>12:12</td>\n      <td>O4</td>\n      <td>28</td>\n      <td>False</td>\n    </tr>\n    <tr>\n      <th>714</th>\n      <td>Team 9</td>\n      <td>19</td>\n      <td>12:12</td>\n      <td>12:17</td>\n      <td>O4</td>\n      <td>28</td>\n      <td>False</td>\n    </tr>\n    <tr>\n      <th>715</th>\n      <td>Team 9</td>\n      <td>19</td>\n      <td>12:17</td>\n      <td>12:21</td>\n      <td>O4</td>\n      <td>28</td>\n      <td>False</td>\n    </tr>\n    <tr>\n      <th>716</th>\n      <td>Team 9</td>\n      <td>19</td>\n      <td>12:21</td>\n      <td>12:25</td>\n      <td>O4</td>\n      <td>27</td>\n      <td>False</td>\n    </tr>\n    <tr>\n      <th>717</th>\n      <td>Team 9</td>\n      <td>19</td>\n      <td>12:25</td>\n      <td>12:40</td>\n      <td>U4</td>\n      <td>35</td>\n      <td>True</td>\n    </tr>\n  </tbody>\n</table>\n<p>718 rows × 7 columns</p>\n</div>"
     },
     "metadata": {},
     "execution_count": 7
    }
   ],
   "source": [
    "df_ultilize = df_ultilize.groupby(['teamLeader']).apply(change_indicator)\n",
    "df_ultilize"
   ]
  },
  {
   "cell_type": "code",
   "execution_count": 8,
   "metadata": {},
   "outputs": [],
   "source": [
    "df_ultilize.to_csv('response.csv', index = False)"
   ]
  },
  {
   "cell_type": "code",
   "execution_count": 9,
   "metadata": {},
   "outputs": [
    {
     "output_type": "execute_result",
     "data": {
      "text/plain": [
       "               time  assemblyLine02Requirement  kittingLineProduced  shortage  \\\n",
       "0  13/11/2020 05:00                        NaN                  NaN         0   \n",
       "1  13/11/2020 06:00                        NaN                  NaN         0   \n",
       "2  13/11/2020 07:00                        NaN                  NaN         0   \n",
       "3  13/11/2020 08:00                        NaN                  NaN         0   \n",
       "4  13/11/2020 09:00                        NaN                  NaN         0   \n",
       "\n",
       "   stockTotal  as01Total  as02Total  kittingLineTotal  dollyCount  \\\n",
       "0       10984          3          0                 0         319   \n",
       "1       11285         51       3266              3618         349   \n",
       "2       11199         65       3696              3675         362   \n",
       "3       12023        456       2637              3917         385   \n",
       "4       12474         20       3298              3769         404   \n",
       "\n",
       "   acceptedDollyCount  ...  kittingLineProduced.Q4 kittingLineProduced.R4  \\\n",
       "0                   0  ...                     NaN                    NaN   \n",
       "1                   0  ...                     0.0                    0.0   \n",
       "2                   0  ...                     0.0                    0.0   \n",
       "3                   0  ...                     0.0                    0.0   \n",
       "4                   0  ...                     0.0                   84.0   \n",
       "\n",
       "   kittingLineProduced.S4 kittingLineProduced.T4  kittingLineProduced.U4  \\\n",
       "0                     NaN                    NaN                     NaN   \n",
       "1                   122.0                    0.0                     0.0   \n",
       "2                   242.0                    0.0                     0.0   \n",
       "3                     0.0                    0.0                     0.0   \n",
       "4                     0.0                    0.0                     0.0   \n",
       "\n",
       "   kittingLineProduced.SA  kittingLineProduced.SG  kittingLineProduced.SE  \\\n",
       "0                     NaN                     NaN                     NaN   \n",
       "1                     0.0                     0.0                     0.0   \n",
       "2                     0.0                     0.0                     0.0   \n",
       "3                     0.0                     0.0                     0.0   \n",
       "4                     0.0                     0.0                     0.0   \n",
       "\n",
       "   kittingLineProduced.SF  assemblyLine01Requirement  \n",
       "0                     NaN                        NaN  \n",
       "1                     0.0                        NaN  \n",
       "2                     0.0                        NaN  \n",
       "3                    91.0                        NaN  \n",
       "4                     0.0                        NaN  \n",
       "\n",
       "[5 rows x 200 columns]"
      ],
      "text/html": "<div>\n<style scoped>\n    .dataframe tbody tr th:only-of-type {\n        vertical-align: middle;\n    }\n\n    .dataframe tbody tr th {\n        vertical-align: top;\n    }\n\n    .dataframe thead th {\n        text-align: right;\n    }\n</style>\n<table border=\"1\" class=\"dataframe\">\n  <thead>\n    <tr style=\"text-align: right;\">\n      <th></th>\n      <th>time</th>\n      <th>assemblyLine02Requirement</th>\n      <th>kittingLineProduced</th>\n      <th>shortage</th>\n      <th>stockTotal</th>\n      <th>as01Total</th>\n      <th>as02Total</th>\n      <th>kittingLineTotal</th>\n      <th>dollyCount</th>\n      <th>acceptedDollyCount</th>\n      <th>...</th>\n      <th>kittingLineProduced.Q4</th>\n      <th>kittingLineProduced.R4</th>\n      <th>kittingLineProduced.S4</th>\n      <th>kittingLineProduced.T4</th>\n      <th>kittingLineProduced.U4</th>\n      <th>kittingLineProduced.SA</th>\n      <th>kittingLineProduced.SG</th>\n      <th>kittingLineProduced.SE</th>\n      <th>kittingLineProduced.SF</th>\n      <th>assemblyLine01Requirement</th>\n    </tr>\n  </thead>\n  <tbody>\n    <tr>\n      <th>0</th>\n      <td>13/11/2020 05:00</td>\n      <td>NaN</td>\n      <td>NaN</td>\n      <td>0</td>\n      <td>10984</td>\n      <td>3</td>\n      <td>0</td>\n      <td>0</td>\n      <td>319</td>\n      <td>0</td>\n      <td>...</td>\n      <td>NaN</td>\n      <td>NaN</td>\n      <td>NaN</td>\n      <td>NaN</td>\n      <td>NaN</td>\n      <td>NaN</td>\n      <td>NaN</td>\n      <td>NaN</td>\n      <td>NaN</td>\n      <td>NaN</td>\n    </tr>\n    <tr>\n      <th>1</th>\n      <td>13/11/2020 06:00</td>\n      <td>NaN</td>\n      <td>NaN</td>\n      <td>0</td>\n      <td>11285</td>\n      <td>51</td>\n      <td>3266</td>\n      <td>3618</td>\n      <td>349</td>\n      <td>0</td>\n      <td>...</td>\n      <td>0.0</td>\n      <td>0.0</td>\n      <td>122.0</td>\n      <td>0.0</td>\n      <td>0.0</td>\n      <td>0.0</td>\n      <td>0.0</td>\n      <td>0.0</td>\n      <td>0.0</td>\n      <td>NaN</td>\n    </tr>\n    <tr>\n      <th>2</th>\n      <td>13/11/2020 07:00</td>\n      <td>NaN</td>\n      <td>NaN</td>\n      <td>0</td>\n      <td>11199</td>\n      <td>65</td>\n      <td>3696</td>\n      <td>3675</td>\n      <td>362</td>\n      <td>0</td>\n      <td>...</td>\n      <td>0.0</td>\n      <td>0.0</td>\n      <td>242.0</td>\n      <td>0.0</td>\n      <td>0.0</td>\n      <td>0.0</td>\n      <td>0.0</td>\n      <td>0.0</td>\n      <td>0.0</td>\n      <td>NaN</td>\n    </tr>\n    <tr>\n      <th>3</th>\n      <td>13/11/2020 08:00</td>\n      <td>NaN</td>\n      <td>NaN</td>\n      <td>0</td>\n      <td>12023</td>\n      <td>456</td>\n      <td>2637</td>\n      <td>3917</td>\n      <td>385</td>\n      <td>0</td>\n      <td>...</td>\n      <td>0.0</td>\n      <td>0.0</td>\n      <td>0.0</td>\n      <td>0.0</td>\n      <td>0.0</td>\n      <td>0.0</td>\n      <td>0.0</td>\n      <td>0.0</td>\n      <td>91.0</td>\n      <td>NaN</td>\n    </tr>\n    <tr>\n      <th>4</th>\n      <td>13/11/2020 09:00</td>\n      <td>NaN</td>\n      <td>NaN</td>\n      <td>0</td>\n      <td>12474</td>\n      <td>20</td>\n      <td>3298</td>\n      <td>3769</td>\n      <td>404</td>\n      <td>0</td>\n      <td>...</td>\n      <td>0.0</td>\n      <td>84.0</td>\n      <td>0.0</td>\n      <td>0.0</td>\n      <td>0.0</td>\n      <td>0.0</td>\n      <td>0.0</td>\n      <td>0.0</td>\n      <td>0.0</td>\n      <td>NaN</td>\n    </tr>\n  </tbody>\n</table>\n<p>5 rows × 200 columns</p>\n</div>"
     },
     "metadata": {},
     "execution_count": 9
    }
   ],
   "source": [
    "df_stock = json_normalize(data[\"stockOverTime\"])\n",
    "df_stock.head()"
   ]
  },
  {
   "cell_type": "code",
   "execution_count": 10,
   "metadata": {},
   "outputs": [
    {
     "output_type": "execute_result",
     "data": {
      "text/plain": [
       "['time',\n",
       " 'assemblyLine02Requirement',\n",
       " 'kittingLineProduced',\n",
       " 'shortage',\n",
       " 'stockTotal',\n",
       " 'as01Total',\n",
       " 'as02Total',\n",
       " 'kittingLineTotal',\n",
       " 'dollyCount',\n",
       " 'acceptedDollyCount',\n",
       " 'acceptedKittingLineTotal',\n",
       " 'acceptedKittingLineProduced',\n",
       " 'acceptedShortage',\n",
       " 'acceptedStock',\n",
       " 'acceptedStockTotal',\n",
       " 'assemblyLine01Requirement.A2',\n",
       " 'assemblyLine01Requirement.A4',\n",
       " 'assemblyLine01Requirement.B2',\n",
       " 'assemblyLine01Requirement.B4',\n",
       " 'assemblyLine01Requirement.C2',\n",
       " 'assemblyLine01Requirement.C4',\n",
       " 'assemblyLine01Requirement.D2',\n",
       " 'assemblyLine01Requirement.D4',\n",
       " 'assemblyLine01Requirement.E2',\n",
       " 'assemblyLine01Requirement.E4',\n",
       " 'assemblyLine01Requirement.F2',\n",
       " 'assemblyLine01Requirement.F4',\n",
       " 'assemblyLine01Requirement.G2',\n",
       " 'assemblyLine01Requirement.G4',\n",
       " 'assemblyLine01Requirement.H2',\n",
       " 'assemblyLine01Requirement.H4',\n",
       " 'assemblyLine01Requirement.I2',\n",
       " 'assemblyLine01Requirement.I4',\n",
       " 'assemblyLine01Requirement.J2',\n",
       " 'assemblyLine01Requirement.J4',\n",
       " 'assemblyLine01Requirement.K2',\n",
       " 'assemblyLine01Requirement.K4',\n",
       " 'assemblyLine01Requirement.L2',\n",
       " 'assemblyLine01Requirement.L4',\n",
       " 'assemblyLine01Requirement.M2',\n",
       " 'assemblyLine01Requirement.M4',\n",
       " 'assemblyLine01Requirement.N2',\n",
       " 'assemblyLine01Requirement.N4',\n",
       " 'assemblyLine01Requirement.O2',\n",
       " 'assemblyLine01Requirement.O4',\n",
       " 'assemblyLine01Requirement.P2',\n",
       " 'assemblyLine01Requirement.P4',\n",
       " 'assemblyLine01Requirement.Q2',\n",
       " 'assemblyLine01Requirement.Q4',\n",
       " 'assemblyLine01Requirement.R2',\n",
       " 'assemblyLine01Requirement.R4',\n",
       " 'assemblyLine01Requirement.S2',\n",
       " 'assemblyLine01Requirement.S4',\n",
       " 'assemblyLine01Requirement.SA',\n",
       " 'assemblyLine01Requirement.SE',\n",
       " 'assemblyLine01Requirement.SF',\n",
       " 'assemblyLine01Requirement.SG',\n",
       " 'assemblyLine01Requirement.T2',\n",
       " 'assemblyLine01Requirement.T4',\n",
       " 'assemblyLine01Requirement.U2',\n",
       " 'assemblyLine01Requirement.U4',\n",
       " 'stock.A2',\n",
       " 'stock.B2',\n",
       " 'stock.C2',\n",
       " 'stock.D2',\n",
       " 'stock.E2',\n",
       " 'stock.F2',\n",
       " 'stock.G2',\n",
       " 'stock.H2',\n",
       " 'stock.I2',\n",
       " 'stock.J2',\n",
       " 'stock.K2',\n",
       " 'stock.L2',\n",
       " 'stock.M2',\n",
       " 'stock.N2',\n",
       " 'stock.O2',\n",
       " 'stock.P2',\n",
       " 'stock.Q2',\n",
       " 'stock.R2',\n",
       " 'stock.S2',\n",
       " 'stock.T2',\n",
       " 'stock.U2',\n",
       " 'stock.A4',\n",
       " 'stock.B4',\n",
       " 'stock.C4',\n",
       " 'stock.D4',\n",
       " 'stock.E4',\n",
       " 'stock.F4',\n",
       " 'stock.G4',\n",
       " 'stock.H4',\n",
       " 'stock.I4',\n",
       " 'stock.J4',\n",
       " 'stock.K4',\n",
       " 'stock.L4',\n",
       " 'stock.M4',\n",
       " 'stock.N4',\n",
       " 'stock.O4',\n",
       " 'stock.P4',\n",
       " 'stock.Q4',\n",
       " 'stock.R4',\n",
       " 'stock.S4',\n",
       " 'stock.T4',\n",
       " 'stock.U4',\n",
       " 'stock.SA',\n",
       " 'stock.SG',\n",
       " 'stock.SE',\n",
       " 'stock.SF',\n",
       " 'assemblyLine02Requirement.A2',\n",
       " 'assemblyLine02Requirement.A4',\n",
       " 'assemblyLine02Requirement.B2',\n",
       " 'assemblyLine02Requirement.B4',\n",
       " 'assemblyLine02Requirement.C2',\n",
       " 'assemblyLine02Requirement.C4',\n",
       " 'assemblyLine02Requirement.D2',\n",
       " 'assemblyLine02Requirement.D4',\n",
       " 'assemblyLine02Requirement.E2',\n",
       " 'assemblyLine02Requirement.E4',\n",
       " 'assemblyLine02Requirement.F2',\n",
       " 'assemblyLine02Requirement.F4',\n",
       " 'assemblyLine02Requirement.G2',\n",
       " 'assemblyLine02Requirement.G4',\n",
       " 'assemblyLine02Requirement.H2',\n",
       " 'assemblyLine02Requirement.H4',\n",
       " 'assemblyLine02Requirement.I2',\n",
       " 'assemblyLine02Requirement.I4',\n",
       " 'assemblyLine02Requirement.J2',\n",
       " 'assemblyLine02Requirement.J4',\n",
       " 'assemblyLine02Requirement.K2',\n",
       " 'assemblyLine02Requirement.K4',\n",
       " 'assemblyLine02Requirement.L2',\n",
       " 'assemblyLine02Requirement.L4',\n",
       " 'assemblyLine02Requirement.M2',\n",
       " 'assemblyLine02Requirement.M4',\n",
       " 'assemblyLine02Requirement.N2',\n",
       " 'assemblyLine02Requirement.N4',\n",
       " 'assemblyLine02Requirement.O2',\n",
       " 'assemblyLine02Requirement.O4',\n",
       " 'assemblyLine02Requirement.P2',\n",
       " 'assemblyLine02Requirement.P4',\n",
       " 'assemblyLine02Requirement.Q2',\n",
       " 'assemblyLine02Requirement.Q4',\n",
       " 'assemblyLine02Requirement.R2',\n",
       " 'assemblyLine02Requirement.R4',\n",
       " 'assemblyLine02Requirement.S2',\n",
       " 'assemblyLine02Requirement.S4',\n",
       " 'assemblyLine02Requirement.SA',\n",
       " 'assemblyLine02Requirement.SE',\n",
       " 'assemblyLine02Requirement.SF',\n",
       " 'assemblyLine02Requirement.SG',\n",
       " 'assemblyLine02Requirement.T2',\n",
       " 'assemblyLine02Requirement.T4',\n",
       " 'assemblyLine02Requirement.U2',\n",
       " 'assemblyLine02Requirement.U4',\n",
       " 'kittingLineProduced.A2',\n",
       " 'kittingLineProduced.B2',\n",
       " 'kittingLineProduced.C2',\n",
       " 'kittingLineProduced.D2',\n",
       " 'kittingLineProduced.E2',\n",
       " 'kittingLineProduced.F2',\n",
       " 'kittingLineProduced.G2',\n",
       " 'kittingLineProduced.H2',\n",
       " 'kittingLineProduced.I2',\n",
       " 'kittingLineProduced.J2',\n",
       " 'kittingLineProduced.K2',\n",
       " 'kittingLineProduced.L2',\n",
       " 'kittingLineProduced.M2',\n",
       " 'kittingLineProduced.N2',\n",
       " 'kittingLineProduced.O2',\n",
       " 'kittingLineProduced.P2',\n",
       " 'kittingLineProduced.Q2',\n",
       " 'kittingLineProduced.R2',\n",
       " 'kittingLineProduced.S2',\n",
       " 'kittingLineProduced.T2',\n",
       " 'kittingLineProduced.U2',\n",
       " 'kittingLineProduced.A4',\n",
       " 'kittingLineProduced.B4',\n",
       " 'kittingLineProduced.C4',\n",
       " 'kittingLineProduced.D4',\n",
       " 'kittingLineProduced.E4',\n",
       " 'kittingLineProduced.F4',\n",
       " 'kittingLineProduced.G4',\n",
       " 'kittingLineProduced.H4',\n",
       " 'kittingLineProduced.I4',\n",
       " 'kittingLineProduced.J4',\n",
       " 'kittingLineProduced.K4',\n",
       " 'kittingLineProduced.L4',\n",
       " 'kittingLineProduced.M4',\n",
       " 'kittingLineProduced.N4',\n",
       " 'kittingLineProduced.O4',\n",
       " 'kittingLineProduced.P4',\n",
       " 'kittingLineProduced.Q4',\n",
       " 'kittingLineProduced.R4',\n",
       " 'kittingLineProduced.S4',\n",
       " 'kittingLineProduced.T4',\n",
       " 'kittingLineProduced.U4',\n",
       " 'kittingLineProduced.SA',\n",
       " 'kittingLineProduced.SG',\n",
       " 'kittingLineProduced.SE',\n",
       " 'kittingLineProduced.SF',\n",
       " 'assemblyLine01Requirement']"
      ]
     },
     "metadata": {},
     "execution_count": 10
    }
   ],
   "source": [
    "[i for i in df_stock.columns]"
   ]
  },
  {
   "cell_type": "code",
   "execution_count": 11,
   "metadata": {},
   "outputs": [
    {
     "output_type": "execute_result",
     "data": {
      "text/plain": [
       "['stockTotal',\n",
       " 'stock.A2',\n",
       " 'stock.B2',\n",
       " 'stock.C2',\n",
       " 'stock.D2',\n",
       " 'stock.E2',\n",
       " 'stock.F2',\n",
       " 'stock.G2',\n",
       " 'stock.H2',\n",
       " 'stock.I2',\n",
       " 'stock.J2',\n",
       " 'stock.K2',\n",
       " 'stock.L2',\n",
       " 'stock.M2',\n",
       " 'stock.N2',\n",
       " 'stock.O2',\n",
       " 'stock.P2',\n",
       " 'stock.Q2',\n",
       " 'stock.R2',\n",
       " 'stock.S2',\n",
       " 'stock.T2',\n",
       " 'stock.U2',\n",
       " 'stock.A4',\n",
       " 'stock.B4',\n",
       " 'stock.C4',\n",
       " 'stock.D4',\n",
       " 'stock.E4',\n",
       " 'stock.F4',\n",
       " 'stock.G4',\n",
       " 'stock.H4',\n",
       " 'stock.I4',\n",
       " 'stock.J4',\n",
       " 'stock.K4',\n",
       " 'stock.L4',\n",
       " 'stock.M4',\n",
       " 'stock.N4',\n",
       " 'stock.O4',\n",
       " 'stock.P4',\n",
       " 'stock.Q4',\n",
       " 'stock.R4',\n",
       " 'stock.S4',\n",
       " 'stock.T4',\n",
       " 'stock.U4',\n",
       " 'stock.SA',\n",
       " 'stock.SG',\n",
       " 'stock.SE',\n",
       " 'stock.SF',\n",
       " 'time']"
      ]
     },
     "metadata": {},
     "execution_count": 11
    }
   ],
   "source": [
    "filter_col = [col for col in df_stock if col.startswith('stock')]\n",
    "filter_col.append('time')\n",
    "filter_col"
   ]
  },
  {
   "cell_type": "code",
   "execution_count": 12,
   "metadata": {},
   "outputs": [],
   "source": [
    "df_stock = df_stock[filter_col]\n",
    "# df_stock.set_index('time', inplace = True)"
   ]
  },
  {
   "cell_type": "code",
   "execution_count": 13,
   "metadata": {},
   "outputs": [
    {
     "output_type": "execute_result",
     "data": {
      "text/plain": [
       "   stockTotal  stock.A2  stock.B2  stock.C2  stock.D2  stock.E2  stock.F2  \\\n",
       "0       10984       924       854       799       699       617     259.0   \n",
       "1       11285       618       575       858       409       346     171.0   \n",
       "2       11199       615       617       785        92       154     119.0   \n",
       "3       12023       577       484       477       281       502     193.0   \n",
       "4       12474       685       626       540       416       520     171.0   \n",
       "\n",
       "   stock.G2  stock.H2  stock.I2  ...  stock.Q4  stock.R4  stock.S4  stock.T4  \\\n",
       "0     254.0       574       361  ...         4        41         9         9   \n",
       "1     190.0       417       272  ...         4        41       131         9   \n",
       "2     151.0       293       203  ...         4        41       373         9   \n",
       "3     296.0       591       428  ...         4        41       373         9   \n",
       "4     199.0       480       291  ...         4       125       373         9   \n",
       "\n",
       "   stock.U4  stock.SA  stock.SG  stock.SE  stock.SF              time  \n",
       "0         3       189       224        26        12  13/11/2020 05:00  \n",
       "1         3       177       211        25         4  13/11/2020 06:00  \n",
       "2         3       164       198        21         1  13/11/2020 07:00  \n",
       "3         3       156       189        21        86  13/11/2020 08:00  \n",
       "4         3       146       176        20        83  13/11/2020 09:00  \n",
       "\n",
       "[5 rows x 48 columns]"
      ],
      "text/html": "<div>\n<style scoped>\n    .dataframe tbody tr th:only-of-type {\n        vertical-align: middle;\n    }\n\n    .dataframe tbody tr th {\n        vertical-align: top;\n    }\n\n    .dataframe thead th {\n        text-align: right;\n    }\n</style>\n<table border=\"1\" class=\"dataframe\">\n  <thead>\n    <tr style=\"text-align: right;\">\n      <th></th>\n      <th>stockTotal</th>\n      <th>stock.A2</th>\n      <th>stock.B2</th>\n      <th>stock.C2</th>\n      <th>stock.D2</th>\n      <th>stock.E2</th>\n      <th>stock.F2</th>\n      <th>stock.G2</th>\n      <th>stock.H2</th>\n      <th>stock.I2</th>\n      <th>...</th>\n      <th>stock.Q4</th>\n      <th>stock.R4</th>\n      <th>stock.S4</th>\n      <th>stock.T4</th>\n      <th>stock.U4</th>\n      <th>stock.SA</th>\n      <th>stock.SG</th>\n      <th>stock.SE</th>\n      <th>stock.SF</th>\n      <th>time</th>\n    </tr>\n  </thead>\n  <tbody>\n    <tr>\n      <th>0</th>\n      <td>10984</td>\n      <td>924</td>\n      <td>854</td>\n      <td>799</td>\n      <td>699</td>\n      <td>617</td>\n      <td>259.0</td>\n      <td>254.0</td>\n      <td>574</td>\n      <td>361</td>\n      <td>...</td>\n      <td>4</td>\n      <td>41</td>\n      <td>9</td>\n      <td>9</td>\n      <td>3</td>\n      <td>189</td>\n      <td>224</td>\n      <td>26</td>\n      <td>12</td>\n      <td>13/11/2020 05:00</td>\n    </tr>\n    <tr>\n      <th>1</th>\n      <td>11285</td>\n      <td>618</td>\n      <td>575</td>\n      <td>858</td>\n      <td>409</td>\n      <td>346</td>\n      <td>171.0</td>\n      <td>190.0</td>\n      <td>417</td>\n      <td>272</td>\n      <td>...</td>\n      <td>4</td>\n      <td>41</td>\n      <td>131</td>\n      <td>9</td>\n      <td>3</td>\n      <td>177</td>\n      <td>211</td>\n      <td>25</td>\n      <td>4</td>\n      <td>13/11/2020 06:00</td>\n    </tr>\n    <tr>\n      <th>2</th>\n      <td>11199</td>\n      <td>615</td>\n      <td>617</td>\n      <td>785</td>\n      <td>92</td>\n      <td>154</td>\n      <td>119.0</td>\n      <td>151.0</td>\n      <td>293</td>\n      <td>203</td>\n      <td>...</td>\n      <td>4</td>\n      <td>41</td>\n      <td>373</td>\n      <td>9</td>\n      <td>3</td>\n      <td>164</td>\n      <td>198</td>\n      <td>21</td>\n      <td>1</td>\n      <td>13/11/2020 07:00</td>\n    </tr>\n    <tr>\n      <th>3</th>\n      <td>12023</td>\n      <td>577</td>\n      <td>484</td>\n      <td>477</td>\n      <td>281</td>\n      <td>502</td>\n      <td>193.0</td>\n      <td>296.0</td>\n      <td>591</td>\n      <td>428</td>\n      <td>...</td>\n      <td>4</td>\n      <td>41</td>\n      <td>373</td>\n      <td>9</td>\n      <td>3</td>\n      <td>156</td>\n      <td>189</td>\n      <td>21</td>\n      <td>86</td>\n      <td>13/11/2020 08:00</td>\n    </tr>\n    <tr>\n      <th>4</th>\n      <td>12474</td>\n      <td>685</td>\n      <td>626</td>\n      <td>540</td>\n      <td>416</td>\n      <td>520</td>\n      <td>171.0</td>\n      <td>199.0</td>\n      <td>480</td>\n      <td>291</td>\n      <td>...</td>\n      <td>4</td>\n      <td>125</td>\n      <td>373</td>\n      <td>9</td>\n      <td>3</td>\n      <td>146</td>\n      <td>176</td>\n      <td>20</td>\n      <td>83</td>\n      <td>13/11/2020 09:00</td>\n    </tr>\n  </tbody>\n</table>\n<p>5 rows × 48 columns</p>\n</div>"
     },
     "metadata": {},
     "execution_count": 13
    }
   ],
   "source": [
    "df_stock.head()"
   ]
  },
  {
   "cell_type": "code",
   "execution_count": 14,
   "metadata": {},
   "outputs": [
    {
     "output_type": "execute_result",
     "data": {
      "text/plain": [
       "               time    variable    value\n",
       "0  13/11/2020 05:00  stockTotal  10984.0\n",
       "1  13/11/2020 06:00  stockTotal  11285.0\n",
       "2  13/11/2020 07:00  stockTotal  11199.0\n",
       "3  13/11/2020 08:00  stockTotal  12023.0\n",
       "4  13/11/2020 09:00  stockTotal  12474.0"
      ],
      "text/html": "<div>\n<style scoped>\n    .dataframe tbody tr th:only-of-type {\n        vertical-align: middle;\n    }\n\n    .dataframe tbody tr th {\n        vertical-align: top;\n    }\n\n    .dataframe thead th {\n        text-align: right;\n    }\n</style>\n<table border=\"1\" class=\"dataframe\">\n  <thead>\n    <tr style=\"text-align: right;\">\n      <th></th>\n      <th>time</th>\n      <th>variable</th>\n      <th>value</th>\n    </tr>\n  </thead>\n  <tbody>\n    <tr>\n      <th>0</th>\n      <td>13/11/2020 05:00</td>\n      <td>stockTotal</td>\n      <td>10984.0</td>\n    </tr>\n    <tr>\n      <th>1</th>\n      <td>13/11/2020 06:00</td>\n      <td>stockTotal</td>\n      <td>11285.0</td>\n    </tr>\n    <tr>\n      <th>2</th>\n      <td>13/11/2020 07:00</td>\n      <td>stockTotal</td>\n      <td>11199.0</td>\n    </tr>\n    <tr>\n      <th>3</th>\n      <td>13/11/2020 08:00</td>\n      <td>stockTotal</td>\n      <td>12023.0</td>\n    </tr>\n    <tr>\n      <th>4</th>\n      <td>13/11/2020 09:00</td>\n      <td>stockTotal</td>\n      <td>12474.0</td>\n    </tr>\n  </tbody>\n</table>\n</div>"
     },
     "metadata": {},
     "execution_count": 14
    }
   ],
   "source": [
    "df_stock = df_stock.melt(id_vars=['time'])\n",
    "df_stock.head()"
   ]
  },
  {
   "cell_type": "code",
   "execution_count": 15,
   "metadata": {},
   "outputs": [],
   "source": [
    "df_stock.to_csv('response_stock.csv', index = False)"
   ]
  },
  {
   "cell_type": "code",
   "execution_count": null,
   "metadata": {},
   "outputs": [],
   "source": []
  }
 ]
}