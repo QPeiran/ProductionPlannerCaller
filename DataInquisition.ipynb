{
 "metadata": {
  "language_info": {
   "codemirror_mode": {
    "name": "ipython",
    "version": 3
   },
   "file_extension": ".py",
   "mimetype": "text/x-python",
   "name": "python",
   "nbconvert_exporter": "python",
   "pygments_lexer": "ipython3",
   "version": "3.8.6-final"
  },
  "orig_nbformat": 2,
  "kernelspec": {
   "name": "Python 3.8.6 64-bit ('ProductionPlannerCaller': pipenv)",
   "display_name": "Python 3.8.6 64-bit ('ProductionPlannerCaller': pipenv)",
   "metadata": {
    "interpreter": {
     "hash": "d35c8b516a90ec349fb27354d3f5b0fd5f2200bb14aca3e9a64f3cb0fb9d61f2"
    }
   }
  }
 },
 "nbformat": 4,
 "nbformat_minor": 2,
 "cells": [
  {
   "cell_type": "code",
   "execution_count": 1,
   "metadata": {},
   "outputs": [],
   "source": [
    "import pandas as pd\n",
    "import json\n",
    "from pandas import json_normalize"
   ]
  },
  {
   "cell_type": "code",
   "execution_count": 2,
   "metadata": {},
   "outputs": [],
   "source": [
    "# file = open(r'C:\\Users\\Peiran Quan\\myWorkStation\\PlanningClient\\template_response.json')\n",
    "file = open(r'.\\test_response.json')"
   ]
  },
  {
   "cell_type": "code",
   "execution_count": 3,
   "metadata": {},
   "outputs": [],
   "source": [
    "data = json.load(file)"
   ]
  },
  {
   "cell_type": "code",
   "execution_count": 4,
   "metadata": {
    "tags": []
   },
   "outputs": [
    {
     "output_type": "execute_result",
     "data": {
      "text/plain": [
       "    teamId startDateTime finishDateTime teamLeader  id line batch  week  year  \\\n",
       "0        0         06:00          07:03     Team 1   0   12  None  None  None   \n",
       "1        0         06:00          06:51     Team 1   0    7  None  None  None   \n",
       "2        0         06:00          06:51     Team 1   0    4  None  None  None   \n",
       "3        0         06:51          07:41     Team 1   0    4  None  None  None   \n",
       "4        0         06:51          07:30     Team 1   0    6  None  None  None   \n",
       "5        0         06:51          07:42     Team 1   0   18  None  None  None   \n",
       "6        0         07:03          07:54     Team 1   0    1  None  None  None   \n",
       "7        0         07:30          07:57     Team 1   0   16  None  None  None   \n",
       "8        0         07:41          08:44     Team 1   0   13  None  None  None   \n",
       "9        0         07:42          08:29     Team 1   0   18  None  None  None   \n",
       "10       0         07:54          08:03     Team 1   0    9  None  None  None   \n",
       "11       0         08:03          08:54     Team 1   0    9  None  None  None   \n",
       "12       0         08:03          08:54     Team 1   0   20  None  None  None   \n",
       "13       0         08:29          09:11     Team 1   0    8  None  None  None   \n",
       "14       0         08:44          10:01     Team 1   0    6  None  None  None   \n",
       "15       0         08:54          09:43     Team 1   0   20  None  None  None   \n",
       "16       0         08:54          09:45     Team 1   0    2  None  None  None   \n",
       "17       0         09:11          10:02     Team 1   0   11  None  None  None   \n",
       "18       0         09:43          10:34     Team 1   0    1  None  None  None   \n",
       "19       0         09:45          10:45     Team 1   0   10  None  None  None   \n",
       "20       0         10:01          10:39     Team 1   0    6  None  None  None   \n",
       "21       0         10:02          10:43     Team 1   0   19  None  None  None   \n",
       "22       0         10:34          11:25     Team 1   0   17  None  None  None   \n",
       "23       0         10:39          11:30     Team 1   0    3  None  None  None   \n",
       "24       0         10:43          11:34     Team 1   0    7  None  None  None   \n",
       "25       0         10:45          11:45     Team 1   0   13  None  None  None   \n",
       "26       0         11:25          12:25     Team 1   0   12  None  None  None   \n",
       "27       0         11:30          12:30     Team 1   0   14  None  None  None   \n",
       "28       0         11:34          12:22     Team 1   0   20  None  None  None   \n",
       "29       0         11:45          12:36     Team 1   0   11  None  None  None   \n",
       "30       0         12:22          13:03     Team 1   0   15  None  None  None   \n",
       "31       0         12:25          13:17     Team 1   0    9  None  None  None   \n",
       "32       0         12:30          13:21     Team 1   0   16  None  None  None   \n",
       "33       0         12:36          13:28     Team 1   0    2  None  None  None   \n",
       "34       0         13:03          13:43     Team 1   0    8  None  None  None   \n",
       "35       0         13:17          14:08     Team 1   0    5  None  None  None   \n",
       "36       0         13:21          14:13     Team 1   0    3  None  None  None   \n",
       "37       0         13:28          14:08     Team 1   0   19  None  None  None   \n",
       "38       0         13:43          14:48     Team 1   0   14  None  None  None   \n",
       "\n",
       "    done recipe  productionTarget  mealKitPerCrate  targetSpeed displayOrder  \\\n",
       "0   None     I4               350                5          350         None   \n",
       "1   None     E4               280                4          350         None   \n",
       "2   None     C4               280                4          350         None   \n",
       "3   None     C2               350                5          450         None   \n",
       "4   None     J4               210                3          350         None   \n",
       "5   None     O4               280                4          350         None   \n",
       "6   None     K4               280                4          350         None   \n",
       "7   None     P4               140                2          350         None   \n",
       "8   None     L4               350                5          350         None   \n",
       "9   None     O2               350                5          450         None   \n",
       "10  None     SE                43                7          500         None   \n",
       "11  None     H2               350                5          450         None   \n",
       "12  None     N2               350                5          450         None   \n",
       "13  None     F2               280                4          450         None   \n",
       "14  None     U4               420                6          350         None   \n",
       "15  None     N4               280                4          350         None   \n",
       "16  None     A2               350                5          450         None   \n",
       "17  None     M4               280                4          350         None   \n",
       "18  None     K2               350                5          450         None   \n",
       "19  None     T2               420                6          450         None   \n",
       "20  None     J2               280                4          450         None   \n",
       "21  None     Q2               280                4          450         None   \n",
       "22  None     S2               350                5          450         None   \n",
       "23  None     B2               350                5          450         None   \n",
       "24  None     E2               350                5          450         None   \n",
       "25  None     L2               420                6          450         None   \n",
       "26  None     I2               420                6          450         None   \n",
       "27  None     R2               420                6          450         None   \n",
       "28  None     SG               359                6          500         None   \n",
       "29  None     M2               350                5          450         None   \n",
       "30  None     G2               280                4          450         None   \n",
       "31  None     H4               280                4          350         None   \n",
       "32  None     SA               387                6          500         None   \n",
       "33  None     A4               280                4          350         None   \n",
       "34  None     F4               210                3          350         None   \n",
       "35  None     D2               350                5          450         None   \n",
       "36  None     B4               280                4          350         None   \n",
       "37  None     Q4               210                3          350         None   \n",
       "38  None     R4               350                5          350         None   \n",
       "\n",
       "   createdAt  \n",
       "0       None  \n",
       "1       None  \n",
       "2       None  \n",
       "3       None  \n",
       "4       None  \n",
       "5       None  \n",
       "6       None  \n",
       "7       None  \n",
       "8       None  \n",
       "9       None  \n",
       "10      None  \n",
       "11      None  \n",
       "12      None  \n",
       "13      None  \n",
       "14      None  \n",
       "15      None  \n",
       "16      None  \n",
       "17      None  \n",
       "18      None  \n",
       "19      None  \n",
       "20      None  \n",
       "21      None  \n",
       "22      None  \n",
       "23      None  \n",
       "24      None  \n",
       "25      None  \n",
       "26      None  \n",
       "27      None  \n",
       "28      None  \n",
       "29      None  \n",
       "30      None  \n",
       "31      None  \n",
       "32      None  \n",
       "33      None  \n",
       "34      None  \n",
       "35      None  \n",
       "36      None  \n",
       "37      None  \n",
       "38      None  "
      ],
      "text/html": "<div>\n<style scoped>\n    .dataframe tbody tr th:only-of-type {\n        vertical-align: middle;\n    }\n\n    .dataframe tbody tr th {\n        vertical-align: top;\n    }\n\n    .dataframe thead th {\n        text-align: right;\n    }\n</style>\n<table border=\"1\" class=\"dataframe\">\n  <thead>\n    <tr style=\"text-align: right;\">\n      <th></th>\n      <th>teamId</th>\n      <th>startDateTime</th>\n      <th>finishDateTime</th>\n      <th>teamLeader</th>\n      <th>id</th>\n      <th>line</th>\n      <th>batch</th>\n      <th>week</th>\n      <th>year</th>\n      <th>done</th>\n      <th>recipe</th>\n      <th>productionTarget</th>\n      <th>mealKitPerCrate</th>\n      <th>targetSpeed</th>\n      <th>displayOrder</th>\n      <th>createdAt</th>\n    </tr>\n  </thead>\n  <tbody>\n    <tr>\n      <th>0</th>\n      <td>0</td>\n      <td>06:00</td>\n      <td>07:03</td>\n      <td>Team 1</td>\n      <td>0</td>\n      <td>12</td>\n      <td>None</td>\n      <td>None</td>\n      <td>None</td>\n      <td>None</td>\n      <td>I4</td>\n      <td>350</td>\n      <td>5</td>\n      <td>350</td>\n      <td>None</td>\n      <td>None</td>\n    </tr>\n    <tr>\n      <th>1</th>\n      <td>0</td>\n      <td>06:00</td>\n      <td>06:51</td>\n      <td>Team 1</td>\n      <td>0</td>\n      <td>7</td>\n      <td>None</td>\n      <td>None</td>\n      <td>None</td>\n      <td>None</td>\n      <td>E4</td>\n      <td>280</td>\n      <td>4</td>\n      <td>350</td>\n      <td>None</td>\n      <td>None</td>\n    </tr>\n    <tr>\n      <th>2</th>\n      <td>0</td>\n      <td>06:00</td>\n      <td>06:51</td>\n      <td>Team 1</td>\n      <td>0</td>\n      <td>4</td>\n      <td>None</td>\n      <td>None</td>\n      <td>None</td>\n      <td>None</td>\n      <td>C4</td>\n      <td>280</td>\n      <td>4</td>\n      <td>350</td>\n      <td>None</td>\n      <td>None</td>\n    </tr>\n    <tr>\n      <th>3</th>\n      <td>0</td>\n      <td>06:51</td>\n      <td>07:41</td>\n      <td>Team 1</td>\n      <td>0</td>\n      <td>4</td>\n      <td>None</td>\n      <td>None</td>\n      <td>None</td>\n      <td>None</td>\n      <td>C2</td>\n      <td>350</td>\n      <td>5</td>\n      <td>450</td>\n      <td>None</td>\n      <td>None</td>\n    </tr>\n    <tr>\n      <th>4</th>\n      <td>0</td>\n      <td>06:51</td>\n      <td>07:30</td>\n      <td>Team 1</td>\n      <td>0</td>\n      <td>6</td>\n      <td>None</td>\n      <td>None</td>\n      <td>None</td>\n      <td>None</td>\n      <td>J4</td>\n      <td>210</td>\n      <td>3</td>\n      <td>350</td>\n      <td>None</td>\n      <td>None</td>\n    </tr>\n    <tr>\n      <th>5</th>\n      <td>0</td>\n      <td>06:51</td>\n      <td>07:42</td>\n      <td>Team 1</td>\n      <td>0</td>\n      <td>18</td>\n      <td>None</td>\n      <td>None</td>\n      <td>None</td>\n      <td>None</td>\n      <td>O4</td>\n      <td>280</td>\n      <td>4</td>\n      <td>350</td>\n      <td>None</td>\n      <td>None</td>\n    </tr>\n    <tr>\n      <th>6</th>\n      <td>0</td>\n      <td>07:03</td>\n      <td>07:54</td>\n      <td>Team 1</td>\n      <td>0</td>\n      <td>1</td>\n      <td>None</td>\n      <td>None</td>\n      <td>None</td>\n      <td>None</td>\n      <td>K4</td>\n      <td>280</td>\n      <td>4</td>\n      <td>350</td>\n      <td>None</td>\n      <td>None</td>\n    </tr>\n    <tr>\n      <th>7</th>\n      <td>0</td>\n      <td>07:30</td>\n      <td>07:57</td>\n      <td>Team 1</td>\n      <td>0</td>\n      <td>16</td>\n      <td>None</td>\n      <td>None</td>\n      <td>None</td>\n      <td>None</td>\n      <td>P4</td>\n      <td>140</td>\n      <td>2</td>\n      <td>350</td>\n      <td>None</td>\n      <td>None</td>\n    </tr>\n    <tr>\n      <th>8</th>\n      <td>0</td>\n      <td>07:41</td>\n      <td>08:44</td>\n      <td>Team 1</td>\n      <td>0</td>\n      <td>13</td>\n      <td>None</td>\n      <td>None</td>\n      <td>None</td>\n      <td>None</td>\n      <td>L4</td>\n      <td>350</td>\n      <td>5</td>\n      <td>350</td>\n      <td>None</td>\n      <td>None</td>\n    </tr>\n    <tr>\n      <th>9</th>\n      <td>0</td>\n      <td>07:42</td>\n      <td>08:29</td>\n      <td>Team 1</td>\n      <td>0</td>\n      <td>18</td>\n      <td>None</td>\n      <td>None</td>\n      <td>None</td>\n      <td>None</td>\n      <td>O2</td>\n      <td>350</td>\n      <td>5</td>\n      <td>450</td>\n      <td>None</td>\n      <td>None</td>\n    </tr>\n    <tr>\n      <th>10</th>\n      <td>0</td>\n      <td>07:54</td>\n      <td>08:03</td>\n      <td>Team 1</td>\n      <td>0</td>\n      <td>9</td>\n      <td>None</td>\n      <td>None</td>\n      <td>None</td>\n      <td>None</td>\n      <td>SE</td>\n      <td>43</td>\n      <td>7</td>\n      <td>500</td>\n      <td>None</td>\n      <td>None</td>\n    </tr>\n    <tr>\n      <th>11</th>\n      <td>0</td>\n      <td>08:03</td>\n      <td>08:54</td>\n      <td>Team 1</td>\n      <td>0</td>\n      <td>9</td>\n      <td>None</td>\n      <td>None</td>\n      <td>None</td>\n      <td>None</td>\n      <td>H2</td>\n      <td>350</td>\n      <td>5</td>\n      <td>450</td>\n      <td>None</td>\n      <td>None</td>\n    </tr>\n    <tr>\n      <th>12</th>\n      <td>0</td>\n      <td>08:03</td>\n      <td>08:54</td>\n      <td>Team 1</td>\n      <td>0</td>\n      <td>20</td>\n      <td>None</td>\n      <td>None</td>\n      <td>None</td>\n      <td>None</td>\n      <td>N2</td>\n      <td>350</td>\n      <td>5</td>\n      <td>450</td>\n      <td>None</td>\n      <td>None</td>\n    </tr>\n    <tr>\n      <th>13</th>\n      <td>0</td>\n      <td>08:29</td>\n      <td>09:11</td>\n      <td>Team 1</td>\n      <td>0</td>\n      <td>8</td>\n      <td>None</td>\n      <td>None</td>\n      <td>None</td>\n      <td>None</td>\n      <td>F2</td>\n      <td>280</td>\n      <td>4</td>\n      <td>450</td>\n      <td>None</td>\n      <td>None</td>\n    </tr>\n    <tr>\n      <th>14</th>\n      <td>0</td>\n      <td>08:44</td>\n      <td>10:01</td>\n      <td>Team 1</td>\n      <td>0</td>\n      <td>6</td>\n      <td>None</td>\n      <td>None</td>\n      <td>None</td>\n      <td>None</td>\n      <td>U4</td>\n      <td>420</td>\n      <td>6</td>\n      <td>350</td>\n      <td>None</td>\n      <td>None</td>\n    </tr>\n    <tr>\n      <th>15</th>\n      <td>0</td>\n      <td>08:54</td>\n      <td>09:43</td>\n      <td>Team 1</td>\n      <td>0</td>\n      <td>20</td>\n      <td>None</td>\n      <td>None</td>\n      <td>None</td>\n      <td>None</td>\n      <td>N4</td>\n      <td>280</td>\n      <td>4</td>\n      <td>350</td>\n      <td>None</td>\n      <td>None</td>\n    </tr>\n    <tr>\n      <th>16</th>\n      <td>0</td>\n      <td>08:54</td>\n      <td>09:45</td>\n      <td>Team 1</td>\n      <td>0</td>\n      <td>2</td>\n      <td>None</td>\n      <td>None</td>\n      <td>None</td>\n      <td>None</td>\n      <td>A2</td>\n      <td>350</td>\n      <td>5</td>\n      <td>450</td>\n      <td>None</td>\n      <td>None</td>\n    </tr>\n    <tr>\n      <th>17</th>\n      <td>0</td>\n      <td>09:11</td>\n      <td>10:02</td>\n      <td>Team 1</td>\n      <td>0</td>\n      <td>11</td>\n      <td>None</td>\n      <td>None</td>\n      <td>None</td>\n      <td>None</td>\n      <td>M4</td>\n      <td>280</td>\n      <td>4</td>\n      <td>350</td>\n      <td>None</td>\n      <td>None</td>\n    </tr>\n    <tr>\n      <th>18</th>\n      <td>0</td>\n      <td>09:43</td>\n      <td>10:34</td>\n      <td>Team 1</td>\n      <td>0</td>\n      <td>1</td>\n      <td>None</td>\n      <td>None</td>\n      <td>None</td>\n      <td>None</td>\n      <td>K2</td>\n      <td>350</td>\n      <td>5</td>\n      <td>450</td>\n      <td>None</td>\n      <td>None</td>\n    </tr>\n    <tr>\n      <th>19</th>\n      <td>0</td>\n      <td>09:45</td>\n      <td>10:45</td>\n      <td>Team 1</td>\n      <td>0</td>\n      <td>10</td>\n      <td>None</td>\n      <td>None</td>\n      <td>None</td>\n      <td>None</td>\n      <td>T2</td>\n      <td>420</td>\n      <td>6</td>\n      <td>450</td>\n      <td>None</td>\n      <td>None</td>\n    </tr>\n    <tr>\n      <th>20</th>\n      <td>0</td>\n      <td>10:01</td>\n      <td>10:39</td>\n      <td>Team 1</td>\n      <td>0</td>\n      <td>6</td>\n      <td>None</td>\n      <td>None</td>\n      <td>None</td>\n      <td>None</td>\n      <td>J2</td>\n      <td>280</td>\n      <td>4</td>\n      <td>450</td>\n      <td>None</td>\n      <td>None</td>\n    </tr>\n    <tr>\n      <th>21</th>\n      <td>0</td>\n      <td>10:02</td>\n      <td>10:43</td>\n      <td>Team 1</td>\n      <td>0</td>\n      <td>19</td>\n      <td>None</td>\n      <td>None</td>\n      <td>None</td>\n      <td>None</td>\n      <td>Q2</td>\n      <td>280</td>\n      <td>4</td>\n      <td>450</td>\n      <td>None</td>\n      <td>None</td>\n    </tr>\n    <tr>\n      <th>22</th>\n      <td>0</td>\n      <td>10:34</td>\n      <td>11:25</td>\n      <td>Team 1</td>\n      <td>0</td>\n      <td>17</td>\n      <td>None</td>\n      <td>None</td>\n      <td>None</td>\n      <td>None</td>\n      <td>S2</td>\n      <td>350</td>\n      <td>5</td>\n      <td>450</td>\n      <td>None</td>\n      <td>None</td>\n    </tr>\n    <tr>\n      <th>23</th>\n      <td>0</td>\n      <td>10:39</td>\n      <td>11:30</td>\n      <td>Team 1</td>\n      <td>0</td>\n      <td>3</td>\n      <td>None</td>\n      <td>None</td>\n      <td>None</td>\n      <td>None</td>\n      <td>B2</td>\n      <td>350</td>\n      <td>5</td>\n      <td>450</td>\n      <td>None</td>\n      <td>None</td>\n    </tr>\n    <tr>\n      <th>24</th>\n      <td>0</td>\n      <td>10:43</td>\n      <td>11:34</td>\n      <td>Team 1</td>\n      <td>0</td>\n      <td>7</td>\n      <td>None</td>\n      <td>None</td>\n      <td>None</td>\n      <td>None</td>\n      <td>E2</td>\n      <td>350</td>\n      <td>5</td>\n      <td>450</td>\n      <td>None</td>\n      <td>None</td>\n    </tr>\n    <tr>\n      <th>25</th>\n      <td>0</td>\n      <td>10:45</td>\n      <td>11:45</td>\n      <td>Team 1</td>\n      <td>0</td>\n      <td>13</td>\n      <td>None</td>\n      <td>None</td>\n      <td>None</td>\n      <td>None</td>\n      <td>L2</td>\n      <td>420</td>\n      <td>6</td>\n      <td>450</td>\n      <td>None</td>\n      <td>None</td>\n    </tr>\n    <tr>\n      <th>26</th>\n      <td>0</td>\n      <td>11:25</td>\n      <td>12:25</td>\n      <td>Team 1</td>\n      <td>0</td>\n      <td>12</td>\n      <td>None</td>\n      <td>None</td>\n      <td>None</td>\n      <td>None</td>\n      <td>I2</td>\n      <td>420</td>\n      <td>6</td>\n      <td>450</td>\n      <td>None</td>\n      <td>None</td>\n    </tr>\n    <tr>\n      <th>27</th>\n      <td>0</td>\n      <td>11:30</td>\n      <td>12:30</td>\n      <td>Team 1</td>\n      <td>0</td>\n      <td>14</td>\n      <td>None</td>\n      <td>None</td>\n      <td>None</td>\n      <td>None</td>\n      <td>R2</td>\n      <td>420</td>\n      <td>6</td>\n      <td>450</td>\n      <td>None</td>\n      <td>None</td>\n    </tr>\n    <tr>\n      <th>28</th>\n      <td>0</td>\n      <td>11:34</td>\n      <td>12:22</td>\n      <td>Team 1</td>\n      <td>0</td>\n      <td>20</td>\n      <td>None</td>\n      <td>None</td>\n      <td>None</td>\n      <td>None</td>\n      <td>SG</td>\n      <td>359</td>\n      <td>6</td>\n      <td>500</td>\n      <td>None</td>\n      <td>None</td>\n    </tr>\n    <tr>\n      <th>29</th>\n      <td>0</td>\n      <td>11:45</td>\n      <td>12:36</td>\n      <td>Team 1</td>\n      <td>0</td>\n      <td>11</td>\n      <td>None</td>\n      <td>None</td>\n      <td>None</td>\n      <td>None</td>\n      <td>M2</td>\n      <td>350</td>\n      <td>5</td>\n      <td>450</td>\n      <td>None</td>\n      <td>None</td>\n    </tr>\n    <tr>\n      <th>30</th>\n      <td>0</td>\n      <td>12:22</td>\n      <td>13:03</td>\n      <td>Team 1</td>\n      <td>0</td>\n      <td>15</td>\n      <td>None</td>\n      <td>None</td>\n      <td>None</td>\n      <td>None</td>\n      <td>G2</td>\n      <td>280</td>\n      <td>4</td>\n      <td>450</td>\n      <td>None</td>\n      <td>None</td>\n    </tr>\n    <tr>\n      <th>31</th>\n      <td>0</td>\n      <td>12:25</td>\n      <td>13:17</td>\n      <td>Team 1</td>\n      <td>0</td>\n      <td>9</td>\n      <td>None</td>\n      <td>None</td>\n      <td>None</td>\n      <td>None</td>\n      <td>H4</td>\n      <td>280</td>\n      <td>4</td>\n      <td>350</td>\n      <td>None</td>\n      <td>None</td>\n    </tr>\n    <tr>\n      <th>32</th>\n      <td>0</td>\n      <td>12:30</td>\n      <td>13:21</td>\n      <td>Team 1</td>\n      <td>0</td>\n      <td>16</td>\n      <td>None</td>\n      <td>None</td>\n      <td>None</td>\n      <td>None</td>\n      <td>SA</td>\n      <td>387</td>\n      <td>6</td>\n      <td>500</td>\n      <td>None</td>\n      <td>None</td>\n    </tr>\n    <tr>\n      <th>33</th>\n      <td>0</td>\n      <td>12:36</td>\n      <td>13:28</td>\n      <td>Team 1</td>\n      <td>0</td>\n      <td>2</td>\n      <td>None</td>\n      <td>None</td>\n      <td>None</td>\n      <td>None</td>\n      <td>A4</td>\n      <td>280</td>\n      <td>4</td>\n      <td>350</td>\n      <td>None</td>\n      <td>None</td>\n    </tr>\n    <tr>\n      <th>34</th>\n      <td>0</td>\n      <td>13:03</td>\n      <td>13:43</td>\n      <td>Team 1</td>\n      <td>0</td>\n      <td>8</td>\n      <td>None</td>\n      <td>None</td>\n      <td>None</td>\n      <td>None</td>\n      <td>F4</td>\n      <td>210</td>\n      <td>3</td>\n      <td>350</td>\n      <td>None</td>\n      <td>None</td>\n    </tr>\n    <tr>\n      <th>35</th>\n      <td>0</td>\n      <td>13:17</td>\n      <td>14:08</td>\n      <td>Team 1</td>\n      <td>0</td>\n      <td>5</td>\n      <td>None</td>\n      <td>None</td>\n      <td>None</td>\n      <td>None</td>\n      <td>D2</td>\n      <td>350</td>\n      <td>5</td>\n      <td>450</td>\n      <td>None</td>\n      <td>None</td>\n    </tr>\n    <tr>\n      <th>36</th>\n      <td>0</td>\n      <td>13:21</td>\n      <td>14:13</td>\n      <td>Team 1</td>\n      <td>0</td>\n      <td>3</td>\n      <td>None</td>\n      <td>None</td>\n      <td>None</td>\n      <td>None</td>\n      <td>B4</td>\n      <td>280</td>\n      <td>4</td>\n      <td>350</td>\n      <td>None</td>\n      <td>None</td>\n    </tr>\n    <tr>\n      <th>37</th>\n      <td>0</td>\n      <td>13:28</td>\n      <td>14:08</td>\n      <td>Team 1</td>\n      <td>0</td>\n      <td>19</td>\n      <td>None</td>\n      <td>None</td>\n      <td>None</td>\n      <td>None</td>\n      <td>Q4</td>\n      <td>210</td>\n      <td>3</td>\n      <td>350</td>\n      <td>None</td>\n      <td>None</td>\n    </tr>\n    <tr>\n      <th>38</th>\n      <td>0</td>\n      <td>13:43</td>\n      <td>14:48</td>\n      <td>Team 1</td>\n      <td>0</td>\n      <td>14</td>\n      <td>None</td>\n      <td>None</td>\n      <td>None</td>\n      <td>None</td>\n      <td>R4</td>\n      <td>350</td>\n      <td>5</td>\n      <td>350</td>\n      <td>None</td>\n      <td>None</td>\n    </tr>\n  </tbody>\n</table>\n</div>"
     },
     "metadata": {},
     "execution_count": 4
    }
   ],
   "source": [
    "df = json_normalize(data[\"pickingJob\"])\n",
    "df"
   ]
  },
  {
   "cell_type": "code",
   "execution_count": 5,
   "metadata": {},
   "outputs": [
    {
     "output_type": "execute_result",
     "data": {
      "text/plain": [
       "   teamLeader line startDateTime finishDateTime recipe  productionTarget\n",
       "0      Team 1   12         06:00          07:03     I4               350\n",
       "1      Team 1    7         06:00          06:51     E4               280\n",
       "2      Team 1    4         06:00          06:51     C4               280\n",
       "3      Team 1    4         06:51          07:41     C2               350\n",
       "4      Team 1    6         06:51          07:30     J4               210\n",
       "5      Team 1   18         06:51          07:42     O4               280\n",
       "6      Team 1    1         07:03          07:54     K4               280\n",
       "7      Team 1   16         07:30          07:57     P4               140\n",
       "8      Team 1   13         07:41          08:44     L4               350\n",
       "9      Team 1   18         07:42          08:29     O2               350\n",
       "10     Team 1    9         07:54          08:03     SE                43\n",
       "11     Team 1    9         08:03          08:54     H2               350\n",
       "12     Team 1   20         08:03          08:54     N2               350\n",
       "13     Team 1    8         08:29          09:11     F2               280\n",
       "14     Team 1    6         08:44          10:01     U4               420\n",
       "15     Team 1   20         08:54          09:43     N4               280\n",
       "16     Team 1    2         08:54          09:45     A2               350\n",
       "17     Team 1   11         09:11          10:02     M4               280\n",
       "18     Team 1    1         09:43          10:34     K2               350\n",
       "19     Team 1   10         09:45          10:45     T2               420\n",
       "20     Team 1    6         10:01          10:39     J2               280\n",
       "21     Team 1   19         10:02          10:43     Q2               280\n",
       "22     Team 1   17         10:34          11:25     S2               350\n",
       "23     Team 1    3         10:39          11:30     B2               350\n",
       "24     Team 1    7         10:43          11:34     E2               350\n",
       "25     Team 1   13         10:45          11:45     L2               420\n",
       "26     Team 1   12         11:25          12:25     I2               420\n",
       "27     Team 1   14         11:30          12:30     R2               420\n",
       "28     Team 1   20         11:34          12:22     SG               359\n",
       "29     Team 1   11         11:45          12:36     M2               350\n",
       "30     Team 1   15         12:22          13:03     G2               280\n",
       "31     Team 1    9         12:25          13:17     H4               280\n",
       "32     Team 1   16         12:30          13:21     SA               387\n",
       "33     Team 1    2         12:36          13:28     A4               280\n",
       "34     Team 1    8         13:03          13:43     F4               210\n",
       "35     Team 1    5         13:17          14:08     D2               350\n",
       "36     Team 1    3         13:21          14:13     B4               280\n",
       "37     Team 1   19         13:28          14:08     Q4               210\n",
       "38     Team 1   14         13:43          14:48     R4               350"
      ],
      "text/html": "<div>\n<style scoped>\n    .dataframe tbody tr th:only-of-type {\n        vertical-align: middle;\n    }\n\n    .dataframe tbody tr th {\n        vertical-align: top;\n    }\n\n    .dataframe thead th {\n        text-align: right;\n    }\n</style>\n<table border=\"1\" class=\"dataframe\">\n  <thead>\n    <tr style=\"text-align: right;\">\n      <th></th>\n      <th>teamLeader</th>\n      <th>line</th>\n      <th>startDateTime</th>\n      <th>finishDateTime</th>\n      <th>recipe</th>\n      <th>productionTarget</th>\n    </tr>\n  </thead>\n  <tbody>\n    <tr>\n      <th>0</th>\n      <td>Team 1</td>\n      <td>12</td>\n      <td>06:00</td>\n      <td>07:03</td>\n      <td>I4</td>\n      <td>350</td>\n    </tr>\n    <tr>\n      <th>1</th>\n      <td>Team 1</td>\n      <td>7</td>\n      <td>06:00</td>\n      <td>06:51</td>\n      <td>E4</td>\n      <td>280</td>\n    </tr>\n    <tr>\n      <th>2</th>\n      <td>Team 1</td>\n      <td>4</td>\n      <td>06:00</td>\n      <td>06:51</td>\n      <td>C4</td>\n      <td>280</td>\n    </tr>\n    <tr>\n      <th>3</th>\n      <td>Team 1</td>\n      <td>4</td>\n      <td>06:51</td>\n      <td>07:41</td>\n      <td>C2</td>\n      <td>350</td>\n    </tr>\n    <tr>\n      <th>4</th>\n      <td>Team 1</td>\n      <td>6</td>\n      <td>06:51</td>\n      <td>07:30</td>\n      <td>J4</td>\n      <td>210</td>\n    </tr>\n    <tr>\n      <th>5</th>\n      <td>Team 1</td>\n      <td>18</td>\n      <td>06:51</td>\n      <td>07:42</td>\n      <td>O4</td>\n      <td>280</td>\n    </tr>\n    <tr>\n      <th>6</th>\n      <td>Team 1</td>\n      <td>1</td>\n      <td>07:03</td>\n      <td>07:54</td>\n      <td>K4</td>\n      <td>280</td>\n    </tr>\n    <tr>\n      <th>7</th>\n      <td>Team 1</td>\n      <td>16</td>\n      <td>07:30</td>\n      <td>07:57</td>\n      <td>P4</td>\n      <td>140</td>\n    </tr>\n    <tr>\n      <th>8</th>\n      <td>Team 1</td>\n      <td>13</td>\n      <td>07:41</td>\n      <td>08:44</td>\n      <td>L4</td>\n      <td>350</td>\n    </tr>\n    <tr>\n      <th>9</th>\n      <td>Team 1</td>\n      <td>18</td>\n      <td>07:42</td>\n      <td>08:29</td>\n      <td>O2</td>\n      <td>350</td>\n    </tr>\n    <tr>\n      <th>10</th>\n      <td>Team 1</td>\n      <td>9</td>\n      <td>07:54</td>\n      <td>08:03</td>\n      <td>SE</td>\n      <td>43</td>\n    </tr>\n    <tr>\n      <th>11</th>\n      <td>Team 1</td>\n      <td>9</td>\n      <td>08:03</td>\n      <td>08:54</td>\n      <td>H2</td>\n      <td>350</td>\n    </tr>\n    <tr>\n      <th>12</th>\n      <td>Team 1</td>\n      <td>20</td>\n      <td>08:03</td>\n      <td>08:54</td>\n      <td>N2</td>\n      <td>350</td>\n    </tr>\n    <tr>\n      <th>13</th>\n      <td>Team 1</td>\n      <td>8</td>\n      <td>08:29</td>\n      <td>09:11</td>\n      <td>F2</td>\n      <td>280</td>\n    </tr>\n    <tr>\n      <th>14</th>\n      <td>Team 1</td>\n      <td>6</td>\n      <td>08:44</td>\n      <td>10:01</td>\n      <td>U4</td>\n      <td>420</td>\n    </tr>\n    <tr>\n      <th>15</th>\n      <td>Team 1</td>\n      <td>20</td>\n      <td>08:54</td>\n      <td>09:43</td>\n      <td>N4</td>\n      <td>280</td>\n    </tr>\n    <tr>\n      <th>16</th>\n      <td>Team 1</td>\n      <td>2</td>\n      <td>08:54</td>\n      <td>09:45</td>\n      <td>A2</td>\n      <td>350</td>\n    </tr>\n    <tr>\n      <th>17</th>\n      <td>Team 1</td>\n      <td>11</td>\n      <td>09:11</td>\n      <td>10:02</td>\n      <td>M4</td>\n      <td>280</td>\n    </tr>\n    <tr>\n      <th>18</th>\n      <td>Team 1</td>\n      <td>1</td>\n      <td>09:43</td>\n      <td>10:34</td>\n      <td>K2</td>\n      <td>350</td>\n    </tr>\n    <tr>\n      <th>19</th>\n      <td>Team 1</td>\n      <td>10</td>\n      <td>09:45</td>\n      <td>10:45</td>\n      <td>T2</td>\n      <td>420</td>\n    </tr>\n    <tr>\n      <th>20</th>\n      <td>Team 1</td>\n      <td>6</td>\n      <td>10:01</td>\n      <td>10:39</td>\n      <td>J2</td>\n      <td>280</td>\n    </tr>\n    <tr>\n      <th>21</th>\n      <td>Team 1</td>\n      <td>19</td>\n      <td>10:02</td>\n      <td>10:43</td>\n      <td>Q2</td>\n      <td>280</td>\n    </tr>\n    <tr>\n      <th>22</th>\n      <td>Team 1</td>\n      <td>17</td>\n      <td>10:34</td>\n      <td>11:25</td>\n      <td>S2</td>\n      <td>350</td>\n    </tr>\n    <tr>\n      <th>23</th>\n      <td>Team 1</td>\n      <td>3</td>\n      <td>10:39</td>\n      <td>11:30</td>\n      <td>B2</td>\n      <td>350</td>\n    </tr>\n    <tr>\n      <th>24</th>\n      <td>Team 1</td>\n      <td>7</td>\n      <td>10:43</td>\n      <td>11:34</td>\n      <td>E2</td>\n      <td>350</td>\n    </tr>\n    <tr>\n      <th>25</th>\n      <td>Team 1</td>\n      <td>13</td>\n      <td>10:45</td>\n      <td>11:45</td>\n      <td>L2</td>\n      <td>420</td>\n    </tr>\n    <tr>\n      <th>26</th>\n      <td>Team 1</td>\n      <td>12</td>\n      <td>11:25</td>\n      <td>12:25</td>\n      <td>I2</td>\n      <td>420</td>\n    </tr>\n    <tr>\n      <th>27</th>\n      <td>Team 1</td>\n      <td>14</td>\n      <td>11:30</td>\n      <td>12:30</td>\n      <td>R2</td>\n      <td>420</td>\n    </tr>\n    <tr>\n      <th>28</th>\n      <td>Team 1</td>\n      <td>20</td>\n      <td>11:34</td>\n      <td>12:22</td>\n      <td>SG</td>\n      <td>359</td>\n    </tr>\n    <tr>\n      <th>29</th>\n      <td>Team 1</td>\n      <td>11</td>\n      <td>11:45</td>\n      <td>12:36</td>\n      <td>M2</td>\n      <td>350</td>\n    </tr>\n    <tr>\n      <th>30</th>\n      <td>Team 1</td>\n      <td>15</td>\n      <td>12:22</td>\n      <td>13:03</td>\n      <td>G2</td>\n      <td>280</td>\n    </tr>\n    <tr>\n      <th>31</th>\n      <td>Team 1</td>\n      <td>9</td>\n      <td>12:25</td>\n      <td>13:17</td>\n      <td>H4</td>\n      <td>280</td>\n    </tr>\n    <tr>\n      <th>32</th>\n      <td>Team 1</td>\n      <td>16</td>\n      <td>12:30</td>\n      <td>13:21</td>\n      <td>SA</td>\n      <td>387</td>\n    </tr>\n    <tr>\n      <th>33</th>\n      <td>Team 1</td>\n      <td>2</td>\n      <td>12:36</td>\n      <td>13:28</td>\n      <td>A4</td>\n      <td>280</td>\n    </tr>\n    <tr>\n      <th>34</th>\n      <td>Team 1</td>\n      <td>8</td>\n      <td>13:03</td>\n      <td>13:43</td>\n      <td>F4</td>\n      <td>210</td>\n    </tr>\n    <tr>\n      <th>35</th>\n      <td>Team 1</td>\n      <td>5</td>\n      <td>13:17</td>\n      <td>14:08</td>\n      <td>D2</td>\n      <td>350</td>\n    </tr>\n    <tr>\n      <th>36</th>\n      <td>Team 1</td>\n      <td>3</td>\n      <td>13:21</td>\n      <td>14:13</td>\n      <td>B4</td>\n      <td>280</td>\n    </tr>\n    <tr>\n      <th>37</th>\n      <td>Team 1</td>\n      <td>19</td>\n      <td>13:28</td>\n      <td>14:08</td>\n      <td>Q4</td>\n      <td>210</td>\n    </tr>\n    <tr>\n      <th>38</th>\n      <td>Team 1</td>\n      <td>14</td>\n      <td>13:43</td>\n      <td>14:48</td>\n      <td>R4</td>\n      <td>350</td>\n    </tr>\n  </tbody>\n</table>\n</div>"
     },
     "metadata": {},
     "execution_count": 5
    }
   ],
   "source": [
    "df_ultilize = df[[\"teamLeader\", \"line\", \"startDateTime\", \"finishDateTime\", \"recipe\", \"productionTarget\"]]\n",
    "df_ultilize"
   ]
  },
  {
   "cell_type": "code",
   "execution_count": 6,
   "metadata": {},
   "outputs": [],
   "source": [
    "df_ultilize.to_csv('response.csv', index = False)"
   ]
  },
  {
   "cell_type": "code",
   "execution_count": 7,
   "metadata": {},
   "outputs": [
    {
     "output_type": "execute_result",
     "data": {
      "text/plain": [
       "    time  assemblyLine01Requirement  assemblyLine02Requirement  shortage  \\\n",
       "0  06:00                        NaN                        NaN         0   \n",
       "1  07:00                        NaN                        NaN         0   \n",
       "2  08:00                        NaN                        NaN     -1190   \n",
       "3  09:00                        NaN                        NaN     -3129   \n",
       "4  10:00                        NaN                        NaN     -3796   \n",
       "\n",
       "   stockTotal  as01Total  as02Total  kittingLineTotal  dollyCount  \\\n",
       "0        1084          0          0              1084          37   \n",
       "1        2454          0          0              1370          89   \n",
       "2        2176       1024        804              1550          94   \n",
       "3        -101       2155       1577              1455          17   \n",
       "4        -639        885       1324              1671          -7   \n",
       "\n",
       "   acceptedDollyCount  ...  kittingLineProduced.SF  \\\n",
       "0                   0  ...                     NaN   \n",
       "1                   0  ...                     NaN   \n",
       "2                   0  ...                     0.0   \n",
       "3                   0  ...                     0.0   \n",
       "4                   0  ...                     0.0   \n",
       "\n",
       "  assemblyLine01Requirement.P2  assemblyLine02Requirement.P2 stock.P2  \\\n",
       "0                          NaN                           NaN      NaN   \n",
       "1                          NaN                           NaN      NaN   \n",
       "2                          NaN                           NaN      NaN   \n",
       "3                          0.0                           4.0     -4.0   \n",
       "4                          0.0                           9.0    -13.0   \n",
       "\n",
       "   kittingLineProduced.P2  assemblyLine01Requirement.U2  \\\n",
       "0                     NaN                           NaN   \n",
       "1                     NaN                           NaN   \n",
       "2                     NaN                           NaN   \n",
       "3                     0.0                           NaN   \n",
       "4                     0.0                           0.0   \n",
       "\n",
       "   assemblyLine02Requirement.U2  stock.U2  kittingLineProduced.U2  \\\n",
       "0                           NaN       NaN                     NaN   \n",
       "1                           NaN       NaN                     NaN   \n",
       "2                           NaN       NaN                     NaN   \n",
       "3                           NaN       NaN                     NaN   \n",
       "4                           1.0      -1.0                     0.0   \n",
       "\n",
       "   kittingLineProduced  \n",
       "0                  NaN  \n",
       "1                  NaN  \n",
       "2                  NaN  \n",
       "3                  NaN  \n",
       "4                  NaN  \n",
       "\n",
       "[5 rows x 200 columns]"
      ],
      "text/html": "<div>\n<style scoped>\n    .dataframe tbody tr th:only-of-type {\n        vertical-align: middle;\n    }\n\n    .dataframe tbody tr th {\n        vertical-align: top;\n    }\n\n    .dataframe thead th {\n        text-align: right;\n    }\n</style>\n<table border=\"1\" class=\"dataframe\">\n  <thead>\n    <tr style=\"text-align: right;\">\n      <th></th>\n      <th>time</th>\n      <th>assemblyLine01Requirement</th>\n      <th>assemblyLine02Requirement</th>\n      <th>shortage</th>\n      <th>stockTotal</th>\n      <th>as01Total</th>\n      <th>as02Total</th>\n      <th>kittingLineTotal</th>\n      <th>dollyCount</th>\n      <th>acceptedDollyCount</th>\n      <th>...</th>\n      <th>kittingLineProduced.SF</th>\n      <th>assemblyLine01Requirement.P2</th>\n      <th>assemblyLine02Requirement.P2</th>\n      <th>stock.P2</th>\n      <th>kittingLineProduced.P2</th>\n      <th>assemblyLine01Requirement.U2</th>\n      <th>assemblyLine02Requirement.U2</th>\n      <th>stock.U2</th>\n      <th>kittingLineProduced.U2</th>\n      <th>kittingLineProduced</th>\n    </tr>\n  </thead>\n  <tbody>\n    <tr>\n      <th>0</th>\n      <td>06:00</td>\n      <td>NaN</td>\n      <td>NaN</td>\n      <td>0</td>\n      <td>1084</td>\n      <td>0</td>\n      <td>0</td>\n      <td>1084</td>\n      <td>37</td>\n      <td>0</td>\n      <td>...</td>\n      <td>NaN</td>\n      <td>NaN</td>\n      <td>NaN</td>\n      <td>NaN</td>\n      <td>NaN</td>\n      <td>NaN</td>\n      <td>NaN</td>\n      <td>NaN</td>\n      <td>NaN</td>\n      <td>NaN</td>\n    </tr>\n    <tr>\n      <th>1</th>\n      <td>07:00</td>\n      <td>NaN</td>\n      <td>NaN</td>\n      <td>0</td>\n      <td>2454</td>\n      <td>0</td>\n      <td>0</td>\n      <td>1370</td>\n      <td>89</td>\n      <td>0</td>\n      <td>...</td>\n      <td>NaN</td>\n      <td>NaN</td>\n      <td>NaN</td>\n      <td>NaN</td>\n      <td>NaN</td>\n      <td>NaN</td>\n      <td>NaN</td>\n      <td>NaN</td>\n      <td>NaN</td>\n      <td>NaN</td>\n    </tr>\n    <tr>\n      <th>2</th>\n      <td>08:00</td>\n      <td>NaN</td>\n      <td>NaN</td>\n      <td>-1190</td>\n      <td>2176</td>\n      <td>1024</td>\n      <td>804</td>\n      <td>1550</td>\n      <td>94</td>\n      <td>0</td>\n      <td>...</td>\n      <td>0.0</td>\n      <td>NaN</td>\n      <td>NaN</td>\n      <td>NaN</td>\n      <td>NaN</td>\n      <td>NaN</td>\n      <td>NaN</td>\n      <td>NaN</td>\n      <td>NaN</td>\n      <td>NaN</td>\n    </tr>\n    <tr>\n      <th>3</th>\n      <td>09:00</td>\n      <td>NaN</td>\n      <td>NaN</td>\n      <td>-3129</td>\n      <td>-101</td>\n      <td>2155</td>\n      <td>1577</td>\n      <td>1455</td>\n      <td>17</td>\n      <td>0</td>\n      <td>...</td>\n      <td>0.0</td>\n      <td>0.0</td>\n      <td>4.0</td>\n      <td>-4.0</td>\n      <td>0.0</td>\n      <td>NaN</td>\n      <td>NaN</td>\n      <td>NaN</td>\n      <td>NaN</td>\n      <td>NaN</td>\n    </tr>\n    <tr>\n      <th>4</th>\n      <td>10:00</td>\n      <td>NaN</td>\n      <td>NaN</td>\n      <td>-3796</td>\n      <td>-639</td>\n      <td>885</td>\n      <td>1324</td>\n      <td>1671</td>\n      <td>-7</td>\n      <td>0</td>\n      <td>...</td>\n      <td>0.0</td>\n      <td>0.0</td>\n      <td>9.0</td>\n      <td>-13.0</td>\n      <td>0.0</td>\n      <td>0.0</td>\n      <td>1.0</td>\n      <td>-1.0</td>\n      <td>0.0</td>\n      <td>NaN</td>\n    </tr>\n  </tbody>\n</table>\n<p>5 rows × 200 columns</p>\n</div>"
     },
     "metadata": {},
     "execution_count": 7
    }
   ],
   "source": [
    "df_stock = json_normalize(data[\"stockOverTime\"])\n",
    "df_stock.head()"
   ]
  },
  {
   "cell_type": "code",
   "execution_count": 8,
   "metadata": {},
   "outputs": [
    {
     "output_type": "execute_result",
     "data": {
      "text/plain": [
       "['stockTotal',\n",
       " 'stock.C2',\n",
       " 'stock.C4',\n",
       " 'stock.E4',\n",
       " 'stock.I4',\n",
       " 'stock.J4',\n",
       " 'stock.O4',\n",
       " 'stock.O2',\n",
       " 'stock.K4',\n",
       " 'stock.L4',\n",
       " 'stock.P4',\n",
       " 'stock.SE',\n",
       " 'stock.A2',\n",
       " 'stock.B2',\n",
       " 'stock.D2',\n",
       " 'stock.E2',\n",
       " 'stock.F2',\n",
       " 'stock.G2',\n",
       " 'stock.H2',\n",
       " 'stock.I2',\n",
       " 'stock.J2',\n",
       " 'stock.K2',\n",
       " 'stock.L2',\n",
       " 'stock.M2',\n",
       " 'stock.N2',\n",
       " 'stock.Q2',\n",
       " 'stock.R2',\n",
       " 'stock.S2',\n",
       " 'stock.T2',\n",
       " 'stock.A4',\n",
       " 'stock.B4',\n",
       " 'stock.D4',\n",
       " 'stock.F4',\n",
       " 'stock.G4',\n",
       " 'stock.H4',\n",
       " 'stock.M4',\n",
       " 'stock.N4',\n",
       " 'stock.Q4',\n",
       " 'stock.R4',\n",
       " 'stock.S4',\n",
       " 'stock.T4',\n",
       " 'stock.U4',\n",
       " 'stock.SA',\n",
       " 'stock.SG',\n",
       " 'stock.SF',\n",
       " 'stock.P2',\n",
       " 'stock.U2',\n",
       " 'time']"
      ]
     },
     "metadata": {},
     "execution_count": 8
    }
   ],
   "source": [
    "filter_col = [col for col in df_stock if col.startswith('stock')]\n",
    "filter_col.append('time')\n",
    "filter_col"
   ]
  },
  {
   "cell_type": "code",
   "execution_count": 9,
   "metadata": {},
   "outputs": [],
   "source": [
    "df_stock = df_stock[filter_col]\n",
    "# df_stock.set_index('time', inplace = True)"
   ]
  },
  {
   "cell_type": "code",
   "execution_count": 10,
   "metadata": {},
   "outputs": [
    {
     "output_type": "execute_result",
     "data": {
      "text/plain": [
       "   stockTotal  stock.C2  stock.C4  stock.E4  stock.I4  stock.J4  stock.O4  \\\n",
       "0        1084        68       280       280       350        53        53   \n",
       "1        2454       350       280       280       350       210       280   \n",
       "2        2176       230       182       245       337       196       272   \n",
       "3        -101        27       -37       184       299       156       256   \n",
       "4        -639      -103      -121       162       279       140       251   \n",
       "\n",
       "   stock.O2  stock.K4  stock.L4  ...  stock.R4  stock.S4  stock.T4  stock.U4  \\\n",
       "0       NaN       NaN       NaN  ...       NaN       NaN       NaN       NaN   \n",
       "1     135.0     280.0     106.0  ...       NaN       NaN       NaN       NaN   \n",
       "2     337.0     168.0     266.0  ...     -50.0     -32.0     -53.0      87.0   \n",
       "3     318.0     -13.0     103.0  ...    -135.0    -126.0    -167.0     419.0   \n",
       "4     307.0     -95.0      29.0  ...    -172.0    -159.0    -226.0     418.0   \n",
       "\n",
       "   stock.SA  stock.SG  stock.SF  stock.P2  stock.U2   time  \n",
       "0       NaN       NaN       NaN       NaN       NaN  06:00  \n",
       "1       NaN       NaN       NaN       NaN       NaN  07:00  \n",
       "2     -15.0      -7.0      -5.0       NaN       NaN  08:00  \n",
       "3     -29.0     -22.0     -12.0      -4.0       NaN  09:00  \n",
       "4     -30.0     -31.0     -15.0     -13.0      -1.0  10:00  \n",
       "\n",
       "[5 rows x 48 columns]"
      ],
      "text/html": "<div>\n<style scoped>\n    .dataframe tbody tr th:only-of-type {\n        vertical-align: middle;\n    }\n\n    .dataframe tbody tr th {\n        vertical-align: top;\n    }\n\n    .dataframe thead th {\n        text-align: right;\n    }\n</style>\n<table border=\"1\" class=\"dataframe\">\n  <thead>\n    <tr style=\"text-align: right;\">\n      <th></th>\n      <th>stockTotal</th>\n      <th>stock.C2</th>\n      <th>stock.C4</th>\n      <th>stock.E4</th>\n      <th>stock.I4</th>\n      <th>stock.J4</th>\n      <th>stock.O4</th>\n      <th>stock.O2</th>\n      <th>stock.K4</th>\n      <th>stock.L4</th>\n      <th>...</th>\n      <th>stock.R4</th>\n      <th>stock.S4</th>\n      <th>stock.T4</th>\n      <th>stock.U4</th>\n      <th>stock.SA</th>\n      <th>stock.SG</th>\n      <th>stock.SF</th>\n      <th>stock.P2</th>\n      <th>stock.U2</th>\n      <th>time</th>\n    </tr>\n  </thead>\n  <tbody>\n    <tr>\n      <th>0</th>\n      <td>1084</td>\n      <td>68</td>\n      <td>280</td>\n      <td>280</td>\n      <td>350</td>\n      <td>53</td>\n      <td>53</td>\n      <td>NaN</td>\n      <td>NaN</td>\n      <td>NaN</td>\n      <td>...</td>\n      <td>NaN</td>\n      <td>NaN</td>\n      <td>NaN</td>\n      <td>NaN</td>\n      <td>NaN</td>\n      <td>NaN</td>\n      <td>NaN</td>\n      <td>NaN</td>\n      <td>NaN</td>\n      <td>06:00</td>\n    </tr>\n    <tr>\n      <th>1</th>\n      <td>2454</td>\n      <td>350</td>\n      <td>280</td>\n      <td>280</td>\n      <td>350</td>\n      <td>210</td>\n      <td>280</td>\n      <td>135.0</td>\n      <td>280.0</td>\n      <td>106.0</td>\n      <td>...</td>\n      <td>NaN</td>\n      <td>NaN</td>\n      <td>NaN</td>\n      <td>NaN</td>\n      <td>NaN</td>\n      <td>NaN</td>\n      <td>NaN</td>\n      <td>NaN</td>\n      <td>NaN</td>\n      <td>07:00</td>\n    </tr>\n    <tr>\n      <th>2</th>\n      <td>2176</td>\n      <td>230</td>\n      <td>182</td>\n      <td>245</td>\n      <td>337</td>\n      <td>196</td>\n      <td>272</td>\n      <td>337.0</td>\n      <td>168.0</td>\n      <td>266.0</td>\n      <td>...</td>\n      <td>-50.0</td>\n      <td>-32.0</td>\n      <td>-53.0</td>\n      <td>87.0</td>\n      <td>-15.0</td>\n      <td>-7.0</td>\n      <td>-5.0</td>\n      <td>NaN</td>\n      <td>NaN</td>\n      <td>08:00</td>\n    </tr>\n    <tr>\n      <th>3</th>\n      <td>-101</td>\n      <td>27</td>\n      <td>-37</td>\n      <td>184</td>\n      <td>299</td>\n      <td>156</td>\n      <td>256</td>\n      <td>318.0</td>\n      <td>-13.0</td>\n      <td>103.0</td>\n      <td>...</td>\n      <td>-135.0</td>\n      <td>-126.0</td>\n      <td>-167.0</td>\n      <td>419.0</td>\n      <td>-29.0</td>\n      <td>-22.0</td>\n      <td>-12.0</td>\n      <td>-4.0</td>\n      <td>NaN</td>\n      <td>09:00</td>\n    </tr>\n    <tr>\n      <th>4</th>\n      <td>-639</td>\n      <td>-103</td>\n      <td>-121</td>\n      <td>162</td>\n      <td>279</td>\n      <td>140</td>\n      <td>251</td>\n      <td>307.0</td>\n      <td>-95.0</td>\n      <td>29.0</td>\n      <td>...</td>\n      <td>-172.0</td>\n      <td>-159.0</td>\n      <td>-226.0</td>\n      <td>418.0</td>\n      <td>-30.0</td>\n      <td>-31.0</td>\n      <td>-15.0</td>\n      <td>-13.0</td>\n      <td>-1.0</td>\n      <td>10:00</td>\n    </tr>\n  </tbody>\n</table>\n<p>5 rows × 48 columns</p>\n</div>"
     },
     "metadata": {},
     "execution_count": 10
    }
   ],
   "source": [
    "df_stock.head()"
   ]
  },
  {
   "cell_type": "code",
   "execution_count": 11,
   "metadata": {},
   "outputs": [
    {
     "output_type": "execute_result",
     "data": {
      "text/plain": [
       "    time    variable   value\n",
       "0  06:00  stockTotal  1084.0\n",
       "1  07:00  stockTotal  2454.0\n",
       "2  08:00  stockTotal  2176.0\n",
       "3  09:00  stockTotal  -101.0\n",
       "4  10:00  stockTotal  -639.0"
      ],
      "text/html": "<div>\n<style scoped>\n    .dataframe tbody tr th:only-of-type {\n        vertical-align: middle;\n    }\n\n    .dataframe tbody tr th {\n        vertical-align: top;\n    }\n\n    .dataframe thead th {\n        text-align: right;\n    }\n</style>\n<table border=\"1\" class=\"dataframe\">\n  <thead>\n    <tr style=\"text-align: right;\">\n      <th></th>\n      <th>time</th>\n      <th>variable</th>\n      <th>value</th>\n    </tr>\n  </thead>\n  <tbody>\n    <tr>\n      <th>0</th>\n      <td>06:00</td>\n      <td>stockTotal</td>\n      <td>1084.0</td>\n    </tr>\n    <tr>\n      <th>1</th>\n      <td>07:00</td>\n      <td>stockTotal</td>\n      <td>2454.0</td>\n    </tr>\n    <tr>\n      <th>2</th>\n      <td>08:00</td>\n      <td>stockTotal</td>\n      <td>2176.0</td>\n    </tr>\n    <tr>\n      <th>3</th>\n      <td>09:00</td>\n      <td>stockTotal</td>\n      <td>-101.0</td>\n    </tr>\n    <tr>\n      <th>4</th>\n      <td>10:00</td>\n      <td>stockTotal</td>\n      <td>-639.0</td>\n    </tr>\n  </tbody>\n</table>\n</div>"
     },
     "metadata": {},
     "execution_count": 11
    }
   ],
   "source": [
    "df_stock = df_stock.melt(id_vars=['time'])\n",
    "df_stock.head()"
   ]
  },
  {
   "cell_type": "code",
   "execution_count": 12,
   "metadata": {},
   "outputs": [],
   "source": [
    "df_stock.to_csv('response_stock.csv', index = False)"
   ]
  },
  {
   "cell_type": "code",
   "execution_count": null,
   "metadata": {},
   "outputs": [],
   "source": []
  }
 ]
}