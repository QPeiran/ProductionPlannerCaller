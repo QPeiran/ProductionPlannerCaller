{
 "metadata": {
  "language_info": {
   "codemirror_mode": {
    "name": "ipython",
    "version": 3
   },
   "file_extension": ".py",
   "mimetype": "text/x-python",
   "name": "python",
   "nbconvert_exporter": "python",
   "pygments_lexer": "ipython3",
   "version": "3.8.6-final"
  },
  "orig_nbformat": 2,
  "kernelspec": {
   "name": "python3",
   "display_name": "Python 3"
  }
 },
 "nbformat": 4,
 "nbformat_minor": 2,
 "cells": [
  {
   "cell_type": "code",
   "execution_count": 1,
   "metadata": {},
   "outputs": [],
   "source": [
    "import pandas as pd\n",
    "import os, json\n",
    "template_input = {}\n"
   ]
  },
  {
   "cell_type": "code",
   "execution_count": 2,
   "metadata": {},
   "outputs": [],
   "source": [
    "with pd.ExcelFile('./template_input.xlsx') as xlsx:\n",
    "    template_input['stock'] = pd.read_excel(xlsx,'stock',index_col = 'Recipe',na_values='NA', skiprows=0)"
   ]
  },
  {
   "cell_type": "code",
   "execution_count": 3,
   "metadata": {},
   "outputs": [
    {
     "output_type": "execute_result",
     "data": {
      "text/plain": [
       "{'stock': {}}"
      ]
     },
     "metadata": {},
     "execution_count": 3
    }
   ],
   "source": [
    "stock = template_input['stock'].to_json()\n",
    "stock_dict = json.loads(stock)\n",
    "stock_dict"
   ]
  },
  {
   "cell_type": "code",
   "execution_count": 4,
   "metadata": {},
   "outputs": [],
   "source": [
    "with pd.ExcelFile('./template_input.xlsx') as xlsx:\n",
    "    template_input['lines'] = pd.read_excel(xlsx,'lines',index_col = 'Line',na_values='NA', skiprows=0)"
   ]
  },
  {
   "cell_type": "code",
   "execution_count": 5,
   "metadata": {},
   "outputs": [],
   "source": [
    "df_tp = template_input['lines'][['id','currentRecipe','Recipe 1','Recipe 2','Recipe 3','Recipe 4']]\n",
    "df_tp.insert(6, 'possibleRecipe', \"string_holder\")"
   ]
  },
  {
   "cell_type": "code",
   "execution_count": 6,
   "metadata": {
    "tags": []
   },
   "outputs": [],
   "source": [
    "i,j = 0,0 \n",
    "for i in range(0,20):\n",
    "    arr = []\n",
    "    for j in range(2,6):\n",
    "        val = df_tp.iloc[i,j]\n",
    "        if (type(val) == str):\n",
    "            # val_str = '\"\\{}\\\"'.format(val)\n",
    "            arr.append(val)\n",
    "    # new_arr = '[%s]' % ', '.join(map(str, arr))\n",
    "    # df_tp[\"possibleRecipeList\"][i] = new_arr\n",
    "    possibleRecipes = ';'.join(arr)\n",
    "    df_tp[\"possibleRecipe\"][i] = possibleRecipes"
   ]
  },
  {
   "cell_type": "code",
   "execution_count": 7,
   "metadata": {},
   "outputs": [
    {
     "output_type": "execute_result",
     "data": {
      "text/plain": [
       "         id currentRecipe Recipe 1 Recipe 2 Recipe 3 Recipe 4 possibleRecipe\n",
       "Line                                                                        \n",
       "Line 1    1            B4       B4       B2      NaN      NaN          B4;B2\n",
       "Line 2    2            D4       D4       D2      NaN      NaN          D4;D2\n",
       "Line 3    3            E4       E4       E2      NaN      NaN          E4;E2\n",
       "Line 4    4            F4       F4       F2      NaN      NaN          F4;F2\n",
       "Line 5    5            A4       A4       A2      NaN      NaN          A4;A2\n",
       "Line 6    6            C4       C4       C2      NaN      NaN          C4;C2\n",
       "Line 7    7            G4       G4       G2       SG      NaN       G4;G2;SG\n",
       "Line 8    8            H4       H4       H2      NaN      NaN          H4;H2\n",
       "Line 9    9            I4       I4       I2      NaN      NaN          I4;I2\n",
       "Line 10  10            R4       R4       R2      NaN      NaN          R4;R2\n",
       "Line 11  11            L4       L4       L2      NaN      NaN          L4;L2\n",
       "Line 12  12            K4       K4       K2      NaN      NaN          K4;K2\n",
       "Line 13  13            J4       J4       J2      NaN      NaN          J4;J2\n",
       "Line 14  14            M4       M4       M2      NaN      NaN          M4;M2\n",
       "Line 15  15            T4       T4       T2       SA      NaN       T4;T2;SA\n",
       "Line 16  16            P4       P4       P2       SE      NaN       P4;P2;SE\n",
       "Line 17  17            S4       S4       S2      NaN      NaN          S4;S2\n",
       "Line 18  18            Q4       Q4       Q2       SF      NaN       Q4;Q2;SF\n",
       "Line 19  19            O4       O4       O2       U4       U2    O4;O2;U4;U2\n",
       "Line 20  20            N4       N4       N2      NaN      NaN          N4;N2"
      ],
      "text/html": "<div>\n<style scoped>\n    .dataframe tbody tr th:only-of-type {\n        vertical-align: middle;\n    }\n\n    .dataframe tbody tr th {\n        vertical-align: top;\n    }\n\n    .dataframe thead th {\n        text-align: right;\n    }\n</style>\n<table border=\"1\" class=\"dataframe\">\n  <thead>\n    <tr style=\"text-align: right;\">\n      <th></th>\n      <th>id</th>\n      <th>currentRecipe</th>\n      <th>Recipe 1</th>\n      <th>Recipe 2</th>\n      <th>Recipe 3</th>\n      <th>Recipe 4</th>\n      <th>possibleRecipe</th>\n    </tr>\n    <tr>\n      <th>Line</th>\n      <th></th>\n      <th></th>\n      <th></th>\n      <th></th>\n      <th></th>\n      <th></th>\n      <th></th>\n    </tr>\n  </thead>\n  <tbody>\n    <tr>\n      <th>Line 1</th>\n      <td>1</td>\n      <td>B4</td>\n      <td>B4</td>\n      <td>B2</td>\n      <td>NaN</td>\n      <td>NaN</td>\n      <td>B4;B2</td>\n    </tr>\n    <tr>\n      <th>Line 2</th>\n      <td>2</td>\n      <td>D4</td>\n      <td>D4</td>\n      <td>D2</td>\n      <td>NaN</td>\n      <td>NaN</td>\n      <td>D4;D2</td>\n    </tr>\n    <tr>\n      <th>Line 3</th>\n      <td>3</td>\n      <td>E4</td>\n      <td>E4</td>\n      <td>E2</td>\n      <td>NaN</td>\n      <td>NaN</td>\n      <td>E4;E2</td>\n    </tr>\n    <tr>\n      <th>Line 4</th>\n      <td>4</td>\n      <td>F4</td>\n      <td>F4</td>\n      <td>F2</td>\n      <td>NaN</td>\n      <td>NaN</td>\n      <td>F4;F2</td>\n    </tr>\n    <tr>\n      <th>Line 5</th>\n      <td>5</td>\n      <td>A4</td>\n      <td>A4</td>\n      <td>A2</td>\n      <td>NaN</td>\n      <td>NaN</td>\n      <td>A4;A2</td>\n    </tr>\n    <tr>\n      <th>Line 6</th>\n      <td>6</td>\n      <td>C4</td>\n      <td>C4</td>\n      <td>C2</td>\n      <td>NaN</td>\n      <td>NaN</td>\n      <td>C4;C2</td>\n    </tr>\n    <tr>\n      <th>Line 7</th>\n      <td>7</td>\n      <td>G4</td>\n      <td>G4</td>\n      <td>G2</td>\n      <td>SG</td>\n      <td>NaN</td>\n      <td>G4;G2;SG</td>\n    </tr>\n    <tr>\n      <th>Line 8</th>\n      <td>8</td>\n      <td>H4</td>\n      <td>H4</td>\n      <td>H2</td>\n      <td>NaN</td>\n      <td>NaN</td>\n      <td>H4;H2</td>\n    </tr>\n    <tr>\n      <th>Line 9</th>\n      <td>9</td>\n      <td>I4</td>\n      <td>I4</td>\n      <td>I2</td>\n      <td>NaN</td>\n      <td>NaN</td>\n      <td>I4;I2</td>\n    </tr>\n    <tr>\n      <th>Line 10</th>\n      <td>10</td>\n      <td>R4</td>\n      <td>R4</td>\n      <td>R2</td>\n      <td>NaN</td>\n      <td>NaN</td>\n      <td>R4;R2</td>\n    </tr>\n    <tr>\n      <th>Line 11</th>\n      <td>11</td>\n      <td>L4</td>\n      <td>L4</td>\n      <td>L2</td>\n      <td>NaN</td>\n      <td>NaN</td>\n      <td>L4;L2</td>\n    </tr>\n    <tr>\n      <th>Line 12</th>\n      <td>12</td>\n      <td>K4</td>\n      <td>K4</td>\n      <td>K2</td>\n      <td>NaN</td>\n      <td>NaN</td>\n      <td>K4;K2</td>\n    </tr>\n    <tr>\n      <th>Line 13</th>\n      <td>13</td>\n      <td>J4</td>\n      <td>J4</td>\n      <td>J2</td>\n      <td>NaN</td>\n      <td>NaN</td>\n      <td>J4;J2</td>\n    </tr>\n    <tr>\n      <th>Line 14</th>\n      <td>14</td>\n      <td>M4</td>\n      <td>M4</td>\n      <td>M2</td>\n      <td>NaN</td>\n      <td>NaN</td>\n      <td>M4;M2</td>\n    </tr>\n    <tr>\n      <th>Line 15</th>\n      <td>15</td>\n      <td>T4</td>\n      <td>T4</td>\n      <td>T2</td>\n      <td>SA</td>\n      <td>NaN</td>\n      <td>T4;T2;SA</td>\n    </tr>\n    <tr>\n      <th>Line 16</th>\n      <td>16</td>\n      <td>P4</td>\n      <td>P4</td>\n      <td>P2</td>\n      <td>SE</td>\n      <td>NaN</td>\n      <td>P4;P2;SE</td>\n    </tr>\n    <tr>\n      <th>Line 17</th>\n      <td>17</td>\n      <td>S4</td>\n      <td>S4</td>\n      <td>S2</td>\n      <td>NaN</td>\n      <td>NaN</td>\n      <td>S4;S2</td>\n    </tr>\n    <tr>\n      <th>Line 18</th>\n      <td>18</td>\n      <td>Q4</td>\n      <td>Q4</td>\n      <td>Q2</td>\n      <td>SF</td>\n      <td>NaN</td>\n      <td>Q4;Q2;SF</td>\n    </tr>\n    <tr>\n      <th>Line 19</th>\n      <td>19</td>\n      <td>O4</td>\n      <td>O4</td>\n      <td>O2</td>\n      <td>U4</td>\n      <td>U2</td>\n      <td>O4;O2;U4;U2</td>\n    </tr>\n    <tr>\n      <th>Line 20</th>\n      <td>20</td>\n      <td>N4</td>\n      <td>N4</td>\n      <td>N2</td>\n      <td>NaN</td>\n      <td>NaN</td>\n      <td>N4;N2</td>\n    </tr>\n  </tbody>\n</table>\n</div>"
     },
     "metadata": {},
     "execution_count": 7
    }
   ],
   "source": [
    "df_tp"
   ]
  },
  {
   "cell_type": "code",
   "execution_count": 8,
   "metadata": {},
   "outputs": [
    {
     "output_type": "execute_result",
     "data": {
      "text/plain": [
       "{'lines': [{'id': 1, 'currentRecipe': 'B4', 'possibleRecipe': 'B4;B2'},\n",
       "  {'id': 2, 'currentRecipe': 'D4', 'possibleRecipe': 'D4;D2'},\n",
       "  {'id': 3, 'currentRecipe': 'E4', 'possibleRecipe': 'E4;E2'},\n",
       "  {'id': 4, 'currentRecipe': 'F4', 'possibleRecipe': 'F4;F2'},\n",
       "  {'id': 5, 'currentRecipe': 'A4', 'possibleRecipe': 'A4;A2'},\n",
       "  {'id': 6, 'currentRecipe': 'C4', 'possibleRecipe': 'C4;C2'},\n",
       "  {'id': 7, 'currentRecipe': 'G4', 'possibleRecipe': 'G4;G2;SG'},\n",
       "  {'id': 8, 'currentRecipe': 'H4', 'possibleRecipe': 'H4;H2'},\n",
       "  {'id': 9, 'currentRecipe': 'I4', 'possibleRecipe': 'I4;I2'},\n",
       "  {'id': 10, 'currentRecipe': 'R4', 'possibleRecipe': 'R4;R2'},\n",
       "  {'id': 11, 'currentRecipe': 'L4', 'possibleRecipe': 'L4;L2'},\n",
       "  {'id': 12, 'currentRecipe': 'K4', 'possibleRecipe': 'K4;K2'},\n",
       "  {'id': 13, 'currentRecipe': 'J4', 'possibleRecipe': 'J4;J2'},\n",
       "  {'id': 14, 'currentRecipe': 'M4', 'possibleRecipe': 'M4;M2'},\n",
       "  {'id': 15, 'currentRecipe': 'T4', 'possibleRecipe': 'T4;T2;SA'},\n",
       "  {'id': 16, 'currentRecipe': 'P4', 'possibleRecipe': 'P4;P2;SE'},\n",
       "  {'id': 17, 'currentRecipe': 'S4', 'possibleRecipe': 'S4;S2'},\n",
       "  {'id': 18, 'currentRecipe': 'Q4', 'possibleRecipe': 'Q4;Q2;SF'},\n",
       "  {'id': 19, 'currentRecipe': 'O4', 'possibleRecipe': 'O4;O2;U4;U2'},\n",
       "  {'id': 20, 'currentRecipe': 'N4', 'possibleRecipe': 'N4;N2'}]}"
      ]
     },
     "metadata": {},
     "execution_count": 8
    }
   ],
   "source": [
    "x = df_tp[['id', 'currentRecipe', 'possibleRecipe']].to_json(orient='records')\n",
    "lines_dict = {\n",
    "    \"lines\": json.loads(x)\n",
    "}\n",
    "lines_dict"
   ]
  },
  {
   "cell_type": "code",
   "execution_count": 9,
   "metadata": {},
   "outputs": [
    {
     "output_type": "execute_result",
     "data": {
      "text/plain": [
       "   id recipeName  mealKitPerCrate  targetSpeed  timestamp  isBlockedUntilTime\n",
       "0   1         A2                5          535        NaN                 NaN\n",
       "1  22         A4                4          424        NaN                 NaN\n",
       "2   2         B2                6          549        NaN                 NaN\n",
       "3  23         B4                5          484        NaN                 NaN\n",
       "4   3         C2                5          478        NaN                 NaN"
      ],
      "text/html": "<div>\n<style scoped>\n    .dataframe tbody tr th:only-of-type {\n        vertical-align: middle;\n    }\n\n    .dataframe tbody tr th {\n        vertical-align: top;\n    }\n\n    .dataframe thead th {\n        text-align: right;\n    }\n</style>\n<table border=\"1\" class=\"dataframe\">\n  <thead>\n    <tr style=\"text-align: right;\">\n      <th></th>\n      <th>id</th>\n      <th>recipeName</th>\n      <th>mealKitPerCrate</th>\n      <th>targetSpeed</th>\n      <th>timestamp</th>\n      <th>isBlockedUntilTime</th>\n    </tr>\n  </thead>\n  <tbody>\n    <tr>\n      <th>0</th>\n      <td>1</td>\n      <td>A2</td>\n      <td>5</td>\n      <td>535</td>\n      <td>NaN</td>\n      <td>NaN</td>\n    </tr>\n    <tr>\n      <th>1</th>\n      <td>22</td>\n      <td>A4</td>\n      <td>4</td>\n      <td>424</td>\n      <td>NaN</td>\n      <td>NaN</td>\n    </tr>\n    <tr>\n      <th>2</th>\n      <td>2</td>\n      <td>B2</td>\n      <td>6</td>\n      <td>549</td>\n      <td>NaN</td>\n      <td>NaN</td>\n    </tr>\n    <tr>\n      <th>3</th>\n      <td>23</td>\n      <td>B4</td>\n      <td>5</td>\n      <td>484</td>\n      <td>NaN</td>\n      <td>NaN</td>\n    </tr>\n    <tr>\n      <th>4</th>\n      <td>3</td>\n      <td>C2</td>\n      <td>5</td>\n      <td>478</td>\n      <td>NaN</td>\n      <td>NaN</td>\n    </tr>\n  </tbody>\n</table>\n</div>"
     },
     "metadata": {},
     "execution_count": 9
    }
   ],
   "source": [
    "with pd.ExcelFile('./template_input.xlsx') as xlsx:\n",
    "    template_input['recipeSettings'] = pd.read_excel(xlsx,'recipeSettings',na_values='NA', skiprows=0)\n",
    "template_input['recipeSettings'].head(5)"
   ]
  },
  {
   "cell_type": "code",
   "execution_count": 10,
   "metadata": {},
   "outputs": [
    {
     "output_type": "execute_result",
     "data": {
      "text/plain": [
       "{'recipeSettings': [{'id': 1,\n",
       "   'recipeName': 'A2',\n",
       "   'mealKitPerCrate': 5,\n",
       "   'targetSpeed': 535},\n",
       "  {'id': 22, 'recipeName': 'A4', 'mealKitPerCrate': 4, 'targetSpeed': 424},\n",
       "  {'id': 2, 'recipeName': 'B2', 'mealKitPerCrate': 6, 'targetSpeed': 549},\n",
       "  {'id': 23, 'recipeName': 'B4', 'mealKitPerCrate': 5, 'targetSpeed': 484},\n",
       "  {'id': 3, 'recipeName': 'C2', 'mealKitPerCrate': 5, 'targetSpeed': 478},\n",
       "  {'id': 24, 'recipeName': 'C4', 'mealKitPerCrate': 4, 'targetSpeed': 448},\n",
       "  {'id': 4, 'recipeName': 'D2', 'mealKitPerCrate': 5, 'targetSpeed': 574},\n",
       "  {'id': 25, 'recipeName': 'D4', 'mealKitPerCrate': 4, 'targetSpeed': 372},\n",
       "  {'id': 5, 'recipeName': 'E2', 'mealKitPerCrate': 6, 'targetSpeed': 721},\n",
       "  {'id': 26, 'recipeName': 'E4', 'mealKitPerCrate': 5, 'targetSpeed': 441},\n",
       "  {'id': 6, 'recipeName': 'F2', 'mealKitPerCrate': 6, 'targetSpeed': 603},\n",
       "  {'id': 27, 'recipeName': 'F4', 'mealKitPerCrate': 5, 'targetSpeed': 522},\n",
       "  {'id': 7, 'recipeName': 'G2', 'mealKitPerCrate': 4, 'targetSpeed': 424},\n",
       "  {'id': 28, 'recipeName': 'G4', 'mealKitPerCrate': 3, 'targetSpeed': 349},\n",
       "  {'id': 8, 'recipeName': 'H2', 'mealKitPerCrate': 5, 'targetSpeed': 569},\n",
       "  {'id': 29, 'recipeName': 'H4', 'mealKitPerCrate': 4, 'targetSpeed': 465},\n",
       "  {'id': 9, 'recipeName': 'I2', 'mealKitPerCrate': 5, 'targetSpeed': 519},\n",
       "  {'id': 30, 'recipeName': 'I4', 'mealKitPerCrate': 4, 'targetSpeed': 421},\n",
       "  {'id': 10, 'recipeName': 'J2', 'mealKitPerCrate': 6, 'targetSpeed': 576},\n",
       "  {'id': 31, 'recipeName': 'J4', 'mealKitPerCrate': 5, 'targetSpeed': 437},\n",
       "  {'id': 11, 'recipeName': 'K2', 'mealKitPerCrate': 6, 'targetSpeed': 515},\n",
       "  {'id': 32, 'recipeName': 'K4', 'mealKitPerCrate': 4, 'targetSpeed': 279},\n",
       "  {'id': 12, 'recipeName': 'L2', 'mealKitPerCrate': 6, 'targetSpeed': 426},\n",
       "  {'id': 33, 'recipeName': 'L4', 'mealKitPerCrate': 5, 'targetSpeed': 478},\n",
       "  {'id': 13, 'recipeName': 'M2', 'mealKitPerCrate': 6, 'targetSpeed': 617},\n",
       "  {'id': 34, 'recipeName': 'M4', 'mealKitPerCrate': 5, 'targetSpeed': 433},\n",
       "  {'id': 14, 'recipeName': 'N2', 'mealKitPerCrate': 7, 'targetSpeed': 532},\n",
       "  {'id': 35, 'recipeName': 'N4', 'mealKitPerCrate': 6, 'targetSpeed': 440},\n",
       "  {'id': 15, 'recipeName': 'O2', 'mealKitPerCrate': 5, 'targetSpeed': 579},\n",
       "  {'id': 36, 'recipeName': 'O4', 'mealKitPerCrate': 4, 'targetSpeed': 294},\n",
       "  {'id': 16, 'recipeName': 'P2', 'mealKitPerCrate': 4, 'targetSpeed': 400},\n",
       "  {'id': 37, 'recipeName': 'P4', 'mealKitPerCrate': 3, 'targetSpeed': 279},\n",
       "  {'id': 17, 'recipeName': 'Q2', 'mealKitPerCrate': 5, 'targetSpeed': 556},\n",
       "  {'id': 38, 'recipeName': 'Q4', 'mealKitPerCrate': 4, 'targetSpeed': 314},\n",
       "  {'id': 18, 'recipeName': 'R2', 'mealKitPerCrate': 5, 'targetSpeed': 483},\n",
       "  {'id': 39, 'recipeName': 'R4', 'mealKitPerCrate': 4, 'targetSpeed': 379},\n",
       "  {'id': 19, 'recipeName': 'S2', 'mealKitPerCrate': 5, 'targetSpeed': 532},\n",
       "  {'id': 40, 'recipeName': 'S4', 'mealKitPerCrate': 4, 'targetSpeed': 352},\n",
       "  {'id': 43, 'recipeName': 'SA', 'mealKitPerCrate': 4, 'targetSpeed': 380},\n",
       "  {'id': 44, 'recipeName': 'SE', 'mealKitPerCrate': 8, 'targetSpeed': 453},\n",
       "  {'id': 45, 'recipeName': 'SF', 'mealKitPerCrate': 8, 'targetSpeed': 1159},\n",
       "  {'id': 46, 'recipeName': 'SG', 'mealKitPerCrate': 6, 'targetSpeed': 529},\n",
       "  {'id': 20, 'recipeName': 'T2', 'mealKitPerCrate': 4, 'targetSpeed': 363},\n",
       "  {'id': 41, 'recipeName': 'T4', 'mealKitPerCrate': 3, 'targetSpeed': 215},\n",
       "  {'id': 21, 'recipeName': 'U2', 'mealKitPerCrate': 6, 'targetSpeed': 640},\n",
       "  {'id': 42, 'recipeName': 'U4', 'mealKitPerCrate': 5, 'targetSpeed': 391}]}"
      ]
     },
     "metadata": {},
     "execution_count": 10
    }
   ],
   "source": [
    "y = template_input['recipeSettings'][['id', 'recipeName', 'mealKitPerCrate', 'targetSpeed']].to_json(orient='records')\n",
    "y = json.loads(y)\n",
    "recipeSettings_dict = {\n",
    "    \"recipeSettings\" : y\n",
    "}\n",
    "recipeSettings_dict"
   ]
  },
  {
   "cell_type": "code",
   "execution_count": 11,
   "metadata": {},
   "outputs": [],
   "source": [
    "with pd.ExcelFile('./template_input.xlsx') as xlsx:\n",
    "    template_input['teams'] = pd.read_excel(xlsx,'teams',na_values='NA', skiprows=0)\n",
    "df_teams = template_input['teams'][['_teamLeader', 'id', 'availableTime_Start', 'availableTime_End']]\n",
    "json_dump = df_teams.to_json(orient = 'records') # json dump string"
   ]
  },
  {
   "cell_type": "code",
   "execution_count": 12,
   "metadata": {},
   "outputs": [
    {
     "output_type": "execute_result",
     "data": {
      "text/plain": [
       "[{'_teamLeader': 'Team 1',\n",
       "  'id': 1,\n",
       "  'availableTime_Start': 6,\n",
       "  'availableTime_End': 14},\n",
       " {'_teamLeader': 'Team 2',\n",
       "  'id': 2,\n",
       "  'availableTime_Start': 6,\n",
       "  'availableTime_End': 14},\n",
       " {'_teamLeader': 'Team 3',\n",
       "  'id': 3,\n",
       "  'availableTime_Start': 6,\n",
       "  'availableTime_End': 14},\n",
       " {'_teamLeader': 'Team 4',\n",
       "  'id': 4,\n",
       "  'availableTime_Start': 6,\n",
       "  'availableTime_End': 14},\n",
       " {'_teamLeader': 'Team 5',\n",
       "  'id': 5,\n",
       "  'availableTime_Start': 6,\n",
       "  'availableTime_End': 14},\n",
       " {'_teamLeader': 'Team 6',\n",
       "  'id': 6,\n",
       "  'availableTime_Start': 6,\n",
       "  'availableTime_End': 14},\n",
       " {'_teamLeader': 'Team 7',\n",
       "  'id': 7,\n",
       "  'availableTime_Start': 6,\n",
       "  'availableTime_End': 14},\n",
       " {'_teamLeader': 'Team 8',\n",
       "  'id': 8,\n",
       "  'availableTime_Start': 6,\n",
       "  'availableTime_End': 14},\n",
       " {'_teamLeader': 'Team 9',\n",
       "  'id': 9,\n",
       "  'availableTime_Start': 6,\n",
       "  'availableTime_End': 14},\n",
       " {'_teamLeader': 'Team 10',\n",
       "  'id': 10,\n",
       "  'availableTime_Start': 6,\n",
       "  'availableTime_End': 8},\n",
       " {'_teamLeader': 'Team 11',\n",
       "  'id': 11,\n",
       "  'availableTime_Start': 6,\n",
       "  'availableTime_End': 8},\n",
       " {'_teamLeader': 'Team 12',\n",
       "  'id': 12,\n",
       "  'availableTime_Start': 6,\n",
       "  'availableTime_End': 8},\n",
       " {'_teamLeader': 'Team 13',\n",
       "  'id': 13,\n",
       "  'availableTime_Start': 6,\n",
       "  'availableTime_End': 8},\n",
       " {'_teamLeader': 'Team 14',\n",
       "  'id': 14,\n",
       "  'availableTime_Start': 6,\n",
       "  'availableTime_End': 8},\n",
       " {'_teamLeader': 'Team 15',\n",
       "  'id': 15,\n",
       "  'availableTime_Start': 6,\n",
       "  'availableTime_End': 8},\n",
       " {'_teamLeader': 'Team 16',\n",
       "  'id': 16,\n",
       "  'availableTime_Start': 6,\n",
       "  'availableTime_End': 8},\n",
       " {'_teamLeader': 'Team 17',\n",
       "  'id': 17,\n",
       "  'availableTime_Start': 6,\n",
       "  'availableTime_End': 8},\n",
       " {'_teamLeader': 'Team 18',\n",
       "  'id': 18,\n",
       "  'availableTime_Start': 6,\n",
       "  'availableTime_End': 8},\n",
       " {'_teamLeader': 'Team 19',\n",
       "  'id': 19,\n",
       "  'availableTime_Start': 6,\n",
       "  'availableTime_End': 9},\n",
       " {'_teamLeader': 'Team 20',\n",
       "  'id': 20,\n",
       "  'availableTime_Start': 6,\n",
       "  'availableTime_End': 9},\n",
       " {'_teamLeader': 'Team 20',\n",
       "  'id': 21,\n",
       "  'availableTime_Start': 12,\n",
       "  'availableTime_End': 13}]"
      ]
     },
     "metadata": {},
     "execution_count": 12
    }
   ],
   "source": [
    "json_dict = json.loads(json_dump)\n",
    "json_dict"
   ]
  },
  {
   "cell_type": "code",
   "execution_count": 13,
   "metadata": {},
   "outputs": [],
   "source": [
    "teams_arr = []\n",
    "for element in json_dict:\n",
    "    this_dict = {\n",
    "        \"_teamLeader\" : element[\"_teamLeader\"],\n",
    "        \"id\" : element[\"id\"],\n",
    "        \"availableTime\" : [\n",
    "            {\n",
    "                \"startInHour\" : element['availableTime_Start'],\n",
    "                \"endInHour\" : element['availableTime_End']\n",
    "            }\n",
    "        ]\n",
    "    }\n",
    "    # print(json.dumps(this_dict))\n",
    "    teams_arr.append(this_dict)"
   ]
  },
  {
   "cell_type": "code",
   "execution_count": 14,
   "metadata": {},
   "outputs": [
    {
     "output_type": "execute_result",
     "data": {
      "text/plain": [
       "{'teams': [{'_teamLeader': 'Team 1',\n",
       "   'id': 1,\n",
       "   'availableTime': [{'startInHour': 6, 'endInHour': 14}]},\n",
       "  {'_teamLeader': 'Team 2',\n",
       "   'id': 2,\n",
       "   'availableTime': [{'startInHour': 6, 'endInHour': 14}]},\n",
       "  {'_teamLeader': 'Team 3',\n",
       "   'id': 3,\n",
       "   'availableTime': [{'startInHour': 6, 'endInHour': 14}]},\n",
       "  {'_teamLeader': 'Team 4',\n",
       "   'id': 4,\n",
       "   'availableTime': [{'startInHour': 6, 'endInHour': 14}]},\n",
       "  {'_teamLeader': 'Team 5',\n",
       "   'id': 5,\n",
       "   'availableTime': [{'startInHour': 6, 'endInHour': 14}]},\n",
       "  {'_teamLeader': 'Team 6',\n",
       "   'id': 6,\n",
       "   'availableTime': [{'startInHour': 6, 'endInHour': 14}]},\n",
       "  {'_teamLeader': 'Team 7',\n",
       "   'id': 7,\n",
       "   'availableTime': [{'startInHour': 6, 'endInHour': 14}]},\n",
       "  {'_teamLeader': 'Team 8',\n",
       "   'id': 8,\n",
       "   'availableTime': [{'startInHour': 6, 'endInHour': 14}]},\n",
       "  {'_teamLeader': 'Team 9',\n",
       "   'id': 9,\n",
       "   'availableTime': [{'startInHour': 6, 'endInHour': 14}]},\n",
       "  {'_teamLeader': 'Team 10',\n",
       "   'id': 10,\n",
       "   'availableTime': [{'startInHour': 6, 'endInHour': 8}]},\n",
       "  {'_teamLeader': 'Team 11',\n",
       "   'id': 11,\n",
       "   'availableTime': [{'startInHour': 6, 'endInHour': 8}]},\n",
       "  {'_teamLeader': 'Team 12',\n",
       "   'id': 12,\n",
       "   'availableTime': [{'startInHour': 6, 'endInHour': 8}]},\n",
       "  {'_teamLeader': 'Team 13',\n",
       "   'id': 13,\n",
       "   'availableTime': [{'startInHour': 6, 'endInHour': 8}]},\n",
       "  {'_teamLeader': 'Team 14',\n",
       "   'id': 14,\n",
       "   'availableTime': [{'startInHour': 6, 'endInHour': 8}]},\n",
       "  {'_teamLeader': 'Team 15',\n",
       "   'id': 15,\n",
       "   'availableTime': [{'startInHour': 6, 'endInHour': 8}]},\n",
       "  {'_teamLeader': 'Team 16',\n",
       "   'id': 16,\n",
       "   'availableTime': [{'startInHour': 6, 'endInHour': 8}]},\n",
       "  {'_teamLeader': 'Team 17',\n",
       "   'id': 17,\n",
       "   'availableTime': [{'startInHour': 6, 'endInHour': 8}]},\n",
       "  {'_teamLeader': 'Team 18',\n",
       "   'id': 18,\n",
       "   'availableTime': [{'startInHour': 6, 'endInHour': 8}]},\n",
       "  {'_teamLeader': 'Team 19',\n",
       "   'id': 19,\n",
       "   'availableTime': [{'startInHour': 6, 'endInHour': 9}]},\n",
       "  {'_teamLeader': 'Team 20',\n",
       "   'id': 20,\n",
       "   'availableTime': [{'startInHour': 6, 'endInHour': 9}]},\n",
       "  {'_teamLeader': 'Team 20',\n",
       "   'id': 21,\n",
       "   'availableTime': [{'startInHour': 12, 'endInHour': 13}]}]}"
      ]
     },
     "metadata": {},
     "execution_count": 14
    }
   ],
   "source": [
    "teams_dict = {\n",
    "    \"teams\" : teams_arr\n",
    "} \n",
    "teams_dict"
   ]
  },
  {
   "cell_type": "code",
   "execution_count": 15,
   "metadata": {},
   "outputs": [],
   "source": [
    "planningTime_dict = {\n",
    "    \"planningTime\": \"2020-11-12T00:00:00\"\n",
    "}"
   ]
  },
  {
   "cell_type": "code",
   "execution_count": 16,
   "metadata": {},
   "outputs": [],
   "source": [
    "template = {}\n",
    "template.update(stock_dict)\n",
    "template.update(lines_dict)\n",
    "template.update(recipeSettings_dict)\n",
    "template.update(teams_dict)\n",
    "template.update(planningTime_dict)"
   ]
  },
  {
   "cell_type": "code",
   "execution_count": 17,
   "metadata": {},
   "outputs": [
    {
     "output_type": "execute_result",
     "data": {
      "text/plain": [
       "'{\"stock\": {}, \"lines\": [{\"id\": 1, \"currentRecipe\": \"B4\", \"possibleRecipe\": \"B4;B2\"}, {\"id\": 2, \"currentRecipe\": \"D4\", \"possibleRecipe\": \"D4;D2\"}, {\"id\": 3, \"currentRecipe\": \"E4\", \"possibleRecipe\": \"E4;E2\"}, {\"id\": 4, \"currentRecipe\": \"F4\", \"possibleRecipe\": \"F4;F2\"}, {\"id\": 5, \"currentRecipe\": \"A4\", \"possibleRecipe\": \"A4;A2\"}, {\"id\": 6, \"currentRecipe\": \"C4\", \"possibleRecipe\": \"C4;C2\"}, {\"id\": 7, \"currentRecipe\": \"G4\", \"possibleRecipe\": \"G4;G2;SG\"}, {\"id\": 8, \"currentRecipe\": \"H4\", \"possibleRecipe\": \"H4;H2\"}, {\"id\": 9, \"currentRecipe\": \"I4\", \"possibleRecipe\": \"I4;I2\"}, {\"id\": 10, \"currentRecipe\": \"R4\", \"possibleRecipe\": \"R4;R2\"}, {\"id\": 11, \"currentRecipe\": \"L4\", \"possibleRecipe\": \"L4;L2\"}, {\"id\": 12, \"currentRecipe\": \"K4\", \"possibleRecipe\": \"K4;K2\"}, {\"id\": 13, \"currentRecipe\": \"J4\", \"possibleRecipe\": \"J4;J2\"}, {\"id\": 14, \"currentRecipe\": \"M4\", \"possibleRecipe\": \"M4;M2\"}, {\"id\": 15, \"currentRecipe\": \"T4\", \"possibleRecipe\": \"T4;T2;SA\"}, {\"id\": 16, \"currentRecipe\": \"P4\", \"possibleRecipe\": \"P4;P2;SE\"}, {\"id\": 17, \"currentRecipe\": \"S4\", \"possibleRecipe\": \"S4;S2\"}, {\"id\": 18, \"currentRecipe\": \"Q4\", \"possibleRecipe\": \"Q4;Q2;SF\"}, {\"id\": 19, \"currentRecipe\": \"O4\", \"possibleRecipe\": \"O4;O2;U4;U2\"}, {\"id\": 20, \"currentRecipe\": \"N4\", \"possibleRecipe\": \"N4;N2\"}], \"recipeSettings\": [{\"id\": 1, \"recipeName\": \"A2\", \"mealKitPerCrate\": 5, \"targetSpeed\": 535}, {\"id\": 22, \"recipeName\": \"A4\", \"mealKitPerCrate\": 4, \"targetSpeed\": 424}, {\"id\": 2, \"recipeName\": \"B2\", \"mealKitPerCrate\": 6, \"targetSpeed\": 549}, {\"id\": 23, \"recipeName\": \"B4\", \"mealKitPerCrate\": 5, \"targetSpeed\": 484}, {\"id\": 3, \"recipeName\": \"C2\", \"mealKitPerCrate\": 5, \"targetSpeed\": 478}, {\"id\": 24, \"recipeName\": \"C4\", \"mealKitPerCrate\": 4, \"targetSpeed\": 448}, {\"id\": 4, \"recipeName\": \"D2\", \"mealKitPerCrate\": 5, \"targetSpeed\": 574}, {\"id\": 25, \"recipeName\": \"D4\", \"mealKitPerCrate\": 4, \"targetSpeed\": 372}, {\"id\": 5, \"recipeName\": \"E2\", \"mealKitPerCrate\": 6, \"targetSpeed\": 721}, {\"id\": 26, \"recipeName\": \"E4\", \"mealKitPerCrate\": 5, \"targetSpeed\": 441}, {\"id\": 6, \"recipeName\": \"F2\", \"mealKitPerCrate\": 6, \"targetSpeed\": 603}, {\"id\": 27, \"recipeName\": \"F4\", \"mealKitPerCrate\": 5, \"targetSpeed\": 522}, {\"id\": 7, \"recipeName\": \"G2\", \"mealKitPerCrate\": 4, \"targetSpeed\": 424}, {\"id\": 28, \"recipeName\": \"G4\", \"mealKitPerCrate\": 3, \"targetSpeed\": 349}, {\"id\": 8, \"recipeName\": \"H2\", \"mealKitPerCrate\": 5, \"targetSpeed\": 569}, {\"id\": 29, \"recipeName\": \"H4\", \"mealKitPerCrate\": 4, \"targetSpeed\": 465}, {\"id\": 9, \"recipeName\": \"I2\", \"mealKitPerCrate\": 5, \"targetSpeed\": 519}, {\"id\": 30, \"recipeName\": \"I4\", \"mealKitPerCrate\": 4, \"targetSpeed\": 421}, {\"id\": 10, \"recipeName\": \"J2\", \"mealKitPerCrate\": 6, \"targetSpeed\": 576}, {\"id\": 31, \"recipeName\": \"J4\", \"mealKitPerCrate\": 5, \"targetSpeed\": 437}, {\"id\": 11, \"recipeName\": \"K2\", \"mealKitPerCrate\": 6, \"targetSpeed\": 515}, {\"id\": 32, \"recipeName\": \"K4\", \"mealKitPerCrate\": 4, \"targetSpeed\": 279}, {\"id\": 12, \"recipeName\": \"L2\", \"mealKitPerCrate\": 6, \"targetSpeed\": 426}, {\"id\": 33, \"recipeName\": \"L4\", \"mealKitPerCrate\": 5, \"targetSpeed\": 478}, {\"id\": 13, \"recipeName\": \"M2\", \"mealKitPerCrate\": 6, \"targetSpeed\": 617}, {\"id\": 34, \"recipeName\": \"M4\", \"mealKitPerCrate\": 5, \"targetSpeed\": 433}, {\"id\": 14, \"recipeName\": \"N2\", \"mealKitPerCrate\": 7, \"targetSpeed\": 532}, {\"id\": 35, \"recipeName\": \"N4\", \"mealKitPerCrate\": 6, \"targetSpeed\": 440}, {\"id\": 15, \"recipeName\": \"O2\", \"mealKitPerCrate\": 5, \"targetSpeed\": 579}, {\"id\": 36, \"recipeName\": \"O4\", \"mealKitPerCrate\": 4, \"targetSpeed\": 294}, {\"id\": 16, \"recipeName\": \"P2\", \"mealKitPerCrate\": 4, \"targetSpeed\": 400}, {\"id\": 37, \"recipeName\": \"P4\", \"mealKitPerCrate\": 3, \"targetSpeed\": 279}, {\"id\": 17, \"recipeName\": \"Q2\", \"mealKitPerCrate\": 5, \"targetSpeed\": 556}, {\"id\": 38, \"recipeName\": \"Q4\", \"mealKitPerCrate\": 4, \"targetSpeed\": 314}, {\"id\": 18, \"recipeName\": \"R2\", \"mealKitPerCrate\": 5, \"targetSpeed\": 483}, {\"id\": 39, \"recipeName\": \"R4\", \"mealKitPerCrate\": 4, \"targetSpeed\": 379}, {\"id\": 19, \"recipeName\": \"S2\", \"mealKitPerCrate\": 5, \"targetSpeed\": 532}, {\"id\": 40, \"recipeName\": \"S4\", \"mealKitPerCrate\": 4, \"targetSpeed\": 352}, {\"id\": 43, \"recipeName\": \"SA\", \"mealKitPerCrate\": 4, \"targetSpeed\": 380}, {\"id\": 44, \"recipeName\": \"SE\", \"mealKitPerCrate\": 8, \"targetSpeed\": 453}, {\"id\": 45, \"recipeName\": \"SF\", \"mealKitPerCrate\": 8, \"targetSpeed\": 1159}, {\"id\": 46, \"recipeName\": \"SG\", \"mealKitPerCrate\": 6, \"targetSpeed\": 529}, {\"id\": 20, \"recipeName\": \"T2\", \"mealKitPerCrate\": 4, \"targetSpeed\": 363}, {\"id\": 41, \"recipeName\": \"T4\", \"mealKitPerCrate\": 3, \"targetSpeed\": 215}, {\"id\": 21, \"recipeName\": \"U2\", \"mealKitPerCrate\": 6, \"targetSpeed\": 640}, {\"id\": 42, \"recipeName\": \"U4\", \"mealKitPerCrate\": 5, \"targetSpeed\": 391}], \"teams\": [{\"_teamLeader\": \"Team 1\", \"id\": 1, \"availableTime\": [{\"startInHour\": 6, \"endInHour\": 14}]}, {\"_teamLeader\": \"Team 2\", \"id\": 2, \"availableTime\": [{\"startInHour\": 6, \"endInHour\": 14}]}, {\"_teamLeader\": \"Team 3\", \"id\": 3, \"availableTime\": [{\"startInHour\": 6, \"endInHour\": 14}]}, {\"_teamLeader\": \"Team 4\", \"id\": 4, \"availableTime\": [{\"startInHour\": 6, \"endInHour\": 14}]}, {\"_teamLeader\": \"Team 5\", \"id\": 5, \"availableTime\": [{\"startInHour\": 6, \"endInHour\": 14}]}, {\"_teamLeader\": \"Team 6\", \"id\": 6, \"availableTime\": [{\"startInHour\": 6, \"endInHour\": 14}]}, {\"_teamLeader\": \"Team 7\", \"id\": 7, \"availableTime\": [{\"startInHour\": 6, \"endInHour\": 14}]}, {\"_teamLeader\": \"Team 8\", \"id\": 8, \"availableTime\": [{\"startInHour\": 6, \"endInHour\": 14}]}, {\"_teamLeader\": \"Team 9\", \"id\": 9, \"availableTime\": [{\"startInHour\": 6, \"endInHour\": 14}]}, {\"_teamLeader\": \"Team 10\", \"id\": 10, \"availableTime\": [{\"startInHour\": 6, \"endInHour\": 8}]}, {\"_teamLeader\": \"Team 11\", \"id\": 11, \"availableTime\": [{\"startInHour\": 6, \"endInHour\": 8}]}, {\"_teamLeader\": \"Team 12\", \"id\": 12, \"availableTime\": [{\"startInHour\": 6, \"endInHour\": 8}]}, {\"_teamLeader\": \"Team 13\", \"id\": 13, \"availableTime\": [{\"startInHour\": 6, \"endInHour\": 8}]}, {\"_teamLeader\": \"Team 14\", \"id\": 14, \"availableTime\": [{\"startInHour\": 6, \"endInHour\": 8}]}, {\"_teamLeader\": \"Team 15\", \"id\": 15, \"availableTime\": [{\"startInHour\": 6, \"endInHour\": 8}]}, {\"_teamLeader\": \"Team 16\", \"id\": 16, \"availableTime\": [{\"startInHour\": 6, \"endInHour\": 8}]}, {\"_teamLeader\": \"Team 17\", \"id\": 17, \"availableTime\": [{\"startInHour\": 6, \"endInHour\": 8}]}, {\"_teamLeader\": \"Team 18\", \"id\": 18, \"availableTime\": [{\"startInHour\": 6, \"endInHour\": 8}]}, {\"_teamLeader\": \"Team 19\", \"id\": 19, \"availableTime\": [{\"startInHour\": 6, \"endInHour\": 9}]}, {\"_teamLeader\": \"Team 20\", \"id\": 20, \"availableTime\": [{\"startInHour\": 6, \"endInHour\": 9}]}, {\"_teamLeader\": \"Team 20\", \"id\": 21, \"availableTime\": [{\"startInHour\": 12, \"endInHour\": 13}]}], \"planningTime\": \"2020-11-12T00:00:00\"}'"
      ]
     },
     "metadata": {},
     "execution_count": 17
    }
   ],
   "source": [
    "json.dumps(template)"
   ]
  },
  {
   "cell_type": "code",
   "execution_count": 18,
   "metadata": {},
   "outputs": [],
   "source": [
    "with open('API_post_v1.0.json', 'w') as json_file:\n",
    "  json.dump(template, json_file)"
   ]
  }
 ]
}