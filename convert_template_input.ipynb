{
 "metadata": {
  "language_info": {
   "codemirror_mode": {
    "name": "ipython",
    "version": 3
   },
   "file_extension": ".py",
   "mimetype": "text/x-python",
   "name": "python",
   "nbconvert_exporter": "python",
   "pygments_lexer": "ipython3",
   "version": "3.8.6-final"
  },
  "orig_nbformat": 2,
  "kernelspec": {
   "name": "python3",
   "display_name": "Python 3"
  }
 },
 "nbformat": 4,
 "nbformat_minor": 2,
 "cells": [
  {
   "cell_type": "code",
   "execution_count": 1,
   "metadata": {},
   "outputs": [],
   "source": [
    "import pandas as pd\n",
    "import os\n",
    "template_input = {}\n"
   ]
  },
  {
   "cell_type": "code",
   "execution_count": 2,
   "metadata": {},
   "outputs": [],
   "source": [
    "with pd.ExcelFile('./template_input.xlsx') as xlsx:\n",
    "    template_input['stock'] = pd.read_excel(xlsx,'stock',index_col = 'Recipe',na_values='NA', skiprows=0)"
   ]
  },
  {
   "cell_type": "code",
   "execution_count": 3,
   "metadata": {},
   "outputs": [
    {
     "output_type": "execute_result",
     "data": {
      "text/plain": [
       "'{\"stock\":{\"A2\":100,\"A4\":200,\"B2\":300,\"C4\":400}}'"
      ]
     },
     "metadata": {},
     "execution_count": 3
    }
   ],
   "source": [
    "stock = template_input['stock'].to_json()\n",
    "stock"
   ]
  },
  {
   "cell_type": "code",
   "execution_count": 4,
   "metadata": {},
   "outputs": [],
   "source": [
    "with pd.ExcelFile('./template_input.xlsx') as xlsx:\n",
    "    template_input['lines'] = pd.read_excel(xlsx,'lines',index_col = 'Line',na_values='NA', skiprows=0)"
   ]
  },
  {
   "cell_type": "code",
   "execution_count": 5,
   "metadata": {},
   "outputs": [],
   "source": [
    "df_tp = template_input['lines'][['id','currentRecipe','Recipe 1','Recipe 2','Recipe 3','Recipe 4']]\n",
    "df_tp.insert(6, 'possibleRecipeList', \"string_holder\")"
   ]
  },
  {
   "cell_type": "code",
   "execution_count": 6,
   "metadata": {
    "tags": []
   },
   "outputs": [],
   "source": [
    "i,j = 0,0 \n",
    "for i in range(0,20):\n",
    "    arr = []\n",
    "    for j in range(2,6):\n",
    "        val = df_tp.iloc[i,j]\n",
    "        if (type(val) == str):\n",
    "            # val_str = '\"\\{}\\\"'.format(val)\n",
    "            arr.append(val)\n",
    "    # new_arr = '[%s]' % ', '.join(map(str, arr))\n",
    "    # df_tp[\"possibleRecipeList\"][i] = new_arr\n",
    "    df_tp[\"possibleRecipeList\"][i] = arr"
   ]
  },
  {
   "cell_type": "code",
   "execution_count": 7,
   "metadata": {},
   "outputs": [
    {
     "output_type": "execute_result",
     "data": {
      "text/plain": [
       "         id currentRecipe Recipe 1 Recipe 2 Recipe 3 Recipe 4  \\\n",
       "Line                                                            \n",
       "Line 1    1            K4       K4       K2      NaN      NaN   \n",
       "Line 2    2            A4       A4       A2      NaN      NaN   \n",
       "Line 3    3            B4       B4       B2      NaN      NaN   \n",
       "Line 4    4            C4       C4       C2      NaN      NaN   \n",
       "Line 5    5            D4       D4       D2      NaN      NaN   \n",
       "Line 6    6            J4       J4       J2       U4       U2   \n",
       "Line 7    7            E4       E4       E2      NaN      NaN   \n",
       "Line 8    8            F4       F4       F2      NaN      NaN   \n",
       "Line 9    9            H4       H4       H2       SE      NaN   \n",
       "Line 10  10            T4       T4       T2      NaN      NaN   \n",
       "Line 11  11            M4       M4       M2      NaN      NaN   \n",
       "Line 12  12            I4       I4       I2      NaN      NaN   \n",
       "Line 13  13            L4       L4       L2      NaN      NaN   \n",
       "Line 14  14            R4       R4       R2      NaN      NaN   \n",
       "Line 15  15            G4       G4       G2       SF      NaN   \n",
       "Line 16  16            P4       P4       P2       SA      NaN   \n",
       "Line 17  17            S4       S4       S2      NaN      NaN   \n",
       "Line 18  18            O4       O4       O2      NaN      NaN   \n",
       "Line 19  19            Q4       Q4       Q2      NaN      NaN   \n",
       "Line 20  20            N4       N4       N2       SG      NaN   \n",
       "\n",
       "        possibleRecipeList  \n",
       "Line                        \n",
       "Line 1            [K4, K2]  \n",
       "Line 2            [A4, A2]  \n",
       "Line 3            [B4, B2]  \n",
       "Line 4            [C4, C2]  \n",
       "Line 5            [D4, D2]  \n",
       "Line 6    [J4, J2, U4, U2]  \n",
       "Line 7            [E4, E2]  \n",
       "Line 8            [F4, F2]  \n",
       "Line 9        [H4, H2, SE]  \n",
       "Line 10           [T4, T2]  \n",
       "Line 11           [M4, M2]  \n",
       "Line 12           [I4, I2]  \n",
       "Line 13           [L4, L2]  \n",
       "Line 14           [R4, R2]  \n",
       "Line 15       [G4, G2, SF]  \n",
       "Line 16       [P4, P2, SA]  \n",
       "Line 17           [S4, S2]  \n",
       "Line 18           [O4, O2]  \n",
       "Line 19           [Q4, Q2]  \n",
       "Line 20       [N4, N2, SG]  "
      ],
      "text/html": "<div>\n<style scoped>\n    .dataframe tbody tr th:only-of-type {\n        vertical-align: middle;\n    }\n\n    .dataframe tbody tr th {\n        vertical-align: top;\n    }\n\n    .dataframe thead th {\n        text-align: right;\n    }\n</style>\n<table border=\"1\" class=\"dataframe\">\n  <thead>\n    <tr style=\"text-align: right;\">\n      <th></th>\n      <th>id</th>\n      <th>currentRecipe</th>\n      <th>Recipe 1</th>\n      <th>Recipe 2</th>\n      <th>Recipe 3</th>\n      <th>Recipe 4</th>\n      <th>possibleRecipeList</th>\n    </tr>\n    <tr>\n      <th>Line</th>\n      <th></th>\n      <th></th>\n      <th></th>\n      <th></th>\n      <th></th>\n      <th></th>\n      <th></th>\n    </tr>\n  </thead>\n  <tbody>\n    <tr>\n      <th>Line 1</th>\n      <td>1</td>\n      <td>K4</td>\n      <td>K4</td>\n      <td>K2</td>\n      <td>NaN</td>\n      <td>NaN</td>\n      <td>[K4, K2]</td>\n    </tr>\n    <tr>\n      <th>Line 2</th>\n      <td>2</td>\n      <td>A4</td>\n      <td>A4</td>\n      <td>A2</td>\n      <td>NaN</td>\n      <td>NaN</td>\n      <td>[A4, A2]</td>\n    </tr>\n    <tr>\n      <th>Line 3</th>\n      <td>3</td>\n      <td>B4</td>\n      <td>B4</td>\n      <td>B2</td>\n      <td>NaN</td>\n      <td>NaN</td>\n      <td>[B4, B2]</td>\n    </tr>\n    <tr>\n      <th>Line 4</th>\n      <td>4</td>\n      <td>C4</td>\n      <td>C4</td>\n      <td>C2</td>\n      <td>NaN</td>\n      <td>NaN</td>\n      <td>[C4, C2]</td>\n    </tr>\n    <tr>\n      <th>Line 5</th>\n      <td>5</td>\n      <td>D4</td>\n      <td>D4</td>\n      <td>D2</td>\n      <td>NaN</td>\n      <td>NaN</td>\n      <td>[D4, D2]</td>\n    </tr>\n    <tr>\n      <th>Line 6</th>\n      <td>6</td>\n      <td>J4</td>\n      <td>J4</td>\n      <td>J2</td>\n      <td>U4</td>\n      <td>U2</td>\n      <td>[J4, J2, U4, U2]</td>\n    </tr>\n    <tr>\n      <th>Line 7</th>\n      <td>7</td>\n      <td>E4</td>\n      <td>E4</td>\n      <td>E2</td>\n      <td>NaN</td>\n      <td>NaN</td>\n      <td>[E4, E2]</td>\n    </tr>\n    <tr>\n      <th>Line 8</th>\n      <td>8</td>\n      <td>F4</td>\n      <td>F4</td>\n      <td>F2</td>\n      <td>NaN</td>\n      <td>NaN</td>\n      <td>[F4, F2]</td>\n    </tr>\n    <tr>\n      <th>Line 9</th>\n      <td>9</td>\n      <td>H4</td>\n      <td>H4</td>\n      <td>H2</td>\n      <td>SE</td>\n      <td>NaN</td>\n      <td>[H4, H2, SE]</td>\n    </tr>\n    <tr>\n      <th>Line 10</th>\n      <td>10</td>\n      <td>T4</td>\n      <td>T4</td>\n      <td>T2</td>\n      <td>NaN</td>\n      <td>NaN</td>\n      <td>[T4, T2]</td>\n    </tr>\n    <tr>\n      <th>Line 11</th>\n      <td>11</td>\n      <td>M4</td>\n      <td>M4</td>\n      <td>M2</td>\n      <td>NaN</td>\n      <td>NaN</td>\n      <td>[M4, M2]</td>\n    </tr>\n    <tr>\n      <th>Line 12</th>\n      <td>12</td>\n      <td>I4</td>\n      <td>I4</td>\n      <td>I2</td>\n      <td>NaN</td>\n      <td>NaN</td>\n      <td>[I4, I2]</td>\n    </tr>\n    <tr>\n      <th>Line 13</th>\n      <td>13</td>\n      <td>L4</td>\n      <td>L4</td>\n      <td>L2</td>\n      <td>NaN</td>\n      <td>NaN</td>\n      <td>[L4, L2]</td>\n    </tr>\n    <tr>\n      <th>Line 14</th>\n      <td>14</td>\n      <td>R4</td>\n      <td>R4</td>\n      <td>R2</td>\n      <td>NaN</td>\n      <td>NaN</td>\n      <td>[R4, R2]</td>\n    </tr>\n    <tr>\n      <th>Line 15</th>\n      <td>15</td>\n      <td>G4</td>\n      <td>G4</td>\n      <td>G2</td>\n      <td>SF</td>\n      <td>NaN</td>\n      <td>[G4, G2, SF]</td>\n    </tr>\n    <tr>\n      <th>Line 16</th>\n      <td>16</td>\n      <td>P4</td>\n      <td>P4</td>\n      <td>P2</td>\n      <td>SA</td>\n      <td>NaN</td>\n      <td>[P4, P2, SA]</td>\n    </tr>\n    <tr>\n      <th>Line 17</th>\n      <td>17</td>\n      <td>S4</td>\n      <td>S4</td>\n      <td>S2</td>\n      <td>NaN</td>\n      <td>NaN</td>\n      <td>[S4, S2]</td>\n    </tr>\n    <tr>\n      <th>Line 18</th>\n      <td>18</td>\n      <td>O4</td>\n      <td>O4</td>\n      <td>O2</td>\n      <td>NaN</td>\n      <td>NaN</td>\n      <td>[O4, O2]</td>\n    </tr>\n    <tr>\n      <th>Line 19</th>\n      <td>19</td>\n      <td>Q4</td>\n      <td>Q4</td>\n      <td>Q2</td>\n      <td>NaN</td>\n      <td>NaN</td>\n      <td>[Q4, Q2]</td>\n    </tr>\n    <tr>\n      <th>Line 20</th>\n      <td>20</td>\n      <td>N4</td>\n      <td>N4</td>\n      <td>N2</td>\n      <td>SG</td>\n      <td>NaN</td>\n      <td>[N4, N2, SG]</td>\n    </tr>\n  </tbody>\n</table>\n</div>"
     },
     "metadata": {},
     "execution_count": 7
    }
   ],
   "source": [
    "df_tp"
   ]
  },
  {
   "cell_type": "code",
   "execution_count": 8,
   "metadata": {},
   "outputs": [
    {
     "output_type": "execute_result",
     "data": {
      "text/plain": [
       "'{{\"stock\":{\"A2\":100,\"A4\":200,\"B2\":300,\"C4\":400}},\"lines\":[{\"id\":1,\"currentRecipe\":\"K4\",\"possibleRecipeList\":[\"K4\",\"K2\"]},{\"id\":2,\"currentRecipe\":\"A4\",\"possibleRecipeList\":[\"A4\",\"A2\"]},{\"id\":3,\"currentRecipe\":\"B4\",\"possibleRecipeList\":[\"B4\",\"B2\"]},{\"id\":4,\"currentRecipe\":\"C4\",\"possibleRecipeList\":[\"C4\",\"C2\"]},{\"id\":5,\"currentRecipe\":\"D4\",\"possibleRecipeList\":[\"D4\",\"D2\"]},{\"id\":6,\"currentRecipe\":\"J4\",\"possibleRecipeList\":[\"J4\",\"J2\",\"U4\",\"U2\"]},{\"id\":7,\"currentRecipe\":\"E4\",\"possibleRecipeList\":[\"E4\",\"E2\"]},{\"id\":8,\"currentRecipe\":\"F4\",\"possibleRecipeList\":[\"F4\",\"F2\"]},{\"id\":9,\"currentRecipe\":\"H4\",\"possibleRecipeList\":[\"H4\",\"H2\",\"SE\"]},{\"id\":10,\"currentRecipe\":\"T4\",\"possibleRecipeList\":[\"T4\",\"T2\"]},{\"id\":11,\"currentRecipe\":\"M4\",\"possibleRecipeList\":[\"M4\",\"M2\"]},{\"id\":12,\"currentRecipe\":\"I4\",\"possibleRecipeList\":[\"I4\",\"I2\"]},{\"id\":13,\"currentRecipe\":\"L4\",\"possibleRecipeList\":[\"L4\",\"L2\"]},{\"id\":14,\"currentRecipe\":\"R4\",\"possibleRecipeList\":[\"R4\",\"R2\"]},{\"id\":15,\"currentRecipe\":\"G4\",\"possibleRecipeList\":[\"G4\",\"G2\",\"SF\"]},{\"id\":16,\"currentRecipe\":\"P4\",\"possibleRecipeList\":[\"P4\",\"P2\",\"SA\"]},{\"id\":17,\"currentRecipe\":\"S4\",\"possibleRecipeList\":[\"S4\",\"S2\"]},{\"id\":18,\"currentRecipe\":\"O4\",\"possibleRecipeList\":[\"O4\",\"O2\"]},{\"id\":19,\"currentRecipe\":\"Q4\",\"possibleRecipeList\":[\"Q4\",\"Q2\"]},{\"id\":20,\"currentRecipe\":\"N4\",\"possibleRecipeList\":[\"N4\",\"N2\",\"SG\"]}]}'"
      ]
     },
     "metadata": {},
     "execution_count": 8
    }
   ],
   "source": [
    "x = df_tp[['id', 'currentRecipe', 'possibleRecipeList']].to_json(orient='records')\n",
    "lines = '\"lines\":' + x\n",
    "\"{\" + stock + \",\" + lines + \"}\""
   ]
  }
 ]
}