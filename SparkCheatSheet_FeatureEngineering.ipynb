{
 "metadata": {
  "language_info": {
   "codemirror_mode": {
    "name": "ipython",
    "version": 3
   },
   "file_extension": ".py",
   "mimetype": "text/x-python",
   "name": "python",
   "nbconvert_exporter": "python",
   "pygments_lexer": "ipython3",
   "version": "3.8.6-final"
  },
  "orig_nbformat": 2,
  "kernelspec": {
   "name": "python_defaultSpec_1604264505259",
   "display_name": "Python 3.8.6 64-bit ('PlanningClient': pipenv)"
  }
 },
 "nbformat": 4,
 "nbformat_minor": 2,
 "cells": [
  {
   "cell_type": "code",
   "execution_count": 1,
   "metadata": {},
   "outputs": [],
   "source": [
    "import pyspark.sql.functions as F\n",
    "import pyspark.sql.types as T"
   ]
  },
  {
   "cell_type": "code",
   "execution_count": 2,
   "metadata": {},
   "outputs": [],
   "source": [
    "# import pyspark.sql.SparkSession <= Error: no module named \"pyspark.sql.SparkSession\"\n",
    "# Modules should have short, all-lowercase names. Underscores can be used in the module name if it improves readability. Python packages should also have short, all-lowercase names, although the use of underscores is discouraged.\n",
    "# Class names should normally use the CapWords convention.\n",
    "# SparkSession is a class defined in pyspark.sql module\n",
    "# Where as pyspark.sql.functions and pyspark.sql.types both are standalone modules\n",
    "# spark = pyspark.sql.SparkSession.builder.appName(\"Feature Engineering -- UFC Data\").getOrCreate()\n",
    "from pyspark.sql import SparkSession"
   ]
  },
  {
   "cell_type": "code",
   "execution_count": 3,
   "metadata": {},
   "outputs": [
    {
     "output_type": "execute_result",
     "data": {
      "text/plain": "<pyspark.sql.session.SparkSession at 0x298e5e91820>",
      "text/html": "\n            <div>\n                <p><b>SparkSession - in-memory</b></p>\n                \n        <div>\n            <p><b>SparkContext</b></p>\n\n            <p><a href=\"http://10.128.130.98:4040\">Spark UI</a></p>\n\n            <dl>\n              <dt>Version</dt>\n                <dd><code>v3.0.1</code></dd>\n              <dt>Master</dt>\n                <dd><code>local[*]</code></dd>\n              <dt>AppName</dt>\n                <dd><code>Feature Engineering -- UFC Data</code></dd>\n            </dl>\n        </div>\n        \n            </div>\n        "
     },
     "metadata": {},
     "execution_count": 3
    }
   ],
   "source": [
    "spark = SparkSession.builder.appName(\"Feature Engineering -- UFC Data\").getOrCreate()\n",
    "spark"
   ]
  },
  {
   "cell_type": "code",
   "execution_count": 4,
   "metadata": {
    "tags": []
   },
   "outputs": [],
   "source": [
    "import os\n",
    "from os.path import isfile, join\n"
   ]
  },
  {
   "cell_type": "code",
   "execution_count": 5,
   "metadata": {
    "tags": []
   },
   "outputs": [
    {
     "output_type": "execute_result",
     "data": {
      "text/plain": "['data.csv', 'raw_fighter_details.csv', 'raw_total_fight_data.csv']"
     },
     "metadata": {},
     "execution_count": 5
    }
   ],
   "source": [
    "currnet_loc = os.path.abspath(\"\")\n",
    "data_loc = f\"{currnet_loc}/ignoreFiles/\"\n",
    "files = [f for f in os.listdir(data_loc) if isfile(join(data_loc,f))]\n",
    "files"
   ]
  },
  {
   "cell_type": "code",
   "execution_count": 6,
   "metadata": {},
   "outputs": [],
   "source": [
    "data = {}\n",
    "for file in files:\n",
    "    data[file[:-4]] = spark.read.csv(f'{data_loc}{file}', inferSchema=True, header=True)\n",
    "    data[file[:-4]].createOrReplaceGlobalTempView(f\"data_{file[:-4]}\")"
   ]
  },
  {
   "cell_type": "code",
   "execution_count": 7,
   "metadata": {
    "tags": []
   },
   "outputs": [
    {
     "output_type": "stream",
     "name": "stdout",
     "text": "<class 'dict'>\ndict_keys(['data', 'raw_fighter_details', 'raw_total_fight_data'])\n"
    }
   ],
   "source": [
    "print(type(data))\n",
    "print(data.keys())"
   ]
  },
  {
   "cell_type": "code",
   "execution_count": 8,
   "metadata": {},
   "outputs": [],
   "source": [
    "data[\"data\"] = data[\"data\"].where(F.col(\"date\") > \"2017-01-01\") \\\n",
    "                           .withColumn(\"Winner_name\", F.when(F.col(\"Winner\") == \"Red\", F.col(\"R_fighter\")).otherwise(F.col(\"B_fighter\"))) \\\n",
    "                           .withColumn(\"Loser_name\", F.when(F.col(\"Winner\") == \"Red\", F.col(\"B_fighter\")).otherwise(F.col(\"R_fighter\")))"
   ]
  },
  {
   "cell_type": "code",
   "execution_count": 9,
   "metadata": {},
   "outputs": [
    {
     "output_type": "execute_result",
     "data": {
      "text/plain": "pyspark.sql.dataframe.DataFrame"
     },
     "metadata": {},
     "execution_count": 9
    }
   ],
   "source": [
    "type(data[\"data\"])"
   ]
  },
  {
   "cell_type": "code",
   "execution_count": 10,
   "metadata": {
    "tags": []
   },
   "outputs": [
    {
     "output_type": "execute_result",
     "data": {
      "text/plain": "[Row(R_fighter='Henry Cejudo', B_fighter='Marlon Moraes', Referee='Marc Goddard', date='2019-06-08', location='Chicago, Illinois, USA', Winner='Red', title_bout=True, weight_class='Bantamweight', no_of_rounds=5, B_current_lose_streak=0.0, B_current_win_streak=4.0, B_draw=0.0, B_avg_BODY_att=9.2, B_avg_BODY_landed=6.0, B_avg_CLINCH_att=0.2, B_avg_CLINCH_landed=0.0, B_avg_DISTANCE_att=62.6, B_avg_DISTANCE_landed=20.6, B_avg_GROUND_att=2.6, B_avg_GROUND_landed=2.0, B_avg_HEAD_att=48.6, B_avg_HEAD_landed=11.2, B_avg_KD=0.8, B_avg_LEG_att=7.6, B_avg_LEG_landed=5.4, B_avg_PASS=0.4, B_avg_REV=0.0, B_avg_SIG_STR_att=65.4, B_avg_SIG_STR_landed=22.6, B_avg_SIG_STR_pct=0.466, B_avg_SUB_ATT=0.4, B_avg_TD_att=0.8, B_avg_TD_landed=0.2, B_avg_TD_pct=0.1, B_avg_TOTAL_STR_att=66.4, B_avg_TOTAL_STR_landed=23.6, B_longest_win_streak=4.0, B_losses=1.0, B_avg_opp_BODY_att=6.4, B_avg_opp_BODY_landed=4.0, B_avg_opp_CLINCH_att=1.0, B_avg_opp_CLINCH_landed=0.6, B_avg_opp_DISTANCE_att=51.2, B_avg_opp_DISTANCE_landed=17.4, B_avg_opp_GROUND_att=0.6, B_avg_opp_GROUND_landed=0.2, B_avg_opp_HEAD_att=39.6, B_avg_opp_HEAD_landed=9.4, B_avg_opp_KD=0.2, B_avg_opp_LEG_att=6.8, B_avg_opp_LEG_landed=4.8, B_avg_opp_PASS=0.0, B_avg_opp_REV=0.0, B_avg_opp_SIG_STR_att=52.8, B_avg_opp_SIG_STR_landed=18.2, B_avg_opp_SIG_STR_pct=0.236, B_avg_opp_SUB_ATT=0.0, B_avg_opp_TD_att=1.0, B_avg_opp_TD_landed=0.4, B_avg_opp_TD_pct=0.1, B_avg_opp_TOTAL_STR_att=53.8, B_avg_opp_TOTAL_STR_landed=19.2, B_total_rounds_fought=9.0, B_total_time_fought(seconds)=419.4, B_total_title_bouts=0.0, B_win_by_Decision_Majority=0.0, B_win_by_Decision_Split=1.0, B_win_by_Decision_Unanimous=0.0, B_win_by_KO/TKO=2.0, B_win_by_Submission=1.0, B_win_by_TKO_Doctor_Stoppage=0.0, B_wins=4.0, B_Stance='Orthodox', B_Height_cms=167.64000000000001, B_Reach_cms=170.18, B_Weight_lbs=135.0, R_current_lose_streak=0.0, R_current_win_streak=4.0, R_draw=0.0, R_avg_BODY_att=21.9, R_avg_BODY_landed=16.4, R_avg_CLINCH_att=17.0, R_avg_CLINCH_landed=11.0, R_avg_DISTANCE_att=75.0, R_avg_DISTANCE_landed=26.5, R_avg_GROUND_att=9.4, R_avg_GROUND_landed=6.5, R_avg_HEAD_att=74.2, R_avg_HEAD_landed=23.9, R_avg_KD=0.4, R_avg_LEG_att=5.3, R_avg_LEG_landed=3.7, R_avg_PASS=1.2, R_avg_REV=0.0, R_avg_SIG_STR_att=101.4, R_avg_SIG_STR_landed=44.0, R_avg_SIG_STR_pct=0.466, R_avg_SUB_ATT=0.1, R_avg_TD_att=5.3, R_avg_TD_landed=1.9, R_avg_TD_pct=0.458, R_avg_TOTAL_STR_att=129.9, R_avg_TOTAL_STR_landed=69.1, R_longest_win_streak=4.0, R_losses=2.0, R_avg_opp_BODY_att=13.3, R_avg_opp_BODY_landed=8.8, R_avg_opp_CLINCH_att=7.5, R_avg_opp_CLINCH_landed=5.1, R_avg_opp_DISTANCE_att=90.5, R_avg_opp_DISTANCE_landed=26.8, R_avg_opp_GROUND_att=0.8, R_avg_opp_GROUND_landed=0.3, R_avg_opp_HEAD_att=76.1, R_avg_opp_HEAD_landed=17.3, R_avg_opp_KD=0.1, R_avg_opp_LEG_att=9.4, R_avg_opp_LEG_landed=6.1, R_avg_opp_PASS=0.0, R_avg_opp_REV=0.0, R_avg_opp_SIG_STR_att=98.8, R_avg_opp_SIG_STR_landed=32.2, R_avg_opp_SIG_STR_pct=0.33599999999999997, R_avg_opp_SUB_ATT=0.0, R_avg_opp_TD_att=0.9, R_avg_opp_TD_landed=0.1, R_avg_opp_TD_pct=0.05, R_avg_opp_TOTAL_STR_att=110.5, R_avg_opp_TOTAL_STR_landed=43.3, R_total_rounds_fought=27.0, R_total_time_fought(seconds)=742.6, R_total_title_bouts=3.0, R_win_by_Decision_Majority=0.0, R_win_by_Decision_Split=2.0, R_win_by_Decision_Unanimous=4.0, R_win_by_KO/TKO=2.0, R_win_by_Submission=0.0, R_win_by_TKO_Doctor_Stoppage=0.0, R_wins=8.0, R_Stance='Orthodox', R_Height_cms=162.56, R_Reach_cms=162.56, R_Weight_lbs=135.0, B_age=31.0, R_age=32.0, Winner_name='Henry Cejudo', Loser_name='Marlon Moraes')]"
     },
     "metadata": {},
     "execution_count": 10
    }
   ],
   "source": [
    "data[\"data\"].limit(1).collect()"
   ]
  },
  {
   "cell_type": "code",
   "execution_count": 11,
   "metadata": {},
   "outputs": [
    {
     "output_type": "execute_result",
     "data": {
      "text/plain": "763"
     },
     "metadata": {},
     "execution_count": 11
    }
   ],
   "source": [
    "all_red_fighters = data['data'].select('R_fighter')\n",
    "all_blue_fighters = data['data'].select('B_fighter')\n",
    "all_red_fighters.union(all_blue_fighters).distinct().count()"
   ]
  },
  {
   "cell_type": "code",
   "execution_count": 12,
   "metadata": {},
   "outputs": [],
   "source": [
    "wins_table = data['data'].select('Winner_name').groupby('Winner_name').count()\n",
    "wins_table = wins_table.withColumnRenamed('count', 'Wins')"
   ]
  },
  {
   "cell_type": "code",
   "execution_count": 13,
   "metadata": {
    "tags": []
   },
   "outputs": [
    {
     "output_type": "stream",
     "name": "stdout",
     "text": "+-------------------+----+\n|        Winner_name|Wins|\n+-------------------+----+\n|        Chad Mendes|   1|\n|          Zak Ottow|   3|\n|Deiveson Figueiredo|   3|\n|       Marcelo Golm|   1|\n|           Jon Tuck|   1|\n|    Danielle Taylor|   1|\n|     Montel Jackson|   2|\n| Ovince Saint Preux|   4|\n| Alexander Yakovlev|   1|\n|         Polo Reyes|   1|\n|     Corey Anderson|   3|\n|   Stephen Thompson|   1|\n|     Augusto Mendes|   1|\n|       Matt Schnell|   3|\n|      Gilbert Burns|   4|\n|        Josh Emmett|   3|\n|         Juan Adams|   1|\n|      Ricardo Lamas|   2|\n|       Alex Caceres|   2|\n|          Kevin Lee|   3|\n+-------------------+----+\nonly showing top 20 rows\n\n"
    }
   ],
   "source": [
    "wins_table.show()"
   ]
  },
  {
   "cell_type": "code",
   "execution_count": 14,
   "metadata": {},
   "outputs": [],
   "source": [
    "losses_table = data['data'].select('Loser_name').groupby('Loser_name').count()\n",
    "losses_table = losses_table.withColumnRenamed('count', 'Losses')"
   ]
  },
  {
   "cell_type": "code",
   "execution_count": 15,
   "metadata": {
    "tags": []
   },
   "outputs": [
    {
     "output_type": "stream",
     "name": "stdout",
     "text": "+-------------------+------+\n|         Loser_name|Losses|\n+-------------------+------+\n|        Kyle Nelson|     2|\n|        Chad Mendes|     1|\n|       Marcelo Golm|     3|\n|Deiveson Figueiredo|     1|\n|          Zak Ottow|     3|\n|        Artem Lobov|     3|\n|           Jon Tuck|     1|\n|    Danielle Taylor|     2|\n|        Sung Bin Jo|     1|\n| Ovince Saint Preux|     4|\n|     Montel Jackson|     1|\n|        Johnny Case|     1|\n|        Davey Grant|     1|\n|     Johnny Eduardo|     2|\n| Antonio Braga Neto|     1|\n|        Jason Saggo|     1|\n|         Polo Reyes|     2|\n|       Scott Askham|     1|\n|   Stephen Thompson|     3|\n|    Marcin Prachnio|     2|\n+-------------------+------+\nonly showing top 20 rows\n\n"
    }
   ],
   "source": [
    "losses_table.show()"
   ]
  },
  {
   "cell_type": "code",
   "execution_count": 16,
   "metadata": {},
   "outputs": [],
   "source": [
    "full_join = wins_table.join(losses_table, wins_table.Winner_name == losses_table.Loser_name, how='full')"
   ]
  },
  {
   "cell_type": "code",
   "execution_count": 17,
   "metadata": {
    "tags": []
   },
   "outputs": [
    {
     "output_type": "stream",
     "name": "stdout",
     "text": "+-------------------+----+-------------------+------+\n|        Winner_name|Wins|         Loser_name|Losses|\n+-------------------+----+-------------------+------+\n|        Chad Mendes|   1|        Chad Mendes|     1|\n|               null|null|        Kyle Nelson|     2|\n|               null|null|        Artem Lobov|     3|\n|    Danielle Taylor|   1|    Danielle Taylor|     2|\n|Deiveson Figueiredo|   3|Deiveson Figueiredo|     1|\n|           Jon Tuck|   1|           Jon Tuck|     1|\n|       Marcelo Golm|   1|       Marcelo Golm|     3|\n|          Zak Ottow|   3|          Zak Ottow|     3|\n|               null|null|        Johnny Case|     1|\n|     Montel Jackson|   2|     Montel Jackson|     1|\n| Ovince Saint Preux|   4| Ovince Saint Preux|     4|\n|               null|null|        Sung Bin Jo|     1|\n| Alexander Yakovlev|   1|               null|  null|\n|               null|null| Antonio Braga Neto|     1|\n|               null|null|        Davey Grant|     1|\n|               null|null|        Jason Saggo|     1|\n|               null|null|     Johnny Eduardo|     2|\n|         Polo Reyes|   1|         Polo Reyes|     2|\n|               null|null|       Scott Askham|     1|\n|     Augusto Mendes|   1|     Augusto Mendes|     1|\n+-------------------+----+-------------------+------+\nonly showing top 20 rows\n\n"
    }
   ],
   "source": [
    "full_join.show()"
   ]
  },
  {
   "cell_type": "code",
   "execution_count": 18,
   "metadata": {},
   "outputs": [],
   "source": [
    "full_join = full_join.withColumn(\"Player\", \\\n",
    "                                 F.when(F.col(\"Winner_name\").isNotNull(), F.col(\"Winner_name\")) \\\n",
    "                                 .otherwise(F.col(\"Loser_name\")) \\\n",
    "                                 )"
   ]
  },
  {
   "cell_type": "code",
   "execution_count": 19,
   "metadata": {
    "tags": []
   },
   "outputs": [
    {
     "output_type": "stream",
     "name": "stdout",
     "text": "+-------------------+----+------+\n|             Player|Wins|Losses|\n+-------------------+----+------+\n|        Chad Mendes|   1|     1|\n|        Kyle Nelson|   0|     2|\n|        Artem Lobov|   0|     3|\n|    Danielle Taylor|   1|     2|\n|Deiveson Figueiredo|   3|     1|\n|           Jon Tuck|   1|     1|\n|       Marcelo Golm|   1|     3|\n|          Zak Ottow|   3|     3|\n|        Johnny Case|   0|     1|\n|     Montel Jackson|   2|     1|\n| Ovince Saint Preux|   4|     4|\n|        Sung Bin Jo|   0|     1|\n| Alexander Yakovlev|   1|     0|\n| Antonio Braga Neto|   0|     1|\n|        Davey Grant|   0|     1|\n|        Jason Saggo|   0|     1|\n|     Johnny Eduardo|   0|     2|\n|         Polo Reyes|   1|     2|\n|       Scott Askham|   0|     1|\n|     Augusto Mendes|   1|     1|\n+-------------------+----+------+\nonly showing top 20 rows\n\n"
    }
   ],
   "source": [
    "full_join = full_join.drop('Winner_name', 'Loser_name').select('Player', 'Wins', 'Losses')\n",
    "full_join = full_join.na.fill(0)\n",
    "full_join.show()"
   ]
  },
  {
   "cell_type": "code",
   "execution_count": 20,
   "metadata": {
    "tags": []
   },
   "outputs": [],
   "source": [
    "df_final = full_join.withColumn(\"Win_rate\", F.col(\"Wins\")/(F.col('Losses') + F.col(\"Wins\")))"
   ]
  },
  {
   "cell_type": "code",
   "execution_count": 21,
   "metadata": {
    "tags": []
   },
   "outputs": [
    {
     "output_type": "stream",
     "name": "stdout",
     "text": "+--------------------+----+------+------------------+\n|              Player|Wins|Losses|          Win_rate|\n+--------------------+----+------+------------------+\n|       Thiago Santos|   8|     1|0.8888888888888888|\n|      Dustin Poirier|   6|     0|               1.0|\n|Alexander Volkano...|   6|     0|               1.0|\n|     Israel Adesanya|   6|     0|               1.0|\n|        Kamaru Usman|   6|     0|               1.0|\n|      Curtis Blaydes|   6|     1|0.8571428571428571|\n|     Jack Hermansson|   6|     1|0.8571428571428571|\n|Anthony Rocco Martin|   6|     1|0.8571428571428571|\n|    Charles Oliveira|   6|     1|0.8571428571428571|\n|       Anthony Smith|   6|     2|              0.75|\n|   Aljamain Sterling|   6|     2|              0.75|\n|            Petr Yan|   5|     0|               1.0|\n|Elizeu Zaleski do...|   5|     0|               1.0|\n|Zabit Magomedshar...|   5|     0|               1.0|\n|        Henry Cejudo|   5|     0|               1.0|\n|    Gregor Gillespie|   5|     0|               1.0|\n|        Leon Edwards|   5|     0|               1.0|\n|     Michel Prazeres|   5|     1|0.8333333333333334|\n|      Belal Muhammad|   5|     1|0.8333333333333334|\n|    Cynthia Calvillo|   5|     1|0.8333333333333334|\n+--------------------+----+------+------------------+\nonly showing top 20 rows\n\n"
    }
   ],
   "source": [
    "df_final = df_final.orderBy(F.col('Wins').desc(), F.col('Win_rate').desc())\n",
    "df_final.show()"
   ]
  },
  {
   "cell_type": "code",
   "execution_count": 22,
   "metadata": {},
   "outputs": [
    {
     "output_type": "execute_result",
     "data": {
      "text/plain": "pyspark.sql.dataframe.DataFrame"
     },
     "metadata": {},
     "execution_count": 22
    }
   ],
   "source": [
    "type(data['raw_fighter_details'])"
   ]
  },
  {
   "cell_type": "code",
   "execution_count": 23,
   "metadata": {},
   "outputs": [],
   "source": [
    "df_palyer_detail = data['raw_fighter_details']\n",
    "pd = df_palyer_detail.alias(\"pd\")"
   ]
  },
  {
   "cell_type": "code",
   "execution_count": 24,
   "metadata": {
    "tags": []
   },
   "outputs": [],
   "source": [
    "df_with_detail = df_final.join(pd, pd.fighter_name == df_final.Player, how='left')"
   ]
  },
  {
   "cell_type": "code",
   "execution_count": 25,
   "metadata": {
    "tags": []
   },
   "outputs": [
    {
     "output_type": "stream",
     "name": "stdout",
     "text": "+-------------------+----+------+------------------+-------------------+-------+--------+-----+--------+------------+\n|             Player|Wins|Losses|          Win_rate|       fighter_name| Height|  Weight|Reach|  Stance|         DOB|\n+-------------------+----+------+------------------+-------------------+-------+--------+-----+--------+------------+\n|        Chad Mendes|   1|     1|               0.5|        Chad Mendes| 5' 6\"\"|145 lbs.| 66\"\"|Orthodox|May 01, 1985|\n|        Kyle Nelson|   0|     2|               0.0|        Kyle Nelson|5' 11\"\"|155 lbs.| 71\"\"|  Switch|Apr 20, 1991|\n|        Artem Lobov|   0|     3|               0.0|        Artem Lobov| 5' 9\"\"|145 lbs.| 65\"\"|Southpaw|Aug 11, 1986|\n|    Danielle Taylor|   1|     2|0.3333333333333333|    Danielle Taylor| 5' 0\"\"|115 lbs.| 60\"\"|Orthodox|Oct 25, 1989|\n|Deiveson Figueiredo|   3|     1|              0.75|Deiveson Figueiredo| 5' 5\"\"|125 lbs.| 68\"\"|Orthodox|Dec 18, 1987|\n|           Jon Tuck|   1|     1|               0.5|           Jon Tuck|5' 11\"\"|155 lbs.| 73\"\"|Orthodox|Aug 28, 1984|\n|       Marcelo Golm|   1|     3|              0.25|       Marcelo Golm| 6' 3\"\"|249 lbs.| 75\"\"|Orthodox|Sep 15, 1992|\n|          Zak Ottow|   3|     3|               0.5|          Zak Ottow|5' 11\"\"|170 lbs.| 72\"\"|Orthodox|Dec 22, 1986|\n|        Johnny Case|   0|     1|               0.0|        Johnny Case|5' 10\"\"|155 lbs.| 72\"\"|Orthodox|Jun 28, 1989|\n|     Montel Jackson|   2|     1|0.6666666666666666|     Montel Jackson|5' 10\"\"|135 lbs.| 75\"\"|Southpaw|Apr 24, 1992|\n| Ovince Saint Preux|   4|     4|               0.5| Ovince Saint Preux| 6' 3\"\"|205 lbs.| 80\"\"|Southpaw|Apr 08, 1983|\n|        Sung Bin Jo|   0|     1|               0.0|        Sung Bin Jo| 6' 0\"\"|145 lbs.| 72\"\"|Orthodox|Jul 17, 1992|\n| Alexander Yakovlev|   1|     0|               1.0| Alexander Yakovlev| 6' 3\"\"|155 lbs.| 74\"\"|Southpaw|Jul 18, 1984|\n| Antonio Braga Neto|   0|     1|               0.0| Antonio Braga Neto| 6' 3\"\"|185 lbs.| 77\"\"|Orthodox|Oct 29, 1987|\n|        Davey Grant|   0|     1|               0.0|        Davey Grant| 5' 8\"\"|135 lbs.| 69\"\"|    null|Dec 18, 1985|\n|        Jason Saggo|   0|     1|               0.0|        Jason Saggo|5' 11\"\"|155 lbs.| 71\"\"|Orthodox|Nov 23, 1985|\n|     Johnny Eduardo|   0|     2|               0.0|     Johnny Eduardo| 5' 7\"\"|135 lbs.| 71\"\"|Orthodox|Aug 03, 1978|\n|         Polo Reyes|   1|     2|0.3333333333333333|         Polo Reyes|5' 11\"\"|155 lbs.| 71\"\"|    null|Nov 07, 1984|\n|       Scott Askham|   0|     1|               0.0|       Scott Askham| 6' 3\"\"|185 lbs.| 75\"\"|Southpaw|May 20, 1988|\n|     Augusto Mendes|   1|     1|               0.5|     Augusto Mendes| 5' 6\"\"|135 lbs.| 65\"\"|Orthodox|Mar 03, 1983|\n+-------------------+----+------+------------------+-------------------+-------+--------+-----+--------+------------+\nonly showing top 20 rows\n\n"
    }
   ],
   "source": [
    "df_with_detail.show()"
   ]
  },
  {
   "cell_type": "code",
   "execution_count": 26,
   "metadata": {},
   "outputs": [
    {
     "output_type": "execute_result",
     "data": {
      "text/plain": "763"
     },
     "metadata": {},
     "execution_count": 26
    }
   ],
   "source": [
    "df_with_detail.count()"
   ]
  },
  {
   "cell_type": "code",
   "execution_count": 27,
   "metadata": {},
   "outputs": [
    {
     "output_type": "execute_result",
     "data": {
      "text/plain": "763"
     },
     "metadata": {},
     "execution_count": 27
    }
   ],
   "source": [
    "df_final.count()"
   ]
  },
  {
   "cell_type": "code",
   "execution_count": null,
   "metadata": {},
   "outputs": [],
   "source": []
  }
 ]
}