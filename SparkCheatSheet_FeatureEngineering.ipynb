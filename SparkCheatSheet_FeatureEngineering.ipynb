{
 "metadata": {
  "language_info": {
   "codemirror_mode": {
    "name": "ipython",
    "version": 3
   },
   "file_extension": ".py",
   "mimetype": "text/x-python",
   "name": "python",
   "nbconvert_exporter": "python",
   "pygments_lexer": "ipython3",
   "version": "3.8.6-final"
  },
  "orig_nbformat": 2,
  "kernelspec": {
   "name": "python_defaultSpec_1604023548998",
   "display_name": "Python 3.8.6 64-bit ('PlanningClient': pipenv)"
  }
 },
 "nbformat": 4,
 "nbformat_minor": 2,
 "cells": [
  {
   "cell_type": "code",
   "execution_count": 1,
   "metadata": {},
   "outputs": [],
   "source": [
    "import pyspark.sql.functions as F\n",
    "import pyspark.sql.types as T"
   ]
  },
  {
   "cell_type": "code",
   "execution_count": 2,
   "metadata": {},
   "outputs": [],
   "source": [
    "# import pyspark.sql.SparkSession <= Error: no module named \"pyspark.sql.SparkSession\"\n",
    "# Modules should have short, all-lowercase names. Underscores can be used in the module name if it improves readability. Python packages should also have short, all-lowercase names, although the use of underscores is discouraged.\n",
    "# Class names should normally use the CapWords convention.\n",
    "# SparkSession is a class defined in pyspark.sql module\n",
    "# Where as pyspark.sql.functions and pyspark.sql.types both are standalone modules\n",
    "# spark = pyspark.sql.SparkSession.builder.appName(\"Feature Engineering -- UFC Data\").getOrCreate()\n",
    "from pyspark.sql import SparkSession"
   ]
  },
  {
   "cell_type": "code",
   "execution_count": 3,
   "metadata": {},
   "outputs": [
    {
     "output_type": "execute_result",
     "data": {
      "text/plain": "<pyspark.sql.session.SparkSession at 0x194fb521820>",
      "text/html": "\n            <div>\n                <p><b>SparkSession - in-memory</b></p>\n                \n        <div>\n            <p><b>SparkContext</b></p>\n\n            <p><a href=\"http://10.128.130.20:4040\">Spark UI</a></p>\n\n            <dl>\n              <dt>Version</dt>\n                <dd><code>v3.0.1</code></dd>\n              <dt>Master</dt>\n                <dd><code>local[*]</code></dd>\n              <dt>AppName</dt>\n                <dd><code>Feature Engineering -- UFC Data</code></dd>\n            </dl>\n        </div>\n        \n            </div>\n        "
     },
     "metadata": {},
     "execution_count": 3
    }
   ],
   "source": [
    "spark = SparkSession.builder.appName(\"Feature Engineering -- UFC Data\").getOrCreate()\n",
    "spark"
   ]
  },
  {
   "cell_type": "code",
   "execution_count": 4,
   "metadata": {
    "tags": []
   },
   "outputs": [],
   "source": [
    "import os\n",
    "from os.path import isfile, join\n"
   ]
  },
  {
   "cell_type": "code",
   "execution_count": 5,
   "metadata": {
    "tags": []
   },
   "outputs": [
    {
     "output_type": "execute_result",
     "data": {
      "text/plain": "['data.csv', 'raw_fighter_details.csv', 'raw_total_fight_data.csv']"
     },
     "metadata": {},
     "execution_count": 5
    }
   ],
   "source": [
    "currnet_loc = os.path.abspath(\"\")\n",
    "data_loc = f\"{currnet_loc}/ignoreFiles/\"\n",
    "files = [f for f in os.listdir(data_loc) if isfile(join(data_loc,f))]\n",
    "files"
   ]
  },
  {
   "cell_type": "code",
   "execution_count": 6,
   "metadata": {},
   "outputs": [],
   "source": [
    "data = {}\n",
    "for file in files:\n",
    "    data[file[:-4]] = spark.read.csv(f'{data_loc}{file}', inferSchema=True, header=True)\n",
    "    data[file[:-4]].createOrReplaceGlobalTempView(f\"data_{file[:-4]}\")"
   ]
  },
  {
   "cell_type": "code",
   "execution_count": 8,
   "metadata": {
    "tags": []
   },
   "outputs": [
    {
     "output_type": "stream",
     "name": "stdout",
     "text": "<class 'dict'>\ndict_keys(['data', 'raw_fighter_details', 'raw_total_fight_data'])\n"
    }
   ],
   "source": [
    "print(type(data))\n",
    "print(data.keys())"
   ]
  },
  {
   "cell_type": "code",
   "execution_count": 12,
   "metadata": {},
   "outputs": [],
   "source": [
    "data[\"data\"] = data[\"data\"].where(F.col(\"date\") > \"2017-01-01\") \\\n",
    "                           .withColumn(\"Winner_name\", F.when(F.col(\"Winner\") == \"Red\", F.col(\"R_fighter\")).otherwise(F.col(\"B_fighter\"))) \\\n",
    "                           .withColumn(\"Loser_name\", F.when(F.col(\"Winner\") == \"Red\", F.col(\"B_fighter\")).otherwise(F.col(\"R_fighter\")))"
   ]
  },
  {
   "cell_type": "code",
   "execution_count": 13,
   "metadata": {},
   "outputs": [
    {
     "output_type": "execute_result",
     "data": {
      "text/plain": "pyspark.sql.dataframe.DataFrame"
     },
     "metadata": {},
     "execution_count": 13
    }
   ],
   "source": [
    "type(data[\"data\"])"
   ]
  },
  {
   "cell_type": "code",
   "execution_count": 15,
   "metadata": {
    "tags": []
   },
   "outputs": [
    {
     "output_type": "stream",
     "name": "stdout",
     "text": "+------------+-------------+------------+----------+--------------------+------+----------+------------+------------+---------------------+--------------------+------+--------------+-----------------+----------------+-------------------+------------------+---------------------+----------------+-------------------+--------------+-----------------+--------+-------------+----------------+----------+---------+-----------------+--------------------+-----------------+-------------+------------+---------------+------------+-------------------+----------------------+--------------------+--------+------------------+---------------------+--------------------+-----------------------+----------------------+-------------------------+--------------------+-----------------------+------------------+---------------------+------------+-----------------+--------------------+--------------+-------------+---------------------+------------------------+---------------------+-----------------+----------------+-------------------+----------------+-----------------------+--------------------------+---------------------+----------------------------+-------------------+--------------------------+-----------------------+---------------------------+---------------+-------------------+----------------------------+------+--------+------------------+-----------+------------+---------------------+--------------------+------+--------------+-----------------+----------------+-------------------+------------------+---------------------+----------------+-------------------+--------------+-----------------+--------+-------------+----------------+----------+---------+-----------------+--------------------+-----------------+-------------+------------+---------------+------------+-------------------+----------------------+--------------------+--------+------------------+---------------------+--------------------+-----------------------+----------------------+-------------------------+--------------------+-----------------------+------------------+---------------------+------------+-----------------+--------------------+--------------+-------------+---------------------+------------------------+---------------------+-----------------+----------------+-------------------+----------------+-----------------------+--------------------------+---------------------+----------------------------+-------------------+--------------------------+-----------------------+---------------------------+---------------+-------------------+----------------------------+------+--------+------------+-----------+------------+-----+-----+------------+-------------+\n|   R_fighter|    B_fighter|     Referee|      date|            location|Winner|title_bout|weight_class|no_of_rounds|B_current_lose_streak|B_current_win_streak|B_draw|B_avg_BODY_att|B_avg_BODY_landed|B_avg_CLINCH_att|B_avg_CLINCH_landed|B_avg_DISTANCE_att|B_avg_DISTANCE_landed|B_avg_GROUND_att|B_avg_GROUND_landed|B_avg_HEAD_att|B_avg_HEAD_landed|B_avg_KD|B_avg_LEG_att|B_avg_LEG_landed|B_avg_PASS|B_avg_REV|B_avg_SIG_STR_att|B_avg_SIG_STR_landed|B_avg_SIG_STR_pct|B_avg_SUB_ATT|B_avg_TD_att|B_avg_TD_landed|B_avg_TD_pct|B_avg_TOTAL_STR_att|B_avg_TOTAL_STR_landed|B_longest_win_streak|B_losses|B_avg_opp_BODY_att|B_avg_opp_BODY_landed|B_avg_opp_CLINCH_att|B_avg_opp_CLINCH_landed|B_avg_opp_DISTANCE_att|B_avg_opp_DISTANCE_landed|B_avg_opp_GROUND_att|B_avg_opp_GROUND_landed|B_avg_opp_HEAD_att|B_avg_opp_HEAD_landed|B_avg_opp_KD|B_avg_opp_LEG_att|B_avg_opp_LEG_landed|B_avg_opp_PASS|B_avg_opp_REV|B_avg_opp_SIG_STR_att|B_avg_opp_SIG_STR_landed|B_avg_opp_SIG_STR_pct|B_avg_opp_SUB_ATT|B_avg_opp_TD_att|B_avg_opp_TD_landed|B_avg_opp_TD_pct|B_avg_opp_TOTAL_STR_att|B_avg_opp_TOTAL_STR_landed|B_total_rounds_fought|B_total_time_fought(seconds)|B_total_title_bouts|B_win_by_Decision_Majority|B_win_by_Decision_Split|B_win_by_Decision_Unanimous|B_win_by_KO/TKO|B_win_by_Submission|B_win_by_TKO_Doctor_Stoppage|B_wins|B_Stance|      B_Height_cms|B_Reach_cms|B_Weight_lbs|R_current_lose_streak|R_current_win_streak|R_draw|R_avg_BODY_att|R_avg_BODY_landed|R_avg_CLINCH_att|R_avg_CLINCH_landed|R_avg_DISTANCE_att|R_avg_DISTANCE_landed|R_avg_GROUND_att|R_avg_GROUND_landed|R_avg_HEAD_att|R_avg_HEAD_landed|R_avg_KD|R_avg_LEG_att|R_avg_LEG_landed|R_avg_PASS|R_avg_REV|R_avg_SIG_STR_att|R_avg_SIG_STR_landed|R_avg_SIG_STR_pct|R_avg_SUB_ATT|R_avg_TD_att|R_avg_TD_landed|R_avg_TD_pct|R_avg_TOTAL_STR_att|R_avg_TOTAL_STR_landed|R_longest_win_streak|R_losses|R_avg_opp_BODY_att|R_avg_opp_BODY_landed|R_avg_opp_CLINCH_att|R_avg_opp_CLINCH_landed|R_avg_opp_DISTANCE_att|R_avg_opp_DISTANCE_landed|R_avg_opp_GROUND_att|R_avg_opp_GROUND_landed|R_avg_opp_HEAD_att|R_avg_opp_HEAD_landed|R_avg_opp_KD|R_avg_opp_LEG_att|R_avg_opp_LEG_landed|R_avg_opp_PASS|R_avg_opp_REV|R_avg_opp_SIG_STR_att|R_avg_opp_SIG_STR_landed|R_avg_opp_SIG_STR_pct|R_avg_opp_SUB_ATT|R_avg_opp_TD_att|R_avg_opp_TD_landed|R_avg_opp_TD_pct|R_avg_opp_TOTAL_STR_att|R_avg_opp_TOTAL_STR_landed|R_total_rounds_fought|R_total_time_fought(seconds)|R_total_title_bouts|R_win_by_Decision_Majority|R_win_by_Decision_Split|R_win_by_Decision_Unanimous|R_win_by_KO/TKO|R_win_by_Submission|R_win_by_TKO_Doctor_Stoppage|R_wins|R_Stance|R_Height_cms|R_Reach_cms|R_Weight_lbs|B_age|R_age| Winner_name|   Loser_name|\n+------------+-------------+------------+----------+--------------------+------+----------+------------+------------+---------------------+--------------------+------+--------------+-----------------+----------------+-------------------+------------------+---------------------+----------------+-------------------+--------------+-----------------+--------+-------------+----------------+----------+---------+-----------------+--------------------+-----------------+-------------+------------+---------------+------------+-------------------+----------------------+--------------------+--------+------------------+---------------------+--------------------+-----------------------+----------------------+-------------------------+--------------------+-----------------------+------------------+---------------------+------------+-----------------+--------------------+--------------+-------------+---------------------+------------------------+---------------------+-----------------+----------------+-------------------+----------------+-----------------------+--------------------------+---------------------+----------------------------+-------------------+--------------------------+-----------------------+---------------------------+---------------+-------------------+----------------------------+------+--------+------------------+-----------+------------+---------------------+--------------------+------+--------------+-----------------+----------------+-------------------+------------------+---------------------+----------------+-------------------+--------------+-----------------+--------+-------------+----------------+----------+---------+-----------------+--------------------+-----------------+-------------+------------+---------------+------------+-------------------+----------------------+--------------------+--------+------------------+---------------------+--------------------+-----------------------+----------------------+-------------------------+--------------------+-----------------------+------------------+---------------------+------------+-----------------+--------------------+--------------+-------------+---------------------+------------------------+---------------------+-----------------+----------------+-------------------+----------------+-----------------------+--------------------------+---------------------+----------------------------+-------------------+--------------------------+-----------------------+---------------------------+---------------+-------------------+----------------------------+------+--------+------------+-----------+------------+-----+-----+------------+-------------+\n|Henry Cejudo|Marlon Moraes|Marc Goddard|2019-06-08|Chicago, Illinois...|   Red|      true|Bantamweight|           5|                  0.0|                 4.0|   0.0|           9.2|              6.0|             0.2|                0.0|              62.6|                 20.6|             2.6|                2.0|          48.6|             11.2|     0.8|          7.6|             5.4|       0.4|      0.0|             65.4|                22.6|            0.466|          0.4|         0.8|            0.2|         0.1|               66.4|                  23.6|                 4.0|     1.0|               6.4|                  4.0|                 1.0|                    0.6|                  51.2|                     17.4|                 0.6|                    0.2|              39.6|                  9.4|         0.2|              6.8|                 4.8|           0.0|          0.0|                 52.8|                    18.2|                0.236|              0.0|             1.0|                0.4|             0.1|                   53.8|                      19.2|                  9.0|                       419.4|                0.0|                       0.0|                    1.0|                        0.0|            2.0|                1.0|                         0.0|   4.0|Orthodox|167.64000000000001|     170.18|       135.0|                  0.0|                 4.0|   0.0|          21.9|             16.4|            17.0|               11.0|              75.0|                 26.5|             9.4|                6.5|          74.2|             23.9|     0.4|          5.3|             3.7|       1.2|      0.0|            101.4|                44.0|            0.466|          0.1|         5.3|            1.9|       0.458|              129.9|                  69.1|                 4.0|     2.0|              13.3|                  8.8|                 7.5|                    5.1|                  90.5|                     26.8|                 0.8|                    0.3|              76.1|                 17.3|         0.1|              9.4|                 6.1|           0.0|          0.0|                 98.8|                    32.2|  0.33599999999999997|              0.0|             0.9|                0.1|            0.05|                  110.5|                      43.3|                 27.0|                       742.6|                3.0|                       0.0|                    2.0|                        4.0|            2.0|                0.0|                         0.0|   8.0|Orthodox|      162.56|     162.56|       135.0| 31.0| 32.0|Henry Cejudo|Marlon Moraes|\n+------------+-------------+------------+----------+--------------------+------+----------+------------+------------+---------------------+--------------------+------+--------------+-----------------+----------------+-------------------+------------------+---------------------+----------------+-------------------+--------------+-----------------+--------+-------------+----------------+----------+---------+-----------------+--------------------+-----------------+-------------+------------+---------------+------------+-------------------+----------------------+--------------------+--------+------------------+---------------------+--------------------+-----------------------+----------------------+-------------------------+--------------------+-----------------------+------------------+---------------------+------------+-----------------+--------------------+--------------+-------------+---------------------+------------------------+---------------------+-----------------+----------------+-------------------+----------------+-----------------------+--------------------------+---------------------+----------------------------+-------------------+--------------------------+-----------------------+---------------------------+---------------+-------------------+----------------------------+------+--------+------------------+-----------+------------+---------------------+--------------------+------+--------------+-----------------+----------------+-------------------+------------------+---------------------+----------------+-------------------+--------------+-----------------+--------+-------------+----------------+----------+---------+-----------------+--------------------+-----------------+-------------+------------+---------------+------------+-------------------+----------------------+--------------------+--------+------------------+---------------------+--------------------+-----------------------+----------------------+-------------------------+--------------------+-----------------------+------------------+---------------------+------------+-----------------+--------------------+--------------+-------------+---------------------+------------------------+---------------------+-----------------+----------------+-------------------+----------------+-----------------------+--------------------------+---------------------+----------------------------+-------------------+--------------------------+-----------------------+---------------------------+---------------+-------------------+----------------------------+------+--------+------------+-----------+------------+-----+-----+------------+-------------+\n\n"
    }
   ],
   "source": [
    "data[\"data\"].limit(1).show()"
   ]
  },
  {
   "cell_type": "code",
   "execution_count": null,
   "metadata": {},
   "outputs": [],
   "source": []
  }
 ]
}