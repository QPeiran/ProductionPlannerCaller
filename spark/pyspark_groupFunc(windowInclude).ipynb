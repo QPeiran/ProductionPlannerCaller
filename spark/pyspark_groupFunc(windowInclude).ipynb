{
 "metadata": {
  "language_info": {
   "codemirror_mode": {
    "name": "ipython",
    "version": 3
   },
   "file_extension": ".py",
   "mimetype": "text/x-python",
   "name": "python",
   "nbconvert_exporter": "python",
   "pygments_lexer": "ipython3",
   "version": "3.8.6-final"
  },
  "orig_nbformat": 2,
  "kernelspec": {
   "name": "python_defaultSpec_1604541863658",
   "display_name": "Python 3.8.6 64-bit ('PlanningClient': pipenv)"
  }
 },
 "nbformat": 4,
 "nbformat_minor": 2,
 "cells": [
  {
   "cell_type": "code",
   "execution_count": 1,
   "metadata": {
    "tags": []
   },
   "outputs": [],
   "source": [
    "# Using spark context :\n",
    "# from pyspark import SparkContext, SparkConf\n",
    "# conf = SparkConf().setAppName('temp')\n",
    "# sc = SparkContext(conf=conf)\n",
    "# print(sc)\n",
    "# data = [1, 2, 3, 4, 5]\n",
    "# distData = sc.parallelize(data)\n",
    "# distData.collect()"
   ]
  },
  {
   "cell_type": "code",
   "execution_count": 2,
   "metadata": {},
   "outputs": [],
   "source": [
    "# Using spark sessiion :\n",
    "from pyspark.sql import SparkSession\n",
    "import pyspark.sql.types as T\n",
    "import pyspark.sql.functions as F\n",
    "from pyspark.sql import Window"
   ]
  },
  {
   "cell_type": "code",
   "execution_count": 3,
   "metadata": {},
   "outputs": [],
   "source": [
    "spark = SparkSession.builder.appName(\"temp\").getOrCreate()\n",
    "spark"
   ]
  },
  {
   "cell_type": "code",
   "execution_count": null,
   "metadata": {},
   "outputs": [],
   "source": [
    "l = [\n",
    "    (1, \"sales\", 4200),\n",
    "    (2, \"admin\", 3100),\n",
    "    (3, \"sales\", 4000),\n",
    "    (4, \"sales\", 4000),\n",
    "    (5, \"admin\", 2700),\n",
    "    (6, \"dev\", 3400),\n",
    "    (7, \"dev\", 5200),\n",
    "    (8, \"dev\", 3700),\n",
    "    (9, \"dev\", 4400),\n",
    "    (10, \"dev\", 4400)    \n",
    "]"
   ]
  }
 ]
}